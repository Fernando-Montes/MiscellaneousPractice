{
 "cells": [
  {
   "cell_type": "code",
   "execution_count": null,
   "metadata": {},
   "outputs": [],
   "source": [
    "# Combine Two Tables\n",
    "# https://leetcode.com/problems/combine-two-tables/\n",
    "\n",
    "SELECT Person.FirstName, Person.LastName, Address.City, Address.State FROM Person LEFT JOIN ADDRESS ON \n",
    "Person.PersonId = Address.PersonId"
   ]
  },
  {
   "cell_type": "code",
   "execution_count": null,
   "metadata": {},
   "outputs": [],
   "source": [
    "# Write a SQL query to get the nth highest salary from the Employee table.\n",
    "# https://leetcode.com/problems/nth-highest-salary/\n",
    "\n",
    "CREATE FUNCTION getNthHighestSalary(N INT) RETURNS INT\n",
    "BEGIN\n",
    "  SET N = N-1;\n",
    "  RETURN (\n",
    "      # Write your MySQL query statement below.\n",
    "      SELECT DISTINCT Salary FROM Employee ORDER BY Salary DESC LIMIT 1 OFFSET N\n",
    "  );\n",
    "END"
   ]
  },
  {
   "cell_type": "code",
   "execution_count": null,
   "metadata": {},
   "outputs": [],
   "source": [
    "# Employees Earning More Than Their Managers\n",
    "# https://leetcode.com/problems/employees-earning-more-than-their-managers/\n",
    "\n",
    "SELECT e.Name AS Employee FROM Employee e LEFT JOIN Employee m ON e.ManagerId = m.Id  WHERE e.Salary > m.Salary"
   ]
  },
  {
   "cell_type": "code",
   "execution_count": null,
   "metadata": {},
   "outputs": [],
   "source": [
    "# Write a SQL query to find employees who earn the top three salaries in each of the department. \n",
    "# https://leetcode.com/problems/department-top-three-salaries/\n",
    "\n",
    "SELECT d.Name AS Department, e.Name AS Employee, e.Salary FROM Employee e JOIN Department d ON e.DepartmentId = d.Id \n",
    "WHERE 3 > (SELECT COUNT(DISTINCT a.Salary) FROM Employee a WHERE e.Salary < a.Salary AND \n",
    "           a.DepartmentId = e.DepartmentId)"
   ]
  },
  {
   "cell_type": "code",
   "execution_count": null,
   "metadata": {},
   "outputs": [],
   "source": [
    "# Write a SQL query to rank scores.\n",
    "# https://leetcode.com/problems/rank-scores/\n",
    "\n",
    "SELECT s1.Score, (SELECT COUNT(DISTINCT s2.Score) FROM Scores s2 WHERE s2.score >= s1.score) 'Rank' \n",
    "FROM Scores s1 ORDER BY Score DESC"
   ]
  },
  {
   "cell_type": "code",
   "execution_count": null,
   "metadata": {},
   "outputs": [],
   "source": [
    "# Write a SQL query to find employees who have the highest salary in each of the departments. \n",
    "# https://leetcode.com/problems/department-highest-salary/\n",
    "\n",
    "SELECT d.Name AS Department, e.Name AS Employee, e.Salary AS Salary FROM Employee e LEFT JOIN \n",
    "Department d ON e.DepartmentID = d.Id WHERE e.Salary =\n",
    "(SELECT MAX(e2.Salary) FROM Employee e2 WHERE e2.DepartmentId = e.DepartmentID) AND d.Id IS NOT NULL"
   ]
  },
  {
   "cell_type": "code",
   "execution_count": null,
   "metadata": {},
   "outputs": [],
   "source": [
    "# Write an SQL query to reformat the table such that there is a department id column and a \n",
    "# revenue column for each month.\n",
    "# https://leetcode.com/problems/reformat-department-table/\n",
    "\n",
    "SELECT id, SUM(IF(month = 'Jan', revenue, NULL)) AS 'Jan_Revenue', \n",
    "SUM( IF(month = 'Feb', revenue, NULL) ) AS 'Feb_Revenue', \n",
    "SUM( IF(month = 'Mar', revenue, NULL) ) AS 'Mar_Revenue', \n",
    "SUM( IF(month = 'Apr', revenue, NULL) ) AS 'Apr_Revenue', S\n",
    "SUM( IF(month = 'May', revenue, NULL) ) AS 'May_Revenue', \n",
    "SUM( IF(month = 'Jun', revenue, NULL) ) AS 'Jun_Revenue', \n",
    "SUM( IF(month = 'Jul', revenue, NULL) ) AS 'Jul_Revenue', \n",
    "SUM( IF(month = 'Aug', revenue, NULL) ) AS 'Aug_Revenue', \n",
    "SUM( IF(month = 'Sep', revenue, NULL) ) AS 'Sep_Revenue', \n",
    "SUM( IF(month = 'Oct', revenue, NULL) ) AS 'Oct_Revenue', \n",
    "SUM( IF(month = 'Nov', revenue, NULL) ) AS 'Nov_Revenue', \n",
    "SUM( IF(month = 'Dec', revenue, NULL) ) AS 'Dec_Revenue' FROM Department GROUP BY id"
   ]
  },
  {
   "cell_type": "code",
   "execution_count": null,
   "metadata": {},
   "outputs": [],
   "source": [
    "# Write a SQL query to delete all duplicate email entries in a table named Person, \n",
    "# keeping only unique emails based on its smallest Id.\n",
    "# https://leetcode.com/problems/delete-duplicate-emails/\n",
    "\n",
    "DELETE p1 FROM Person p1 JOIN Person p2 ON p1.Email = p2.Email WHERE p1.Id>p2.Id "
   ]
  },
  {
   "cell_type": "code",
   "execution_count": null,
   "metadata": {},
   "outputs": [],
   "source": [
    "# Write an SQL query to find employee_id of all employees that directly or indirectly report \n",
    "# their work to the head of the company.\n",
    "# https://leetcode.com/problems/all-people-report-to-the-given-manager/\n",
    "\n",
    "SELECT d1.employee_id FROM Employees d1 JOIN Employees d2 ON d1.manager_id = d2.employee_id  \n",
    "JOIN Employees d3 ON d2.manager_id = d3.employee_id WHERE d1.manager_id = 1 AND d1.employee_id != 1 \n",
    "OR (d1.manager_id = d2.employee_id AND d2.manager_id = 1 AND d1.employee_id != 1) \n",
    "OR (d1.manager_id = d2.employee_id AND d2.manager_id = d3.employee_id AND d3.manager_id = 1 AND d1.employee_id != 1)"
   ]
  },
  {
   "cell_type": "code",
   "execution_count": null,
   "metadata": {},
   "outputs": [],
   "source": [
    "# Write a SQL query to find all numbers that appear at least three times consecutively.\n",
    "# https://leetcode.com/problems/consecutive-numbers/\n",
    "\n",
    "SELECT DISTINCT l1.Num AS ConsecutiveNums From Logs l1 JOIN Logs l2 ON l1.Id+1 = l2.Id JOIN Logs l3 ON l2.Id+1 = l3.Id \n",
    "WHERE l1.Num = l2.Num AND l1.Num = l3.Num "
   ]
  },
  {
   "cell_type": "code",
   "execution_count": null,
   "metadata": {},
   "outputs": [],
   "source": [
    "# FB interview\n",
    "SELECT data_center, 1-AVG(success) from u group by data_center"
   ]
  },
  {
   "cell_type": "code",
   "execution_count": null,
   "metadata": {},
   "outputs": [],
   "source": [
    "# Write a SQL query to find all duplicate emails in a table named Person.\n",
    "# https://leetcode.com/problems/duplicate-emails/\n",
    "\n",
    "SELECT Email FROM Person GROUP BY Email HAVING Count(Id)>1 \n",
    "\n",
    "or\n",
    "\n",
    "SELECT Email FROM (SELECT Email, COUNT(EMAIL) AS num FROM Person GROUP BY Email) as t1 WHERE num > 1"
   ]
  },
  {
   "cell_type": "code",
   "execution_count": null,
   "metadata": {},
   "outputs": [],
   "source": [
    "# Suppose that a website contains two tables, the Customers table and the Orders table. \n",
    "# Write a SQL query to find all customers who never order anything.\n",
    "# https://leetcode.com/problems/customers-who-never-order/\n",
    "\n",
    "SELECT c.Name AS Customers FROM Customers c LEFT JOIN Orders o ON c.Id = o.CustomerId WHERE o.CustomerId IS NULL \n",
    " \n",
    "or\n",
    "\n",
    "SELECT c.Name As Customers FROM Customers c WHERE c.Id NOT IN (SELECT o.CustomerId FROM Orders o)"
   ]
  },
  {
   "cell_type": "code",
   "execution_count": null,
   "metadata": {},
   "outputs": [],
   "source": [
    "# Write an SQL query to find all dates' id with higher temperature compared to its previous dates (yesterday).\n",
    "# https://leetcode.com/problems/rising-temperature/\n",
    "\n",
    "SELECT w1.id FROM Weather w1 LEFT JOIN Weather w2 ON DATEDIFF(w1.Recorddate, w2.Recorddate) = 1 \n",
    "    WHERE w1.Temperature > w2.Temperature"
   ]
  },
  {
   "cell_type": "code",
   "execution_count": null,
   "metadata": {},
   "outputs": [],
   "source": [
    "# Write an SQL query that reports the first login date for each player.\n",
    "# https://leetcode.com/problems/game-play-analysis-i/\n",
    "\n",
    "SELECT player_id, MIN(event_date) AS first_login FROM Activity GROUP BY player_id "
   ]
  },
  {
   "cell_type": "code",
   "execution_count": null,
   "metadata": {},
   "outputs": [],
   "source": [
    "# Write a SQL query that reports the device that is first logged in for each player.\n",
    "# https://leetcode.com/problems/game-play-analysis-ii/\n",
    "\n",
    "SELECT a1.player_id, a1.device_id FROM Activity a1 JOIN (SELECT player_id, MIN(event_date) \n",
    "    AS first_event FROM Activity GROUP BY player_id) AS a2 ON a1.player_id = a2.player_id  \n",
    "    AND a1.event_date = a2.first_event"
   ]
  }
 ],
 "metadata": {
  "kernelspec": {
   "display_name": "Python 3",
   "language": "python",
   "name": "python3"
  },
  "language_info": {
   "codemirror_mode": {
    "name": "ipython",
    "version": 3
   },
   "file_extension": ".py",
   "mimetype": "text/x-python",
   "name": "python",
   "nbconvert_exporter": "python",
   "pygments_lexer": "ipython3",
   "version": "3.7.1"
  }
 },
 "nbformat": 4,
 "nbformat_minor": 4
}
