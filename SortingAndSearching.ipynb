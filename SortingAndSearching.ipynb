{
 "cells": [
  {
   "cell_type": "code",
   "execution_count": 49,
   "metadata": {},
   "outputs": [
    {
     "name": "stdout",
     "output_type": "stream",
     "text": [
      "[[0, 1], [0, 0], [3, 3]]\n"
     ]
    },
    {
     "data": {
      "text/plain": [
       "[[0, 1], [3, 3]]"
      ]
     },
     "execution_count": 49,
     "metadata": {},
     "output_type": "execute_result"
    }
   ],
   "source": [
    "# Given a collection of intervals, merge all overlapping intervals.\n",
    "# https://leetcode.com/explore/interview/card/facebook/54/sorting-and-searching-3/310/\n",
    "\n",
    "def merge(intervals):\n",
    "    intervals = sortArray(intervals) # Sort array\n",
    "    print(intervals)\n",
    "    output = list()\n",
    "    if len(intervals) > 1: \n",
    "        index1 = 0\n",
    "        index2 = 1\n",
    "        left = intervals[index1][0]\n",
    "        right = intervals[index1][1]\n",
    "        while index1 < len(intervals) and index2 < len(intervals):\n",
    "            if right < intervals[index2][0]:\n",
    "                output.append([left,right])\n",
    "                left = intervals[index1+1][0]\n",
    "                right = intervals[index1+1][1]\n",
    "            index1 = index1 + 1\n",
    "            index2 = index2 + 1\n",
    "            right = max(intervals[index1][1], right)\n",
    "        output.append([left,right])\n",
    "    else:\n",
    "        output = intervals\n",
    "    return output\n",
    "    \n",
    "def sortArray(array):\n",
    "    '''\n",
    "    Mergesort based on the first index of each pair\n",
    "    '''\n",
    "    if len(array)>1:\n",
    "        arrayL = sortArray(array[0:int(len(array)/2)])\n",
    "        arrayR = sortArray(array[int(len(array)/2):len(array)])\n",
    "        newArray = list()\n",
    "        indexL = 0\n",
    "        indexR = 0\n",
    "        for i in range(len(array)):\n",
    "            if indexL == len(arrayL):\n",
    "                newArray.append(arrayR[indexR])\n",
    "                indexR = indexR + 1\n",
    "            elif indexR == len(arrayR):\n",
    "                newArray.append(arrayL[indexL])\n",
    "                indexL = indexL + 1\n",
    "            elif arrayL[indexL][0] <= arrayR[indexR][0]:\n",
    "                newArray.append(arrayL[indexL])\n",
    "                indexL = indexL + 1\n",
    "            else:\n",
    "                newArray.append(arrayR[indexR])\n",
    "                indexR = indexR + 1\n",
    "        return newArray\n",
    "    else:\n",
    "        return array\n",
    "\n",
    "array = [[3,3],[0,1],[0,0]]\n",
    "#sortArray(array)\n",
    "merge(array)"
   ]
  },
  {
   "cell_type": "code",
   "execution_count": 4,
   "metadata": {},
   "outputs": [
    {
     "data": {
      "text/plain": [
       "[1, 2, 3]"
      ]
     },
     "execution_count": 4,
     "metadata": {},
     "output_type": "execute_result"
    }
   ],
   "source": [
    "# Given the head of a sorted linked list, delete all duplicates such that each element appears only once. \n",
    "# Return the linked list sorted as well.\n",
    "# https://leetcode.com/problems/remove-duplicates-from-sorted-list/\n",
    "\n",
    "def deleteDuplicates(head):\n",
    "    res = [head[0]]\n",
    "    for i in range(1, len(head)):\n",
    "        if head[i] != res[-1]:\n",
    "            res.append(head[i])\n",
    "    return(res)\n",
    "\n",
    "deleteDuplicates([1,1,2,3,3])\n",
    "\n",
    "\n",
    "# or the solution that works in leetcode:\n",
    "# Definition for singly-linked list.\n",
    "# class ListNode:\n",
    "#     def __init__(self, val=0, next=None):\n",
    "#         self.val = val\n",
    "#         self.next = next\n",
    "class Solution:\n",
    "    def deleteDuplicates(self, head: ListNode) -> ListNode:\n",
    "        if head != None:\n",
    "            res = ListNode(head.val)\n",
    "            res_orig = res\n",
    "            head = head.next\n",
    "            while head != None:\n",
    "                if head.val != res.val:\n",
    "                    res.next = ListNode(head.val)\n",
    "                    res = res.next\n",
    "                head = head.next\n",
    "            return(res_orig)\n",
    "        else:\n",
    "            return(head)"
   ]
  },
  {
   "cell_type": "code",
   "execution_count": null,
   "metadata": {},
   "outputs": [],
   "source": []
  }
 ],
 "metadata": {
  "kernelspec": {
   "display_name": "Python 3",
   "language": "python",
   "name": "python3"
  },
  "language_info": {
   "codemirror_mode": {
    "name": "ipython",
    "version": 3
   },
   "file_extension": ".py",
   "mimetype": "text/x-python",
   "name": "python",
   "nbconvert_exporter": "python",
   "pygments_lexer": "ipython3",
   "version": "3.7.1"
  }
 },
 "nbformat": 4,
 "nbformat_minor": 4
}
