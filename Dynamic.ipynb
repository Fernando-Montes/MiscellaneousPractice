{
 "cells": [
  {
   "cell_type": "code",
   "execution_count": 1,
   "id": "701e158a",
   "metadata": {},
   "outputs": [
    {
     "data": {
      "text/plain": [
       "49"
      ]
     },
     "execution_count": 1,
     "metadata": {},
     "output_type": "execute_result"
    }
   ],
   "source": [
    "# Given n non-negative integers a1, a2, ..., an , where each represents a point at coordinate (i, ai). \n",
    "# n vertical lines are drawn such that the two endpoints of the line i is at (i, ai) and (i, 0). \n",
    "# Find two lines, which, together with the x-axis forms a container, such that the container contains \n",
    "# the most water.\n",
    "# https://leetcode.com/problems/container-with-most-water/\n",
    "\n",
    "# Works but slow....\n",
    "\n",
    "def maxArea(height):\n",
    "    import numpy as np\n",
    "    \n",
    "    maxH = []\n",
    "    prev = []\n",
    "    maxWater = -np.inf\n",
    "    for i in range(len(height)):\n",
    "        if len(prev) == 0 or prev[-1][0] < height[i]:\n",
    "            prev.append([height[i], i])\n",
    "        j = 0\n",
    "        while j < len(prev) and prev[j][1] != i:\n",
    "            maxWater = max(maxWater, min(height[i], prev[j][0])*(i - prev[j][1]))\n",
    "            if max(maxWater, min(height[i], prev[j][0])) != maxWater:\n",
    "                   j = len(prev)\n",
    "            j = j + 1\n",
    "        #print(prev)\n",
    "    return maxWater\n",
    "\n",
    "height = [1,8,6,2,5,4,8,3,7]\n",
    "maxArea(height)"
   ]
  },
  {
   "cell_type": "code",
   "execution_count": 4,
   "id": "77d1b583",
   "metadata": {},
   "outputs": [
    {
     "data": {
      "text/plain": [
       "49"
      ]
     },
     "execution_count": 4,
     "metadata": {},
     "output_type": "execute_result"
    }
   ],
   "source": [
    "# Given n non-negative integers a1, a2, ..., an , where each represents a point at coordinate (i, ai). \n",
    "# n vertical lines are drawn such that the two endpoints of the line i is at (i, ai) and (i, 0). \n",
    "# Find two lines, which, together with the x-axis forms a container, such that the container contains \n",
    "# the most water.\n",
    "# https://leetcode.com/problems/container-with-most-water/\n",
    "\n",
    "def maxArea(height):    \n",
    "    maxWater = 0\n",
    "    l = 0\n",
    "    r = len(height)-1\n",
    "    while l < r:\n",
    "        maxWater = max( maxWater, min(height[r],height[l])*(r-l) )\n",
    "        if height[r] > height[l]:\n",
    "            l = l + 1\n",
    "        else:\n",
    "            r = r - 1 \n",
    "    return maxWater\n",
    "\n",
    "height = [1,8,6,2,5,4,8,3,7]\n",
    "maxArea(height)"
   ]
  },
  {
   "cell_type": "code",
   "execution_count": null,
   "id": "4f29fddf",
   "metadata": {},
   "outputs": [],
   "source": []
  }
 ],
 "metadata": {
  "kernelspec": {
   "display_name": "Python 3",
   "language": "python",
   "name": "python3"
  },
  "language_info": {
   "codemirror_mode": {
    "name": "ipython",
    "version": 3
   },
   "file_extension": ".py",
   "mimetype": "text/x-python",
   "name": "python",
   "nbconvert_exporter": "python",
   "pygments_lexer": "ipython3",
   "version": "3.7.1"
  }
 },
 "nbformat": 4,
 "nbformat_minor": 5
}
