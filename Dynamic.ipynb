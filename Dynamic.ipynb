{
 "cells": [
  {
   "cell_type": "code",
   "execution_count": 1,
   "id": "701e158a",
   "metadata": {},
   "outputs": [
    {
     "data": {
      "text/plain": [
       "49"
      ]
     },
     "execution_count": 1,
     "metadata": {},
     "output_type": "execute_result"
    }
   ],
   "source": [
    "# Given n non-negative integers a1, a2, ..., an , where each represents a point at coordinate (i, ai). \n",
    "# n vertical lines are drawn such that the two endpoints of the line i is at (i, ai) and (i, 0). \n",
    "# Find two lines, which, together with the x-axis forms a container, such that the container contains \n",
    "# the most water.\n",
    "# https://leetcode.com/problems/container-with-most-water/\n",
    "\n",
    "# Works but slow....\n",
    "\n",
    "def maxArea(height):\n",
    "    import numpy as np\n",
    "    \n",
    "    maxH = []\n",
    "    prev = []\n",
    "    maxWater = -np.inf\n",
    "    for i in range(len(height)):\n",
    "        if len(prev) == 0 or prev[-1][0] < height[i]:\n",
    "            prev.append([height[i], i])\n",
    "        j = 0\n",
    "        while j < len(prev) and prev[j][1] != i:\n",
    "            maxWater = max(maxWater, min(height[i], prev[j][0])*(i - prev[j][1]))\n",
    "            if max(maxWater, min(height[i], prev[j][0])) != maxWater:\n",
    "                   j = len(prev)\n",
    "            j = j + 1\n",
    "        #print(prev)\n",
    "    return maxWater\n",
    "\n",
    "height = [1,8,6,2,5,4,8,3,7]\n",
    "maxArea(height)"
   ]
  },
  {
   "cell_type": "code",
   "execution_count": 4,
   "id": "77d1b583",
   "metadata": {},
   "outputs": [
    {
     "data": {
      "text/plain": [
       "49"
      ]
     },
     "execution_count": 4,
     "metadata": {},
     "output_type": "execute_result"
    }
   ],
   "source": [
    "# Given n non-negative integers a1, a2, ..., an , where each represents a point at coordinate (i, ai). \n",
    "# n vertical lines are drawn such that the two endpoints of the line i is at (i, ai) and (i, 0). \n",
    "# Find two lines, which, together with the x-axis forms a container, such that the container contains \n",
    "# the most water.\n",
    "# https://leetcode.com/problems/container-with-most-water/\n",
    "\n",
    "def maxArea(height):    \n",
    "    maxWater = 0\n",
    "    l = 0\n",
    "    r = len(height)-1\n",
    "    while l < r:\n",
    "        maxWater = max( maxWater, min(height[r],height[l])*(r-l) )\n",
    "        if height[r] > height[l]:\n",
    "            l = l + 1\n",
    "        else:\n",
    "            r = r - 1 \n",
    "    return maxWater\n",
    "\n",
    "height = [1,8,6,2,5,4,8,3,7]\n",
    "maxArea(height)"
   ]
  },
  {
   "cell_type": "code",
   "execution_count": 17,
   "id": "4f29fddf",
   "metadata": {},
   "outputs": [
    {
     "name": "stdout",
     "output_type": "stream",
     "text": [
      "[0, 1, 2, 3, 5, 8, 5]\n"
     ]
    },
    {
     "data": {
      "text/plain": [
       "13"
      ]
     },
     "execution_count": 17,
     "metadata": {},
     "output_type": "execute_result"
    }
   ],
   "source": [
    "# You are climbing a staircase. It takes n steps to reach the top.\n",
    "# Each time you can either climb 1 or 2 steps. In how many distinct ways can you climb to the top?\n",
    "# https://leetcode.com/explore/interview/card/top-interview-questions-easy/97/dynamic-programming/569/\n",
    "\n",
    "def climbStairs(n):\n",
    "    if n == 1:\n",
    "        return 1\n",
    "    res = [0]*(n+1)\n",
    "    res[1] = 1\n",
    "    res[2] = 1\n",
    "    for i in range(1, n-1):\n",
    "        res[i+1] = res[i] + res[i+1]\n",
    "        res[i+2] = res[i] + res[i+2]\n",
    "    print (res)\n",
    "    return res[n] + res[n-1]\n",
    "\n",
    "climbStairs(6)"
   ]
  },
  {
   "cell_type": "code",
   "execution_count": 21,
   "id": "e8e4714e",
   "metadata": {},
   "outputs": [
    {
     "data": {
      "text/plain": [
       "12"
      ]
     },
     "execution_count": 21,
     "metadata": {},
     "output_type": "execute_result"
    }
   ],
   "source": [
    "# You are a professional robber planning to rob houses along a street. Each house has a certain amount \n",
    "# of money stashed, the only constraint stopping you from robbing each of them is that adjacent houses have \n",
    "# security systems connected and it will automatically contact the police if two adjacent houses were broken \n",
    "# into on the same night.\n",
    "# Given an integer array nums representing the amount of money of each house, return the maximum amount \n",
    "# of money you can rob tonight without alerting the police.\n",
    "# https://leetcode.com/explore/interview/card/top-interview-questions-easy/97/dynamic-programming/576/\n",
    "\n",
    "def rob(nums):\n",
    "    if len(nums) == 1:\n",
    "        return nums[0] \n",
    "    res1 = nums[0]\n",
    "    res2 = nums[1]\n",
    "    for i in range(2, len(nums)):\n",
    "        tmp = res2\n",
    "        res2 = res1 + nums[i]\n",
    "        res1 = max(tmp, res1) \n",
    "    return max(res1,res2)\n",
    "\n",
    "nums = [2,1,1,2]\n",
    "nums = [2,7,9,3,1]\n",
    "rob(nums)"
   ]
  },
  {
   "cell_type": "code",
   "execution_count": null,
   "id": "d9f65c8d",
   "metadata": {},
   "outputs": [],
   "source": []
  }
 ],
 "metadata": {
  "kernelspec": {
   "display_name": "Python 3 (ipykernel)",
   "language": "python",
   "name": "python3"
  },
  "language_info": {
   "codemirror_mode": {
    "name": "ipython",
    "version": 3
   },
   "file_extension": ".py",
   "mimetype": "text/x-python",
   "name": "python",
   "nbconvert_exporter": "python",
   "pygments_lexer": "ipython3",
   "version": "3.7.7"
  }
 },
 "nbformat": 4,
 "nbformat_minor": 5
}
