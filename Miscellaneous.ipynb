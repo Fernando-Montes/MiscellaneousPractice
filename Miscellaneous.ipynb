{
 "cells": [
  {
   "cell_type": "code",
   "execution_count": 1,
   "metadata": {},
   "outputs": [],
   "source": [
    "# Given a file and assume that you can only read the file using a given method read4, \n",
    "# implement a method to read n characters.\n",
    "# https://leetcode.com/problems/read-n-characters-given-read4/\n",
    "\n",
    "def read(buf, n):\n",
    "    buf4 = ['']*4\n",
    "    char_copied = 0\n",
    "    char_read = read4(buf4)\n",
    "    while char_copied < n and char_read !=0:\n",
    "        for i in range(char_read):\n",
    "            buf[char_copied] = buf4[i]\n",
    "            char_copied = char_copied + 1\n",
    "            if char_copied == n:\n",
    "                return char_copied\n",
    "        char_read = read4(buf4)\n",
    "    return char_copied"
   ]
  },
  {
   "cell_type": "code",
   "execution_count": 27,
   "metadata": {},
   "outputs": [
    {
     "data": {
      "text/plain": [
       "3"
      ]
     },
     "execution_count": 27,
     "metadata": {},
     "output_type": "execute_result"
    }
   ],
   "source": [
    "# Given a string s, find the length of the longest substring without repeating characters.\n",
    "# https://leetcode.com/problems/longest-substring-without-repeating-characters/\n",
    "\n",
    "def lengthOfLongestSubstring(s):\n",
    "    current_str = 0\n",
    "    longest_str = 0\n",
    "    active = \"\"\n",
    "    for c in s:\n",
    "        if c in active:\n",
    "            current_str = len(active) - active.index(c) \n",
    "            active = active[(active.index(c)+1):]+ c\n",
    "        else:\n",
    "            active = active + c\n",
    "            current_str = current_str + 1\n",
    "            if current_str > longest_str:\n",
    "                longest_str = current_str\n",
    "    return longest_str\n",
    "                \n",
    "#lengthOfLongestSubstring(\"abcabcbb\")\n",
    "lengthOfLongestSubstring(\"dvdf\")"
   ]
  },
  {
   "cell_type": "code",
   "execution_count": 2,
   "metadata": {},
   "outputs": [
    {
     "data": {
      "text/plain": [
       "[[1, 1, 2], [1, 2, 1], [2, 1, 1]]"
      ]
     },
     "execution_count": 2,
     "metadata": {},
     "output_type": "execute_result"
    }
   ],
   "source": [
    "# Given a collection of distinct integers, return all possible permutations.\n",
    "# https://leetcode.com/problems/permutations/\n",
    "\n",
    "# Heap Algorithm\n",
    "def permute(nums):\n",
    "    def heap(first = 0):\n",
    "        if first == len(nums):\n",
    "            if nums[:] not in res:\n",
    "                res.append(nums[:])   # This is so contents are passed (not a pointer to the original array)\n",
    "        for i in range(first, len(nums)):\n",
    "            nums[first], nums[i] = nums[i], nums[first]\n",
    "            heap(first+1)\n",
    "            nums[first], nums[i] = nums[i], nums[first]\n",
    "    res = []\n",
    "    heap()\n",
    "    return res\n",
    "\n",
    "permute([1,1,2])"
   ]
  },
  {
   "cell_type": "code",
   "execution_count": 72,
   "metadata": {},
   "outputs": [
    {
     "data": {
      "text/plain": [
       "3"
      ]
     },
     "execution_count": 72,
     "metadata": {},
     "output_type": "execute_result"
    }
   ],
   "source": [
    "# N cars are going to the same destination along a one lane road.  The destination is target miles away.\n",
    "# Each car i has a constant speed speed[i] (in miles per hour), and initial position position[i] miles \n",
    "# towards the target along the road. A car can never pass another car ahead of it, but it can catch up \n",
    "# to it, and drive bumper to bumper at the same speed. The distance between these two cars is ignored \n",
    "# - they are assumed to have the same position. A car fleet is some non-empty set of cars driving at \n",
    "# the same position and same speed.  Note that a single car is also a car fleet. If a car catches up \n",
    "# to a car fleet right at the destination point, it will still be considered as one car fleet. \n",
    "# How many car fleets will arrive at the destination?\n",
    "# https://leetcode.com/problems/car-fleet/\n",
    "\n",
    "def carFleet(target, position, speed):\n",
    "    zipped_pairs = zip(position, speed)                       # zip both lists\n",
    "    ordered_pairs = sorted(zipped_pairs, reverse=True)        # sort in position in reverse order\n",
    "    #print(ordered_pairs, len(ordered_pairs))\n",
    "    num_caravans = 0\n",
    "    prev_caravan = 0\n",
    "    for i in range(len(ordered_pairs)):            \n",
    "        if (target - ordered_pairs[i][0])/ordered_pairs[i][1] > \\\n",
    "                (target - ordered_pairs[prev_caravan][0])/ordered_pairs[prev_caravan][1] or i == 0:\n",
    "            num_caravans = num_caravans + 1\n",
    "            prev_caravan = i\n",
    "    return(num_caravans)\n",
    "\n",
    "target = 12\n",
    "position = [10,8,0,5,3]\n",
    "speed = [2,4,1,1,3]\n",
    "carFleet(target, position, speed)"
   ]
  },
  {
   "cell_type": "code",
   "execution_count": 143,
   "metadata": {},
   "outputs": [
    {
     "data": {
      "text/plain": [
       "1"
      ]
     },
     "execution_count": 143,
     "metadata": {},
     "output_type": "execute_result"
    }
   ],
   "source": [
    "# Given a grid where each entry is only 0 or 1, find the number of corner rectangles.\n",
    "# A corner rectangle is 4 distinct 1s on the grid that form an axis-aligned rectangle. \n",
    "# Note that only the corners need to have the value 1. Also, all four 1s used must be distinct.\n",
    "# https://leetcode.com/problems/number-of-corner-rectangles/\n",
    "\n",
    "import numpy as np\n",
    "def countCornerRectangles(grid):\n",
    "    num_rec = 0\n",
    "    n = len(grid)                   # number of rows\n",
    "    if n>=0:\n",
    "        m = len(grid[0])            # number of columns\n",
    "    else:\n",
    "        m = 0\n",
    "    d_lines = {}                                  # Dictionary c1, c2 of # of lines that have ones\n",
    "    d_recta = {}                                  # Dictionary c1, c2 of # of rectangules\n",
    "    for i in range(n):                            # Loop over rows\n",
    "        for j1 in range(m-1):                     # Loop over columns\n",
    "            if grid[i][j1] == 1:\n",
    "                for j2 in range(j1+1,m):          # Loop over columns\n",
    "                    if grid[i][j2] == 1:\n",
    "                        if (j1,j2) in d_lines:\n",
    "                            d_lines[j1,j2] = d_lines[j1,j2] + 1\n",
    "                        else:\n",
    "                            d_lines[j1,j2] = 1\n",
    "                        if d_lines[j1,j2] == 2:\n",
    "                            d_recta[j1,j2] = 1\n",
    "                        elif d_lines[j1,j2]>2:\n",
    "                            d_recta[j1,j2] = d_recta[j1,j2] + d_lines[j1, j2] - 1              \n",
    "    return( sum( list(d_recta.values()) ) )\n",
    "\n",
    "#grid = [[1, 1, 1], [1, 1, 1], [1, 1, 1]]\n",
    "grid = [[1, 0, 0, 1, 0], [0, 0, 1, 0, 1], [0, 0, 0, 1, 0], [1, 0, 1, 0, 1]]\n",
    "countCornerRectangles(grid)"
   ]
  },
  {
   "cell_type": "code",
   "execution_count": 193,
   "metadata": {},
   "outputs": [
    {
     "data": {
      "text/plain": [
       "1"
      ]
     },
     "execution_count": 193,
     "metadata": {},
     "output_type": "execute_result"
    }
   ],
   "source": [
    "# We have two integer sequences A and B of the same non-zero length.\n",
    "# We are allowed to swap elements A[i] and B[i]. Given A and B, return the minimum number of \n",
    "# swaps to make both sequences strictly increasing.  \n",
    "# It is guaranteed that the given input always makes it possible.\n",
    "# https://leetcode.com/problems/minimum-swaps-to-make-sequences-increasing/\n",
    "\n",
    "# Using recursion:\n",
    "def minSwap(A, B):\n",
    "    import numpy as np\n",
    "    def recursion(A,B):\n",
    "        #print(A,B)\n",
    "        if len(A) < 2 or (sorted(A) == A and len(np.unique(A)) == len(A) and \n",
    "                          sorted(B) == B and len(np.unique(B)) == len(B)):\n",
    "            return (0)\n",
    "        elif A[0] > A[1] or B[0] > B[1]:\n",
    "            A[1], B[1] = B[1], A[1]\n",
    "            return( 1 + recursion(A[:], B[:]) )\n",
    "        elif A[0] == A[1] or B[0] == B[1]:\n",
    "            A[0], B[0] = B[0], A[0]\n",
    "            num_swaps1 = 1 + recursion(A[:], B[:]) \n",
    "            A[0], B[0] = B[0], A[0]\n",
    "            A[1], B[1] = B[1], A[1]\n",
    "            num_swaps2 = 1 + recursion(A[1:], B[1:])\n",
    "            return( min(num_swaps1, num_swaps2) ) \n",
    "        elif A[0] < B[1] and B[0] < A[1]:\n",
    "            A[1], B[1] = B[1], A[1]\n",
    "            num_swaps1 = 1 + recursion(A[1:], B[1:]) \n",
    "            A[1], B[1] = B[1], A[1]\n",
    "            num_swaps2 = recursion(A[1:], B[1:])\n",
    "            return( min(num_swaps1, num_swaps2) ) \n",
    "        else:\n",
    "            return( recursion(A[1:], B[1:]) )\n",
    "    return( recursion(A,B) )\n",
    "        \n",
    "#A = [1,3,5,4]\n",
    "#B = [1,2,3,7]\n",
    "#A = [0,4,4,5,9]\n",
    "#B = [0,1,6,8,10]\n",
    "A = [0,3,4,9,10]\n",
    "B = [2,3,7,5,6]\n",
    "minSwap(A,B)"
   ]
  },
  {
   "cell_type": "code",
   "execution_count": 202,
   "metadata": {},
   "outputs": [
    {
     "data": {
      "text/plain": [
       "1"
      ]
     },
     "execution_count": 202,
     "metadata": {},
     "output_type": "execute_result"
    }
   ],
   "source": [
    "# We have two integer sequences A and B of the same non-zero length.\n",
    "# We are allowed to swap elements A[i] and B[i]. Given A and B, return the minimum number of \n",
    "# swaps to make both sequences strictly increasing.  \n",
    "# It is guaranteed that the given input always makes it possible.\n",
    "# https://leetcode.com/problems/minimum-swaps-to-make-sequences-increasing/\n",
    "\n",
    "# Using dynamical programming:\n",
    "def minSwap(A, B):\n",
    "    n = len(A)\n",
    "    dp = [ [float('inf')] * n for _ in range(2)] # Matrix of number of swaps if keep [0][i] or swap [1][i] at step i \n",
    "    dp[0][0] = 0  # position 0 were kept the same\n",
    "    dp[1][0] = 1  # position 1 were swaped\n",
    "    for i in range(1,n):\n",
    "        if A[i]>A[i-1] and B[i]>B[i-1]:\n",
    "            dp[0][i] = dp[0][i-1]                         # no swap at i-1, no swap at i\n",
    "            dp[1][i] = dp[1][i-1] + 1                     # swap at i-1, swap at i\n",
    "        if A[i]>B[i-1] and B[i]>A[i-1]:\n",
    "            dp[0][i] = min( dp[0][i], dp[1][i-1] )        # swap at i-1, no swap at i\n",
    "            dp[1][i] = min( dp[1][i], dp[0][i-1] + 1 )    # no swap at i-1, swap now\n",
    "    return min( dp[0][n-1], dp[1][n-1] )\n",
    "        \n",
    "#A = [1,3,5,4]\n",
    "#B = [1,2,3,7]\n",
    "A = [0,4,4,5,9]\n",
    "B = [0,1,6,8,10]\n",
    "#A = [0,3,4,9,10]\n",
    "#B = [2,3,7,5,6]\n",
    "minSwap(A,B)"
   ]
  },
  {
   "cell_type": "code",
   "execution_count": 223,
   "metadata": {},
   "outputs": [
    {
     "data": {
      "text/plain": [
       "'1A3B'"
      ]
     },
     "execution_count": 223,
     "metadata": {},
     "output_type": "execute_result"
    }
   ],
   "source": [
    "# You write down a secret number and ask your friend to guess what the number is. \n",
    "# When your friend makes a guess, you provide a hint with the following info:\n",
    "#    The number of \"bulls\", which are digits in the guess that are in the correct position.\n",
    "#    The number of \"cows\", which are digits in the guess that are in your secret number but are \n",
    "#     located in the wrong position. Specifically, the non-bull digits in the guess that could be \n",
    "#     rearranged such that they become bulls.\n",
    "# Given the secret number secret and your friend's guess guess, return the hint for your friend's guess.\n",
    "# The hint should be formatted as \"xAyB\", where x is the number of bulls and y is the number of cows. \n",
    "# Note that both secret and guess may contain duplicate digits.\n",
    "# https://leetcode.com/problems/bulls-and-cows/\n",
    "\n",
    "def getHint(secret, guess):\n",
    "    bulls = 0\n",
    "    guess_unclaimed  = {'0':0, '1':0, '2':0, '3':0, '4':0, '5':0, '6':0, '7':0, '8':0, '9':0}\n",
    "    secret_unclaimed = {'0':0, '1':0, '2':0, '3':0, '4':0, '5':0, '6':0, '7':0, '8':0, '9':0}\n",
    "    for i in range(len(guess)):\n",
    "        if guess[i] == secret[i]:\n",
    "            bulls = bulls + 1\n",
    "        else:\n",
    "            secret_unclaimed[guess[i]] = secret_unclaimed[guess[i]] + 1\n",
    "            guess_unclaimed[secret[i]] = guess_unclaimed[secret[i]] + 1\n",
    "    cows = 0\n",
    "    for i in guess_unclaimed.keys():\n",
    "        if guess_unclaimed[i] >= secret_unclaimed[i]:\n",
    "            cows = cows + secret_unclaimed[i]\n",
    "        else:\n",
    "            cows = cows + guess_unclaimed[i]\n",
    "    return( str(bulls) + 'A' + str(cows) + 'B' )\n",
    "          \n",
    "#secret = \"1123\"\n",
    "#guess = \"0111\"\n",
    "secret = \"1807\"\n",
    "guess = \"7810\"\n",
    "#secret = \"1\"\n",
    "#guess = \"1\"\n",
    "getHint(secret, guess)"
   ]
  },
  {
   "cell_type": "code",
   "execution_count": 240,
   "metadata": {},
   "outputs": [
    {
     "data": {
      "text/plain": [
       "False"
      ]
     },
     "execution_count": 240,
     "metadata": {},
     "output_type": "execute_result"
    }
   ],
   "source": [
    "# Write a program to check whether a given number is an ugly number.\n",
    "# Ugly numbers are positive numbers whose prime factors only include 2, 3, 5.\n",
    "# https://leetcode.com/problems/ugly-number/\n",
    "\n",
    "def isUgly(num):\n",
    "    flag = 1\n",
    "    if num == 0:\n",
    "        return (False)\n",
    "    while num != 1 and flag == 1:\n",
    "        if num%2 == 0:\n",
    "            num = int(num/2)\n",
    "        elif num%3 == 0:\n",
    "            num = int(num/3)\n",
    "        elif num%5 == 0:\n",
    "            num = int(num/5)\n",
    "        else:\n",
    "            flag = 0\n",
    "    if num == 1:\n",
    "        return (True)\n",
    "    else:\n",
    "        return (False)\n",
    "    \n",
    "isUgly(14)"
   ]
  },
  {
   "cell_type": "code",
   "execution_count": 370,
   "metadata": {},
   "outputs": [
    {
     "data": {
      "text/plain": [
       "5.0"
      ]
     },
     "execution_count": 370,
     "metadata": {},
     "output_type": "execute_result"
    }
   ],
   "source": [
    "# Given an array consisting of n integers, find the contiguous subarray of given length k \n",
    "# that has the maximum average value. And you need to output the maximum average value.\n",
    "# https://leetcode.com/problems/maximum-average-subarray-i/\n",
    "\n",
    "def findMaxAverage(nums, k):\n",
    "    n = len(nums)\n",
    "    sum_i = 0\n",
    "    sum_max = -float('inf')\n",
    "    prev = nums[0]\n",
    "    for i in range(n):\n",
    "        if i < k:\n",
    "            sum_i = sum_i + nums[i]\n",
    "        else:\n",
    "            if sum_i > sum_max:\n",
    "                sum_max = sum_i\n",
    "            sum_i = sum_i - prev + nums[i]\n",
    "            prev = nums[i-k+1]\n",
    "        #print(sum_i, sum_max, prev)\n",
    "    if sum_i > sum_max:\n",
    "        sum_max = sum_i\n",
    "    return sum_max/k\n",
    "    #return sum_max/k\n",
    "\n",
    "#nums = [1,12,-5,-6,50,3]\n",
    "#nums = [0,1,1,3,3]\n",
    "#nums = [0,4,0,3,2]\n",
    "nums = [5]\n",
    "\n",
    "findMaxAverage(nums, 1)\n",
    "\n"
   ]
  },
  {
   "cell_type": "code",
   "execution_count": 448,
   "metadata": {},
   "outputs": [
    {
     "data": {
      "text/plain": [
       "'/c'"
      ]
     },
     "execution_count": 448,
     "metadata": {},
     "output_type": "execute_result"
    }
   ],
   "source": [
    "# Given an absolute path for a file (Unix-style), simplify it. Or in other words, convert it \n",
    "# to the canonical path.\n",
    "# https://leetcode.com/problems/simplify-path/\n",
    "\n",
    "def simplifyPath(path):\n",
    "    finalPath = list()\n",
    "    prev = ''\n",
    "    for c in path:\n",
    "        #print(finalPath, c, prev)\n",
    "        if c == '.' and prev == '.':\n",
    "            finalPath.pop() if finalPath else None\n",
    "            prev = ''\n",
    "        elif c != '/' and c != '.' and (prev == '/' or prev == '.'):\n",
    "            finalPath.append(c)\n",
    "            prev = c\n",
    "        elif c != '/' and c != '.' and prev != '/' and prev != '.':\n",
    "            finalPath[len(finalPath)-1] = finalPath[len(finalPath)-1] + c\n",
    "            prev = c\n",
    "        else:\n",
    "            prev = c\n",
    "    if finalPath:\n",
    "        res = '' \n",
    "    else:\n",
    "        res = '/'\n",
    "    for c in finalPath:\n",
    "        res = res + '/' + c\n",
    "    return res\n",
    "        \n",
    "path = '/home/'\n",
    "path = '/../'\n",
    "path = '/home//foo/'\n",
    "path = '/a/./b/../../c/'\n",
    "simplifyPath(path)"
   ]
  },
  {
   "cell_type": "code",
   "execution_count": 464,
   "metadata": {},
   "outputs": [
    {
     "data": {
      "text/plain": [
       "5"
      ]
     },
     "execution_count": 464,
     "metadata": {},
     "output_type": "execute_result"
    }
   ],
   "source": [
    "# Given a sorted (in ascending order) integer array nums of n elements and a target value, \n",
    "# write a function to search target in nums. If target exists, then return its index, otherwise return -1.\n",
    "# https://leetcode.com/problems/binary-search/\n",
    "\n",
    "def search(nums, target, offset = 0):\n",
    "    #print(nums)\n",
    "    n = len(nums)\n",
    "    if n == 0:\n",
    "        return -1\n",
    "    elif n == 1 and nums[n-1] == target:\n",
    "        return 0\n",
    "    elif n == 1 and nums[n-1] != target:\n",
    "        return -1\n",
    "    else:\n",
    "        n = int(n/2)\n",
    "        if nums[n] == target:\n",
    "            return nums.index(target) + offset\n",
    "        elif nums[n] > target:\n",
    "            return search(nums[:n], target, offset)\n",
    "        else:\n",
    "            return search(nums[n:], target, offset + n)\n",
    "\n",
    "nums = [-1,0,3,5,9,12]\n",
    "search(nums, 12)"
   ]
  },
  {
   "cell_type": "code",
   "execution_count": 22,
   "metadata": {},
   "outputs": [
    {
     "data": {
      "text/plain": [
       "1"
      ]
     },
     "execution_count": 22,
     "metadata": {},
     "output_type": "execute_result"
    }
   ],
   "source": [
    "# You are given n pairs of numbers. In every pair, the first number is always smaller than \n",
    "# the second number. Now, we define a pair (c, d) can follow another pair (a, b) if and \n",
    "# only if b < c. Chain of pairs can be formed in this fashion. Given a set of pairs, find \n",
    "# the length longest chain which can be formed. You needn't use up all the given pairs. \n",
    "# https://leetcode.com/problems/maximum-length-of-pair-chain/     MODIFIED (see below)\n",
    "\n",
    "def findLongestChain(pairs):\n",
    "    if len(pairs) == 0:\n",
    "        return 0\n",
    "    else:\n",
    "        dp = {}\n",
    "        for pair in pairs:\n",
    "            tmp = [i for i in dp.keys() if i<pair[0] ]\n",
    "            if len(tmp) == 0:\n",
    "                dp[pair[1]] = 1   # add new \n",
    "            elif max(tmp) > 1:\n",
    "                dp[pair[1]] = dp[max(tmp)] + 1\n",
    "            else:\n",
    "                dp[pair[1]] = 1\n",
    "    return max(dp.values())\n",
    "\n",
    "pairs = [[1,2], [2,3], [3,4]]\n",
    "pairs = [[6,7], [8,9], [14,15], [10,11], [12,13]]\n",
    "pairs = [[3,4],[2,3],[1,2]]\n",
    "findLongestChain(pairs)"
   ]
  },
  {
   "cell_type": "code",
   "execution_count": 116,
   "metadata": {},
   "outputs": [
    {
     "name": "stdout",
     "output_type": "stream",
     "text": [
      "{2: 1}\n",
      "{2: 1, 3: 1}\n",
      "{2: 1, 3: 1, 4: 2}\n"
     ]
    },
    {
     "data": {
      "text/plain": [
       "2"
      ]
     },
     "execution_count": 116,
     "metadata": {},
     "output_type": "execute_result"
    }
   ],
   "source": [
    "# You are given n pairs of numbers. In every pair, the first number is always smaller than \n",
    "# the second number. Now, we define a pair (c, d) can follow another pair (a, b) if and \n",
    "# only if b < c. Chain of pairs can be formed in this fashion. Given a set of pairs, find \n",
    "# the length longest chain which can be formed. You needn't use up all the given pairs. \n",
    "# You can select pairs in any order. \n",
    "# https://leetcode.com/problems/maximum-length-of-pair-chain/    UNMODIFIED\n",
    "\n",
    "def findLongestChain(pairs):\n",
    "    if len(pairs) == 0:\n",
    "        return 0\n",
    "    else:\n",
    "        dp = {}   \n",
    "        pairs.sort()\n",
    "        for pair in pairs:\n",
    "            if pair[1] not in dp.keys():\n",
    "                dp[pair[1]] = 1            # add new \n",
    "            tmp = [dp[i] for i in dp.keys() if i < pair[0] ]\n",
    "            if len(tmp) != 0:\n",
    "                dp[pair[1]] = max( max(tmp) + 1, dp[pair[1]] )\n",
    "            print(dp)\n",
    "    return max(dp.values())\n",
    "\n",
    "pairs = [[1,2], [2,3], [3,4]]\n",
    "#pairs = [[6,7], [8,9], [14,15], [10,11], [12,13]]\n",
    "#pairs = [[3,4],[2,3],[1,2]]\n",
    "#pairs = [[9,10],[9,10],[4,5],[-9,-3],[-9,1],[0,3],[6,10],[-5,-4],[-7,-6]]\n",
    "#pairs = [[7,9],[4,5],[-7,-1],[0,10],[3,10],[3,6],[2,3]]\n",
    "findLongestChain(pairs)"
   ]
  },
  {
   "cell_type": "code",
   "execution_count": 134,
   "metadata": {},
   "outputs": [
    {
     "name": "stdout",
     "output_type": "stream",
     "text": [
      "[[1, inf, inf], [inf, inf, inf], [inf, inf, inf]]\n",
      "[[1, 2, inf], [inf, inf, inf], [inf, inf, inf]]\n",
      "[[1, 2, 3], [inf, inf, inf], [inf, inf, inf]]\n",
      "[[1, 2, 3], [inf, inf, 4], [inf, inf, inf]]\n",
      "[[1, 2, 3], [inf, inf, 4], [inf, inf, 5]]\n",
      "[[1, 2, 3], [inf, inf, 4], [inf, 6, 5]]\n",
      "[[1, 2, 3], [inf, inf, 4], [7, 6, 5]]\n",
      "[[1, 2, 3], [8, inf, 4], [7, 6, 5]]\n",
      "[[1, 2, 3], [8, inf, 4], [7, 6, 5]]\n",
      "[[1, 2, 3], [8, 9, 4], [7, 6, 5]]\n"
     ]
    },
    {
     "data": {
      "text/plain": [
       "[[1, 2, 3], [8, 9, 4], [7, 6, 5]]"
      ]
     },
     "execution_count": 134,
     "metadata": {},
     "output_type": "execute_result"
    }
   ],
   "source": [
    "# Given a positive integer n, generate a square matrix filled with elements from 1 to n2 in spiral order.\n",
    "# https://leetcode.com/problems/spiral-matrix-ii/pairs\n",
    "\n",
    "def generateMatrix(n):\n",
    "    res = [[float('inf')]*n for _ in range(n)]\n",
    "    direction = 'R'\n",
    "    x = -1\n",
    "    y = 0\n",
    "    i = 1\n",
    "    while i <= n*n:\n",
    "        if direction == 'R':\n",
    "            x = x + 1\n",
    "            if x == n or res[y][x] != float('inf'):\n",
    "                direction = 'D'\n",
    "                x = x - 1\n",
    "            else:\n",
    "                res[y][x] = i\n",
    "                i = i + 1\n",
    "        if direction == 'D':\n",
    "            y = y + 1\n",
    "            if y == n or res[y][x] != float('inf'):\n",
    "                direction = 'L'\n",
    "                y = y - 1\n",
    "            else:\n",
    "                res[y][x] = i\n",
    "                i = i + 1\n",
    "        if direction == 'L':\n",
    "            x = x - 1\n",
    "            if x < 0 or res[y][x] != float('inf'):\n",
    "                direction = 'U'\n",
    "                x = x + 1\n",
    "            else:\n",
    "                res[y][x] = i\n",
    "                i = i + 1\n",
    "        if direction == 'U':\n",
    "            y = y - 1\n",
    "            if y < 0 or res[y][x] != float('inf'):\n",
    "                direction = 'R'\n",
    "                y = y + 1\n",
    "            else:\n",
    "                res[y][x] = i\n",
    "                i = i + 1\n",
    "        #print(res)\n",
    "    return res\n",
    "\n",
    "generateMatrix(3)"
   ]
  },
  {
   "cell_type": "code",
   "execution_count": 197,
   "metadata": {},
   "outputs": [
    {
     "name": "stdout",
     "output_type": "stream",
     "text": [
      "a\n",
      "aca\n",
      "cab\n",
      "abd\n",
      "bdk\n",
      "dka\n",
      "kac\n",
      "aca\n",
      "caa\n",
      "aa\n",
      "a\n",
      "\n"
     ]
    },
    {
     "data": {
      "text/plain": [
       "'aaca'"
      ]
     },
     "execution_count": 197,
     "metadata": {},
     "output_type": "execute_result"
    }
   ],
   "source": [
    "# Given a string s, return the longest palindromic substring in s\n",
    "# https://leetcode.com/explore/interview/card/facebook/55/dynamic-programming-3/3034/\n",
    "\n",
    "# NOTE: I think this solves is a harder problem that the question meant. The question is a substring that itself \n",
    "# is a palyndrome. Correct answer is below.\n",
    "\n",
    "def longestPalindrome(s):\n",
    "    \n",
    "    def check(s, pali):\n",
    "        '''\n",
    "        returns largest palindrome in s containing pali\n",
    "        '''\n",
    "        orig_pali = pali\n",
    "        cont = True\n",
    "        while cont == True:\n",
    "            tmp = [ i for i in range(len(s)) if s[i:(i+len(pali))] == pali]\n",
    "            for i in tmp:\n",
    "                if i-1 >= 0 and i+len(pali)+2 <= len(s) and s[(i-1):(i+len(pali)+2)] in s[::-1] and s[(i-1):(i+len(pali)+2)] in s:\n",
    "                    pali = s[(i-1):(i+len(pali)+2)]\n",
    "                elif i-1 >= 0 and i+len(pali)+1 <= len(s) and s[(i-1):(i+len(pali)+1)] in s[::-1] and s[(i-1):(i+len(pali)+1)] in s:\n",
    "                    pali = s[(i-1):(i+len(pali)+1)]\n",
    "                elif i+len(pali)+2 <= len(s) and s[i:(i+len(pali)+2)] in s[::-1] and s[i:(i+len(pali)+2)] in s:\n",
    "                    pali = s[i:(i+len(pali)+2)]\n",
    "            if pali == orig_pali:\n",
    "                cont = False\n",
    "            else:\n",
    "                orig_pali = pali\n",
    "        return pali\n",
    "    \n",
    "    pali = s[0]\n",
    "    longest_pali = pali\n",
    "    j = 0\n",
    "    while j + len(pali) <= len(s): \n",
    "        print(pali)\n",
    "        pali = check(s, pali)    \n",
    "        if len(pali) > len(longest_pali):\n",
    "            longest_pali = pali\n",
    "        j = j + 1\n",
    "        pali = s[j:(j+len(pali))]\n",
    "    return longest_pali\n",
    "\n",
    "s = 'fsafast'\n",
    "s = \"babad\"\n",
    "s = \"cbbd\"\n",
    "s = 'ac'\n",
    "s = \"aacabdkacaa\"\n",
    "longestPalindrome(s)"
   ]
  },
  {
   "cell_type": "code",
   "execution_count": 293,
   "metadata": {},
   "outputs": [
    {
     "data": {
      "text/plain": [
       "'knnk'"
      ]
     },
     "execution_count": 293,
     "metadata": {},
     "output_type": "execute_result"
    }
   ],
   "source": [
    "# Given a string s, return the longest palindromic substring in s\n",
    "# https://leetcode.com/explore/interview/card/facebook/55/dynamic-programming-3/3034/\n",
    "\n",
    "# NOTE: I think this solves is a harder problem that the question meant. The question is a substring that itself \n",
    "# is a palyndrome. Correct answer is below.\n",
    "\n",
    "def longestPalindrome(s):\n",
    "    \n",
    "    def check(s, j, pali):\n",
    "        '''\n",
    "        returns largest palindrome in s containing pali at position starting at j \n",
    "        '''\n",
    "        orig_pali = pali\n",
    "        i = 1\n",
    "        while j+len(pali)+i <= len(s):\n",
    "            if j-1 == -1 and s[(j+len(pali)+i-1)::-1] == s[j:(j+len(pali)+i)]:\n",
    "                    pali = s[j:(j+len(pali)+i)]\n",
    "            elif s[(j+len(pali)+i-1):(j-1):-1] == s[j:(j+len(pali)+i)]:\n",
    "                    pali = s[j:(j+len(pali)+i)]\n",
    "            if orig_pali == pali:\n",
    "                i = i + 1\n",
    "            else:\n",
    "                orig_pali = pali\n",
    "                i = 1\n",
    "        return pali\n",
    "    \n",
    "    pali = s[0]\n",
    "    longest_pali = pali\n",
    "    j = 0\n",
    "    while j + len(pali) <= len(s): \n",
    "        pali = check(s, j, pali)   \n",
    "        #print(longest_pali, pali)\n",
    "        if len(pali) > len(longest_pali):\n",
    "            longest_pali = pali\n",
    "        j = j + 1\n",
    "        pali = s[j:(j+len(longest_pali))]\n",
    "    return longest_pali\n",
    "\n",
    "s = 'fsafast'\n",
    "s = \"babad\"\n",
    "s = \"cbbd\"\n",
    "s = 'ac'\n",
    "s = \"aacabdkacaa\"\n",
    "s = 'bb'\n",
    "s = 'ccc'\n",
    "s = 'bananas'\n",
    "s = \"aaaabbbbbbbbbbccccccccccddddddddddeeeeeeeeeeffffffffffgggggggggghhhhhhhhhhiiiiiiiiiijjjjjjjjjjkkkkkkkkkkllllllllllmmmmmmmmmmnnnnnnnnnnooooooooooppppppppppqqqqqqqqqqrrrrrrrrrrssssssssssttttttttttuuuuuuuuuuvvvvvvvvvvwwwwwwwwwwxxxxxxxxxxyyyyyyyyyyzzzzzzzzzzyyyyyyyyyyxxxxxxxxxxwwwwwwwwwwvvvvvvvvvvuuuuuuuuuuttttttttttssssssssssrrrrrrrrrrqqqqqqqqqqppppppppppoooooooooonnnnnnnnnnmmmmmmmmmmllllllllllkkkkkkkkkkjjjjjjjjjjiiiiiiiiiihhhhhhhhhhggggggggggffffffffffeeeeeeeeeeddddddddddccccccccccbbbbbbbbbbaaaaaaaabbbbbbbbbbccccccccccddddddddddeeeeeeeeeeffffffffffgggggggggghhhhhhhhhhiiiiiiiiiijjjjjjjjjjkkkkkkkkkkllllllllllmmmmmmmmmmnnnnnnnnnnooooooooooppppppppppqqqqqqqqqqrrrrrrrrrrssssssssssttttttttttuuuuuuuuuuvvvvvvvvvvwwwwwwwwwwxxxxxxxxxxyyyyyyyyyyzzzzzzzzzzyyyyyyyyyyxxxxxxxxxxwwwwwwwwwwvvvvvvvvvvuuuuuuuuuuttttttttttssssssssssrrrrrrrrrrqqqqqqqqqqppppppppppoooooooooonnnnnnnnnnmmmmmmmmmmllllllllllkkkkkkkkkkjjjjjjjjjjiiiiiiiiiihhhhhhhhhhggggggggggffffffffffeeeeeeeeeeddddddddddccccccccccbbbbbbbbbbaaaa\"\n",
    "s = 'abb'\n",
    "s =\"babadada\"\n",
    "s = \"wsgdzojcrxtfqcfkhhcuxxnbwtxzkkeunmpdsqfvgfjhusholnwrhmzexhfqppatkexuzdllrbaxygmovqwfvmmbvuuctcwxhrmepxmnxlxdkyzfsqypuroxdczuilbjypnirljxfgpuhhgusflhalorkcvqfknnkqyprxlwmakqszsdqnfovptsgbppvejvukbxaybccxzeqcjhmnexlaafmycwopxntuisxcitxdbarsicvwrvjmxsapmhbbnuivzhkgcrshokkioagwidhmfzjwwywastecjsolxmhfnmgommkoimiwlgwxxdsxhuwwjhpxxgmeuzhdzmuqhmhnfwwokgvwsznfcoxbferdonrexzanpymxtfojodcfydedlxmxeffhwjeegqnagoqlwwdctbqnuxngrgovrjesrkjrfjawknbrsfywljscfvnjhczhyeoyzrtbkvvfvofykkwoiclgxyaddhpdoztdhcbauaagjmfzkkdqexkczfsztckdlujgqzjyuittnudpldjvsbwbzcsazjpxrwfafievenvuetzcxynnmskoytgznvqdlkhaowjtetveahpjguiowkiuvikwewmgxhgfjuzkgrkqhmxxavbriftadtogmhlatczusxkktcsyrnwjbeshifzbykqibghmmvecwwtwdcscikyzyiqlgwzycptlxiwfaigyhrlgtjocvajcnqyenxrnjgogeqtvkxllxpuoxargzgcsfwavwbnktchwjebvwwhfghqkcjhuhuqwcdsixrkfjxuzvhjxlyoxswdlwfytgbtqbeimzzogzrlovcdpseoafuxfmrhdswwictsctawjanvoafvzqanvhaohgndbsxlzuymvfflyswnkvpsvqezekeidadatsymbvgwobdrixisknqpehddjrsntkqpsfxictqbnedjmsveurvrtvpvzbengdijkfcogpcrvwyf\"\n",
    "longestPalindrome(s)"
   ]
  },
  {
   "cell_type": "code",
   "execution_count": 84,
   "metadata": {},
   "outputs": [
    {
     "data": {
      "text/plain": [
       "['0+0+0',\n",
       " '0-0+0',\n",
       " '0*0+0',\n",
       " '00+0',\n",
       " '0+0-0',\n",
       " '0-0-0',\n",
       " '0*0-0',\n",
       " '00-0',\n",
       " '0+0*0',\n",
       " '0-0*0',\n",
       " '0*0*0',\n",
       " '00*0',\n",
       " '0+00',\n",
       " '0-00',\n",
       " '0*00',\n",
       " '000']"
      ]
     },
     "execution_count": 84,
     "metadata": {},
     "output_type": "execute_result"
    }
   ],
   "source": [
    "# Given a string that contains only digits 0-9 and a target value, return all possibilities \n",
    "# to add binary operators (not unary) +, -, or * between the digits so they evaluate to the target value.\n",
    "# https://leetcode.com/explore/interview/card/facebook/57/others-3/3039/\n",
    "\n",
    "def addOperators(num, target):\n",
    "    \n",
    "    def findCombinations(num):\n",
    "        #print(num)\n",
    "        res = list()\n",
    "        if len(num) == 1:\n",
    "            res.append(num[0])\n",
    "        elif len(num) > 1:\n",
    "            tmp = findCombinations(  num[1:] )\n",
    "            for c in tmp:\n",
    "                res.append( num[0] + '+' + c )\n",
    "                res.append( num[0] + '-' + c )\n",
    "                res.append( num[0] + '*' + c )\n",
    "                res.append( num[0] + c )   \n",
    "        return res\n",
    "     \n",
    "    result = list()  \n",
    "    comb = findCombinations(num)\n",
    "    for c in comb:\n",
    "        #print(c)\n",
    "        try:\n",
    "            if eval(c) == target:\n",
    "                result.append(c)\n",
    "        except SyntaxError:\n",
    "            pass\n",
    "    return result\n",
    "    \n",
    "num = \"123\"\n",
    "target = 6\n",
    "#num = \"232\"\n",
    "#target = 8\n",
    "num = \"105\"\n",
    "target = 5\n",
    "num = \"000\"\n",
    "target = 0\n",
    "addOperators(num, target)"
   ]
  },
  {
   "cell_type": "code",
   "execution_count": 87,
   "metadata": {},
   "outputs": [
    {
     "data": {
      "text/plain": [
       "''"
      ]
     },
     "execution_count": 87,
     "metadata": {},
     "output_type": "execute_result"
    }
   ],
   "source": [
    "# Given a string S, remove the vowels 'a', 'e', 'i', 'o', and 'u' from it, and return the new string.\n",
    "# https://leetcode.com/problems/remove-vowels-from-a-string/\n",
    "\n",
    "def removeVowels(S):\n",
    "    \n",
    "    new = ''\n",
    "    for c in S:\n",
    "        if c != 'a' and c != 'e' and c != 'i' and c != 'o' and c != 'u':\n",
    "            new = new + c\n",
    "    return new\n",
    "\n",
    "S = \"leetcodeisacommunityforcoders\"\n",
    "S = 'aeiou'\n",
    "removeVowels(S)"
   ]
  },
  {
   "cell_type": "code",
   "execution_count": 92,
   "metadata": {},
   "outputs": [
    {
     "data": {
      "text/plain": [
       "[0, 1]"
      ]
     },
     "execution_count": 92,
     "metadata": {},
     "output_type": "execute_result"
    }
   ],
   "source": [
    "# Given an array of integers nums and an integer target, return indices of the two numbers such that \n",
    "# they add up to target.\n",
    "# https://leetcode.com/problems/two-sum/\n",
    "# BRUTE FORCE APPROACH .. see below\n",
    "\n",
    "def twoSum(nums, target):\n",
    "    for i in range(len(nums)):\n",
    "        for j in range(i+1, len(nums)):\n",
    "            if nums[i] + nums[j] == target:\n",
    "                return [i,j]\n",
    "\n",
    "nums = [2,7,11,15]\n",
    "target = 9\n",
    "nums = [3,2,4]\n",
    "target = 6\n",
    "nums = [3,3]\n",
    "target = 6\n",
    "twoSum(nums, target)"
   ]
  },
  {
   "cell_type": "code",
   "execution_count": 99,
   "metadata": {},
   "outputs": [
    {
     "data": {
      "text/plain": [
       "[1, 0]"
      ]
     },
     "execution_count": 99,
     "metadata": {},
     "output_type": "execute_result"
    }
   ],
   "source": [
    "# Given an array of integers nums and an integer target, return indices of the two numbers such that \n",
    "# they add up to target.\n",
    "# https://leetcode.com/problems/two-sum/\n",
    "# FASTER APPROACH .. see below\n",
    "\n",
    "def twoSum(nums, target):\n",
    "    d1 = {}  # values\n",
    "    d2 = {}  # indexes\n",
    "    for i in range(len(nums)):\n",
    "        if target - nums[i] in d1.values(): \n",
    "            return [i, d2[target - nums[i]]]\n",
    "        d1[i] = nums[i]\n",
    "        d2[nums[i]] = i\n",
    "\n",
    "nums = [2,7,11,15]\n",
    "target = 9\n",
    "#nums = [3,2,4]\n",
    "#target = 6\n",
    "#nums = [3,3]\n",
    "#target = 6\n",
    "twoSum(nums, target)"
   ]
  },
  {
   "cell_type": "code",
   "execution_count": 137,
   "metadata": {},
   "outputs": [
    {
     "name": "stdout",
     "output_type": "stream",
     "text": [
      "[[1, 1, 1], [0, 1, 0], [2, 1, 1]]\n"
     ]
    },
    {
     "data": {
      "text/plain": [
       "2"
      ]
     },
     "execution_count": 137,
     "metadata": {},
     "output_type": "execute_result"
    }
   ],
   "source": [
    "# Given an m x n 2d grid map of '1's (land) and '0's (water), return the number of islands.\n",
    "# An island is surrounded by water and is formed by connecting adjacent lands horizontally \n",
    "# or vertically. You may assume all four edges of the grid are all surrounded by water.\n",
    "# https://leetcode.com/problems/number-of-islands/\n",
    "\n",
    "\n",
    "# NOT WORKING YET\n",
    "\n",
    "def numIslands(grid):\n",
    "    m = len(grid)\n",
    "    n = len(grid[0])\n",
    "    islands = [[0]*n for _ in range(m)]\n",
    "    num_islands = 1\n",
    "    for i in range(m):\n",
    "        for j in range(n):\n",
    "            if grid[i][j] == \"1\":\n",
    "                if i != 0 and grid[i-1][j] == \"1\":   # check above\n",
    "                    islands[i][j] = islands[i-1][j]\n",
    "                elif j!=0 and grid[i][j-1] == \"1\":   # check left\n",
    "                    islands[i][j] = islands[i][j-1]\n",
    "                else:\n",
    "                    islands[i][j] = num_islands \n",
    "                    num_islands = num_islands + 1\n",
    "                    \n",
    "    print(islands)\n",
    "    return num_islands - 1\n",
    "    \n",
    "grid = [\n",
    "  [\"1\",\"1\",\"0\",\"0\",\"0\"],\n",
    "  [\"1\",\"1\",\"0\",\"0\",\"0\"],\n",
    "  [\"0\",\"0\",\"1\",\"0\",\"0\"],\n",
    "  [\"0\",\"0\",\"0\",\"1\",\"1\"]\n",
    "]\n",
    "grid = [\n",
    "  [\"1\",\"1\",\"1\",\"1\",\"0\"],\n",
    "  [\"1\",\"1\",\"0\",\"1\",\"0\"],\n",
    "  [\"1\",\"1\",\"0\",\"0\",\"0\"],\n",
    "  [\"0\",\"0\",\"0\",\"0\",\"0\"]\n",
    "]\n",
    "grid = [[\"1\",\"1\",\"1\"],\n",
    "        [\"0\",\"1\",\"0\"],\n",
    "        [\"1\",\"1\",\"1\"]]\n",
    "\n",
    "numIslands(grid)"
   ]
  },
  {
   "cell_type": "code",
   "execution_count": 167,
   "metadata": {},
   "outputs": [
    {
     "name": "stdout",
     "output_type": "stream",
     "text": [
      "['A', 'a']\n"
     ]
    },
    {
     "data": {
      "text/plain": [
       "'Aa'"
      ]
     },
     "execution_count": 167,
     "metadata": {},
     "output_type": "execute_result"
    }
   ],
   "source": [
    "# Mock Interview\n",
    "# Write a function that takes a string as input and reverse only the vowels of a string.\n",
    "# https://leetcode.com/problems/reverse-vowels-of-a-string/\n",
    "\n",
    "def reverseVowels(s):\n",
    "    s = list(s)\n",
    "    f = 0\n",
    "    b = len(s) - 1\n",
    "    while f < len(s) and b >= 0 and f <= b:\n",
    "        if s[f] == 'a' or s[f] == 'e' or s[f] == 'i' or s[f] == 'o' or s[f] == 'u' or s[f] == 'A' or s[f] == 'E' or s[f] == 'I' or s[f] == 'O' or s[f] == 'U':\n",
    "            if s[b] == 'a' or s[b] == 'e' or s[b] == 'i' or s[b] == 'o' or s[b] == 'u' or s[b] == 'A' or s[b] == 'E' or s[b] == 'I' or s[b] == 'O' or s[b] == 'U':\n",
    "                s[f], s[b] = s[b], s[f]\n",
    "                f = f + 1\n",
    "                b = b - 1\n",
    "            else:\n",
    "                b = b - 1\n",
    "        else:\n",
    "            f = f + 1\n",
    "    ss = ''\n",
    "    for c in s:\n",
    "        ss = ss + c\n",
    "    return ss\n",
    "    \n",
    "s = 'leetcode'\n",
    "s = 'hello'\n",
    "s = 'aA'\n",
    "reverseVowels(s)"
   ]
  },
  {
   "cell_type": "code",
   "execution_count": null,
   "metadata": {},
   "outputs": [],
   "source": [
    "# Mock Interview\n",
    "# Given the root of a binary tree, return an array of the largest value in each row \n",
    "# of the tree (0-indexed).\n",
    "\n",
    "# Definition for a binary tree node.\n",
    "# class TreeNode:\n",
    "#     def __init__(self, val=0, left=None, right=None):\n",
    "#         self.val = val\n",
    "#         self.left = left\n",
    "#         self.right = right\n",
    "\n",
    "# Definition for a binary tree node.\n",
    "# class TreeNode:\n",
    "#     def __init__(self, val=0, left=None, right=None):\n",
    "#         self.val = val\n",
    "#         self.left = left\n",
    "#         self.right = right\n",
    "class Solution:\n",
    "    def largestValues(self, root: TreeNode) -> List[int]:\n",
    "        res = list()\n",
    "        tmp = list()\n",
    "        r1 = list()\n",
    "        if root != None:\n",
    "            r1.append(root)\n",
    "            print(r1)\n",
    "        r2 = list()\n",
    "        cont = True\n",
    "        i = 0\n",
    "        while i < len(r1):\n",
    "            tmp.append(r1[i].val)\n",
    "            if r1[i].left != None:\n",
    "                r2.append(r1[i].left)\n",
    "            if r1[i].right != None:\n",
    "                r2.append(r1[i].right)\n",
    "            if i == len(r1)-1:\n",
    "                res.append(max(tmp))\n",
    "                if len(r2) != 0:\n",
    "                    tmp = list()\n",
    "                    r1 = r2\n",
    "                    r2 = list()\n",
    "                    i = -1\n",
    "            i = i + 1\n",
    "        return res\n",
    "    "
   ]
  },
  {
   "cell_type": "code",
   "execution_count": 197,
   "metadata": {},
   "outputs": [
    {
     "data": {
      "text/plain": [
       "['a2 act car',\n",
       " 'g1 act car',\n",
       " 'a8 act zoo',\n",
       " 'ab1 off key dog',\n",
       " 'a1 9 2 3 1',\n",
       " 'zo4 4 7']"
      ]
     },
     "execution_count": 197,
     "metadata": {},
     "output_type": "execute_result"
    }
   ],
   "source": [
    "# You have an array of logs.  Each log is a space delimited string of words.\n",
    "# For each log, the first word in each log is an alphanumeric identifier.  Then, either:\n",
    "# Each word after the identifier will consist only of lowercase letters, or;\n",
    "# Each word after the identifier will consist only of digits.\n",
    "# We will call these two varieties of logs letter-logs and digit-logs.  It is \n",
    "# guaranteed that each log has at least one word after its identifier.\n",
    "# Reorder the logs so that all of the letter-logs come before any digit-log.  \n",
    "# The letter-logs are ordered lexicographically ignoring identifier, with the identifier used in case of ties.  The digit-logs should be put in their original order.\n",
    "# Return the final order of the logs.\n",
    "# https://leetcode.com/problems/reorder-data-in-log-files/\n",
    "\n",
    "def reorderLogFiles(logs):\n",
    "    new_log = list()\n",
    "    number_log = list()\n",
    "    for l in logs:\n",
    "        tmp = l.split()\n",
    "        if tmp[1][0].isdigit():\n",
    "            number_log.append(l)\n",
    "        else:\n",
    "            new_log.append(l)\n",
    "        new_log = sorted(new_log)\n",
    "    return sorted(new_log, key = lambda x: x.split()[1:]) + number_log\n",
    "    \n",
    "logs = [\"dig1 8 1 5 1\",\"let1 art can\",\"dig2 3 6\",\"let2 own kit dig\",\"let3 art zero\"]\n",
    "logs = [\"a1 9 2 3 1\",\"g1 act car\",\"zo4 4 7\",\"ab1 off key dog\",\"a8 act zoo\",\"a2 act car\"]\n",
    "reorderLogFiles(logs)"
   ]
  },
  {
   "cell_type": "code",
   "execution_count": 36,
   "metadata": {},
   "outputs": [
    {
     "data": {
      "text/plain": [
       "6"
      ]
     },
     "execution_count": 36,
     "metadata": {},
     "output_type": "execute_result"
    }
   ],
   "source": [
    "# Given an integer array nums, find the contiguous subarray (containing at least \n",
    "# one number) which has the largest sum and return its sum.\n",
    "# https://leetcode.com/problems/maximum-subarray/\n",
    "\n",
    "def maxSubArray(nums):\n",
    "    max_sum = tmp_sum = nums[0]\n",
    "    for i in range(1, len(nums)):\n",
    "        tmp_sum = max(tmp_sum + nums[i], nums[i])\n",
    "        max_sum = max(max_sum, tmp_sum)\n",
    "    return max_sum\n",
    "#nums = [-2,1,-3,4,-1,2,1,-5,4]\n",
    "#nums = [-2]\n",
    "nums = [-2,-3,-1]\n",
    "nums = [1,2,-1,-2,2,1,-2,1,4,-5,4]\n",
    "nums = [5,-5,1,5]\n",
    "maxSubArray(nums)"
   ]
  },
  {
   "cell_type": "code",
   "execution_count": null,
   "metadata": {},
   "outputs": [],
   "source": [
    "# Merge two sorted linked lists and return it as a new sorted list. The new list should \n",
    "# be made by splicing together the nodes of the first two lists.\n",
    "# https://leetcode.com/problems/merge-two-sorted-lists/\n",
    "\n",
    "# Definition for singly-linked list.\n",
    "# class ListNode:\n",
    "#     def __init__(self, val=0, next=None):\n",
    "#         self.val = val\n",
    "#         self.next = next\n",
    "class Solution:\n",
    "    def mergeTwoLists(self, l1: ListNode, l2: ListNode) -> ListNode:\n",
    "        l3 = ListNode()\n",
    "        while l1 != None or l2 != None:\n",
    "            if l1 != None and l2 != None:\n",
    "                l3.val = max(l1.val, l2.val)\n",
    "            elif l1 != None:\n",
    "                l3.val = l1.val\n",
    "            else:\n",
    "                l3.val = l2.val\n",
    "            l1 = l1.next\n",
    "            l2 = l2.next\n",
    "        return l2"
   ]
  },
  {
   "cell_type": "code",
   "execution_count": 40,
   "metadata": {},
   "outputs": [
    {
     "data": {
      "text/plain": [
       "4"
      ]
     },
     "execution_count": 40,
     "metadata": {},
     "output_type": "execute_result"
    }
   ],
   "source": [
    "# Mock Interview\n",
    "# https://leetcode.com/problems/island-perimeter/\n",
    "\n",
    "def islandPerimeter(grid):\n",
    "    num_row = len(grid)\n",
    "    num_col = len(grid[0])\n",
    "    res = 0\n",
    "    for i in range(num_row):\n",
    "        for j in range(num_col):\n",
    "            if grid[i][j] == 1:\n",
    "                if (i > 0 and grid[i-1][j] == 0) or i == 0: # top\n",
    "                    res = res + 1\n",
    "                if (i < num_row-1 and grid[i+1][j] == 0) or i == num_row - 1: # bottom\n",
    "                    res = res + 1\n",
    "                if (j > 0 and grid[i][j-1] == 0) or j == 0: # left\n",
    "                    res = res + 1\n",
    "                if (j < num_col-1 and grid[i][j+1] == 0) or j == num_col - 1: # right\n",
    "                    res = res + 1\n",
    "    return res\n",
    "\n",
    "grid = [[0,1,0,0],[1,1,1,0],[0,1,0,0],[1,1,0,0]]\n",
    "grid = [[1,0]]\n",
    "grid = [[1]]\n",
    "islandPerimeter(grid)"
   ]
  },
  {
   "cell_type": "code",
   "execution_count": null,
   "metadata": {},
   "outputs": [],
   "source": [
    "# Mock Interview\n",
    "# https://leetcode.com/problems/reorder-list/\n",
    "\n",
    "# Definition for singly-linked list.\n",
    "# class ListNode:\n",
    "#     def __init__(self, val=0, next=None):\n",
    "#         self.val = val\n",
    "#         self.next = next\n",
    "class Solution:\n",
    "    def reorderList(self, head: ListNode) -> None:\n",
    "        \"\"\"\n",
    "        Do not return anything, modify head in-place instead.\n",
    "        \"\"\"\n",
    "        \n",
    "        if head == None:\n",
    "            return head\n",
    "        \n",
    "        tmp = list()\n",
    "        head_orig = head\n",
    "        while head.next != None:\n",
    "            tmp.append(head.val)\n",
    "            head = head.next\n",
    "        tmp.append(head.val)\n",
    "        \n",
    "        f = 0\n",
    "        b = len(tmp)-1\n",
    "        head = head_orig\n",
    "        i = 0\n",
    "        while f != b+1:\n",
    "            #print(i, f, b)\n",
    "            if i%2 == 0:\n",
    "                head.val = tmp[f]\n",
    "                f = f + 1\n",
    "            else:\n",
    "                head.val = tmp[b]\n",
    "                b = b - 1\n",
    "            i = i + 1\n",
    "            head = head.next"
   ]
  },
  {
   "cell_type": "code",
   "execution_count": null,
   "metadata": {},
   "outputs": [],
   "source": [
    "# Mock Interview\n",
    "# https://leetcode.com/problems/clone-graph/\n",
    "\n",
    "\n",
    "# NOT COMPLETED.........\n",
    "\"\"\"\n",
    "# Definition for a Node.\n",
    "class Node:\n",
    "    def __init__(self, val = 0, neighbors = None):\n",
    "        self.val = val\n",
    "        self.neighbors = neighbors if neighbors is not None else []\n",
    "\"\"\"\n",
    "\n",
    "class Solution:\n",
    "    def cloneGraph(self, node: 'Node') -> 'Node':\n",
    "        if node == None:\n",
    "            return None\n",
    "        res_orig = Node()\n",
    "        res = res_orig\n",
    "        while node != None:\n",
    "            res.val = node.val\n",
    "            res.neighbors = node.neighbors\n",
    "            res = res.neighbors\n",
    "            node = node.neighbors\n",
    "        print(res_orig)\n",
    "        return res_orig    "
   ]
  },
  {
   "cell_type": "code",
   "execution_count": 10,
   "metadata": {},
   "outputs": [
    {
     "data": {
      "text/plain": [
       "1994"
      ]
     },
     "execution_count": 10,
     "metadata": {},
     "output_type": "execute_result"
    }
   ],
   "source": [
    "# Given a roman numeral, convert it to an integer.\n",
    "# https://leetcode.com/problems/roman-to-integer/\n",
    "\n",
    "def romanToInt(s):\n",
    "    res = 0\n",
    "    i = len(s)-1\n",
    "    while i >= 0:\n",
    "        if s[i] == 'I':\n",
    "            res = res + 1\n",
    "            i = i - 1\n",
    "        elif s[i] == 'V':\n",
    "            if i-1>=0 and s[i-1]=='I':\n",
    "                res = res + 4\n",
    "                i = i - 2\n",
    "            else:\n",
    "                res = res + 5\n",
    "                i = i - 1\n",
    "        elif s[i] == 'X':\n",
    "            if i-1>=0 and s[i-1]=='I':\n",
    "                res = res + 9\n",
    "                i = i - 2\n",
    "            else:\n",
    "                res = res + 10\n",
    "                i = i - 1\n",
    "        elif s[i] == 'L':\n",
    "            if i-1>=0 and s[i-1]=='X':\n",
    "                res = res + 40\n",
    "                i = i - 2\n",
    "            else:\n",
    "                res = res + 50\n",
    "                i = i - 1\n",
    "        elif s[i] == 'C':\n",
    "            if i-1>=0 and s[i-1]=='X':\n",
    "                res = res + 90\n",
    "                i = i - 2\n",
    "            else:\n",
    "                res = res + 100\n",
    "                i = i - 1\n",
    "        elif s[i] == 'D':\n",
    "            if i-1>=0 and s[i-1]=='C':\n",
    "                res = res + 400\n",
    "                i = i - 2\n",
    "            else:\n",
    "                res = res + 500\n",
    "                i = i - 1\n",
    "        else: # s[i] == 'M':\n",
    "            if i-1>=0 and s[i-1]=='C':\n",
    "                res = res + 900\n",
    "                i = i - 2\n",
    "            else:\n",
    "                res = res + 1000\n",
    "                i = i - 1\n",
    "    return res\n",
    "    \n",
    "s = \"MCMXCIV\"\n",
    "romanToInt(s)                "
   ]
  },
  {
   "cell_type": "code",
   "execution_count": 28,
   "metadata": {},
   "outputs": [
    {
     "data": {
      "text/plain": [
       "[24, 12, 8, 6]"
      ]
     },
     "execution_count": 28,
     "metadata": {},
     "output_type": "execute_result"
    }
   ],
   "source": [
    "# Given an array nums of n integers where n > 1,  return an array output such that output[i] \n",
    "# is equal to the product of all the elements of nums except nums[i]. Solve it without division and in O(n)\n",
    "# https://leetcode.com/problems/product-of-array-except-self/\n",
    "\n",
    "def productExceptSelf(nums):\n",
    "    pfor = [1]*len(nums)\n",
    "    pbac = [1]*len(nums)\n",
    "    pfor[0] = nums[0]\n",
    "    pbac[len(nums)-1] = nums[len(nums)-1]\n",
    "    for i in range(1, len(nums)-1):\n",
    "        pfor[i] = pfor[i-1]*nums[i]\n",
    "        pbac[len(nums)-1-i] = pbac[len(nums)-i]*nums[len(nums)-i-1]\n",
    "    pfor[len(nums)-1] = pfor[len(nums)-2]*nums[len(nums)-1]\n",
    "    pbac[0] = pbac[1]*nums[0]\n",
    "    \n",
    "    res = [1]*len(nums)\n",
    "    for i in range(len(nums)-1):\n",
    "        if i == 0:\n",
    "            res[i] = pbac[1]\n",
    "        else:\n",
    "            res[i] = pfor[i-1]*pbac[i+1]\n",
    "    res[len(nums)-1] = pfor[len(nums)-2]\n",
    "    return res\n",
    "    \n",
    "nums = [1,2,3,4]\n",
    "productExceptSelf(nums)"
   ]
  },
  {
   "cell_type": "code",
   "execution_count": 47,
   "metadata": {},
   "outputs": [
    {
     "data": {
      "text/plain": [
       "[9, 7, 8]"
      ]
     },
     "execution_count": 47,
     "metadata": {},
     "output_type": "execute_result"
    }
   ],
   "source": [
    "# A string S of lowercase English letters is given. We want to partition this string into as many \n",
    "# parts as possible so that each letter appears in at most one part, and return a list of integers \n",
    "# representing the size of these parts.\n",
    "# https://leetcode.com/problems/partition-labels/\n",
    "\n",
    "def partitionLabels(S):\n",
    "    stack = list()\n",
    "    res = list()\n",
    "    l = len(S)\n",
    "    i_last = 0\n",
    "    for i in range(l-1):\n",
    "        #print(stack, res)\n",
    "        stack.append(S[i])\n",
    "        cont = True\n",
    "        while cont == True and len(stack) != 0 :\n",
    "            if stack[0] in S[i+1:l]:\n",
    "                cont = False\n",
    "            else:\n",
    "                del stack[0]\n",
    "        if len(stack) == 0:\n",
    "            res.append(i-i_last+1)\n",
    "            i_last = i+1\n",
    "    res.append(i-i_last+2)\n",
    "    return res\n",
    "    \n",
    "S = \"ababcbacadefegdehijhklij\"\n",
    "partitionLabels(S)"
   ]
  },
  {
   "cell_type": "code",
   "execution_count": 58,
   "metadata": {},
   "outputs": [
    {
     "data": {
      "text/plain": [
       "[[13, -5, -8],\n",
       " [13, -1, -12],\n",
       " [13, 1, -14],\n",
       " [13, -9, -4],\n",
       " [13, -6, -7],\n",
       " [13, -15, 2],\n",
       " [13, -11, -2],\n",
       " [13, -3, -10],\n",
       " [13, 0, -13],\n",
       " [-5, 3, 2],\n",
       " [-5, -1, 6],\n",
       " [-5, 1, 4],\n",
       " [-5, -9, 14],\n",
       " [-5, -4, 9],\n",
       " [-5, 12, -7],\n",
       " [-5, -6, 11],\n",
       " [-5, -3, 8],\n",
       " [-5, 7, -2],\n",
       " [-5, 0, 5],\n",
       " [3, 3, -6],\n",
       " [3, -1, -2],\n",
       " [3, 1, -4],\n",
       " [3, -9, 6],\n",
       " [3, 9, -12],\n",
       " [3, 12, -15],\n",
       " [3, -8, 5],\n",
       " [3, 4, -7],\n",
       " [3, -11, 8],\n",
       " [3, 10, -13],\n",
       " [3, -3, 0],\n",
       " [3, 7, -10],\n",
       " [3, -14, 11],\n",
       " [-1, 1, 0],\n",
       " [-1, -9, 10],\n",
       " [-1, -4, 5],\n",
       " [-1, 9, -8],\n",
       " [-1, 12, -11],\n",
       " [-1, -6, 7],\n",
       " [-1, 14, -13],\n",
       " [-1, 4, -3],\n",
       " [-1, 2, -1],\n",
       " [-1, -7, 8],\n",
       " [-1, -10, 11],\n",
       " [1, -9, 8],\n",
       " [1, 9, -10],\n",
       " [1, 12, -13],\n",
       " [1, 6, -7],\n",
       " [1, -6, 5],\n",
       " [1, -12, 11],\n",
       " [1, -8, 7],\n",
       " [1, 14, -15],\n",
       " [1, 2, -3],\n",
       " [1, -11, 10],\n",
       " [1, -2, 1],\n",
       " [-9, 9, 0],\n",
       " [-9, 12, -3],\n",
       " [-9, 4, 5],\n",
       " [-9, 2, 7],\n",
       " [-9, -2, 11],\n",
       " [-4, 12, -8],\n",
       " [-4, 6, -2],\n",
       " [-4, -6, 10],\n",
       " [-4, 14, -10],\n",
       " [-4, 4, 0],\n",
       " [-4, 2, 2],\n",
       " [-4, -3, 7],\n",
       " [-4, -7, 11],\n",
       " [-4, 8, -4],\n",
       " [9, 6, -15],\n",
       " [9, -6, -3],\n",
       " [9, 4, -13],\n",
       " [9, 2, -11],\n",
       " [9, -7, -2],\n",
       " [9, -14, 5],\n",
       " [12, -6, -6],\n",
       " [12, -12, 0],\n",
       " [12, 2, -14],\n",
       " [12, -10, -2],\n",
       " [6, -6, 0],\n",
       " [6, -12, 6],\n",
       " [6, -8, 2],\n",
       " [6, 4, -10],\n",
       " [6, -11, 5],\n",
       " [6, -3, -3],\n",
       " [6, 7, -13],\n",
       " [6, 8, -14],\n",
       " [-6, -8, 14],\n",
       " [-6, 4, 2],\n",
       " [-6, 8, -2],\n",
       " [-12, 14, -2],\n",
       " [-12, 4, 8],\n",
       " [-12, 2, 10],\n",
       " [-12, 7, 5],\n",
       " [-8, 4, 4],\n",
       " [-8, 10, -2],\n",
       " [-8, -3, 11],\n",
       " [-8, 8, 0],\n",
       " [14, -11, -3],\n",
       " [14, -7, -7],\n",
       " [14, 0, -14],\n",
       " [4, -15, 11],\n",
       " [4, -11, 7],\n",
       " [4, 10, -14],\n",
       " [4, -2, -2],\n",
       " [-15, 10, 5],\n",
       " [-15, 7, 8],\n",
       " [2, -7, 5],\n",
       " [2, -10, 8],\n",
       " [2, -2, 0],\n",
       " [2, -13, 11],\n",
       " [-11, 0, 11],\n",
       " [10, -3, -7],\n",
       " [10, -10, 0],\n",
       " [-3, -2, 5],\n",
       " [7, -7, 0],\n",
       " [7, -14, 7],\n",
       " [8, -13, 5],\n",
       " [0, 0, 0]]"
      ]
     },
     "execution_count": 58,
     "metadata": {},
     "output_type": "execute_result"
    }
   ],
   "source": [
    "# Given an array nums of n integers, are there elements a, b, c in nums such that a + b + c = 0? \n",
    "# Find all unique triplets in the array which gives the sum of zero.\n",
    "# https://leetcode.com/problems/3sum/\n",
    "\n",
    "# runs but O(n^3)?\n",
    "\n",
    "def threeSum(nums):\n",
    "    res = list()\n",
    "    l = len(nums)\n",
    "    for i in range(l-2):\n",
    "        for j in range(i+1, l-1):\n",
    "            if -(nums[i]+nums[j]) in nums[(j+1):l]:\n",
    "                res.append( [nums[i], nums[j], -(nums[i]+nums[j])] )\n",
    "    \n",
    "    i = 0\n",
    "    while i < len(res)-1:\n",
    "        j = i + 1\n",
    "        while j < len(res):\n",
    "            if (res[i][0] == res[j][0] and res[i][1] == res[j][1]) or \\\n",
    "                (res[i][0] == res[j][0] and res[i][1] == res[j][2]) or \\\n",
    "                (res[i][0] == res[j][1] and res[i][1] == res[j][0]) or \\\n",
    "                (res[i][0] == res[j][1] and res[i][1] == res[j][2]) or \\\n",
    "                (res[i][0] == res[j][2] and res[i][1] == res[j][0]) or \\\n",
    "                (res[i][0] == res[j][2] and res[i][1] == res[j][1]):\n",
    "                    del res[j]\n",
    "            else:\n",
    "                j = j + 1\n",
    "        i = i + 1\n",
    "    return res\n",
    "\n",
    "nums = [-1,0,1,2,-1,-4]\n",
    "nums = [13,-5,3,3,-1,13,3,1,-9,-4,9,12,6,-9,-6,-12,-8,3,12,14,4,-15,2,-11,4,-12,10,9,-6,-3,-8,14,7,3,2,-8,-7,-10,8,-8,-7,-6,-11,6,-7,-2,9,-8,8,-2,13,-10,-2,0,-14,-13,-4,11,3,-3,-7,3,-4,8,13,13,-15,-9,10,0,-2,-12,1,2,9,1,8,-4,8,-7,9,7,-2,-15,14,0,-13,-13,-12,-2,-1,-11,8,10,12,6,8,4,12,3,11,-12,-2,-3,5,-15,6,-10,-4,-1,-1,-10,13]\n",
    "threeSum(nums)"
   ]
  },
  {
   "cell_type": "code",
   "execution_count": 67,
   "metadata": {},
   "outputs": [
    {
     "data": {
      "text/plain": [
       "5"
      ]
     },
     "execution_count": 67,
     "metadata": {},
     "output_type": "execute_result"
    }
   ],
   "source": [
    "# Say you have an array for which the ith element is the price of a given stock on day i.\n",
    "# If you were only permitted to complete at most one transaction (i.e., buy one and sell one share of the stock), \n",
    "# design an algorithm to find the maximum profit. Note that you cannot sell a stock before you buy one.\n",
    "# https://leetcode.com/problems/best-time-to-buy-and-sell-stock/\n",
    "\n",
    "# runs in O(n^2)\n",
    "# See next for faster solution\n",
    "\n",
    "def maxProfit(prices):\n",
    "    maxP = -float('Inf')\n",
    "    for i in range(len(prices)-1):\n",
    "        maxP = max( maxP, max(prices[(i+1):len(prices)])-prices[i] )\n",
    "    return max(maxP,0)\n",
    "    \n",
    "prices = [7,1,5,3,6,4]\n",
    "#prices = [7,6,4,3,1]\n",
    "maxProfit(prices)"
   ]
  },
  {
   "cell_type": "code",
   "execution_count": 70,
   "metadata": {},
   "outputs": [
    {
     "data": {
      "text/plain": [
       "5"
      ]
     },
     "execution_count": 70,
     "metadata": {},
     "output_type": "execute_result"
    }
   ],
   "source": [
    "# Say you have an array for which the ith element is the price of a given stock on day i.\n",
    "# If you were only permitted to complete at most one transaction (i.e., buy one and sell one share of the stock), \n",
    "# design an algorithm to find the maximum profit. Note that you cannot sell a stock before you buy one.\n",
    "# https://leetcode.com/problems/best-time-to-buy-and-sell-stock/\n",
    "\n",
    "def maxProfit(prices):\n",
    "    maxP = 0\n",
    "    minP = float('Inf')\n",
    "    for i in range(len(prices)):\n",
    "        if prices[i] < minP:\n",
    "            minP = prices[i]\n",
    "        else:\n",
    "            maxP = max( maxP, prices[i]-minP )\n",
    "    return maxP\n",
    "    \n",
    "prices = [7,1,5,3,6,4]\n",
    "#prices = [7,6,4,3,1]\n",
    "maxProfit(prices)"
   ]
  },
  {
   "cell_type": "code",
   "execution_count": null,
   "metadata": {},
   "outputs": [],
   "source": [
    "# You are given an array of k linked-lists lists, each linked-list is sorted in ascending order.\n",
    "# Merge all the linked-lists into one sorted linked-list and return it.\n",
    "# https://leetcode.com/problems/merge-k-sorted-lists/\n",
    "\n",
    "# Definition for singly-linked list.\n",
    "# class ListNode:\n",
    "#     def __init__(self, val=0, next=None):\n",
    "#         self.val = val\n",
    "#         self.next = next\n",
    "class Solution:\n",
    "    def mergeKLists(self, lists: List[ListNode]) -> ListNode:\n",
    "        res = ListNode()\n",
    "        res_orig = res\n",
    "        d = {}\n",
    "        for i in range(len(lists)):\n",
    "            if lists[i].val in d.keys():\n",
    "                d[ lists[i].val ].append(i)   # add to dict the list index using num as key\n",
    "            else:\n",
    "                d[ lists[i].val ] = [i]\n",
    "            lists[i] = lists[i].next\n",
    "        while len(d.keys()) != 0:\n",
    "            temp_min = min( d.keys() )\n",
    "            for i in d[temp_min]:\n",
    "                res.val = temp_min\n",
    "                res = res.next\n",
    "                if lists[i] != None:\n",
    "                    if lists[i].val in d.keys():\n",
    "                        d[ lists[i].val ].append(i)\n",
    "                    else:\n",
    "                        d[ lists[i].val ] = [i]\n",
    "            del d[temp_min]\n",
    "        return res_orig\n"
   ]
  },
  {
   "cell_type": "code",
   "execution_count": 140,
   "metadata": {},
   "outputs": [
    {
     "data": {
      "text/plain": [
       "[[34, -84], [2, 31], [-27, -38], [-55, -39], [-57, -67]]"
      ]
     },
     "execution_count": 140,
     "metadata": {},
     "output_type": "execute_result"
    }
   ],
   "source": [
    "# We have a list of points on the plane.  Find the K closest points to the origin (0, 0).\n",
    "# https://leetcode.com/problems/k-closest-points-to-origin/\n",
    "\n",
    "def kClosest(points, K):\n",
    "    dist = {}    # dict with distance as key and points as values\n",
    "    maxDist = 0\n",
    "    for point in points:\n",
    "        distance = point[0]*point[0] + point[1]*point[1]\n",
    "        if len(dist) < K:\n",
    "            if distance in dist.keys():\n",
    "                dist[ distance ].append(point)\n",
    "            else:\n",
    "                dist[ distance ] = [point]\n",
    "            maxDist = max(distance, maxDist)\n",
    "        elif distance < maxDist:\n",
    "            del dist[ maxDist ]\n",
    "            if distance in dist.keys():\n",
    "                dist[ distance ].append(point)\n",
    "            else:\n",
    "                dist[ distance ] = [point]\n",
    "            maxDist = max(list(dist.keys()))\n",
    "        elif distance == maxDist:\n",
    "            dist[ distance ].append(point)\n",
    "    tmp = list(dist.values())\n",
    "    res = list()\n",
    "    for i in range(len(tmp)):\n",
    "        for j in range(len(tmp[i])):\n",
    "            res.append(tmp[i][j])\n",
    "    return res \n",
    "    \n",
    "points = [[1,3],[-2,2]]\n",
    "K = 1\n",
    "#points = [[3,3],[5,-1],[-2,4]]\n",
    "#K = 2\n",
    "#points = [[0,1],[1,0]]\n",
    "#K = 2\n",
    "#points = [[1,3],[-2,2],[2,-2]]\n",
    "#K = 2\n",
    "points = [[68,97],[34,-84],[60,100],[2,31],[-27,-38],[-73,-74],[-55,-39],[62,91],[62,92],[-57,-67]]\n",
    "K = 5\n",
    "kClosest(points, K)"
   ]
  },
  {
   "cell_type": "code",
   "execution_count": 264,
   "metadata": {},
   "outputs": [
    {
     "data": {
      "text/plain": [
       "1"
      ]
     },
     "execution_count": 264,
     "metadata": {},
     "output_type": "execute_result"
    }
   ],
   "source": [
    "# Given an array of meeting time intervals consisting of start and end times [[s1,e1],[s2,e2],...] (si < ei), \n",
    "# find the minimum number of conference rooms required.\n",
    "# https://leetcode.com/problems/meeting-rooms-ii/\n",
    "\n",
    "# Works but slow..\n",
    "\n",
    "def minMeetingRooms(intervals):\n",
    "    if intervals == []:\n",
    "        return 0\n",
    "    d = {}\n",
    "    d[tuple(intervals[0])] = 1\n",
    "    i = 1\n",
    "    while i < len(intervals):\n",
    "        tmp = intervals[i]\n",
    "        dcopy = d.copy()\n",
    "        #print(\"\")\n",
    "        #print(tmp)\n",
    "        for interval in dcopy.keys():    # interval = (7,15)  tmp = (5, 15)\n",
    "            if tmp != None and tmp[0] >= interval[0]:  \n",
    "                if tmp[1] <= interval[1]:\n",
    "                    if tmp[0] != interval[0]:\n",
    "                        d[tuple([interval[0], tmp[0]])] = d[interval]\n",
    "                    d[tuple([tmp[0], tmp[1]])] = d[interval] + 1\n",
    "                    if tmp[1] != interval[1]:\n",
    "                        d[tuple([tmp[1], interval[1]])] = d[interval]\n",
    "                    if tmp[0] != interval[0] or tmp[1] != interval[1]:\n",
    "                        del d[interval]\n",
    "                    tmp = None\n",
    "                elif tmp[0] < interval[1] and interval[1] < tmp[1]:\n",
    "                    if tmp[0] != interval[0]:\n",
    "                        d[tuple([interval[0], tmp[0]])] = d[interval]\n",
    "                    d[tuple([tmp[0], interval[1]])] = d[interval] + 1\n",
    "                    if tmp[0] != interval[0]:\n",
    "                        del d[interval]\n",
    "                    tmp = [interval[1], tmp[1]]\n",
    "            elif tmp != None and tmp[0] < interval[0]:\n",
    "                if interval[0] < tmp[1] and tmp[1] <= interval[1]:\n",
    "                    d[tuple([interval[0], tmp[1]])] = d[interval] + 1\n",
    "                    if tmp[1] != interval[1]:\n",
    "                        d[tuple([tmp[1], interval[1]])] = d[interval]\n",
    "                    if tmp[1] != interval[1]:\n",
    "                        del d[interval]\n",
    "                    tmp = [tmp[0], interval[0]]\n",
    "                elif interval[1] < tmp[1]:   #tmp = (7,19) interval = (8,9)\n",
    "                    d[interval] = d[interval] + 1\n",
    "                    intervals.append([interval[1], tmp[1]])\n",
    "                    tmp = [tmp[0], interval[0]]\n",
    "            #print(d, tmp)\n",
    "        if tmp != None:\n",
    "            d[tuple(tmp)] = 1\n",
    "        #print(d)\n",
    "        i = i + 1\n",
    "    return max(d.values())\n",
    "    \n",
    "intervals = [[0, 30],[5, 10],[15, 20]]\n",
    "intervals = [[7,10],[2,4]]\n",
    "intervals = []\n",
    "intervals = [[5,8],[6,8]]\n",
    "intervals = [[6,15],[13,20],[6,17]]\n",
    "intervals = [[7,15],[5,15],[2,12],[11,15]]\n",
    "intervals = [[8,16],[4,9],[7,19],[16,20]]\n",
    "intervals = [[40863,132763],[196701,397009],[506853,857635],[718147,937968],[27971,637330],[201677,682567],[132382,929434],[168330,708958],[592822,879175],[134987,488822],[66721,698967],[21171,727126],[230439,710286],[344290,599168],[644837,810276],[290666,519191],[303545,588304],[368646,961382],[5840,358842],[156745,744688],[52617,891270],[784867,906714],[26471,87095],[582430,776956],[506648,863600],[138514,608095],[288406,557479],[184940,474286],[912662,965956],[72147,726947],[464200,748795],[92743,316502],[514927,593297],[209820,344198],[36996,742673],[270366,521703],[940174,964092],[469321,521367],[347728,581939],[56538,330826],[463845,508859],[286954,526949],[156989,749586],[610809,795747],[636853,990870],[116783,684978],[81472,446446],[951389,977628],[147920,453466],[799916,958093],[79907,265284],[504258,790136],[287078,964669],[261319,453661],[226033,940259],[552194,741803],[430479,743112],[667485,900832],[862710,868052],[13336,872977],[467193,570536],[50624,917157],[283583,378399],[271578,552425],[183521,296285],[45712,934224],[231871,692292],[620395,753252],[497758,563587],[111101,227474],[200336,530394],[10056,547623],[18615,567891],[78470,235869],[496646,825571],[417948,476899],[136459,454828],[137779,469107],[360125,542630],[692323,851691],[968288,985003],[430590,700469],[618144,682247],[163312,379528],[836235,928423],[282570,576599],[372586,690353],[123831,542288],[230855,517322],[367891,608684],[360230,857112],[131252,645713],[586360,967925],[466242,872780],[397165,579931],[86348,986642],[221660,901141],[617663,623287],[240342,674769],[306373,598897],[163495,172587],[406888,947607],[501580,792395],[79779,877338],[312655,914884],[561489,611557],[227089,269815],[39805,564423],[512463,540624],[560041,778182],[445136,770017],[255183,529516],[122702,526972],[410825,733874],[100333,737954],[13400,279273],[391578,459538],[48896,486293],[112816,760160],[147596,488016],[359888,951481],[398103,630484],[251055,263327],[211120,500457],[412290,755960],[248723,898324],[17002,180509],[292651,622900],[100760,486952],[660859,929315],[170149,982237],[399015,422862],[284509,438363],[14730,484142],[517179,943364],[872690,974680],[384986,630892],[135339,573316],[41672,594822],[96340,344381],[287611,298298],[201451,588069],[347069,891672],[489820,716558],[601111,916733],[270026,931453],[127240,934439],[80495,839742],[334197,720580],[467666,985462]]\n",
    "intervals = [[217333,217373],[237478,237574],[69680,69774],[50314,50389],[182648,182703],[193841,193898],[134762,134856],[156517,156533],[193077,193097],[192893,192909],[252514,252599],[218553,218558],[461860,461908],[103338,103377],[30714,30811],[241135,241203],[450130,450174],[322647,322723],[159038,159046],[445123,445140],[480883,480915],[167618,167707],[20283,20339],[312357,312379],[140991,141033],[286143,286180],[33018,33109],[306627,306682],[110293,110363],[133445,133498],[363681,363780],[200889,200962],[319034,319106],[260836,260859],[21308,21361],[453467,453526],[172248,172254],[313554,313644],[150384,150446],[256308,256386],[23862,23950],[165256,165280],[13648,13704],[272432,272500],[219983,220010],[502092,502166],[60969,60974],[407232,407312],[409093,409142],[160552,160631],[460252,460274],[213999,214017],[355986,356045],[357752,357760],[209001,209076],[212458,212478],[362466,362469],[313683,313751],[450988,451007],[117182,117271],[424576,424614],[413406,413451],[68717,68768],[130363,130376],[296662,296725],[66521,66606],[357178,357261],[221692,221778],[112531,112619],[245918,245978],[73477,73537],[158457,158479],[141829,141846],[175179,175278],[419720,419727],[346325,346382],[183097,183179],[7607,7659],[63018,63053],[298520,298616],[290424,290450],[278175,278215],[508060,508081],[257614,257703],[460650,460678],[369965,370040],[230515,230596],[371484,371551],[133150,133215],[462957,463043],[405534,405625],[551500,551579],[64903,64964],[317641,317650],[466158,466174],[461568,461635],[103905,103971],[283402,283450],[505961,505992],[282238,282256],[324942,324957],[133912,133991],[281141,281229],[497156,497165],[519603,519691],[290455,290487],[517106,517159],[351010,351096],[141185,141269],[400669,400741],[411933,411964],[438855,438938],[534080,534084],[335717,335805],[230151,230159],[268156,268204],[377116,377197],[36019,36096],[331986,332016],[269531,269532],[383862,383883],[381341,381362],[414230,414252],[368785,368828],[42128,42196],[461172,461225],[537085,537155],[108918,108997],[3836,3899],[445786,445845],[456796,456876],[220087,220112],[275304,275391],[177774,177809],[496046,496059],[268796,268867],[25879,25939],[98653,98732],[233721,233729],[440236,440336],[224420,224440],[168441,168456],[398597,398633],[383772,383823],[76727,76809],[450276,450355],[182293,182393],[80680,80755],[197518,197570],[457952,457994],[369533,369618],[308337,308416],[238176,238211],[84001,84060],[170868,170966],[487406,487487],[525636,525716],[384100,384137],[247245,247302],[135856,135952],[113,156],[213508,213599],[395353,395420],[285452,285455],[450905,450941],[362080,362091],[479809,479874],[138547,138620],[54275,54303],[100020,100105],[262,301],[260169,260218],[303057,303060],[9628,9642],[119968,120028],[407315,407400],[342574,342655],[132251,132349],[222013,222059],[419895,419920],[428554,428651],[460472,460537],[507694,507766],[88702,88747],[70817,70857],[328019,328107],[531695,531746],[31548,31613],[271434,271508],[270559,270632],[399850,399901],[160913,160964],[378504,378517],[203336,203380],[123812,123900],[130917,130925],[107749,107849],[502169,502185],[167393,167471],[525895,525992],[245516,245557],[113415,113452],[475546,475641],[318469,318478],[6072,6147],[205306,205324],[435673,435764],[472967,473035],[156651,156691],[401147,401232],[278033,278113],[154595,154688],[358506,358591],[312784,312801],[301678,301776],[231367,231389],[494790,494879],[152361,152397],[414512,414523],[180842,180939],[11452,11485],[444437,444507],[254860,254870],[507864,507951],[284941,284991],[211462,211560],[5568,5654],[191219,191305],[42350,42426],[167892,167984],[63004,63015],[304737,304774],[541296,541350],[81661,81665],[484314,484412],[398435,398520],[196575,196640],[510577,510602],[111145,111192],[315361,315383],[84296,84354],[350316,350325],[211618,211665],[61472,61516],[153530,153617],[551733,551797],[534864,534956],[279668,279728],[51854,51947],[249449,249522],[502689,502776],[469208,469226],[425721,425815],[60610,60632],[28242,28260],[436520,436575],[469514,469545],[165649,165701],[247557,247560],[115340,115353],[377021,377113],[289600,289660],[415440,415509],[255599,255639],[273075,273144],[413621,413623],[329313,329404],[171623,171635],[82231,82298],[253500,253509],[104690,104789],[51203,51295],[285738,285805],[470957,470958],[166883,166967],[197037,197099],[293010,293054],[439940,440008],[76203,76233],[513562,513572],[297646,297658],[271998,272084],[234807,234870],[146004,146080],[471491,471499],[369279,369318],[245258,245291],[121918,121947],[113456,113459],[391550,391585],[287518,287588],[299161,299239],[29493,29508],[25232,25282],[256230,256300],[9367,9399],[23477,23527],[519320,519329],[142626,142638],[17095,17189],[504842,504862],[473167,473249],[28005,28075],[48681,48742],[361372,361450],[371638,371675],[132768,132769],[248840,248888],[128667,128747],[85451,85480],[299527,299559],[407521,407604],[16169,16224],[470596,470696],[64800,64895],[517981,518022],[232948,233018],[394693,394700],[173738,173740],[519336,519413],[322542,322637],[466557,466602],[501578,501583],[420645,420744],[454908,454925],[220165,220211],[51143,51169],[433693,433719],[332627,332662],[328007,328018],[507341,507356],[57857,57893],[154977,155042],[364842,364865],[265600,265695],[345351,345384],[490897,490976],[477852,477935],[38665,38744],[413720,413782],[303322,303350],[221606,221687],[470551,470587],[72921,72927],[263768,263868],[990,1058],[142969,143022],[369200,369215],[312586,312686],[438504,438587],[536479,536508],[461259,461290],[342864,342882],[29761,29792],[486283,486332],[306075,306114],[499691,499735],[15720,15812],[409348,409446],[455618,455663],[22846,22941],[267373,267423],[7793,7885],[293824,293849],[232275,232370],[334820,334833],[531526,531554],[4333,4425],[356580,356592],[436283,436354],[486161,486180],[227168,227217],[492649,492704],[327907,328005],[149271,149272],[175350,175396],[10730,10820],[308753,308757],[474783,474784],[45312,45330],[35972,36011],[157131,157189],[92221,92233],[303837,303853],[449387,449455],[187303,187378],[139937,139943],[324879,324915],[337151,337207],[478668,478750],[153321,153334],[257752,257769],[8989,9057],[409451,409498],[305815,305898],[8889,8987],[242965,243037],[418028,418124],[289313,289337],[499081,499169],[59516,59556],[310460,310532],[28405,28481],[489261,489305],[316856,316901],[516476,516527],[550900,550991],[428128,428144],[336250,336275],[69785,69840],[369510,369520],[361691,361776],[408719,408744],[33928,33983],[451107,451124],[434229,434248],[333951,334032],[159543,159549],[499580,499611],[192286,192374],[527153,527201],[48239,48327],[338764,338845],[88664,88700],[140029,140129],[428697,428733],[45064,45116],[433602,433624],[292258,292310],[433454,433516],[87023,87063],[169862,169877],[167559,167618],[375302,375308],[91234,91288],[294247,294260],[327240,327270],[499489,499572],[478204,478300],[231392,231481],[32867,32900],[30323,30330],[52720,52730],[47251,47299],[379311,379347],[544861,544868],[215145,215170],[366156,366157],[535105,535121],[219450,219541],[435953,435994],[210960,211048],[416835,416900],[344413,344491],[547561,547616],[37507,37536],[207804,207810],[22610,22686],[300172,300229],[14027,14065],[399309,399390],[300025,300096],[545583,545612],[114576,114581],[183748,183752],[251782,251859],[102099,102181],[117535,117555],[215240,215301],[432898,432899],[461953,462039],[179989,180046],[254551,254601],[452168,452228],[522163,522246],[455876,455922],[477752,477846],[208032,208104],[317473,317498],[97696,97750],[110769,110797],[221508,221556],[412115,412175],[350215,350244],[303242,303270],[538753,538844],[551224,551322],[436619,436683],[105320,105419],[350901,351001],[24951,24974],[514965,515017],[112928,113018],[507319,507335],[278358,278383],[21850,21854],[364918,364947],[195393,195455],[123349,123396],[240234,240291],[473115,473162],[287260,287277],[42836,42926],[321285,321348],[28618,28662],[403953,403954],[146719,146729],[155177,155198],[57955,57975],[238959,239033],[137129,137174],[470983,471058],[470460,470506],[513296,513351],[108348,108442],[546106,546164],[409969,410017],[131158,131184],[379628,379691],[197601,197602],[516732,516810],[476423,476433],[70030,70086],[405197,405258],[354969,355043],[362289,362297],[446235,446269],[46484,46520],[425332,425413],[465962,466031],[457779,457863],[314531,314580],[231888,231984],[342187,342200],[297060,297072],[26939,26951],[346480,346518],[307326,307390],[376882,376937],[140940,140987],[381079,381170],[491280,491298],[217496,217512],[172408,172457],[145021,145110],[302973,303011],[314847,314863],[99832,99903],[128526,128542],[472373,472398],[321101,321146],[17840,17851],[189216,189223],[323077,323099],[383428,383486],[91940,91988],[507960,508000],[395268,395353],[251578,251651],[113627,113668],[28262,28313],[448004,448026],[42630,42680],[535315,535337],[192801,192845],[461692,461778],[509738,509780],[407767,407808],[257351,257432],[480952,481008],[491758,491801],[396024,396025],[151650,151731],[55348,55442],[226336,226382],[178722,178768],[387644,387691],[92319,92417],[89465,89509],[380178,380181],[26446,26462],[267308,267355],[463194,463285],[101199,101213],[136871,136917],[338524,338581],[412451,412483],[162439,162453],[280427,280433],[524768,524789],[156557,156607],[96225,96299],[459133,459211],[446535,446628],[264213,264299],[89274,89354],[23333,23413],[544270,544365],[501507,501556],[428067,428069],[329450,329493],[45579,45655],[6295,6378],[312920,312939],[45129,45177],[298017,298106],[389678,389687],[197456,197474],[359200,359243],[369894,369959],[108831,108916],[22485,22499],[37542,37622],[385621,385674],[464916,464984],[96085,96121],[207022,207106],[406480,406499],[302744,302810],[428825,428854],[71262,71289],[36451,36491],[453201,453267],[552411,552490],[228332,228394],[209896,209922],[472398,472434],[376696,376795],[466889,466933],[142128,142151],[148027,148029],[200494,200584],[253250,253321],[127055,127149],[466506,466553],[537722,537748],[337377,337464],[390666,390737],[110799,110854],[138007,138030],[531747,531806],[63202,63222],[245884,245910],[281011,281034],[459658,459698],[451609,451692],[3404,3468],[307992,308048],[19405,19472],[111719,111814],[468526,468611],[276758,276845],[22208,22288],[157993,158051],[183517,183530],[137081,137126],[402685,402771],[241653,241726],[302228,302284],[95268,95294],[17370,17442],[230114,230127],[239092,239150],[17818,17831],[354063,354082],[339105,339113],[81582,81659],[419136,419165],[380374,380472],[68485,68565],[62906,62979],[55972,56060],[403780,403818],[475648,475693],[145954,146000],[160480,160549],[188922,188977],[444878,444952],[206425,206489],[405505,405532],[189763,189783],[142490,142580],[367094,367159],[111935,111994],[324446,324513],[18323,18326],[549993,550054],[115176,115208],[457415,457492],[152875,152938],[141810,141819],[226384,226467],[43822,43834],[175173,175178],[389471,389485],[148016,148026],[83575,83592],[210415,210511],[481459,481480],[514947,514959],[276613,276633],[44828,44850],[253866,253960],[146152,146243],[437751,437827],[43597,43670],[250496,250511],[303096,303175],[450231,450269],[151561,151645],[64250,64324],[61213,61257],[508636,508662],[549504,549593],[352530,352604],[280728,280732],[431083,431125],[177841,177862],[398080,398105],[403159,403254],[43022,43094],[433517,433597],[246011,246044],[190318,190367],[514601,514635],[429504,429580],[205158,205218],[490126,490188],[221951,222003],[258416,258473],[26563,26619],[116305,116367],[313654,313676],[4488,4577],[260524,260578],[116193,116208],[72244,72257],[347612,347635],[413506,413522],[35258,35356],[56823,56828],[170972,171023],[127216,127277],[124599,124633],[468114,468212],[53760,53828],[87660,87720],[382387,382405],[255547,255598],[69558,69587],[364513,364526],[76297,76394],[474789,474844],[409719,409792],[271134,271227],[474181,474265],[337622,337690],[108268,108344],[480497,480517],[192786,192788],[470901,470950],[327503,327564],[351566,351631],[212481,212562],[121468,121481],[363165,363174],[407809,407892],[524901,524988],[133401,133437],[511644,511734],[197605,197642],[206874,206903],[167736,167765],[156005,156046],[77707,77738],[343671,343690],[92516,92526],[489915,490011],[136725,136824],[18556,18605],[480916,480945],[314447,314454],[20989,21065],[108999,109044],[497623,497641],[358030,358040],[86837,86923],[435487,435554],[128122,128206],[197683,197724],[404285,404329],[171537,171616],[542336,542375],[40797,40833],[407981,408060],[240773,240776],[516910,516985],[469663,469759],[423252,423332],[105596,105628],[346934,346971],[527329,527395],[318020,318117],[519417,519474],[147563,147594],[229223,229270],[328167,328246],[35108,35138],[21886,21979],[329668,329692],[150518,150582],[55613,55648],[289689,289734],[324379,324444],[106164,106240],[46354,46447],[509595,509643],[331567,331610],[62027,62049],[276351,276399],[547146,547177],[3341,3345],[186240,186310],[233692,233701],[337218,337297],[443113,443201],[117029,117081],[98732,98779],[261100,261192],[78319,78410],[279469,279560],[465312,465389],[348084,348131],[468112,468113],[532527,532619],[406874,406953],[477518,477551],[384319,384329],[510957,510991],[250184,250186],[115475,115543],[54852,54916],[391000,391088],[250064,250095],[265808,265880],[297075,297173],[420363,420417],[151219,151282],[432454,432482],[106079,106131],[4262,4327],[338481,338520],[120364,120378],[51438,51517],[216552,216615],[113946,114046],[436583,436613],[292392,292424],[64057,64086],[103981,103989],[528249,528299],[161959,162030],[43094,43113],[256475,256501],[41209,41288],[227654,227701],[324654,324662],[511207,511307],[80545,80620],[301149,301207],[175463,175507],[444769,444793],[65809,65858],[107945,107968],[484749,484826],[551869,551945],[225381,225443],[351803,351880],[126736,126742],[459562,459658],[511577,511637],[449689,449717],[123402,123461],[336100,336165],[306252,306261],[255700,255733],[92155,92212],[2997,3062],[379149,379208],[224768,224867],[12315,12400],[301783,301855],[203159,203160],[297593,297637],[234301,234348],[411860,411877],[262556,262599],[342912,342994],[97887,97981],[324667,324701],[543994,544087],[454943,454946],[504245,504295],[394270,394284],[390375,390406],[295530,295623],[428462,428548],[137942,137972],[173790,173805],[484224,484308],[256390,256404],[87535,87539],[303609,303708],[431404,431433],[422226,422278],[400748,400772],[526989,527004],[455207,455301],[139222,139234],[100518,100609],[220464,220470],[4586,4676],[168698,168716],[305555,305607],[506290,506315],[253002,253034],[392723,392754],[523787,523819],[434374,434400],[325568,325620],[332025,332076],[59252,59253],[206225,206310],[198091,198169],[73626,73692],[456134,456183],[461912,461949],[523876,523931],[127664,127704],[491739,491748],[143312,143400],[81673,81691],[47668,47740],[334768,334810],[83395,83407],[163632,163721],[235406,235456],[58291,58361],[292099,292156],[345765,345840],[104328,104395],[339077,339101],[88747,88821],[183535,183597],[465197,465205],[164806,164871],[302814,302887],[174997,175085],[207626,207662],[235185,235267],[491814,491900],[480518,480549],[350058,350138],[74017,74094],[480761,480839],[100679,100755],[226040,226079],[538653,538748],[282582,282671],[219817,219825],[220953,221034],[53071,53155],[546083,546105],[312802,312827],[214848,214944],[27869,27934],[250199,250260],[364185,364216],[40926,40955],[288677,288773],[478024,478095],[121489,121510],[110024,110090],[253326,253399],[52916,52997],[286932,286997],[374205,374274],[200206,200244],[318486,318549],[146434,146503],[180250,180325],[129016,129032],[390847,390901],[407897,407952],[491163,491258],[473636,473718],[486788,486815],[90982,91069],[343094,343138],[405090,405110],[140341,140425],[450423,450446],[314342,314347],[239635,239681],[111293,111348],[41297,41343],[346084,346134],[463962,464041],[62444,62542],[247661,247691],[399422,399447],[283601,283667],[123294,123335],[509994,510046],[226769,226864],[363394,363442],[57903,57915],[489391,489448],[99386,99436],[118737,118810],[41352,41402],[525102,525113],[122281,122327],[341030,341031],[513086,513177],[527430,527454],[103514,103614],[245047,245132],[439591,439637],[148555,148589],[141855,141925],[442356,442417],[297472,297542],[188818,188867],[229725,229735],[143772,143791],[137662,137747],[311241,311326],[401897,401940],[483873,483966],[471200,471213],[14067,14160],[325628,325644],[44907,44984],[263456,263524],[315705,315738],[354458,354485],[381577,381658],[136542,136618],[296587,296655],[189017,189057],[204356,204383],[393733,393790],[354650,354685],[246101,246166],[273334,273397],[25049,25077],[548505,548552],[171437,171492],[462250,462251],[257201,257213],[493535,493555],[474965,475017],[56838,56872],[56749,56817],[281992,282084],[230129,230132],[489057,489112],[189223,189274],[509343,509373],[427882,427973],[491505,491594],[427470,427540],[393293,393337],[327567,327595],[336364,336457],[169135,169147],[289514,289537],[81102,81152],[528959,528993],[492206,492223],[337304,337345],[256157,256227],[178448,178494],[169667,169677],[354715,354753],[31173,31209],[490876,490891],[547961,548006],[275102,275198],[501206,501235],[77623,77701],[318552,318636],[455187,455207],[411126,411182],[238327,238404],[187083,187140],[646,733],[460180,460251],[84474,84485],[281981,281987],[259853,259904],[506991,507065],[296081,296109],[474133,474155],[365887,365934],[64722,64799],[434256,434258],[211342,211378],[480840,480883],[534648,534683],[122395,122466],[73783,73833],[549453,549498],[186664,186715],[213423,213502],[138207,138306],[172208,172226],[328812,328875],[409595,409646],[515560,515626],[485956,485968],[532129,532217],[424546,424549],[533984,534071],[56986,57011],[388677,388773],[117556,117615],[517835,517865],[102452,102467],[268554,268604],[394798,394802],[547281,547366],[1075,1137],[249537,249569],[472251,472317],[295965,296021],[65045,65120],[146737,146787],[154712,154736],[403555,403562],[388397,388464],[165917,165937],[506918,506974],[425121,425213],[48174,48229],[115699,115777],[168146,168180],[255735,255803],[517051,517105],[523007,523103],[391977,392052],[350421,350471],[139799,139885],[44063,44147],[96356,96411],[222925,222973],[186996,187076],[522115,522134],[229931,229955],[298444,298486],[57920,57945],[475496,475542],[357495,357593],[297975,298007],[9432,9515],[232184,232273],[297690,297744],[548886,548894],[512169,512234],[255976,256043],[404824,404872],[176866,176901],[130930,130946],[347725,347787],[292600,292605],[505884,505956],[336282,336362],[362177,362183],[531360,531370],[63568,63583],[70186,70215],[74410,74485],[273248,273325],[298875,298951],[228130,228191],[100941,100978],[198661,198732],[24904,24924],[193048,193072],[114584,114599],[86542,86552],[125810,125907],[319706,319801],[459048,459107],[385518,385613],[208104,208161],[36553,36601],[94423,94489],[548729,548794],[233551,233573],[284704,284759],[132769,132822],[35225,35257],[326772,326826],[286186,286259],[360651,360707],[369386,369482],[124228,124279],[207166,207250],[119128,119143],[97495,97522],[264860,264922],[87539,87580],[549956,549988],[251731,251774],[279007,279054],[399835,399841],[227224,227317],[302309,302388],[140279,140334],[276634,276677],[395729,395789],[525468,525538],[541706,541747],[123568,123612],[300802,300826],[38522,38568],[377372,377415],[545091,545159],[274154,274162],[540678,540687],[197396,197400],[531182,531241],[181740,181754],[441543,441583],[3245,3341],[242783,242850],[247327,247341],[423497,423595],[90144,90176],[115781,115782],[196933,196952],[2714,2758],[484936,484963],[119234,119249],[206626,206631],[434112,434129],[275941,276018],[324707,324776],[447081,447178],[393078,393150],[484715,484744],[339791,339798],[225213,225223],[150034,150117],[217467,217489],[456518,456605],[376583,376601],[57620,57622],[159704,159719],[125913,125958],[86117,86135],[501984,501991],[434741,434785],[175799,175861],[408066,408132],[63131,63192],[169086,169097],[22456,22480],[236869,236937],[11486,11523],[526347,526416],[530105,530118],[51613,51672],[314977,315025],[511046,511123],[428653,428687],[179071,179101],[248798,248837],[310541,310611],[367721,367738],[45829,45861],[501023,501036],[185067,185162],[95872,95901],[510645,510651],[43948,44000],[272365,272373],[156543,156551],[371884,371915],[39455,39496],[523532,523588],[166687,166691],[187810,187838],[440822,440920],[540748,540835],[155049,155117],[20788,20861],[5140,5185],[307172,307233],[424869,424877],[280566,280637],[42202,42207],[166779,166879],[209293,209339],[445665,445689],[451352,451440],[25082,25173],[223193,223194],[514586,514595],[324194,324288],[165886,165910],[293896,293917],[102393,102395],[47810,47852],[463121,463190],[5190,5274],[344916,344926],[61877,61944],[464047,464111],[68267,68290],[82076,82141],[257775,257855],[388467,388564],[107852,107902],[385044,385074],[310264,310306],[393953,394041],[38931,38959],[39681,39705],[385756,385777],[123667,123715],[262665,262740],[494111,494127],[443629,443724],[222067,222164],[367163,367177],[39822,39826],[349124,349188],[246166,246252],[214025,214088],[2446,2473],[491658,491733],[321665,321746],[500075,500154],[106670,106758],[341616,341646],[545972,545983],[483569,483596],[23227,23325],[145417,145430],[35634,35655],[81016,81102],[342238,342246],[71232,71252],[195950,196045],[512600,512633],[536225,536230],[472562,472612],[412386,412441],[432908,432950],[96007,96081],[426169,426176],[503345,503402],[254768,254860],[429792,429827],[444078,444178],[184884,184981],[168233,168277],[398372,398434],[184276,184372],[422285,422385],[467634,467725],[14226,14290],[427345,427387],[481731,481800],[126449,126504],[154232,154282],[455731,455831],[160329,160369],[257472,257498],[16830,16915],[19602,19688],[93169,93260],[311536,311606],[117615,117693],[148037,148095],[485210,485254],[219287,219330],[43745,43820],[438197,438207],[36699,36799],[97213,97241],[346976,347058],[142153,142244],[453363,453460],[68240,68258],[367680,367718],[273768,273856],[477177,477248],[271232,271249],[207500,207538],[354193,354221],[243238,243246],[394169,394196],[259716,259754],[350832,350849],[142463,142488],[10408,10469],[96534,96537],[471348,471361],[232074,232154],[410959,411018],[411183,411221],[552500,552558],[399601,399673],[182183,182205],[513610,513623],[187219,187270],[514185,514279],[475252,475286],[152652,152681],[163572,163626],[44860,44898],[210103,210150],[411825,411860],[85342,85391],[119249,119291],[409932,409969],[418814,418898],[46189,46288],[354692,354707],[408751,408829],[339288,339373],[445308,445389],[460595,460642],[158579,158581],[341402,341499],[448858,448910],[525802,525816],[359099,359198],[365824,365865],[202255,202306],[295738,295807],[531556,531594],[135347,135379],[319808,319844],[225056,225081],[518162,518207],[450589,450615],[547799,547848],[220130,220165],[106840,106925],[530873,530914],[473045,473058],[410104,410201],[398311,398372],[511128,511200],[430725,430742],[253775,253796],[216233,216240],[74722,74738],[399677,399737],[29983,30067],[520471,520570],[172077,172152],[270317,270373],[138324,138409],[207490,207496],[415017,415085],[411501,411516],[220076,220085],[395581,395681],[504776,504842],[485891,485949],[21656,21748],[524717,524761],[497613,497614],[144350,144375],[85542,85587],[20405,20504],[228926,228965],[334261,334272],[262880,262946],[177735,177765],[399023,399043],[99516,99548],[196116,196120],[377737,377779],[280322,280418],[102065,102092],[442647,442718],[305717,305810],[335904,335986],[185458,185473],[505806,505876],[490977,490991],[347518,347532],[177200,177241],[210369,210413],[187636,187648],[483555,483566],[539201,539275],[96300,96349],[25585,25593],[218082,218172],[497175,497204],[244298,244392],[346584,346598],[29519,29616],[337297,337300],[222514,222564],[170174,170197],[257237,257289],[543091,543133],[246679,246742],[424769,424785],[320982,321023],[136256,136298],[238460,238468],[387757,387840],[84433,84472],[426871,426913],[432487,432572],[399776,399830],[233830,233836],[201414,201477],[414924,415010],[493761,493784],[306280,306287],[454315,454389],[155234,155319],[440476,440518],[30487,30571],[389696,389764],[501896,501936],[98407,98437],[295167,295170],[5,54],[498767,498811],[172226,172242],[406159,406215],[272089,272167],[55071,55109],[246580,246677],[203700,203746],[251537,251570],[327814,327898],[329956,330045],[346608,346669],[438596,438673],[21201,21249],[93103,93116],[28605,28613],[190548,190625],[87451,87532],[475377,475473],[552564,552583],[302421,302506],[171314,171322],[288386,288469],[311909,311945],[251062,251064],[80951,81013],[13104,13118],[188983,189015],[377474,377532],[523826,523831],[173462,173562],[196152,196244],[273537,273578],[538104,538183],[486822,486904],[156792,156807],[153022,153072],[226288,226332],[344058,344103],[407229,407230],[378101,378102],[552117,552155],[448466,448555],[51169,51197],[6711,6720],[355681,355759],[420567,420640],[530434,530497],[277674,277755],[232371,232463],[132972,132977],[314352,314364],[457573,457634],[151951,152019],[213788,213831],[204905,204969],[149095,149117],[513229,513269],[255035,255073],[374802,374855],[199159,199203],[293217,293265],[283955,284045],[286821,286882],[93567,93631],[435167,435242],[415826,415889],[516986,517045],[297795,297860],[394203,394230],[153839,153870],[189995,190047],[185534,185615],[487134,487200],[326240,326328],[283561,283590],[62175,62220],[396975,396985],[371823,371877],[527112,527114],[188184,188238],[190453,190494],[53657,53678],[385131,385225],[326853,326858],[386761,386797],[438759,438852],[412030,412110],[18308,18321],[266220,266262],[480599,480670],[444717,444723],[407035,407085],[451211,451269],[193211,193247],[407698,407733],[472897,472941],[264143,264204],[428876,428902],[462709,462809],[281232,281254],[473332,473403],[134573,134631],[97002,97007],[252941,252968],[165387,165465],[310678,310776],[321582,321665],[237852,237881],[39296,39298],[169381,169430],[273642,273645],[383139,383197],[28567,28603],[102893,102937],[461791,461852],[346144,346214],[238009,238046],[90705,90775],[18329,18348],[390048,390094],[133061,133149],[509234,509295],[115606,115697],[201255,201337],[537247,537308],[537630,537717],[306682,306764],[528173,528242],[302515,302592],[54195,54265],[291953,292035],[35144,35153],[149346,149417],[335500,335562],[257119,257141],[394372,394445],[193967,193975],[62719,62777],[498664,498712],[354491,354578],[438350,438398],[333575,333614],[233465,233547],[408978,408985],[534182,534221],[308810,308860],[130713,130780],[113790,113853],[174187,174194],[79725,79731],[321249,321276],[124861,124924],[306118,306185],[293604,293663],[322262,322356],[545292,545308],[121513,121610],[491313,491396],[279743,279744],[11937,11982],[458387,458401],[195306,195392],[168948,169042],[419800,419889],[543247,543250],[131010,131066],[195230,195301],[52838,52913],[546306,546345],[536211,536222],[370476,370490],[472690,472714],[176216,176232],[435034,435068],[489455,489530],[106595,106664],[51525,51584],[226881,226889],[517866,517886],[90320,90418],[384469,384561],[547551,547560],[8565,8614],[377712,377729],[392593,392669],[215680,215712],[208514,208573],[123757,123808],[487890,487931],[389510,389610],[491265,491275],[76485,76526],[84412,84427],[501945,501984],[384329,384355],[342547,342568],[494203,494207],[448323,448347],[389157,389182],[308861,308905],[43540,43573],[401572,401613],[2297,2365],[429833,429930],[407408,407476],[33113,33145],[267365,267368],[195150,195224],[68937,68985],[37319,37400],[117764,117810],[33340,33439],[221042,221066],[341501,341536],[67593,67615],[513181,513191],[189543,189562],[455308,455356],[193789,193806],[135456,135546],[131579,131664],[388037,388081],[221785,221818],[198244,198280],[101247,101290],[311328,311374],[236620,236718],[504478,504573],[478876,478969],[58915,59006],[319463,319491],[441321,441330],[550719,550730],[25539,25579],[388190,388229],[323105,323124],[60,110],[65652,65676],[525718,525797],[463486,463514],[319869,319910],[104069,104070],[24373,24450],[286715,286738],[130077,130157],[71408,71436],[3932,4010],[61344,61412],[359726,359802],[230366,230394],[538495,538529],[286612,286615],[446846,446865],[17540,17557],[464856,464909],[360562,360581],[159458,159461],[385098,385126],[227105,227165],[106421,106486],[104513,104587],[509538,509586],[349350,349360],[249664,249729],[378882,378948],[57626,57653],[526091,526138],[267590,267635],[127463,127513],[207953,208030],[273423,273444],[246749,246818],[68787,68816],[417033,417103],[165058,165132],[379279,379302],[162165,162174],[83636,83640],[248074,248075],[293059,293112],[37400,37495],[225788,225847],[535031,535095],[169065,169079],[459913,459945],[140247,140270],[51297,51358],[387269,387305],[159119,159169],[275491,275495],[449722,449728],[86467,86534],[507644,507655],[410661,410743],[7461,7507],[400567,400667],[16585,16654],[118819,118838],[396680,396750],[425001,425012],[199313,199383],[208164,208183],[181538,181560],[416346,416370],[312413,312503],[457028,457083],[507068,507149],[168894,168941],[215805,215844],[149422,149463],[106140,106159],[82918,82981],[291003,291013],[60677,60688],[296487,296498],[135554,135571],[307876,307970],[425301,425324],[464223,464259],[141703,141759],[104921,105000],[158379,158454],[323937,323979],[204995,205061],[70862,70877],[323520,323582],[537313,537383],[326147,326152],[176709,176808],[193814,193831],[74885,74917],[535121,535165],[495855,495880],[233576,233651],[256115,256135],[552335,552388],[134202,134276],[545264,545289],[230763,230807],[145250,145349],[315976,316060],[413871,413901],[543585,543683],[350783,350827],[485317,485410],[32075,32100],[454398,454490],[244626,244669],[132034,132095],[69280,69333],[435069,435143],[463053,463117],[149303,149337],[190114,190158],[296413,296452],[108731,108770],[371185,371238],[177871,177881],[229039,229131],[159046,159119],[438943,438975],[218974,219019],[319229,319247],[185246,185328],[512988,513002],[386823,386851],[432217,432247],[371073,371113],[262828,262833],[447314,447360],[508301,508360],[235638,235714],[10304,10401],[465728,465825],[20865,20901],[479914,479955],[150121,150158],[513352,513412],[258329,258413],[239617,239631],[245981,246001],[479787,479807],[539285,539350],[12668,12701],[215548,215577],[122134,122232],[356660,356693],[186868,186871],[174575,174667],[16234,16297],[288022,288042],[357680,357692],[46904,46951],[460683,460713],[313047,313142],[517261,517360],[251658,251726],[335164,335225],[544181,544263],[63993,64049],[55444,55454],[526631,526652],[147366,147376],[174822,174881],[324293,324332],[76813,76907],[438729,438754],[100861,100937],[67135,67232],[432678,432709],[534536,534617],[408363,408391],[313756,313777],[109825,109903],[359049,359094],[276860,276866],[534849,534862],[525173,525272],[418447,418523],[58405,58489],[12262,12305],[487022,487097],[132606,132618],[365554,365623],[343838,343932],[143102,143150],[30361,30378],[99557,99633],[399390,399397],[419613,419660],[204321,204355],[312016,312037],[122334,122340],[109152,109161],[431920,431939],[548801,548853],[481520,481612],[304108,304116],[523978,524028],[492708,492750],[386516,386595],[420969,421010],[32930,32953],[168665,168689],[390493,390563],[121109,121206],[467531,467626],[136179,136212],[193335,193369],[265058,265089],[48990,49066],[179339,179389],[242373,242448],[536426,536461],[8228,8279],[448238,448260],[321029,321099],[400981,401069],[309802,309881],[24639,24736],[300633,300642],[307505,307589],[81385,81402],[260727,260768],[317752,317773],[254516,254544],[15143,15230],[529238,529310],[170411,170424],[502576,502584],[163833,163843],[333838,333906],[253797,253848],[263611,263690],[293431,293512],[211758,211813],[120161,120171],[280790,280825],[443408,443443],[78565,78609],[55656,55751],[386626,386689],[337697,337749],[315227,315276],[552395,552410],[52730,52762],[146249,146308],[463286,463303],[377789,377833],[326427,326489],[278455,278497],[442186,442238],[5956,6045],[368335,368396],[359807,359879],[308698,308743],[54085,54151],[105847,105899],[76927,76994],[425620,425649],[539577,539624],[199929,199953],[103458,103468],[233315,233381],[216182,216219],[405479,405501],[375601,375632],[79911,79968],[510527,510567],[377415,377474],[13283,13362],[41132,41174],[216907,216954],[353746,353823],[95753,95833],[252600,252681],[228067,228089],[174262,174294],[443201,443269],[156810,156896],[213379,213423],[178557,178621],[178164,178199],[194638,194647],[121370,121465],[216884,216897],[316219,316274],[335396,335468],[269067,269075],[334643,334666],[306766,306793],[134995,135018],[391763,391798],[202657,202731],[127959,128029],[151738,151808],[465536,465635],[184521,184536],[287359,287377],[505560,505640],[368550,368567],[323290,323320],[158952,159036],[161235,161263],[416371,416381],[371682,371691],[118511,118573],[467098,467146],[322776,322863],[210919,210954],[203637,203666],[70982,71075],[360276,360333],[505725,505799],[293858,293891],[194441,194473],[195051,195150],[354406,354453],[252783,252804],[24562,24613],[529843,529938],[31037,31073],[29513,29514],[13742,13816],[144565,144618],[322404,322406],[271039,271116],[535341,535405],[169540,169591],[99765,99827],[430168,430223],[243135,243228],[323420,323488],[123337,123344],[99737,99755],[9779,9879],[397746,397808],[198830,198920],[301545,301585],[239999,240000],[392233,392253],[467847,467909],[315124,315224],[550089,550172],[334448,334494],[151011,151089],[429485,429496],[24315,24367],[440108,440185],[418154,418249],[118155,118191],[70312,70320],[402125,402212],[245670,245690],[33985,34057],[494450,494475],[11697,11752],[314364,314400],[485764,485771],[144082,144127],[469119,469134],[348461,348527],[27941,27948],[165839,165877],[450943,450962],[475980,476017],[537990,538087],[120853,120912],[523323,523349],[517365,517389],[533606,533693],[356153,356233],[108713,108724],[222238,222332],[154539,154556],[14798,14817],[156701,156786],[393790,393883],[533217,533258],[258772,258828],[229272,229368],[44293,44331],[306370,306447],[265381,265390],[174387,174483],[497356,497451],[130018,130068],[363451,363518],[106556,106591],[120275,120276],[217701,217788],[189967,189973],[334839,334906],[8672,8717],[372430,372524],[353034,353057],[25488,25538],[427465,427468],[400860,400880],[40355,40371],[24826,24902],[256693,256776],[348260,348348],[517594,517603],[10820,10905],[298813,298866],[293966,293991],[325101,325183],[180331,180401],[60515,60610],[113044,113127],[255330,255398],[495768,495850],[68816,68844],[114798,114860],[331680,331741],[248231,248278],[32443,32478],[182799,182886],[188303,188390],[204558,204563],[211450,211456],[39831,39868],[434324,434365],[380522,380618],[88406,88448],[530946,530954],[17617,17707],[187986,188040],[413389,413397],[125087,125147],[355242,355334],[82897,82915],[323160,323249],[239040,239082],[248134,248179],[384569,384573],[400882,400887],[425819,425864],[326987,327031],[355835,355867],[358163,358241],[503247,503312],[124431,124503],[177513,177536],[209402,209483],[330809,330894],[296248,296342],[82991,83025],[320184,320253],[483372,483396],[400043,400115],[38878,38922],[420220,420259],[300703,300797],[6795,6883],[392092,392157],[6148,6209],[42928,43012],[309621,309654],[29277,29302],[269768,269860],[421690,421772],[127287,127366],[528560,528641],[216660,216756],[208622,208651],[492753,492840],[193936,193964],[469176,469206],[335660,335717],[150202,150214],[547713,547793],[138462,138543],[418258,418288],[22409,22455],[282484,282519],[451526,451548],[372042,372051],[51042,51136],[119058,119121],[368997,369055],[268062,268149],[251948,251954],[449022,449071],[197099,197161],[485070,485116],[522256,522343],[78195,78208],[311854,311909],[416381,416467],[83479,83572],[443518,443587],[363015,363107],[346019,346080],[189363,189447],[122472,122515],[400819,400850],[258100,258127],[461290,461372],[363982,364028],[287705,287763],[522810,522816],[426131,426159],[453274,453306],[349005,349046],[419174,419184],[438213,438279],[153877,153878],[367852,367887],[12709,12749],[448367,448456],[212312,212355],[204442,204514],[483797,483869],[528906,528912],[514496,514583],[426045,426070],[370778,370797],[27418,27469],[262000,262016],[11276,11323],[250397,250495],[74488,74578],[219334,219416],[381295,381318],[240632,240713],[44777,44818],[278119,278165],[450541,450581],[446869,446956],[544682,544759],[287094,287141],[345679,345701],[310884,310930],[126945,127034],[220066,220068],[262110,262116],[154287,154345],[105701,105791],[430440,430514],[302597,302633],[160272,160296],[414172,414218],[158310,158371],[420460,420559],[56186,56264],[493453,493525],[195803,195884],[40492,40506],[405034,405084],[396989,397066],[284694,284704],[173683,173686],[316176,316219],[162922,162979],[318714,318742],[418523,418553],[288586,288667],[19987,20080],[427795,427881],[456640,456717],[202738,202783],[421523,421531],[73565,73620],[245293,245306],[43349,43423],[40962,40997],[19490,19502],[77407,77443],[325404,325479],[180736,180797],[408837,408872],[266446,266488],[145439,145518],[342663,342752],[9999,10015],[383558,383587],[156424,156510],[462607,462687],[310371,310454],[111027,111091],[541915,541975],[113699,113739],[518499,518564],[253041,253064],[468068,468107],[188789,188808],[275032,275101],[187379,187439],[10473,10553],[397817,397856],[72719,72745],[258660,258715],[240786,240867],[227742,227751],[65742,65771],[226519,226605],[89626,89676],[66481,66511],[152597,152639],[466631,466662],[454863,454904],[10151,10243],[100400,100413],[126750,126817],[123465,123505],[450031,450129],[207257,207309],[502978,502985],[215020,215023],[509379,509467],[268212,268217],[138799,138880],[293389,293421],[444799,444830],[118309,118358],[152568,152589],[74805,74826],[257215,257229],[137980,137997],[226985,227034],[269641,269710],[116778,116809],[170371,170408],[86718,86790],[24534,24554],[180701,180733],[368458,368541],[320308,320312],[419962,419963],[114140,114153],[475845,475945],[452127,452161],[529591,529604],[257436,257463],[448777,448854],[28904,28934],[265745,265802],[177977,178026],[516669,516684],[279293,279317],[47941,48031],[264056,264067],[8421,8447],[242005,242062],[448937,448965],[282318,282398],[274560,274659],[482953,482974],[278336,278354],[37668,37710],[267897,267965],[489840,489888],[485173,485197],[108791,108821],[538208,538230],[323126,323154],[282398,282475],[409230,409299],[10021,10033],[88871,88896],[93631,93713],[11601,11625],[183795,183875],[393635,393674],[480442,480448],[521231,521255],[469285,469382],[528914,528936],[145115,145186],[339630,339680],[135957,136042],[524356,524446],[296897,296963],[442792,442796],[402023,402121],[501860,501888],[88155,88240],[341795,341893],[42212,42280],[549366,549448],[374683,374736],[167476,167549],[112859,112917],[64629,64673],[15403,15419],[31875,31888],[171780,171870],[11759,11848],[487002,487014],[203093,203152],[108560,108619],[2187,2287],[249090,249188],[493672,493756],[44340,44422],[37044,37082],[27089,27166],[196952,197032],[432642,432675],[181187,181276],[417106,417205],[45941,46038],[156108,156179],[194846,194946],[233047,233048],[93503,93559],[551407,551449],[306547,306624],[482878,482906],[117084,117178],[74976,74997],[21982,22074],[162308,162385],[243381,243458],[57659,57758],[95295,95332],[58789,58847],[118366,118454],[196428,196518],[450618,450665],[207107,207166],[531813,531908],[367823,367843],[201874,201938],[388009,388021],[493649,493665],[409860,409883],[312251,312268],[182761,182798],[257712,257745],[212835,212935],[262599,262659],[501585,501675],[425020,425088],[115217,115280],[278326,278330],[20342,20348],[313145,313226],[200613,200635],[411025,411083],[410377,410440],[11219,11271],[28184,28242],[168389,168439],[234439,234508],[23144,23223],[65169,65263],[184804,184815],[413454,413497],[489320,489390],[354762,354846],[284390,284461],[117840,117865],[135423,135451],[485502,485583],[248288,248352],[452677,452734],[375246,375292],[186881,186940],[401342,401374],[536365,536421],[102238,102320],[349533,349630],[138032,138076],[433891,433894],[527235,527323],[102579,102614],[535494,535548],[88286,88313],[522678,522731],[398715,398795],[493320,493329],[210157,210252],[206198,206222],[550864,550890],[40072,40148],[233702,233721],[107309,107355],[137184,137258],[249736,249765],[14821,14894],[243740,243785],[536998,537084],[410833,410863],[193444,193515],[14528,14613],[123907,123962],[34428,34489],[209553,209628],[189919,189965],[403101,403153],[17851,17915],[287283,287332],[418701,418770],[323732,323813],[21171,21195],[513197,513229],[360075,360138],[441179,441195],[303888,303982],[539188,539196],[484414,484464],[437025,437120],[140787,140854],[353711,353744],[334163,334257],[198287,198377],[83673,83738],[386253,386264],[200966,201036],[317001,317064],[14387,14480],[471546,471611],[239181,239204],[231094,231166],[533697,533758],[77445,77455],[343403,343445],[111997,112088],[243917,243940],[1483,1578],[64966,65035],[183289,183315],[391093,391193],[283667,283715],[314740,314773],[111475,111524],[277850,277934],[169152,169194],[315521,315538],[200089,200128],[107970,108013],[480131,480173],[508494,508509],[91204,91227],[55024,55052],[40374,40397],[524456,524466],[272255,272310],[24088,24098],[448090,448096],[313474,313518],[273586,273597],[237167,237169],[414143,414144],[390271,390345],[210091,210098],[498821,498915],[258521,258610],[102989,103006],[382495,382515],[396582,396649],[166396,166461],[454008,454012],[171908,171968],[124928,124979],[198380,198479],[276867,276891],[332460,332550],[146838,146929],[160988,160990],[334382,334430],[426208,426247],[224650,224661],[255149,255249],[94031,94071],[547856,547871],[201123,201172],[368089,368114],[378834,378879],[389616,389673],[180411,180475],[239339,239399],[320869,320921],[97265,97267],[518963,518973],[1587,1600],[375075,375168],[192456,192502],[543005,543063],[543260,543296],[106925,106994],[361855,361917],[438064,438117],[137932,137936],[365272,365286],[466963,467046],[228746,228825],[108542,108555],[242680,242743],[299972,300017],[253070,253075],[180597,180610],[488452,488461],[184639,184710],[540689,540739],[513418,513486],[323902,323933],[137547,137607],[313017,313040],[528152,528173],[104596,104684],[169309,169377],[300383,300390],[475058,475097],[222574,222621],[113761,113782],[321898,321980],[352015,352048],[360711,360728],[288535,288580],[185200,185240],[419692,419719],[391372,391396],[531154,531175],[356242,356286],[417407,417422],[52589,52643],[115893,115899],[357669,357673],[134379,134384],[61519,61593],[95855,95866],[246822,246885],[180148,180248],[330290,330347],[123285,123289],[242063,242149],[197857,197871],[315286,315353],[86930,86957],[463552,463608],[373616,373679],[392854,392867],[54599,54655],[235567,235585],[544598,544679],[487702,487780],[224444,224539],[89355,89441],[107139,107211],[542055,542125],[270973,270989],[355619,355666],[86387,86427],[473720,473736],[478363,478382],[353166,353235],[52139,52179],[295886,295959],[471458,471491],[303421,303449],[319917,319975],[17034,17087],[45187,45258],[323982,324033],[522941,522998],[9524,9528],[427394,427465],[37857,37879],[495362,495405],[274261,274278],[1602,1607],[500012,500037],[161839,161849],[169047,169061],[347415,347514],[195628,195704],[179238,179288],[179570,179591],[254720,254768],[495209,495270],[404390,404450],[31709,31767],[66819,66906],[14004,14024],[147692,147782],[495280,495298],[67056,67092],[80228,80308],[230439,230506],[188701,188733],[46622,46722],[26354,26444],[128343,128420],[102206,102235],[408403,408457],[527846,527852],[251070,251105],[11848,11860],[28762,28790],[447364,447398],[421253,421322],[182129,182177],[3148,3200],[44443,44501],[282716,282779],[503864,503929],[364322,364329],[42434,42517],[274007,274031],[163087,163177],[540223,540281],[249205,249287],[537390,537460],[448353,448360],[531345,531356],[383199,383268],[132623,132664],[48824,48919],[281811,281855],[359374,359442],[256900,256956],[238592,238692],[515182,515279],[143029,143049],[132102,132171],[2110,2184],[138699,138789],[130621,130688],[295868,295883],[67369,67443],[109234,109332],[88571,88612],[353630,353710],[469392,469425],[407094,407143],[281656,281673],[105628,105694],[6381,6397],[77519,77589],[372529,372600],[256782,256872],[216958,217056],[465501,465519],[326335,326407],[166001,166051],[435338,435368],[466035,466051],[68457,68479],[33911,33926],[228659,228743],[467385,467482],[41653,41711],[426779,426817],[549723,549733],[267023,267061],[356971,357022],[33521,33570],[52103,52139],[238534,238592],[257988,258012],[547932,547951],[279319,279371],[149832,149926],[517892,517911],[525424,525464],[510440,510507],[254878,254941],[429713,429779],[259580,259646],[176127,176179],[291119,291137],[243326,243375],[242503,242578],[300287,300324],[67948,67959],[348739,348774],[264067,264134],[213694,213732],[405161,405188],[306189,306249],[290094,290158],[202351,202376],[96727,96770],[80761,80814],[268695,268795],[343171,343255],[498096,498182],[297869,297969],[161657,161744],[53508,53522],[433345,433370],[197166,197245],[48387,48404],[72420,72512],[163799,163831],[135259,135344],[424139,424232],[178497,178555],[77247,77296],[493333,493405],[63664,63680],[469626,469639],[86013,86111],[173372,173411],[489550,489645],[487785,487809],[39576,39660],[441058,441060],[546666,546722],[546728,546779],[485432,485462],[338989,339074],[82691,82727],[279749,279833],[429580,429657],[8618,8644],[79436,79484],[513575,513601],[489310,489314],[191305,191320],[270155,270162],[260427,260476],[130688,130707],[419964,420025],[193695,193700],[150796,150815],[506081,506101],[30580,30628],[71339,71342],[231862,231888],[143185,143239],[458096,458183],[50844,50902],[287596,287696],[39281,39295],[251937,251947],[182704,182757],[104127,104190],[315467,315513],[470963,470978],[313958,314051],[319497,319516],[286268,286312],[311451,311481],[467803,467839],[67454,67504],[374280,374330],[281454,281490],[86630,86711],[429396,429482],[85174,85263],[223614,223640],[352769,352791],[440520,440524],[450745,450794],[447826,447907],[295176,295209],[101607,101692],[457175,457226],[503160,503246],[319579,319607],[266354,266388],[184145,184191],[95339,95439],[529611,529672],[319116,319176],[266111,266211],[7517,7530],[303803,303837],[185685,185748],[126007,126079],[479131,479163],[85322,85340],[153792,153834],[516811,516876],[49689,49765],[510510,510519],[364684,364715],[415512,415545],[430408,430439],[123719,123724],[423595,423667],[521958,522021],[121947,121952],[538296,538372],[69046,69144],[504669,504767],[212188,212237],[148385,148393],[270990,271037],[369730,369780],[286643,286668],[291490,291499],[268365,268432],[516121,516197],[513927,513983],[448026,448087],[492122,492199],[465833,465929],[161135,161227],[79777,79877],[48405,48454],[284867,284881],[181834,181910],[8813,8888],[457234,457245],[324778,324781],[218560,218621],[343139,343168],[173347,173372],[551954,552015],[209487,209547],[238098,238174],[254943,255035],[4174,4259],[515139,515165],[51005,51037],[362189,362280],[45330,45335],[122708,122727],[220479,220576],[142251,142303],[431617,431709],[548099,548185],[17707,17778],[47091,47107],[326520,326587],[30887,30934],[329085,329103],[345990,346014],[454492,454586],[317206,317302],[372212,372217],[326493,326516],[202993,202999],[370151,370206],[534985,535023],[238821,238872],[319615,319704],[262974,263044],[424557,424566],[353480,353542],[171025,171053],[234041,234115],[299630,299726],[88455,88491],[189819,189906],[317653,317657],[90487,90499],[517679,517763],[380204,380230],[301922,301937],[136483,136536],[315027,315121],[269312,269410],[194042,194093],[249959,249999],[217605,217700],[261208,261244],[105996,106079],[548083,548089],[298112,298170],[216103,216179],[479577,479604],[437123,437203],[12573,12662],[20777,20783],[440013,440101],[110090,110132],[23726,23746],[359664,359675],[362016,362075],[364334,364399],[479538,479543],[464376,464467],[374092,374153],[265702,265745],[243671,243712],[75930,75998],[126836,126843],[89443,89461],[274038,274047],[104397,104471],[472723,472796],[113249,113282],[167100,167158],[199832,199873],[228105,228130],[270377,270382],[289841,289869],[41925,41981],[498485,498519],[476831,476889],[441332,441368],[339186,339280],[419241,419325],[36252,36321],[488356,488367],[86798,86828],[435329,435333],[382730,382768],[412570,412582],[445648,445663],[344774,344844],[319984,320080],[230055,230105],[372730,372801],[233056,233102],[68299,68369],[50009,50098],[191718,191805],[164660,164683],[385883,385978],[47147,47236],[28319,28364],[434670,434733],[223342,223421],[234921,234923],[116397,116398],[415411,415440],[320567,320628],[43844,43861],[491598,491656],[546429,546464],[530389,530426],[317112,317206],[313408,313412],[518762,518837],[72651,72715],[35163,35224],[518614,518674],[274050,274136],[60505,60514],[536300,536362],[542126,542153],[16774,16782],[37885,37959],[528782,528864],[238231,238320],[104476,104508],[135020,135106],[479613,479685],[163292,163340],[139080,139135],[164032,164086],[470514,470541],[250556,250574],[442481,442538],[304806,304807],[500046,500067],[30071,30160],[265398,265440],[169919,169932],[473916,473945],[235970,236024],[518924,518953],[166247,166278],[202621,202650],[161948,161949],[27949,27998],[216648,216654],[531098,531150],[264029,264052],[21255,21307],[498243,498323],[381814,381874],[425872,425962],[105903,105987],[337867,337912],[361925,361971],[48627,48680],[15545,15629],[139646,139670],[546784,546884],[286882,286930],[17283,17362],[4048,4138],[480449,480487],[141277,141279],[514041,514081],[23677,23726],[494253,494290],[396754,396851],[223802,223902],[488836,488898],[153427,153430],[259320,259412],[454595,454643],[166694,166776],[330899,330920],[322437,322535],[399124,399220],[418950,419045],[15812,15907],[351494,351559],[519474,519510],[477653,477750],[1435,1475],[78084,78124],[449239,449282],[127705,127775],[328600,328680],[237027,237049],[422546,422610],[112339,112401],[414651,414668],[475149,475162],[154692,154709],[522739,522802],[440992,441003],[359931,360031],[11667,11692],[515166,515173],[71442,71541],[4902,4961],[159722,159812],[201507,201601],[274955,274982],[225009,225053],[381390,381440],[203006,203086],[520043,520083],[443449,443491],[117874,117943],[32903,32921],[360581,360651],[142047,142125],[550179,550275],[364753,364768],[4717,4770],[365230,365236],[212092,212186],[511875,511879],[22941,23039],[8281,8364],[243249,243299],[416006,416096],[506363,506455],[92434,92510],[158485,158576],[294588,294632],[326071,326142],[27226,27254],[436103,436146],[398920,399019],[202493,202501],[289108,289188],[464266,464313],[156238,156310],[488466,488503],[478783,478791],[502329,502369],[357601,357663],[510833,510927],[460385,460416],[460842,460874],[236720,236797],[138139,138161],[238769,238818],[252055,252144],[274663,274692],[104884,104919],[482164,482254],[89832,89913],[131463,131553],[95057,95101],[239448,239464],[308556,308561],[146356,146426],[314058,314123],[247347,247383],[43861,43885],[268220,268275],[130509,130515],[446784,446843],[529675,529752],[451471,451526],[217793,217836],[206145,206180],[189785,189818],[455035,455124],[263977,264029],[270819,270875],[544563,544591],[99922,100010],[62778,62872],[414357,414404],[374337,374383],[425521,425613],[454950,454993],[494661,494680],[448651,448680],[426182,426207],[224169,224244],[215028,215048],[87335,87383],[20584,20673],[542656,542672],[399234,399269],[139013,139073],[318830,318841],[238411,238455],[149121,149201],[532748,532768],[129164,129213],[461112,461172],[70723,70807],[138311,138317],[215969,215974],[172796,172890],[251430,251484],[157193,157284],[263529,263559],[81956,82045],[311375,311420],[230139,230147],[539048,539105],[97246,97263],[4971,4974],[379028,379112],[67098,67110],[336715,336730],[143999,144082],[182206,182292],[402373,402459],[459704,459794],[186626,186664],[449141,449230],[86333,86382],[460434,460464],[25594,25662],[344668,344767],[180611,180692],[443857,443923],[164246,164262],[305217,305310],[19294,19368],[109405,109487],[94136,94182],[366322,366400],[157717,157805],[307394,307479],[242156,242183],[534637,534642],[515095,515134],[330976,331036],[97320,97386],[102824,102827],[396092,396158],[427974,428065],[394803,394818],[31888,31952],[297007,297059],[357468,357490],[326415,326421],[103238,103332],[357846,357924],[66608,66662],[168042,168090],[350244,350306],[77597,77617],[137009,137078],[401694,401724],[229651,229725],[2692,2709],[330347,330433],[388782,388836],[87221,87265],[12059,12159],[266853,266889],[142646,142685],[321384,321468],[495045,495087],[516203,516250],[173572,173584],[521345,521365],[331877,331959],[309778,309801],[280734,280786],[497581,497605],[422072,422171],[85901,85935],[113185,113238],[146793,146830],[129709,129775],[87935,87943],[29132,29221],[335026,335097],[7286,7378],[475023,475050],[481394,481450],[233388,233464],[433988,434003],[474361,474456],[376190,376210],[157965,157983],[112201,112238],[68575,68616],[200309,200367],[135821,135847],[47560,47586],[372841,372887],[62627,62663],[493897,493925],[223203,223225],[426461,426503],[86428,86466],[408626,408657],[45266,45307],[308050,308142],[20181,20223],[174072,174094],[525334,525395],[506656,506747],[509096,509196],[98295,98373],[113521,113541],[240220,240226],[351663,351692],[230933,230952],[457269,457318],[191143,191210],[71185,71202],[381981,381997],[37964,37981],[112248,112334],[430808,430900],[134414,134489],[288792,288846],[517392,517443],[314777,314816],[135581,135589],[321852,321891],[431522,431609],[406243,406268],[496209,496214],[139383,139454],[340540,340583],[171355,171432],[157857,157867],[159645,159669],[431835,431894],[81892,81948],[549593,549611],[482316,482318],[28757,28762],[21379,21408],[103470,103506],[512775,512865],[362582,362600],[244190,244192],[155530,155590],[11411,11445],[443048,443108],[173087,173133],[240394,240474],[476018,476112],[349706,349736],[503024,503115],[172044,172074],[283125,283191],[397534,397565],[364030,364079],[354926,354966],[411969,412030],[338692,338755],[407739,407757],[277185,277207],[291261,291321],[378339,378355],[276572,276585],[192790,192798],[347300,347309],[196839,196889],[378731,378824],[478798,478867],[356906,356966],[346526,346574],[83597,83627],[13826,13882],[411667,411732],[14916,14924],[488335,488355],[162392,162438],[517524,517585],[173687,173733],[203381,203435],[527703,527794],[19502,19564],[107903,107938],[523130,523212],[130442,130443],[261716,261752],[186034,186055],[344260,344281],[247566,247655],[142303,142389],[50935,50996],[116653,116727],[480176,480242],[393886,393946],[8100,8140],[114135,114139],[263053,263144],[115572,115582],[527123,527149],[462261,462305],[289913,289990],[213266,213325],[413497,413503],[204114,204145],[305329,305359],[370580,370629],[363568,363593],[215587,215676],[410872,410952],[72340,72399],[126823,126831],[103101,103172],[179210,179233],[185803,185831],[393705,393725],[503769,503832],[510111,510117],[266488,266525],[369484,369508],[362882,362891],[523491,523528],[408560,408619],[44679,44772],[261376,261442],[260226,260307],[418367,418438],[333117,333194],[466180,466267],[206837,206866],[187921,187976],[15629,15715],[195579,195601],[207344,207405],[359444,359474],[116834,116920],[220213,220311],[359574,359577],[358065,358157],[419422,419465],[509196,509228],[539841,539930],[472619,472686],[362477,362573],[502782,502850],[394984,394998],[22121,22201],[298312,298387],[521741,521748],[538538,538549],[516684,516723],[390586,390656],[122236,122272],[256428,256466],[497204,497290],[198481,198510],[288887,288944],[335101,335162],[3832,3835],[126845,126944],[212795,212826],[344353,344409],[509025,509092],[474619,474698],[87072,87077],[7708,7713],[530498,530551],[445939,445949],[12756,12823],[515897,515952],[140137,140175],[239761,239798],[286624,286636],[247722,247740],[168593,168660],[69147,69170],[488521,488568],[100422,100423],[256138,256149],[251493,251527],[530558,530642],[527462,527483],[434262,434324],[442539,442585],[496465,496524],[485170,485173],[542941,542950],[143524,143580],[110371,110378],[308471,308552],[501241,501314],[430020,430085],[209174,209236],[380622,380698],[120059,120151],[70215,70305],[219919,219975],[186023,186026],[109975,110022],[7208,7282],[218443,218522],[149979,149983],[507773,507856],[136306,136311],[54926,55021],[414548,414641],[505477,505560],[424490,424544],[315746,315799],[34157,34247],[45341,45357],[408394,408400],[151158,151219],[20232,20274],[5383,5426],[368828,368923],[273654,273668],[361800,361837],[346217,346316],[211821,211863],[526483,526561],[115582,115603],[157534,157588],[118877,118956],[104230,104321],[79222,79295],[295249,295253],[357768,357841],[504992,505056],[516308,516377],[426417,426455],[214385,214474],[291543,291599],[57561,57614],[163286,163290],[507655,507670],[390094,390134],[156049,156101],[231481,231566],[157472,157527],[184715,184794],[336964,336979],[430989,431066],[75446,75470],[526902,526958],[173138,173161],[294641,294705],[546889,546908],[83843,83940],[371405,371461],[16397,16400],[495925,495966],[402800,402897],[261030,261100],[33153,33236],[327223,327238],[134280,134293],[168091,168136],[80050,80127],[356503,356576],[510123,510134],[251864,251928],[232890,232917],[445696,445778],[341133,341203],[385438,385466],[520986,520999],[317973,318016],[338223,338306],[521654,521736],[438981,439075],[500787,500825],[287000,287066],[431307,431397],[36395,36434],[186390,186462],[209077,209120],[537918,537984],[52653,52711],[24452,24524],[181570,181662],[14170,14191],[55057,55070],[283363,283394],[373335,373423],[483400,483471],[65140,65160],[95104,95160],[7766,7787],[31083,31123],[373431,373449],[368122,368210],[209716,209805],[224128,224163],[43194,43284],[312945,313015],[518125,518162],[57759,57852],[302897,302934],[198952,199017],[428737,428776],[541682,541700],[383489,383557],[285014,285020],[330108,330148],[246050,246097],[147785,147857],[428862,428870],[228654,228657],[166367,166396],[462342,462411],[382786,382840],[450000,450031],[394286,394371],[522504,522505],[109054,109144],[379209,379233],[172691,172701],[177449,177500],[305019,305064],[410449,410485],[19208,19291],[57108,57136],[71294,71335],[73143,73146],[90218,90222],[9651,9749],[366916,367008],[286383,286475],[204779,204784],[400896,400981],[405983,406081],[204821,204905],[14613,14673],[238702,238759],[195603,195623],[437205,437248],[443029,443042],[236276,236315],[326162,326187],[259495,259524],[241259,241344],[466937,466962],[545474,545492],[476501,476527],[107645,107658],[353084,353128],[66750,66791],[519031,519107],[480675,480697],[263729,263747],[4019,4040],[262296,262375],[292571,292592],[503731,503767],[475353,475370],[175574,175673],[548959,549000],[520222,520269],[223644,223741],[450804,450899],[118963,118980],[59785,59871],[16916,16969],[46294,46348],[26795,26801],[456192,456266],[440926,440935],[288316,288325],[386694,386759],[251027,251060],[250154,250179],[457130,457165],[366794,366817],[517767,517829],[468501,468516],[279870,279893],[178843,178922],[152946,152968],[249190,249204],[205913,205972],[291232,291256],[299242,299339],[450964,450977],[205798,205847],[467485,467527],[64492,64525],[503938,504020],[93715,93735],[107425,107504],[425650,425673],[208661,208720],[114085,114133],[527547,527564],[496218,496231],[370449,370472],[404039,404124],[169515,169540],[382886,382983],[392757,392807],[380052,380070],[358041,358058],[379570,379621],[446334,446351],[90503,90553],[367809,367819],[285396,285448],[356387,356470],[272971,273019],[61601,61695],[141926,141984],[206957,206992],[299842,299937],[111358,111434],[541082,541149],[517451,517522],[202939,202992],[11984,12050],[171279,171312],[15266,15365],[35792,35865],[103810,103903],[83649,83671],[333622,333675],[311750,311850],[518466,518499],[461381,461412],[109600,109654],[501151,501199],[451011,451035],[109722,109739],[161475,161574],[67692,67720],[71202,71228],[526243,526341],[450447,450539],[150216,150313],[3208,3237],[270392,270447],[56062,56090],[96639,96692],[124049,124126],[35606,35632],[424118,424129],[454931,454934],[96417,96495],[550482,550492],[256510,256607],[364087,364182],[267790,267890],[384666,384699],[473498,473543],[175397,175460],[199214,199280],[323019,323077],[378688,378721],[21859,21877],[154137,154230],[244921,244981],[452664,452668],[201172,201223],[68618,68682],[500827,500906],[118678,118729],[129776,129797],[475724,475819],[212826,212827],[540844,540846],[386066,386115],[299567,299620],[56890,56931],[531596,531691],[90840,90871],[209931,209962],[517163,517254],[348627,348642],[272167,272208],[448968,449014],[61197,61205],[208942,208998],[329497,329533],[536469,536472],[419332,419408],[502614,502655],[399457,399480],[155394,155441],[224621,224645],[160097,160121],[98597,98610],[132355,132449],[449483,449571],[519212,519242],[496786,496806],[397121,397203],[401374,401376],[276998,277090],[123560,123562],[165002,165050],[458747,458841],[311618,311651],[458851,458931],[242244,242258],[420818,420841],[23851,23860],[9529,9545],[139946,139962],[141145,141182],[200179,200196],[482524,482602],[194647,194723],[94637,94687],[919,933],[441270,441294],[245138,245177],[177161,177194],[360138,360204],[248938,248961],[336023,336098],[313276,313323],[270751,270799],[136831,136832],[254212,254287],[50509,50580],[358325,358424],[289741,289761],[282259,282298],[221819,221852],[413630,413689],[172316,172404],[424886,424947],[424715,424762],[108016,108046],[160124,160174],[329405,329445],[256614,256683],[14968,15048],[425215,425250],[320084,320182],[82852,82891],[64679,64702],[120415,120444],[18209,18306],[43121,43191],[263425,263438],[25663,25747],[378490,378502],[212776,212787],[378953,379020],[540739,540745],[35657,35735],[342757,342792],[212979,213078],[286748,286811],[101086,101151],[51594,51613],[41573,41643],[329579,329591],[16786,16822],[228488,228585],[285912,286004],[513828,513920],[401480,401572],[3525,3580],[62673,62716],[110712,110729],[258722,258772],[529380,529404],[164877,164942],[550732,550753],[362097,362162],[264616,264626],[396315,396347],[176582,176657],[37712,37740],[312336,312357],[9554,9626],[327600,327687],[482978,483002],[460952,461020],[430742,430806],[57249,57322],[459109,459123],[260482,260523],[320629,320690],[276585,276612],[279206,279293],[79407,79434],[415624,415664],[539965,539980],[327276,327360],[112919,112920],[323249,323271],[91172,91183],[498182,498241],[177284,177357],[532722,532747],[459423,459464],[547182,547277],[489736,489834],[292611,292666],[142741,142836],[124775,124859],[136628,136704],[510048,510109],[494888,494929],[208356,208417],[385290,385384],[5431,5464],[375511,375599],[335599,335656],[507456,507533],[110137,110211],[13882,13885],[456725,456793],[192189,192277],[215175,215190],[416631,416670],[267161,267209],[81160,81212],[91873,91934],[52365,52440],[223098,223190],[202029,202061],[32183,32253],[506748,506829],[329861,329953],[140185,140242],[135113,135172],[423934,424024],[471802,471877],[69898,69969],[429253,429297],[45116,45129],[114607,114706],[90614,90657],[272540,272633],[345644,345677],[17563,17608],[96904,96988],[338094,338125],[41480,41498],[147415,147511],[355383,355393],[16305,16387],[472507,472557],[394093,394158],[65716,65737],[166219,166244],[216411,216457],[38121,38164],[85269,85285],[407481,407517],[63959,63993],[417425,417503],[359536,359570],[127368,127456],[322864,322911],[215410,215414],[498574,498660],[224324,224413],[229555,229609],[405756,405807],[132451,132530],[390410,390472],[240113,240173],[350335,350421],[382225,382289],[290944,291000],[332140,332240],[381999,382037],[349662,349692],[387599,387635],[201040,201061],[372889,372955],[46866,46903],[45662,45758],[237651,237745],[536717,536812],[333409,333412],[131197,131247],[80165,80226],[401821,401892],[149020,149088],[397988,398070],[164223,164244],[256044,256111],[129694,129703],[90657,90699],[129009,129013],[107355,107423],[75114,75130],[534693,534695],[315804,315837],[359681,359724],[492303,492401],[233735,233824],[208851,208939],[280140,280184],[102190,102205],[73835,73893],[365954,365999],[280925,280985],[433903,433987],[203751,203813],[302,402],[324339,324371],[59356,59455],[409069,409088],[240292,240342],[376172,376181],[272706,272787],[177436,177447],[496869,496941],[145802,145808],[279378,279387],[129217,129238],[199515,199557],[50687,50729],[47859,47936],[204789,204820],[118098,118153],[197322,197388],[220671,220700],[160174,160194],[76548,76564],[545726,545734],[172895,172968],[479076,479123],[476999,477099],[549835,549902],[130859,130910],[74739,74780],[513992,513994],[348908,348948],[400001,400034],[292701,292742],[525819,525891],[201730,201782],[168329,168360],[177502,177510],[137291,137341],[428296,428313],[372693,372730],[279900,279989],[371924,372022],[36492,36531],[442242,442260],[162979,163022],[129806,129870],[546249,546306],[436435,436520],[356808,356906],[303212,303239],[421779,421863],[99157,99209],[341540,341611],[183885,183950],[31279,31324],[245425,245475],[24615,24632],[86278,86324],[387365,387370],[197842,197849],[312715,312779],[110672,110705],[330537,330628],[202065,202132],[345210,345264],[414780,414816],[249035,249039],[190873,190883],[96696,96723],[19946,19982],[287079,287090],[283594,283600],[44504,44531],[156607,156645],[260961,260999],[492200,492206],[237781,237851],[414101,414133],[168460,168496],[125042,125080],[514906,514939],[176809,176812],[496982,496990],[550795,550860],[70527,70548],[482618,482633],[32104,32173],[117819,117839],[432247,432280],[340422,340445],[293512,293603],[160856,160905],[419735,419758],[545493,545567],[473988,474054],[193158,193205],[364615,364682],[334032,334082],[404128,404214],[479877,479911],[544831,544840],[93322,93421],[247987,247999],[233204,233244],[225608,225623],[111524,111589],[341896,341982],[446461,446527],[432844,432895],[444980,445047],[196895,196927],[398860,398919],[147962,147983],[419191,419237],[529499,529583],[93116,93160],[372257,372297],[292157,292251],[203929,204024],[550671,550700],[145652,145745],[206182,206195],[30817,30885],[352708,352764],[483700,483706],[114947,115033],[110861,110936],[494747,494774],[25383,25453],[87644,87650],[116071,116151],[78147,78187],[421627,421684],[514289,514378],[444575,444651],[468399,468495],[194541,194632],[85758,85810],[101292,101361],[409891,409922],[173585,173636],[162864,162919],[79973,80046],[381662,381737],[333300,333308],[223744,223800],[471290,471348],[5786,5877],[474722,474773],[53923,53953],[317666,317701],[151811,151840],[504180,504190],[270492,270554],[13541,13638],[84151,84206],[417875,417958],[250391,250397],[119760,119776],[220312,220356],[159178,159263],[113862,113928],[168016,168041],[404022,404038],[246373,246461],[72065,72125],[156362,156424],[188040,188130],[493061,493118],[125619,125697],[125175,125246],[239595,239613],[440684,440703],[469793,469893],[143898,143997],[186469,186540],[485257,485308],[540852,540902],[207406,207489],[229467,229551],[454744,454798],[413060,413151],[346857,346926],[340228,340244],[248182,248228],[138981,138990],[170774,170861],[78775,78785],[299463,299518],[167985,168013],[481047,481126],[455000,455028],[934,985],[290682,290698],[54411,54501],[64330,64370],[418900,418921],[125334,125379],[47112,47147],[232620,232713],[213179,213242],[447653,447731],[391195,391216],[167851,167890],[301946,302015],[20081,20116],[112406,112493],[32179,32183],[161356,161378],[326859,326929],[248966,248995],[352219,352291],[549063,549105],[308260,308331],[32362,32436],[265184,265242],[524037,524099],[178068,178159],[385471,385476],[466317,466404],[109206,109226],[125393,125458],[499809,499857],[150820,150858],[297752,297785],[483986,484074],[318748,318827],[545808,545904],[167021,167092],[91991,92027],[199917,199922],[172969,172988],[385682,385741],[224743,224762],[360839,360928],[284292,284386],[361347,361367],[233018,233042],[504112,504171],[321755,321777],[358639,358642],[61418,61472],[104080,104125],[4676,4712],[279401,279461],[416479,416490],[534374,534405],[212654,212693],[25454,25485],[66165,66244],[97599,97608],[409148,409167],[83746,83778],[401617,401667],[492504,492545],[273602,273627],[282932,282975],[358595,358637],[111658,111713],[60126,60160],[479280,479327],[406268,406292],[372607,372652],[214799,214843],[217574,217605],[533417,533443],[453024,453104],[208313,208339],[193412,193435],[16128,16162],[377631,377702],[54156,54186],[343779,343838],[274858,274889],[254605,254631],[515819,515893],[47067,47073],[23749,23821],[83941,83977],[316485,316576],[485586,485681],[365365,365417],[232857,232890],[121285,121339],[13893,13987],[430224,430257],[72928,72970],[279728,279734],[545233,545264],[309465,309514],[151286,151358],[267216,267305],[242747,242774],[47425,47478],[56662,56746],[173640,173674],[171062,171069],[494533,494603],[281780,281803],[209241,209293],[236400,236420],[60978,61010],[384357,384454],[152153,152220],[97391,97486],[429031,429109],[58084,58110],[192096,192179],[380337,380356],[300410,300499],[488728,488827],[325389,325404],[135618,135718],[526703,526788],[462244,462247],[373051,373111],[383832,383862],[473562,473629],[253688,253766],[183951,183991],[324098,324187],[19011,19012],[530249,530296],[342853,342864],[110729,110763],[538189,538200],[60095,60101],[388926,388986],[102323,102384],[191626,191717],[167165,167259],[156788,156789],[183672,183745],[243873,243893],[9256,9290],[396354,396432],[412640,412675],[395430,395480],[469431,469505],[492229,492248],[471879,471951],[269418,269451],[223964,224035],[53387,53478],[373312,373328],[135389,135421],[517912,517978],[534626,534633],[104686,104687],[177107,177151],[442270,442349],[315387,315467],[145193,145243],[391802,391895],[206910,206949],[541762,541853],[148595,148645],[441732,441787],[225544,225600],[38473,38513],[526798,526892],[460895,460943],[174766,174816],[325286,325381],[107661,107740],[29311,29343],[38206,38301],[418793,418809],[161849,161925],[535705,535783],[312057,312079],[447579,447650],[128430,128524],[491905,491995],[153617,153690],[208234,208284],[522823,522901],[455126,455177],[164272,164335],[547367,547413],[430703,430718],[515370,515444],[468218,468305],[75625,75718],[70328,70377],[210791,210799],[244472,244503],[540618,540674],[451269,451341],[376003,376074],[26328,26349],[407190,407227],[121820,121915],[5282,5377],[143697,143762],[443925,444007],[513813,513821],[192049,192056],[437833,437933],[512312,512412],[331611,331676],[543297,543383],[7531,7604],[88898,88957],[483596,483606],[380184,380198],[290161,290217],[302287,302307],[239151,239175],[109337,109384],[186723,186767],[323351,323386],[412721,412806],[498436,498485],[25751,25784],[439431,439511],[550991,551067],[406956,406991],[425471,425518],[49161,49235],[150714,150795],[228061,228066],[52326,52328],[312564,312578],[144803,144881],[194773,194846],[528496,528546],[243895,243917],[456956,457023],[170199,170284],[276401,276444],[342998,343083],[232011,232069],[155200,155231],[29035,29101],[39320,39343],[2585,2683],[221172,221245],[430905,430986],[87951,87986],[323414,323415],[94192,94285],[190711,190806],[432580,432636],[159814,159904],[51366,51430],[520274,520278],[144925,144969],[294362,294390],[279834,279870],[119671,119710],[98879,98936],[268349,268355],[300499,300527],[59877,59959],[545316,545395],[149933,149969],[79109,79153],[247748,247813],[293269,293311],[353829,353885],[265322,265380],[116564,116653],[49967,50008],[252808,252896],[363329,363394],[391590,391615],[499015,499017],[413905,413961],[414671,414758],[508669,508744],[456414,456511],[191416,191514],[260887,260958],[283759,283829],[172992,173078],[309136,309230],[434425,434505],[352879,352979],[182039,182120],[270636,270643],[480702,480760],[143053,143066],[222428,222510],[74582,74590],[179528,179560],[70094,70146],[4774,4819],[497553,497576],[173814,173908],[278772,278869],[287143,287154],[536899,536989],[44630,44664],[1216,1245],[87388,87447],[109659,109716],[383690,383701],[38068,38116],[263247,263344],[511570,511571],[337751,337770],[179796,179864],[235544,235562],[68776,68777],[333676,333759],[227758,227819],[21416,21454],[535945,535993],[171190,171271],[237459,237473],[220929,220945],[195715,195793],[121061,121103],[28752,28753],[345907,345983],[186316,186380],[287071,287077],[397573,397639],[144276,144349],[321983,322018],[458245,458312],[500602,500622],[103413,103457],[252686,252709],[75718,75779],[361671,361684],[343988,344048],[160732,160818],[299036,299085],[378213,378288],[199879,199913],[415572,415619],[122349,122393],[368705,368731],[227421,227518],[73246,73318],[58117,58199],[37745,37794],[347201,347240],[314873,314967],[139283,139295],[451924,451997],[312383,312410],[184471,184520],[115433,115467],[51728,51814],[121343,121368],[440377,440472],[216615,216647],[102792,102808],[241868,241889],[30998,31020],[180552,180596],[422757,422855],[165290,165319],[288969,289048],[471619,471650],[227526,227548],[302957,302966],[420263,420355],[431131,431198],[264375,264435],[524797,524832],[486473,486492],[110577,110666],[90781,90835],[322026,322070],[259548,259572],[290882,290937],[260771,260826],[48924,48990],[505449,505472],[493410,493444],[519813,519825],[188395,188419],[148484,148540],[311082,311179],[136314,136365],[90418,90481],[531808,531812],[430692,430697],[373131,373229],[260867,260881],[412583,412640],[154004,154042],[15422,15470],[139459,139493],[26472,26561],[536202,536209],[127520,127562],[90078,90136],[539986,539998],[289189,289228],[241210,241253],[343447,343489],[269007,269062],[118192,118213],[451999,452025],[325065,325101],[125384,125390],[292431,292459],[222171,222229],[453712,453786],[288524,288535],[40179,40261],[199204,199211],[2767,2778],[386117,386207],[97613,97632],[197980,197999],[147992,148015],[307672,307712],[293759,293821],[110282,110284],[287488,287516],[179459,179521],[234399,234410],[213840,213924],[503833,503858],[113239,113240],[519963,520036],[482027,482119],[308148,308230],[370631,370678],[103619,103711],[376109,376162],[294014,294066],[380031,380048],[401753,401816],[120945,121031],[291144,291193],[158225,158249],[178925,179013],[437329,437359],[144226,144241],[373542,373611],[169482,169509],[452025,452118],[435378,435457],[396853,396860],[387543,387563],[6406,6429],[353890,353954],[262949,262974],[421865,421874],[277372,277456],[431713,431784],[494345,494430],[223246,223341],[347133,347144],[496370,496457],[418778,418790],[326670,326742],[532052,532123],[392194,392225],[43476,43534],[190946,191028],[48752,48823],[123154,123223],[471138,471198],[95838,95855],[495495,495588],[473255,473329],[297972,297975],[401103,401147],[210271,210346],[119298,119372],[451044,451104],[496366,496370],[78470,78499],[203819,203865],[402545,402621],[193603,193685],[120687,120706],[345266,345349],[383346,383374],[102623,102678],[332882,332940],[72912,72913],[375949,375995],[175089,175112],[34301,34303],[445225,445303],[227628,227646],[456609,456637],[162086,162088],[93937,94024],[166636,166678],[386860,386885],[423335,423401],[151440,151443],[475952,475959],[175512,175569],[215866,215926],[155898,155946],[426344,426353],[144624,144722],[149468,149548],[294461,294549],[522138,522157],[93010,93100],[199725,199823],[219746,219814],[416272,416346],[528309,528403],[500914,500974],[535421,535493],[39202,39279],[456881,456925],[472118,472156],[289380,289457],[408327,408351],[494476,494522],[120838,120848],[450666,450669],[153699,153787],[354313,354406],[45758,45768],[50392,50455],[145525,145620],[453923,454006],[291418,291489],[239808,239904],[261823,261903],[272841,272877],[220700,220782],[417000,417020],[102744,102786],[529076,529133],[41179,41207],[307970,307976],[432008,432053],[184194,184274],[42518,42535],[273411,273413],[148772,148851],[76528,76543],[91295,91380],[321475,321514],[367740,367760],[282851,282927],[103998,104064],[508010,508057],[495413,495488],[191960,192046],[213740,213780],[394043,394087],[505385,505407],[79605,79691],[40839,40917],[396861,396915],[545575,545576],[286320,286357],[461422,461481],[272505,272531],[305134,305209],[438288,438297],[141038,141122],[352986,353028],[46781,46795],[141479,141499],[355336,355383],[426511,426606],[171662,171741],[552024,552111],[143602,143630],[408457,408551],[7981,8014],[277304,277362],[526655,526702],[422666,422756],[523474,523483],[227962,228055],[261199,261203],[177539,177568],[488143,488240],[127571,127656],[25785,25869],[537461,537482],[253646,253682],[499738,499802],[431945,432000],[73106,73117],[201485,201506],[488039,488134],[252919,252938],[417702,417750],[502593,502610],[493793,493891],[82494,82505],[463616,463695],[110489,110571],[520662,520752],[441065,441139],[5658,5701],[18109,18125],[410211,410302],[281901,281978],[62295,62364],[396168,396239],[543693,543791],[176976,177046],[334671,334760],[286526,286610],[487259,487309],[47744,47745],[118038,118093],[248698,248745],[232589,232616],[366487,366489],[186555,186619],[223423,223498],[127157,127216],[152645,152652],[207815,207869],[148742,148768],[318387,318465],[208582,208617],[87274,87333],[19804,19842],[280439,280501],[410025,410096],[205220,205269],[39975,40064],[74926,74974],[183322,183362],[474533,474612],[220820,220910],[450184,450231],[382849,382880],[505647,505716],[133844,133907],[466607,466629],[148296,148385],[262251,262272],[146617,146709],[98619,98646],[540610,540614],[300872,300939],[97267,97314],[120763,120832],[550754,550794],[94592,94610],[395798,395884],[470368,470459],[392309,392373],[182546,182644],[79694,79716],[159553,159602],[253547,253615],[473949,473986],[421328,421373],[514636,514708],[540846,540851],[486607,486702],[545735,545747],[524468,524558],[284910,284935],[153145,153192],[369790,369884],[528645,528648],[422913,423008],[334950,334955],[344313,344344],[14750,14798],[141992,142014],[434577,434663],[314459,314522],[224541,224612],[448684,448767],[539110,539186],[299088,299153],[78611,78663],[40695,40792],[56099,56183],[496815,496866],[145355,145393],[417647,417689],[161268,161326],[331107,331195],[349192,349222],[149989,150032],[457886,457949],[80458,80540],[360937,360987],[221490,221505],[317435,317471],[249870,249873],[36622,36689],[111871,111925],[367676,367677],[376664,376694],[2369,2440],[524184,524282],[289662,289684],[368930,368968],[38569,38572],[89588,89611],[313414,313464],[494217,494244],[464634,464720],[15252,15264],[28795,28853],[199565,199633],[149638,149701],[127932,127959],[226680,226729],[319177,319193],[291022,291118],[341992,342031],[548309,548399],[246997,247004],[284993,285013],[418600,418650],[285458,285531],[465115,465187],[426359,426412],[38834,38873],[257507,257537],[61712,61773],[139140,139151],[206992,207018],[161052,161132],[434793,434830],[79487,79538],[29802,29870],[35874,35956],[87128,87158],[301344,301402],[281366,281449],[74201,74298],[171975,172003],[477555,477643],[133627,133670],[49436,49489],[219042,219068],[220607,220670],[366406,366427],[372156,372209],[536820,536892],[307713,307779],[94900,94956],[294559,294585],[244997,245037],[460284,460383],[228830,228836],[455926,455945],[7715,7765],[499858,499920],[437359,437440],[44002,44055],[378390,378485],[373687,373695],[310612,310675],[483010,483054],[126224,126253],[344604,344639],[500330,500427],[291400,291413],[116158,116188],[282779,282849],[124287,124344],[147383,147415],[518675,518760],[308453,308468],[521373,521410],[478305,478359],[285806,285902],[249001,249035],[235817,235906],[309238,309279],[125960,126003],[123655,123663],[461540,461560],[413154,413244],[319203,319226],[268604,268690],[512145,512161],[433116,433128],[432718,432816],[521578,521652],[351433,351484],[296109,296194],[381171,381202],[360792,360811],[158146,158221],[136050,136071],[379477,379567],[297262,297322],[67448,67450],[435609,435669],[33819,33904],[449896,449991],[387849,387930],[150943,151004],[461783,461791],[184073,184139],[415113,415188],[520461,520470],[385229,385288],[350517,350610],[214475,214552],[391619,391687],[374383,374476],[323388,323412],[466755,466851],[265971,266057],[203469,203515],[119868,119965],[7387,7459],[315894,315968],[197577,197592],[215301,215316],[542576,542651],[351006,351009],[394635,394689],[217860,217864],[112168,112171],[469553,469621],[242268,242354],[437667,437751],[224114,224126],[64374,64409],[152501,152532],[235913,235949],[39877,39956],[217521,217567],[234612,234711],[361493,361552],[201227,201238],[193702,193754],[78042,78076],[447182,447263],[34669,34673],[381362,381388],[16097,16122],[26240,26318],[159,259],[303985,304049],[91681,91757],[205378,205397],[437938,438006],[215721,215761],[276136,276210],[269256,269312],[340014,340060],[475107,475144],[147858,147873],[57016,57101],[13995,14004],[428148,428167],[181131,181179],[284204,284290],[371810,371820],[389451,389463],[541152,541247],[130249,130268],[204178,204256],[163027,163079],[128585,128660],[96992,96998],[370987,371069],[430619,430683],[374154,374197],[425962,426040],[340449,340537],[368060,368087],[116210,116299],[326831,326849],[434835,434903],[43291,43328],[96812,96832],[244987,244994],[244103,244189],[500697,500737],[50106,50202],[98539,98597],[107558,107645],[408239,408324],[148543,148551],[529000,529057],[486375,486471],[342094,342169],[533881,533911],[322136,322227],[129322,129379],[253513,253537],[137847,137880],[369520,369530],[96561,96633],[412222,412287],[371791,371807],[71348,71349],[99041,99087],[196753,196837],[231240,231288],[427582,427641],[508874,508968],[99446,99509],[102187,102189],[127846,127930],[98048,98111],[200029,200080],[501728,501776],[312270,312330],[429300,429389],[68136,68142],[230165,230179],[499241,499248],[427162,427251],[230679,230753],[1863,1956],[323498,323518],[345587,345640],[46046,46080],[443597,443621],[51816,51850],[391696,391748],[364724,364749],[400310,400334],[395005,395033],[141614,141700],[179018,179061],[129381,129411],[72512,72542],[52506,52589],[341035,341126],[373115,373126],[506103,506185],[322246,322258],[141344,141436],[347311,347405],[10070,10149],[98117,98189],[382523,382565],[533365,533417],[117697,117704],[407957,407972],[317606,317631],[431298,431307],[265033,265051],[227326,227411],[460746,460839],[102471,102569],[488507,488518],[249524,249527],[482318,482383],[131072,131155],[231291,231365],[270275,270309],[94521,94551],[255249,255256],[52497,52504],[550502,550593],[375482,375511],[404269,404279],[241956,241998],[218805,218883],[190649,190701],[402622,402668],[120647,120650],[140009,140025],[502659,502684],[337351,337371],[100355,100399],[13032,13104],[414822,414877],[98193,98287],[437558,437658],[484926,484928],[543392,543480],[50267,50314],[224697,224738],[187703,187803],[248543,248628],[504020,504094],[462062,462162],[193520,193598],[401070,401102],[319556,319571],[273448,273533],[547061,547138],[428983,429029],[525276,525326],[36195,36247],[228442,228486],[376810,376872],[275495,275571],[168716,168810],[412290,412376],[278956,278998],[169759,169852],[153486,153530],[115284,115331],[155712,155738],[241561,241643],[535783,535871],[529753,529783],[94498,94517],[81698,81784],[373900,373999],[261688,261707],[498325,498373],[199017,199078],[324962,325055],[309656,309709],[399052,399079],[236225,236228],[471956,472029],[414885,414914],[328252,328331],[339450,339532],[399588,399593],[187145,187219],[36324,36386],[383274,383336],[413347,413383],[144445,144482],[116403,116470],[160639,160653],[173171,173187],[529224,529237],[355876,355932],[188246,188301],[93828,93924],[291855,291945],[518574,518591],[68692,68708],[49493,49531],[452900,452995],[78705,78770],[101510,101602],[490773,490868],[165567,165639],[273153,273244],[457870,457878],[59703,59780],[445501,445590],[113131,113185],[481641,481726],[192589,192620],[416559,416629],[389949,389990],[439516,439584],[503583,503663],[412182,412218],[379415,379476],[339374,339447],[84213,84294],[198928,198942],[108447,108525],[438679,438721],[308562,308581],[502989,503015],[1693,1706],[54044,54081],[453792,453812],[536000,536091],[289538,289593],[283263,283354],[20349,20405],[183188,183250],[465669,465722],[66978,67049],[75307,75363],[485687,485758],[194247,194320],[25337,25373],[431899,431914],[281864,281901],[208284,208303],[172602,172685],[168819,168883],[61327,61343],[159267,159298],[249577,249657],[428170,428250],[277569,277668],[129937,129969],[107086,107107],[387001,387036],[337089,337151],[129247,129316],[356641,356660],[227823,227899],[133506,133513],[308237,308250],[396439,396474],[401940,402015],[304807,304873],[177359,177434],[260356,260420],[329536,329560],[250582,250670],[274496,274541],[18127,18208],[116727,116761],[362901,362971],[291197,291223],[194950,194977],[457501,457567],[421532,421623],[535407,535417],[239906,239997],[494603,494658],[168281,168329],[138413,138461],[6433,6500],[454271,454306],[86560,86603],[324784,324874],[124638,124675],[280835,280917],[29702,29757],[317385,317431],[226085,226174],[248896,248928],[7678,7699],[71707,71794],[342178,342179],[36607,36618],[262385,262461],[368240,368328],[421440,421523],[437254,437324],[280192,280248],[431202,431290],[513707,513748],[65858,65940],[265250,265313],[306995,307043],[496611,496689],[225223,225225],[507677,507690],[144890,144892],[40600,40691],[281261,281357],[476620,476686],[345047,345056],[276735,276752],[344495,344594],[171328,171351],[329113,329114],[56361,56458],[160993,161037],[240873,240935],[120378,120406],[20506,20565],[505144,505232],[360408,360486],[520092,520153],[202510,202580],[377942,378023],[229737,229828],[238879,238957],[540120,540209],[295086,295098],[21635,21638],[419576,419608],[254025,254100],[3655,3733],[31324,31387],[152020,152080],[280254,280321],[104202,104222],[537620,537624],[496943,496958],[164335,164401],[46090,46150],[384176,384262],[332381,332453],[358648,358660],[176184,176216],[485416,485431],[377255,377275],[453665,453712],[475969,475975],[272380,272431],[506874,506914],[381466,381530],[316284,316301],[508790,508871],[115360,115429],[418555,418592],[542156,542226],[303011,303050],[39087,39167],[82049,82075],[152540,152560],[485972,486041],[222767,222826],[179597,179650],[496979,496981],[82737,82762],[358664,358731],[24127,24151],[255675,255695],[480004,480074],[546914,546919],[488404,488447],[128284,128338],[118980,119056],[6727,6753],[263148,263199],[18445,18460],[489154,489194],[463806,463877],[547880,547922],[202187,202253],[108779,108781],[4822,4841],[26692,26790],[423668,423736],[407614,407693],[432369,432449],[380251,380313],[118216,118300],[30333,30357],[123612,123645],[67526,67589],[59600,59684],[36540,36549],[48536,48618],[453554,453601],[451347,451351],[402668,402675],[356292,356311],[247459,247550],[424338,424379],[520155,520184],[414218,414222],[399277,399305],[155745,155760],[92600,92662],[134298,134303],[42738,42827],[189668,189753],[488903,488983],[8145,8218],[389056,389154],[214673,214682],[152972,153021],[72549,72643],[232471,232489],[73151,73152],[486244,486283],[99633,99728],[293119,293215],[77455,77511],[188516,188584],[407165,407181],[342037,342094],[314822,314843],[529213,529221],[317302,317382],[490997,491041],[344646,344660],[132874,132970],[477109,477170],[418292,418364],[114157,114214],[507617,507642],[477391,477453],[368023,368060],[272880,272902],[424034,424116],[492405,492413],[502231,502320],[442804,442882],[24932,24944],[200135,200177],[551801,551834],[255398,255449],[33238,33291],[153436,153472],[216790,216832],[498720,498758],[210776,210783],[117952,118033],[389769,389869],[25180,25223],[131249,131265],[56466,56501],[178209,178262],[72261,72330],[445394,445494],[152088,152144],[101153,101193],[292316,292383],[1062,1066],[236562,236617],[165940,165999],[461055,461102],[423218,423245],[407,445],[438407,438482],[487313,487406],[27772,27826],[226890,226984],[18472,18478],[294109,294206],[22326,22377],[18952,18961],[105009,105044],[203290,203326],[494780,494782],[108149,108203],[287934,288012],[476348,476420],[11071,11153],[399488,399578],[405809,405870],[313519,313529],[388844,388920],[74100,74197],[318684,318705],[441372,441403],[288782,288790],[38349,38437],[477938,478017],[351633,351653],[258477,258514],[521753,521838],[534957,534978],[473835,473906],[497453,497549],[66721,66740],[247696,247716],[370216,370249],[32547,32600],[134950,134985],[278871,278947],[374001,374092],[88544,88567],[36122,36188],[527800,527828],[298874,298875],[500977,501003],[544768,544829],[298488,298518],[9178,9253],[450676,450743],[162582,162641],[136987,137004],[429188,429252],[52270,52323],[129600,129687],[133752,133839],[167725,167728],[328482,328504],[370525,370573],[416470,416479],[464557,464632],[345160,345204],[255803,255878],[467277,467300],[74592,74674],[235275,235341],[86967,87019],[130165,130242],[239545,239592],[420750,420814],[304994,305013],[48336,48379],[442001,442034],[487548,487557],[534755,534839],[399224,399225],[122064,122092],[77107,77174],[480250,480320],[110944,111026],[57976,57991],[511315,511328],[271930,271991],[276452,276528],[63387,63480],[272905,272971],[527833,527837],[492420,492504],[378525,378572],[258610,258628],[416900,416996],[379238,379270],[322230,322241],[158584,158639],[483610,483650],[331794,331876],[444651,444708],[375767,375836],[21750,21760],[283468,283481],[398575,398592],[215420,215477],[376946,376948],[337211,337213],[344885,344914],[423018,423080],[175955,176043],[274330,274380],[362471,362473],[48036,48114],[138109,138135],[440819,440821],[292469,292563],[365296,365363],[241349,241369],[432056,432152],[258322,258328],[125523,125538],[225164,225212],[121616,121628],[15944,15993],[124014,124045],[415767,415807],[89554,89586],[135174,135258],[458581,458662],[423411,423495],[446279,446333],[33446,33512],[392952,393030],[442588,442591],[183039,183088],[512641,512644],[163179,163277],[380241,380245],[524172,524182],[303854,303881],[366678,366699],[8492,8559],[196046,196108],[54306,54350],[408882,408969],[144127,144226],[252902,252916],[94764,94802],[43425,43471],[67240,67306],[288230,288310],[171074,171136],[243096,243130],[484537,484607],[246462,246488],[349507,349527],[255263,255277],[312691,312705],[373809,373895],[310043,310113],[76094,76124],[419049,419131],[56505,56577],[155950,155999],[357977,358024],[415340,415408],[243657,243665],[175115,175169],[218212,218246],[460883,460890],[212021,212091],[515957,516052],[403049,403098],[242860,242958],[307482,307498],[302937,302951],[90555,90607],[462411,462492],[205638,205703],[465645,465662],[213975,213989],[26146,26233],[434400,434416],[83240,83336],[109586,109600],[530042,530060],[73016,73025],[91758,91806],[451440,451464],[138170,138207],[519114,519212],[170700,170765],[220916,220921],[509962,509993],[426697,426776],[486078,486161],[235950,235968],[411090,411120],[441939,441951],[234161,234228],[273668,273768],[268868,268897],[547419,547505],[331370,331401],[507261,507310],[479963,480002],[490289,490339],[150867,150939],[178630,178717],[78420,78454],[523108,523111],[114048,114077],[494082,494106],[8372,8413],[195456,195498],[399399,399422],[269077,269131],[482634,482720],[304233,304256],[493560,493642],[470848,470895],[27323,27414],[17943,18028],[538556,538643],[21769,21842],[139153,139161],[53000,53069],[203874,203920],[136918,136977],[108627,108705],[266066,266071],[381883,381977],[424954,424996],[269140,269229],[306270,306274],[308420,308429],[225967,226017],[400773,400811],[70150,70176],[442781,442785],[82428,82490],[421015,421101],[443273,443353],[330928,330971],[410804,410820],[77021,77100],[16537,16582],[121724,121812],[259073,259130],[5883,5914],[40261,40348],[11531,11592],[323813,323892],[332941,333031],[216463,216547],[288110,288170],[551643,551725],[25942,26006],[174365,174383],[521166,521217],[112724,112763],[364400,364429],[179897,179924],[475700,475716],[537912,537914],[349798,349864],[31455,31545],[74780,74802],[164406,164447],[511329,511360],[78785,78811],[377277,377366],[167375,167384],[152230,152315],[404738,404820],[544367,544417],[169594,169663],[550709,550714],[512421,512485],[490729,490767],[108250,108258],[133316,133399],[328340,328437],[263694,263724],[289763,289833],[480084,480121],[451173,451192],[347643,347715],[163925,164024],[540209,540222],[44984,45060],[479165,479228],[494290,494337],[195707,195712],[58582,58679],[76565,76588],[52180,52266],[356703,356723],[499251,499349],[370860,370869],[382992,383077],[54355,54409],[263873,263970],[164596,164653],[311955,312008],[508090,508138],[113286,113381],[411432,411493],[97989,98042],[152406,152501],[241067,241128],[38968,38981],[274695,274713],[376948,377016],[445057,445119],[266680,266758],[229613,229644],[545062,545082],[269455,269526],[357161,357170],[121036,121051],[122749,122813],[449457,449477],[536613,536670],[172544,172576],[417028,417031],[530066,530100],[458402,458436],[433817,433881],[169682,169753],[444834,444874],[27633,27727],[474271,474325],[264437,264537],[124429,124430],[251961,252014],[254412,254420],[357266,357334],[454713,454737],[527861,527937],[85485,85537],[204257,204316],[60341,60355],[277212,277295],[120580,120641],[443020,443028],[498955,498962],[23828,23849],[31613,31702],[38011,38068],[140479,140537],[510334,510369],[327788,327804],[35956,35963],[200704,200785],[409308,409341],[263559,263605],[363259,363303],[114553,114569],[63483,63558],[539447,539474],[58489,58580],[117346,117399],[148103,148192],[470762,470840],[241044,241061],[320331,320399],[512867,512887],[324921,324934],[150688,150712],[54697,54775],[79018,79099],[458444,458468],[5075,5130],[540285,540343],[290843,290875],[214187,214256],[57454,57551],[340361,340413],[80814,80855],[490562,490573],[499930,500003],[490662,490690],[87996,88055],[482722,482807],[375633,375687],[367012,367092],[444007,444071],[156903,156936],[78814,78893],[519832,519919],[537757,537845],[539930,539947],[370496,370523],[191807,191865],[385748,385755],[143468,143514],[62058,62076],[267472,267543],[459377,459413],[69338,69378],[349638,349659],[367552,367569],[288856,288883],[520284,520358],[94079,94130],[54782,54851],[288050,288109],[66100,66155],[303352,303421],[36912,36932],[100283,100353],[345417,345431],[68853,68936],[188868,188915],[95908,96001],[134389,134412],[415673,415759],[514464,514490],[301860,301919],[62226,62295],[481622,481637],[385421,385438],[374986,375003],[287387,287484],[57326,57383],[405689,405743],[469100,469119],[433129,433197],[87866,87926],[154859,154878],[442034,442101],[70887,70981],[276228,276327],[122526,122595],[223905,223958],[509467,509533],[393574,393627],[177818,177841],[50207,50231],[114224,114250],[83026,83034],[343624,343634],[143687,143696],[154888,154968],[83979,83991],[51706,51725],[365087,365183],[502195,502221],[444510,444566],[226610,226676],[90880,90973],[26012,26096],[75366,75396],[486537,486606],[146082,146146],[268512,268544],[482432,482501],[371161,371183],[39496,39525],[378632,378687],[427569,427574],[299361,299393],[395421,395429],[495302,495353],[130270,130362],[491457,491504],[323320,323349],[386892,386991],[52769,52829],[128857,128901],[168884,168894],[178382,178441],[338314,338408],[289228,289296],[119447,119502],[343566,343619],[60635,60641],[304262,304355],[259194,259222],[211140,211240],[14295,14384],[421382,421435],[417506,417573],[508587,508610],[39529,39568],[129875,129936],[158052,158071],[107002,107041],[185625,185683],[448582,448647],[503500,503576],[60362,60391],[200795,200885],[466861,466888],[19574,19595],[520925,520981],[257952,257982],[529204,529205],[228095,228097],[519000,519028],[301255,301342],[189911,189914],[363304,363326],[44429,44436],[539429,539440],[240941,240955],[465428,465498],[44151,44197],[345057,345150],[246253,246341],[258940,259004],[342202,342232],[262502,262516],[170021,170121],[334284,334378],[220112,220120],[17195,17275],[294999,295080],[60162,60169],[322729,322747],[75780,75799],[365867,365887],[474328,474352],[116763,116774],[505242,505284],[479689,479780],[353137,353165],[433380,433441],[187273,187295],[490347,490392],[122518,122524],[219020,219038],[77183,77237],[436221,436282],[442725,442776],[372085,372156],[84623,84651],[214759,214771],[439855,439939],[349968,350048],[160707,160724],[124134,124224],[136839,136862],[139755,139798],[169941,169961],[503140,503151],[284466,284545],[551329,551405],[318187,318218],[142719,142739],[541551,541607],[34575,34659],[39441,39453],[287773,287839],[499612,499683],[56320,56352],[206310,206380],[446422,446459],[415991,416004],[351968,352012],[328882,328926],[74829,74879],[100433,100472],[138998,139003],[383885,383959],[257295,257341],[523118,523130],[501116,501141],[379904,379978],[432823,432837],[193978,194040],[210645,210669],[99092,99147],[516054,516119],[143400,143452],[448560,448572],[147180,147273],[509300,509334],[9749,9776],[459804,459810],[230827,230925],[513005,513083],[211051,211074],[383380,383392],[280645,280659],[378106,378205],[262747,262825],[26843,26922],[396652,396670],[134708,134755],[181484,181511],[415194,415256],[206632,206705],[247068,247143],[85396,85397],[84485,84544],[408657,408665],[309883,309935],[134112,134198],[140176,140183],[228404,228434],[198002,198091],[18436,18441],[76588,76591],[442599,442635],[440710,440722],[69589,69602],[267643,267684],[4851,4893],[148401,148477],[159606,159637],[111815,111869],[469769,469784],[411222,411321],[34683,34714],[235117,235177],[495883,495915],[456925,456938],[49615,49686],[126398,126440],[210064,210078],[434075,434105],[309325,309359],[332257,332317],[371559,371633],[136712,136719],[81153,81156],[59091,59187],[44205,44217],[237176,237252],[526960,526985],[164447,164532],[532622,532719],[536092,536177],[549613,549653],[535222,535308],[288325,288335],[213086,213177],[413791,413837],[68018,68042],[248008,248070],[234350,234390],[441010,441037],[86613,86630],[272213,272254],[188585,188617],[404574,404577],[208187,208230],[206389,206425],[409171,409225],[14196,14218],[286671,286711],[488649,488718],[189283,189341],[264632,264698],[360343,360404],[147282,147358],[481302,481386],[521419,521479],[396483,396582],[61839,61867],[505289,505345],[505057,505142],[134025,134109],[511774,511872],[160083,160090],[7052,7095],[509782,509821],[372227,372243],[259654,259713],[84672,84683],[231064,231092],[495123,495140],[65123,65133],[112494,112523],[329825,329856],[344167,344256],[209122,209168],[375212,375241],[129511,129597],[106247,106326],[550602,550670],[323584,323618],[294714,294765],[241895,241910],[270806,270810],[360818,360835],[524684,524713],[521839,521873],[476529,476575],[183501,183515],[270206,270269],[158869,158877],[100755,100853],[90181,90209],[189571,189663],[270452,270483],[225633,225649],[385484,385516],[397735,397746],[92237,92314],[448911,448934],[403299,403338],[12937,13025],[290813,290843],[179874,179891],[206067,206141],[464320,464376],[228974,229039],[160824,160848],[348784,348870],[102395,102450],[181438,181474],[60304,60334],[376609,376662],[162092,162128],[252968,253000],[487564,487629],[11860,11919],[97641,97694],[395976,396019],[116926,117021],[211078,211132],[96841,96899],[258629,258659],[222977,223032],[177727,177734],[79538,79598],[458665,458746],[487633,487694],[470122,470218],[210878,210913],[190628,190648],[313782,313871],[214691,214759],[435464,435485],[164946,164970],[167260,167318],[218205,218209],[89152,89230],[201707,201721],[275618,275675],[496136,496208],[162243,162307],[479235,479270],[182401,182448],[367287,367379],[244202,244293],[340069,340138],[300940,300991],[354855,354922],[58199,58288],[119152,119232],[491108,491155],[159994,160023],[341309,341393],[523648,523742],[77880,77931],[171636,171652],[224875,224890],[438306,438350],[539359,539427],[331271,331324],[75907,75925],[384964,385037],[63739,63748],[1956,1957],[53956,54034],[38777,38824],[204563,204626],[340252,340351],[510382,510435],[361458,361484],[495966,496038],[351101,351157],[433449,433452],[293995,294014],[65521,65529],[452884,452895],[128209,128281],[63056,63061],[78669,78702],[133607,133619],[463518,463550],[446634,446720],[536517,536610],[297414,297472],[333768,333800],[84813,84901],[735,811],[89611,89624],[341646,341704],[446351,446368],[331201,331265],[271291,271365],[248630,248697],[188627,188700],[247312,247321],[162779,162855],[67114,67135],[468615,468685],[345393,345410],[518212,518297],[337997,338094],[291342,291383],[353960,354055],[28938,29026],[358737,358740],[126597,126638],[411585,411661],[344927,344960],[236155,236218],[331749,331788],[179294,179330],[319383,319461],[531445,531516],[204386,204439],[46451,46474],[484900,484916],[243949,243992],[215927,215963],[548193,548241],[259763,259849],[125701,125753],[101957,101983],[12164,12260],[122662,122699],[452500,452582],[395893,395969],[11331,11408],[186776,186862],[529978,530033],[53292,53386],[265551,265599],[367892,367903],[540435,540454],[409502,409590],[234253,234298],[163430,163503],[400538,400561],[357022,357028],[528033,528060],[343259,343302],[381039,381075],[299394,299454],[486041,486073],[113547,113626],[217979,218073],[368731,368784],[251153,251210],[544520,544563],[320691,320764],[439417,439423],[383663,383688],[190087,190094],[164745,164752],[524835,524898],[380071,380121],[238054,238095],[340890,340956],[470219,470277],[171139,171150],[194152,194247],[159359,159451],[134638,134703],[352097,352152],[95512,95572],[367913,367986],[198563,198658],[504907,504983],[131184,131197],[66399,66472],[17518,17530],[413522,413614],[533920,533976],[380923,380950],[239713,239721],[157704,157710],[369159,369199],[192962,193046],[191032,191107],[112763,112845],[542384,542473],[196345,196424],[392259,392299],[8652,8662],[162645,162693],[444723,444768],[416175,416263],[351882,351968],[305074,305132],[194379,194408],[26105,26136],[249290,249376],[73416,73472],[285590,285644],[91467,91566],[47361,47387],[383967,384027],[54501,54591],[519514,519602],[94291,94324],[163721,163790],[428782,428824],[367763,367805],[478578,478662],[546972,547011],[430341,430405],[284891,284904],[13463,13501],[199392,199473],[252249,252298],[263208,263247],[504581,504659],[34937,35007],[382680,382722],[430262,430341],[285358,285395],[333204,333293],[113023,113036],[459227,459306],[441140,441157],[34720,34805],[8016,8094],[42094,42119],[18685,18736],[192674,192699],[502378,502458],[498021,498093],[245480,245506],[436001,436010],[75219,75303],[144245,144274],[335988,336017],[433626,433690],[506513,506558],[334274,334275],[174505,174569],[27732,27738],[387978,388005],[384580,384666],[73896,73912],[420144,420212],[514716,514758],[160055,160076],[502467,502566],[261003,261022],[101867,101919],[391755,391760],[464724,464765],[380957,381029],[509869,509962],[549735,549805],[377533,377628],[238211,238230],[274481,274495],[225732,225784],[391404,391502],[381440,381464],[239224,239287],[120176,120205],[477250,477341],[427649,427747],[348870,348908],[2040,2102],[77826,77870],[61114,61197],[173740,173790],[451875,451917],[105537,105589],[164538,164587],[165138,165176],[160195,160264],[519781,519807],[47755,47800],[164757,164805],[213933,213946],[483716,483789],[395558,395571],[510991,511043],[25288,25307],[499358,499427],[306293,306360],[132826,132866],[465005,465076],[446728,446780],[494025,494073],[181089,181130],[474847,474910],[18460,18468],[488983,489030],[143072,143096],[295212,295240],[547016,547051],[296973,297006],[73153,73246],[548596,548693],[226183,226189],[91186,91195],[527942,527972],[449284,449378],[427258,427341],[471059,471132],[457327,457343],[420422,420451],[515023,515089],[510742,510825],[403960,403976],[212699,212772],[274718,274753],[460714,460742],[41062,41126],[405750,405751],[343302,343396],[136370,136446],[5920,5956],[531252,531342],[514765,514821],[283834,283933],[74308,74405],[51948,52035],[384701,384784],[235635,235636],[200642,200697],[317711,317752],[290267,290330],[468864,468959],[504104,504111],[308433,308448],[333491,333574],[388083,388129],[340720,340805],[225081,225154],[128908,129006],[458190,458240],[551102,551173],[44672,44679],[332668,332701],[309717,309776],[303549,303608],[405631,405639],[503673,503722],[66026,66032],[55454,55541],[334906,334949],[60391,60418],[27476,27544],[420031,420085],[370274,370292],[329804,329825],[227923,227953],[357932,357972],[237881,237936],[184540,184633],[50816,50842],[189454,189543],[250515,250548],[398113,398139],[89543,89548],[65531,65583],[13120,13215],[57993,58081],[169440,169473],[55566,55608],[122735,122749],[508364,508416],[429113,429184],[348358,348452],[132181,132251],[341213,341308],[295352,295426],[374552,374587],[10985,11069],[331040,331094],[392382,392479],[84360,84407],[35411,35423],[46157,46173],[322750,322768],[19846,19937],[208763,208844],[458313,458382],[106496,106550],[177270,177274],[24983,25046],[384793,384842],[198170,198211],[260658,260719],[13507,13539],[354092,354102],[259226,259259],[176280,176339],[107047,107080],[188737,188784],[169097,169130],[397344,397425],[457345,457411],[501324,501392],[313537,313552],[239466,239537],[124518,124596],[423080,423173],[98439,98530],[445975,446054],[400337,400419],[271719,271754],[62981,62995],[315628,315701],[291636,291672],[457639,457640],[123115,123152],[41003,41057],[355938,355980],[75805,75903],[59258,59346],[820,919],[88825,88863],[67504,67519],[394905,394977],[176341,176440],[155597,155661],[234236,234251],[300103,300171],[204542,204552],[301000,301066],[472806,472887],[45514,45577],[372653,372660],[9889,9989],[52461,52496],[337771,337853],[534091,534175],[219547,219630],[417316,417403],[12832,12836],[14932,14958],[112093,112123],[499178,499240],[8451,8482],[537492,537552],[202389,202449],[210079,210083],[49394,49436],[520756,520776],[351159,351203],[137262,137284],[364432,364496],[516881,516905],[250190,250197],[404944,405025],[59693,59702],[100481,100510],[73921,74009],[111201,111293],[222666,222761],[401669,401692],[235795,235808],[412864,412938],[5468,5564],[256405,256425],[442975,443015],[59684,59688],[237579,237649],[481213,481300],[223039,223096],[80671,80677],[37235,37316],[512037,512135],[77002,77020],[348021,348081],[294074,294107],[373701,373800],[29230,29270],[31389,31450],[192917,192955],[433307,433344],[353243,353315],[541455,541497],[60811,60907],[371244,371325],[318118,318183],[266081,266103],[442640,442643],[53486,53501],[233836,233932],[318227,318318],[349328,349341],[148920,148934],[549908,549948],[142688,142714],[330053,330104],[426920,426968],[395488,395556],[434510,434516],[176051,176126],[166055,166154],[166279,166365],[101407,101424],[314679,314732],[225309,225326],[543796,543895],[289302,289312],[397649,397731],[70387,70458],[426079,426086],[71084,71176],[189159,189211],[300392,300400],[373454,373539],[345439,345534],[460083,460085],[398801,398851],[149624,149628],[215052,215138],[38437,38466],[359483,359535],[287161,287257],[427757,427795],[146316,146355],[421155,421244],[66269,66298],[266892,266922],[545993,546075],[76591,76613],[492283,492295],[365777,365817],[478095,478195],[337863,337864],[403570,403668],[384262,384313],[383712,383772],[415092,415103],[347144,347200],[540556,540605],[492000,492045],[114415,114457],[208426,208430],[346675,346704],[445596,445648],[381530,381554],[157598,157667],[237938,237999],[131324,131393],[533268,533361],[503119,503139],[293317,293379],[101852,101867],[268473,268502],[260307,260339],[100159,100217],[176817,176863],[468309,468315],[402336,402371],[269541,269634],[527208,527221],[78209,78309],[432953,433020],[300644,300698],[354104,354189],[269239,269252],[16459,16537],[321783,321851],[416765,416832],[69175,69240],[249045,249089],[331405,331481],[241744,241770],[406699,406769],[199635,199686],[49124,49154],[124509,124518],[236318,236397],[522419,522504],[115807,115886],[125540,125614],[320504,320557],[549811,549830],[122821,122911],[227042,227102],[526147,526241],[62372,62440],[464116,464160],[255453,255526],[400119,400198],[520999,521073],[383597,383661],[187534,187632],[435245,435319],[376095,376101],[339542,339621],[219834,219915],[60425,60497],[230287,230362],[266270,266354],[236028,236079],[334433,334445],[484464,484528],[395690,395724],[198734,198824],[229955,230045],[531069,531089],[137751,137843],[469647,469657],[434904,434931],[347903,347973],[53584,53650],[488243,488284],[49876,49957],[287839,287926],[350686,350774],[337509,337564],[266924,267020],[160373,160473],[523275,523315],[392679,392716],[303069,303087],[71797,71890],[89999,90069],[495588,495633],[155760,155857],[438122,438192],[87735,87774],[521217,521224],[205850,205906],[290252,290263],[89766,89831],[378078,378101],[547505,547550],[461481,461539],[468058,468061],[139672,139753],[181284,181364],[15917,15941],[334499,334539],[441298,441311],[455,548],[467246,467267],[353447,353476],[89059,89149],[460541,460592],[441165,441173],[475290,475309],[382774,382783],[336900,336959],[82606,82681],[433203,433247],[389874,389944],[441405,441452],[283040,283115],[57157,57240],[72129,72191],[362770,362841],[516385,516470],[215852,215863],[52331,52363],[304152,304231],[68126,68134],[210351,210363],[179717,179795],[551837,551866],[83156,83233],[392807,392847],[379978,380031],[504201,504239],[281585,281646],[344154,344162],[444357,444395],[120913,120942],[109392,109398],[229371,229457],[312846,312915],[187650,187700],[351327,351425],[462495,462506],[309942,310036],[449878,449888],[459949,459973],[355555,355614],[329118,329184],[379857,379904],[247843,247906],[514381,514457],[442133,442184],[452995,453015],[364866,364917],[255644,255673],[229838,229925],[85401,85444],[541754,541761],[535172,535212],[216765,216781],[76130,76202],[352637,352708],[309363,309428],[216247,216315],[331484,331562],[385986,386057],[415256,415337],[159305,159349],[542768,542817],[464469,464549],[34805,34857],[207873,207950],[202384,202388],[395042,395054],[317523,317605],[297175,297197],[393338,393408],[352801,352875],[447961,448001],[360496,360554],[382175,382200],[244671,244751],[37625,37668],[402777,402794],[426607,426683],[126144,126220],[486341,486374],[95443,95502],[403983,404014],[460155,460173],[108213,108249],[528548,528555],[209967,210062],[398641,398652],[352440,352522],[424381,424419],[277521,277567],[423746,423842],[32607,32678],[466111,466148],[466057,466088],[359888,359923],[72201,72238],[158781,158867],[151366,151393],[448261,448321],[313331,313400],[98379,98403],[161750,161829],[13224,13273],[356733,356798],[375896,375939],[165701,165707],[108532,108533],[66793,66810],[539953,539961],[540990,541074],[158643,158711],[386212,386217],[330719,330801],[190890,190941],[220356,220456],[236797,236823],[311441,311442],[76621,76695],[120656,120683],[301587,301669],[300530,300628],[66672,66719],[543166,543242],[502852,502873],[414253,414260],[245563,245644],[247815,247829],[389495,389510],[530644,530723],[241476,241531],[65449,65519],[231171,231233],[362979,363009],[50235,50259],[82772,82850],[395125,395166],[289993,290089],[552235,552311],[458995,459044],[326932,326977],[75396,75437],[368575,368606],[147883,147945],[274761,274854],[292838,292923],[67893,67941],[403369,403452],[418931,418948],[124676,124771],[544869,544897],[218182,218203],[408352,408357],[10561,10640],[393418,393496],[48464,48532],[2936,2990],[491808,491809],[424789,424862],[441618,441658],[331968,331984],[372243,372253],[290765,290812],[61946,62020],[534257,534297],[47236,47248],[534697,534753],[526001,526090],[221070,221168],[423927,423934],[264545,264569],[515280,515369],[433247,433303],[164169,164223],[130378,130436],[310199,310242],[501563,501572],[219633,219707],[137653,137659],[398525,398568],[328935,329034],[328447,328474],[303455,303543],[392488,392518],[358883,358955],[196523,196575],[312080,312162],[203438,203469],[50903,50928],[73088,73096],[379701,379749],[174485,174505],[38988,39004],[354226,354310],[444959,444971],[63592,63600],[516250,516303],[552720,552777],[493932,494010],[81489,81570],[471499,471541],[166969,167015],[243540,243551],[65633,65642],[186057,186152],[66915,66955],[214581,214616],[326017,326061],[428651,428653],[361342,361345],[12474,12568],[190251,190308],[269985,270022],[394872,394901],[420849,420910],[276685,276725],[298394,298437],[174196,174216],[474157,474175],[454216,454265],[425683,425714],[370970,370986],[530119,530212],[296461,296486],[263352,263421],[59013,59084],[406404,406472],[285057,285071],[1246,1327],[340959,341022],[218254,218276],[363810,363849],[406501,406601],[68155,68234],[551449,551498],[314057,314058],[234116,234159],[417964,418020],[370104,370151],[202135,202178],[6055,6067],[310123,310191],[548901,548958],[252717,252783],[146932,147006],[366827,366911],[79878,79907],[449573,449610],[259412,259485],[224665,224689],[445848,445929],[449860,449873],[538959,539042],[363548,363562],[458553,458578],[232490,232586],[197827,197833],[523220,523268],[305935,305972],[342420,342487],[278223,278228],[259137,259144],[171751,171777],[46961,46962],[269864,269890],[3068,3140],[268347,268348],[168364,168381],[242595,242671],[181976,182032],[312507,312557],[551072,551099],[52446,52459],[201945,202028],[361303,361342],[127803,127828],[319849,319869],[479470,479538],[71358,71408],[440937,440984],[346782,346787],[377838,377932],[153884,153917],[392868,392950],[97793,97878],[56931,56981],[44851,44854],[82151,82182],[2891,2927],[305908,305931],[351209,351295],[138885,138971],[76704,76721],[38640,38663],[318842,318936],[234870,234909],[226222,226286],[34063,34155],[53165,53184],[486180,486242],[453533,453548],[29105,29125],[234417,234437],[299730,299744],[379752,379847],[202784,202794],[451770,451869],[224045,224046],[173197,173258],[240713,240771],[288342,288377],[376075,376086],[244832,244904],[397910,397987],[305312,305320],[333315,333400],[129421,129505],[262524,262548],[81837,81890],[271256,271285],[144898,144919],[520848,520906],[205269,205303],[157033,157124],[370947,370970],[304426,304429],[415807,415821],[440808,440812],[365625,365706],[174889,174987],[351697,351797],[347245,347292],[471743,471796],[274316,274330],[84653,84668],[331095,331105],[24107,24127],[297205,297235],[374741,374792],[361610,361671],[181763,181796],[176447,176488],[242583,242590],[18891,18942],[323273,323281],[454844,454862],[350475,350487],[481010,481045],[399908,399993],[492051,492113],[358433,358434],[3581,3653],[504339,504404],[112124,112161],[232750,232848],[29344,29421],[483062,483151],[53193,53283],[209806,209887],[479409,479464],[245802,245879],[102836,102889],[446370,446416],[416096,416117],[242206,242240],[43337,43344],[211382,211420],[524562,524587],[342492,342547],[504872,504902],[126509,126594],[521880,521958],[117405,117497],[278562,278592],[214621,214667],[120037,120049],[382203,382225],[355051,355052],[521080,521132],[441454,441461],[308940,309035],[397329,397341],[75137,75218],[325479,325488],[253851,253862],[360207,360248],[478972,479031],[396243,396309],[83039,83090],[60689,60706],[28665,28750],[110219,110245],[126642,126702],[525541,525628],[143457,143459],[455471,455531],[402903,402986],[203667,203692],[63604,63656],[59560,59595],[506458,506508],[540362,540427],[168187,168233],[245789,245799],[162030,162079],[291773,291845],[216228,216231],[186942,186996],[477351,477382],[285025,285049],[12836,12890],[30167,30266],[254292,254294],[53528,53577],[106331,106414],[343637,343661],[558,576],[383419,383427],[522584,522672],[128542,128583],[234931,234967],[361786,361794],[148196,148288],[512726,512773],[132980,133054],[428316,428359],[303183,303205],[95572,95652],[83337,83386],[32787,32845],[446187,446232],[243040,243094],[252023,252047],[546173,546246],[101992,102055],[88961,89054],[211246,211341],[378578,378627],[405880,405978],[479037,479049],[435153,435167],[180805,180839],[284102,284201],[511739,511768],[210257,210262],[310312,310371],[488290,488331],[90273,90315],[71544,71558],[11640,11664],[255283,255327],[260346,260348],[282299,282317],[374478,374544],[167774,167843],[304433,304450],[230604,230670],[489890,489909],[8725,8812],[535553,535598],[267687,267786],[1367,1433],[273901,273991],[335888,335900],[316768,316855],[28080,28084],[346711,346724],[115970,116069],[35735,35783],[31023,31028],[276026,276063],[258022,258098],[432153,432212],[387933,387978],[466275,466311],[464845,464846],[45425,45493],[34349,34428],[534528,534532],[490476,490558],[60104,60126],[17921,17940],[163506,163571],[169880,169913],[282087,282126],[245181,245255],[528066,528146],[393031,393075],[409655,409718],[285531,285587],[142396,142453],[166547,166634],[286483,286516],[35426,35525],[72975,73014],[32960,33011],[249883,249956],[202795,202860],[298180,298263],[160031,160051],[344135,344151],[543905,543985],[225652,225723],[348242,348253],[339123,339132],[199954,200027],[366004,366094],[220583,220601],[468786,468860],[370250,370272],[6595,6658],[176657,176699],[295436,295529],[457675,457773],[246893,246987],[94963,95050],[453166,453193],[456276,456308],[157813,157854],[37502,37503],[492845,492929],[532492,532526],[183456,183480],[4975,5075],[436722,436785],[454116,454206],[247148,247240],[343937,343985],[515630,515724],[315845,315889],[89233,89268],[220017,220059],[68044,68091],[421876,421972],[302024,302123],[542854,542866],[530838,530865],[76008,76085],[4427,4485],[496068,496096],[175920,175948],[89509,89541],[114257,114317],[312831,312845],[71568,71614],[138621,138694],[222348,222428],[250872,250928],[71963,72056],[237146,237165],[42537,42623],[29617,29621],[405443,405478],[131822,131839],[163347,163428],[370873,370943],[62874,62900],[222621,222660],[376407,376487],[128034,128122],[63811,63859],[202454,202491],[426091,426127],[353061,353083],[244026,244103],[6584,6586],[113935,113937],[284551,284612],[355765,355835],[371332,371403],[289879,289905],[136222,136246],[203167,203190],[245647,245669],[232921,232946],[452875,452877],[279122,279138],[394822,394868],[362609,362654],[194320,194371],[548251,548281],[393255,393290],[352050,352093],[512236,512305],[428258,428266],[73543,73563],[45502,45512],[301068,301149],[33749,33816],[264579,264611],[332559,332626],[348702,348713],[420136,420137],[116377,116395],[125754,125806],[131928,131941],[403753,403770],[364498,364509],[100609,100670],[193908,193929],[257064,257087],[100986,101078],[530915,530942],[43579,43587],[551180,551216],[14482,14523],[40516,40599],[130786,130856],[475318,475349],[148940,148942],[30388,30455],[179650,179708],[411885,411924],[127829,127841],[197725,197739],[404719,404734],[552658,552715],[18605,18682],[445146,445221],[137535,137543],[363782,363800],[518837,518923],[35357,35407],[302640,302681],[177246,177270],[83786,83840],[210675,210768],[416170,416172],[368214,368240],[330671,330715],[117709,117758],[203516,203577],[443355,443377],[375846,375893],[527980,528025],[496540,496605],[364951,365046],[73032,73040],[530302,530339],[88062,88152],[424423,424488],[432290,432343],[211868,211921],[339159,339173],[114460,114548],[72127,72129],[1842,1859],[446063,446086],[181917,181966],[346726,346781],[412812,412861],[274162,274257],[256876,256891],[231828,231861],[452777,452843],[250344,250385],[251214,251260],[82298,82329],[390745,390818],[170619,170690],[144378,144440],[550282,550329],[324520,324598],[353320,353360],[241774,241828],[476307,476341],[355484,355554],[139891,139935],[176496,176582],[73041,73078],[110486,110489],[200594,200612],[506195,506287],[215974,216056],[414408,414503],[262840,262879],[47397,47422],[181663,181736],[308590,308616],[277941,277954],[214555,214581],[431067,431073],[81221,81274],[485120,485123],[534474,534525],[162134,162159],[154047,154134],[495092,495116],[531242,531243],[191590,191622],[512892,512985],[126706,126733],[250670,250764],[229205,229208],[349231,349328],[65269,65335],[214260,214288],[93422,93503],[250008,250063],[282519,282573],[66304,66394],[387046,387115],[334129,334153],[336730,336775],[57139,57149],[33713,33726],[82331,82425],[373237,373306],[95697,95752],[427545,427561],[241732,241739],[261547,261632],[270165,270204],[150586,150686],[515452,515552],[41410,41469],[264775,264860],[27828,27863],[402506,402543],[156940,156987],[70460,70527],[299754,299838],[405325,405363],[200247,200306],[391288,391362],[389186,389243],[28365,28405],[202315,202350],[162700,162769],[133513,133588],[436889,436971],[502874,502937],[470705,470757],[496691,496786],[330224,330287],[294397,294455],[305360,305447],[154442,154535],[401238,401334],[133671,133751],[355062,355144],[537164,537241],[337959,337994],[422859,422904],[105504,105528],[440340,440372],[332850,332876],[426827,426864],[5715,5784],[445952,445969],[120529,120574],[412683,412721],[149272,149298],[49588,49607],[15470,15537],[63683,63739],[331327,331363],[337913,337956],[48122,48164],[19769,19800],[254294,254387],[91383,91461],[501004,501016],[118303,118305],[78507,78557],[7887,7974],[113464,113515],[358748,358837],[334090,334123],[370046,370102],[508231,508251],[419662,419692],[260091,260166],[479055,479072],[410743,410800],[27198,27221],[171877,171908],[423844,423890],[252412,252508],[259292,259311],[154350,154437],[193249,193330],[498919,498951],[221861,221943],[103031,103097],[83411,83463],[16979,17027],[117499,117535],[494020,494023],[469902,469955],[367184,367280],[439182,439222],[476578,476614],[113243,113245],[86180,86272],[55544,55560],[372305,372315],[164091,164169],[314145,314243],[211721,211750],[426970,427058],[236430,236520],[532927,533026],[288952,288966],[530729,530759],[24738,24816],[270649,270749],[510604,510639],[456317,456406],[413970,413984],[309289,309318],[495717,495758],[464988,464995],[294767,294810],[354584,354644],[159471,159542],[353361,353447],[226873,226879],[145865,145889],[98794,98876],[325913,326008],[306940,306995],[161953,161954],[190822,190867],[447913,447955],[302129,302222],[496099,496134],[227703,227734],[73695,73771],[494526,494530],[434939,435029],[308618,308692],[216316,216340],[42686,42728],[276070,276136],[235536,235537],[324607,324644],[495636,495716],[439229,439319],[257149,257198],[162454,162516],[503313,503345],[444404,444430],[511929,512000],[18349,18430],[87587,87613],[183607,183667],[388307,388390],[189060,189155],[237058,237146],[147511,147561],[27552,27633],[337470,337504],[201608,201704],[53683,53723],[219131,219219],[13708,13742],[461022,461048],[430089,430165],[101431,101510],[172770,172786],[52042,52099],[362162,362167],[152784,152874],[37987,38001],[506974,506985],[31133,31170],[231688,231759],[60001,60094],[360039,360071],[471364,471451],[330438,330535],[39353,39435],[267547,267586],[76404,76481],[201067,201094],[451697,451763],[457650,457672],[107514,107552],[332708,332768],[23040,23082],[229185,229192],[229194,229196],[275922,275938],[457249,457269],[102684,102741],[10942,10954],[147014,147106],[384138,384173],[225335,225373],[298272,298307],[119510,119570],[169201,169248],[360252,360273],[402993,403049],[15999,16037],[37018,37039],[140633,140726],[167324,167368],[84695,84790],[259149,259184],[289054,289100],[427068,427118],[205407,205487],[377201,377252],[479544,479569],[458468,458553],[118456,118511],[518378,518466],[63065,63130],[534410,534474],[2475,2520],[325187,325276],[151091,151152],[500554,500599],[109748,109781],[451593,451608],[20908,20986],[238476,238514],[95164,95264],[503411,503494],[191323,191406],[472949,472961],[539648,539692],[230815,230819],[143631,143679],[126305,126394],[177883,177975],[527005,527103],[346789,346849],[327112,327187],[322411,322434],[333067,333090],[1957,2031],[254105,254112],[216841,216874],[530769,530828],[400436,400529],[283940,283951],[276537,276569],[323715,323725],[467912,467982],[539694,539765],[115783,115797],[453110,453162],[34310,34343],[31212,31274],[261910,261999],[39668,39671],[501020,501022],[385389,385416],[343492,343544],[69243,69271],[297667,297685],[115037,115060],[366497,366549],[298624,298633],[520186,520216],[255884,255969],[265521,265548],[374859,374909],[350148,350212],[291718,291771],[336987,337083],[501994,502088],[327193,327213],[316305,316380],[365941,365950],[492554,492564],[297379,297412],[345541,345587],[105046,105127],[30638,30713],[433781,433816],[232164,232176],[375310,375377],[320312,320325],[226753,226765],[206791,206828],[329605,329660],[165180,165246],[370302,370352],[39009,39077],[264924,265023],[350488,350511],[277093,277182],[311607,311618],[392528,392592],[498519,498571],[224895,224965],[70625,70717],[197477,197517],[165709,165771],[92839,92935],[361554,361602],[545397,545474],[435555,435605],[179130,179208],[406091,406153],[180475,180544],[465206,465247],[170125,170171],[21641,21647],[183482,183497],[88497,88542],[392059,392086],[253179,253243],[347973,348019],[382126,382169],[408993,409059],[413842,413864],[411330,411411],[83097,83152],[459316,459368],[367505,367551],[538415,538489],[329702,329798],[205492,205538],[94691,94755],[496968,496972],[304117,304145],[225443,225525],[344852,344879],[523935,523977],[55948,55966],[126088,126134],[4148,4168],[69780,69783],[550456,550476],[540957,540980],[84551,84622],[516528,516615],[114710,114797],[299340,299357],[375386,375474],[236521,236553],[523750,523782],[178268,178353],[183755,183787],[214780,214795],[272794,272831],[368969,368996],[139590,139644],[262121,262155],[362374,362466],[371467,371483],[1608,1683],[179708,179715],[502945,502975],[479328,479406],[270032,270034],[545161,545230],[484967,485060],[336605,336606],[305450,305477],[523408,523473],[439755,439848],[414527,414542],[93264,93318],[431438,431515],[497300,497352],[402266,402327],[270885,270968],[179394,179459],[359246,359300],[483478,483530],[112626,112702],[396925,396967],[157284,157381],[288471,288514],[264309,264367],[382044,382120],[497786,497846],[55912,55941],[94330,94422],[218277,218363],[73122,73141],[107216,107307],[482385,482425],[543487,543585],[285179,285271],[174304,174362],[1712,1802],[476438,476498],[61777,61830],[468965,469059],[296350,296405],[186546,186547],[366709,366794],[19688,19769],[304781,304806],[523003,523006],[245313,245395],[329601,329605],[181373,181434],[343091,343094],[508424,508485],[18759,18834],[267423,267452],[153199,153233],[60914,60964],[419760,419790],[492961,493027],[452738,452774],[268907,269004],[531909,531970],[230596,230597],[495140,495203],[18842,18886],[39174,39185],[432346,432365],[529414,529496],[507533,507611],[417759,417789],[532219,532243],[16657,16679],[221250,221343],[451200,451209],[135726,135818],[67723,67815],[54682,54694],[180939,181039],[170288,170361],[131843,131926],[455978,456052],[242354,242367],[132534,132596],[213334,213378],[68142,68148],[158925,158948],[366100,366152],[92813,92839],[296731,296811],[225931,225967],[497063,497156],[40405,40483],[372388,372427],[420919,420965],[366160,366195],[304359,304424],[485476,485495],[171492,171530],[170434,170530],[247910,247982],[465255,465306],[38574,38631],[469142,469173],[316577,316668],[476944,476999],[172015,172038],[216348,216382],[237373,237459],[456940,456951],[474461,474529],[345740,345757],[338581,338598],[92937,93006],[95654,95696],[61018,61114],[277759,277849],[23957,24042],[185755,185796],[372804,372839],[201782,201870],[215322,215389],[54661,54680],[403676,403693],[322072,322126],[477454,477511],[280028,280079],[23414,23476],[170532,170609],[499018,499079],[393154,393247],[77938,78034],[30464,30484],[368614,368697],[535880,535943],[551585,551636],[3735,3824],[100218,100277],[459982,460081],[303278,303317],[98784,98786],[388996,389043],[522901,522931],[22298,22318],[105136,105210],[204025,204111],[478753,478776],[240960,241038],[352386,352432],[416494,416549],[328512,328598],[61263,61325],[37085,37126],[173917,173968],[58897,58909],[396030,396083],[19086,19110],[296504,296577],[455533,455570],[9299,9338],[390477,390489],[26621,26690],[487489,487546],[339908,339943],[544423,544511],[469955,470040],[152322,152360],[464775,464843],[3477,3521],[440732,440804],[214952,215018],[115070,115141],[406992,407028],[552313,552328],[267070,267151],[29629,29698],[491307,491311],[33296,33339],[468315,468399],[58847,58891],[508145,508225],[197741,197823],[484834,484898],[415553,415565],[525401,525416],[447483,447570],[535607,535697],[145810,145865],[34256,34297],[286059,286143],[25317,25337],[266534,266603],[528868,528899],[2521,2578],[114863,114934],[172702,172769],[370352,370449],[414768,414775],[121211,121278],[372054,372082],[80864,80942],[422386,422453],[291328,291337],[389352,389447],[417698,417700],[204632,204703],[349744,349789],[466669,466750],[462306,462332],[524291,524353],[310245,310254],[353551,353627],[123087,123107],[538378,538409],[316070,316156],[318936,319026],[320767,320859],[131267,131324],[230961,231058],[340616,340710],[504196,504200],[548013,548080],[379352,379414],[225847,225881],[501415,501501],[98942,99037],[233938,234038],[239310,239334],[342348,342370],[81279,81375],[221402,221449],[89914,89993],[494437,494440],[462506,462521],[291506,291543],[45772,45822],[450978,450979],[123963,124008],[257091,257119],[187842,187911],[116920,116925],[376799,376810],[274549,274550],[339685,339782],[436981,437023],[16404,16449],[10650,10724],[94556,94587],[295102,295159],[222335,222345],[390905,390999],[470048,470118],[539476,539574],[28091,28182],[461228,461257],[81571,81579],[281492,281513],[251270,251349],[484074,484173],[441045,441056],[211570,211615],[277458,277520],[416124,416147],[306795,306866],[418660,418694],[196650,196705],[220792,220813],[207761,207794],[139244,139279],[129082,129154],[492568,492642],[155124,155142],[190815,190819],[14683,14744],[243304,243321],[271859,271923],[349046,349119],[23091,23143],[539631,539641],[49070,49115],[517603,517672],[489646,489732],[41716,41775],[328778,328807],[500431,500466],[494689,494744],[357030,357086],[19477,19481],[176908,176972],[533814,533875],[84685,84686],[138079,138099],[391223,391260],[276896,276996],[301213,301246],[319299,319377],[311483,311534],[440583,440676],[204522,204536],[90228,90269],[127044,127049],[148645,148665],[285072,285169],[248075,248133],[243461,243540],[55118,55183],[389052,389054],[455667,455723],[292675,292698],[149710,149779],[327416,327499],[497852,497941],[398656,398708],[239207,239218],[454653,454712],[268435,268472],[348717,348729],[103008,103026],[298954,299035],[261254,261279],[161331,161352],[55245,55343],[446089,446180],[536679,536709],[485126,485170],[99906,99916],[518297,518370],[219070,219128],[501402,501415],[151401,151418],[476115,476172],[24158,24255],[64702,64712],[190161,190242],[318328,318379],[510934,510947],[544091,544180],[500740,500784],[250936,251020],[541505,541545],[227555,227626],[510247,510326],[225885,225924],[340583,340606],[117273,117339],[56586,56660],[410820,410825],[47077,47086],[127776,127797],[408141,408237],[81814,81816],[421982,422067],[65947,66019],[300327,300383],[357096,357157],[37804,37852],[27001,27089],[530961,531060],[462872,462949],[33726,33739],[442425,442476],[549170,549223],[533032,533119],[549111,549167],[311660,311741],[478385,478473],[364774,364842],[345710,345733],[251354,251428],[405643,405686],[544902,544916],[529318,529371],[118573,118659],[65774,65809],[452584,452598],[472038,472108],[419924,419953],[304874,304930],[513271,513289],[347812,347900],[253961,254025],[521263,521340],[172156,172202],[448097,448180],[428272,428292],[447038,447076],[67617,67683],[418128,418145],[306870,306937],[483301,483369],[141499,141535],[321355,321379],[217058,217145],[339175,339180],[353238,353242],[532419,532484],[333909,333946],[390571,390582],[41507,41563],[134494,134564],[534221,534253],[370688,370775],[322916,323010],[281523,281582],[439697,439749],[390222,390271],[539774,539833],[175286,175349],[288173,288228],[382292,382383],[218631,218714],[149787,149796],[433027,433112],[92665,92731],[23617,23672],[483539,483548],[122101,122128],[111443,111470],[260002,260090],[176235,176277],[342248,342340],[548861,548883],[182933,183033],[484613,484679],[527401,527427],[139297,139381],[395169,395249],[22382,22403],[165328,165384],[441201,441265],[229137,229175],[356313,356386],[39190,39198],[43895,43941],[219421,219443],[329566,329570],[304681,304731],[113739,113752],[154786,154849],[533125,533212],[540903,540949],[473743,473826],[500159,500235],[298706,298803],[65681,65709],[193371,193412],[139964,140004],[384851,384893],[455952,455975],[310938,310953],[317502,317521],[211426,211449],[136455,136479],[378027,378074],[78125,78146],[328687,328772],[35570,35604],[307239,307325],[443377,443398],[194987,195049],[72836,72910],[49772,49870],[348570,348621],[175868,175919],[522368,522409],[28861,28899],[442110,442126],[184818,184874],[483198,483298],[307047,307089],[242449,242495],[123011,123084],[544916,544981],[447273,447307],[154564,154589],[394554,394633],[142842,142885],[46567,46621],[494135,494185],[523589,523642],[227899,227913],[179106,179125],[214325,214375],[215509,215540],[248352,248417],[288379,288385],[361972,362002],[480330,480403],[506829,506864],[15234,15248],[506559,506649],[376318,376406],[185335,185374],[397860,397907],[314248,314285],[320926,320972],[380893,380918],[137378,137464],[109783,109817],[143244,143302],[436152,436200],[218720,218804],[69606,69678],[255083,255148],[145896,145947],[223226,223241],[129042,129082],[153236,153312],[541360,541453],[544846,544852],[45866,45938],[487207,487249],[45362,45424],[280083,280135],[534303,534373],[39308,39318],[296194,296240],[320262,320292],[358838,358876],[402459,402499],[271120,271132],[225231,225303],[401378,401406],[422454,422543],[243785,243866],[414265,414349],[454015,454107],[185478,185526],[150164,150195],[380827,380887],[241912,241948],[93741,93821],[195504,195570],[417583,417643],[481488,481514],[414146,414165],[472163,472217],[405111,405157],[472218,472241],[482910,482951],[142024,142044],[157667,157699],[487809,487886],[69483,69558],[452599,452654],[235587,235629],[275201,275300],[38309,38346],[55191,55236],[56271,56312],[21365,21376],[458936,458962],[454807,454842],[159676,159701],[294269,294352],[31953,32006],[465524,465534],[185835,185915],[109171,109201],[441849,441929],[280987,281003],[428368,428458],[59189,59248],[202584,202615],[262021,262107],[230397,230430],[383708,383710],[393680,393696],[357366,357395],[9342,9360],[27741,27766],[324034,324088],[23537,23616],[201239,201255],[440532,440579],[11161,11214],[363521,363529],[44535,44622],[285275,285355],[93824,93827],[438008,438060],[197918,197975],[165471,165564],[474910,474961],[441662,441726],[518591,518608],[417208,417308],[333093,333115],[270118,270146],[252238,252239],[492935,492958],[543140,543162],[365493,365549],[207672,207761],[185378,185457],[96498,96533],[32010,32075],[513493,513560],[381745,381805],[94812,94871],[244398,244467],[548286,548299],[49539,49586],[266604,266672],[489034,489047],[522350,522362],[139495,139590],[213249,213262],[280509,280523],[66246,66266],[194408,194439],[162519,162575],[217926,217969],[102808,102824],[269910,269982],[374594,374678],[87077,87128],[304931,304986],[499432,499479],[383077,383137],[228194,228283],[60200,60299],[130515,130549],[451127,451172],[2784,2881],[365715,365777],[161388,161468],[369325,369386],[14900,14906],[424241,424338],[217244,217325],[280659,280722],[392160,392186],[265882,265970],[500625,500696],[248745,248797],[245695,245781],[427141,427162],[223525,223614],[305483,305547],[384460,384466],[148952,149019],[149806,149823],[497944,498015],[36440,36444],[306457,306546],[56873,56890],[275571,275615],[174222,174254],[80128,80161],[501077,501106],[343549,343558],[240347,240385],[204970,204987],[172006,172014],[92423,92430],[449751,449850],[203583,203636],[65590,65625],[211994,212017],[273405,273407],[9065,9142],[89692,89762],[509825,509860],[183999,184073],[173972,174070],[529142,529198],[424863,424866],[277959,278027],[481975,482025],[457999,458088],[212937,212969],[466405,466502],[254396,254408],[387566,387593],[253401,253500],[338409,338475],[34494,34568],[375696,375764],[141537,141614],[465938,465961],[333810,333837],[441791,441842],[32688,32778],[113383,113406],[470277,470367],[292745,292834],[428073,428090],[16039,16092],[254641,254700],[215390,215410],[105792,105837],[380753,380827],[309044,309133],[119720,119752],[541257,541293],[224248,224316],[501037,501072],[463304,463399],[47482,47484],[439322,439412],[275677,275747],[435772,435859],[333420,333489],[10957,10979],[143587,143598],[533509,533604],[404623,404712],[114934,114942],[284619,284689],[465395,465421],[380362,380366],[491046,491104],[319256,319295],[27168,27193],[31835,31875],[490594,490654],[528656,528711],[370797,370856],[314294,314338],[161925,161942],[467305,467378],[348642,348699],[297241,297256],[455576,455615],[406301,406399],[254703,254715],[88319,88397],[452853,452871],[58363,58404],[369065,369156],[443724,443767],[193104,193153],[448187,448228],[281677,281716],[228842,228924],[466089,466111],[173266,173338],[472439,472505],[405369,405442],[532768,532849],[64187,64244],[326604,326666],[231607,231683],[393536,393570],[426684,426689],[543068,543091],[65344,65441],[194103,194143],[197403,197450],[296814,296896],[223503,223523],[321516,321576],[357405,357464],[547624,547707],[158253,158309],[246348,246363],[111591,111651],[150316,150381],[228293,228324],[258231,258319],[528406,528496],[449076,449135],[109912,109974],[347516,347517],[219707,219746],[141445,141471],[394158,394160],[291605,291627],[422181,422217],[71894,71961],[529790,529841],[362664,362762],[538851,538951],[134857,134941],[509649,509729],[388604,388676],[68094,68125],[244592,244626],[335811,335887],[342884,342904],[381322,381334],[85667,85750],[360736,360783],[63231,63327],[349869,349968],[452314,452405],[157383,157468],[326743,326769],[522511,522581],[480556,480594],[419469,419567],[364217,364313],[206491,206569],[183037,183039],[286357,286376],[151466,151555],[493218,493242],[472320,472368],[71615,71705],[278234,278326],[504302,504332],[120215,120265],[512494,512593],[367992,368016],[141125,141140],[423896,423917],[84068,84080],[398149,398217],[335474,335499],[229208,229215],[50588,50677],[440190,440233],[81789,81812],[508518,508580],[146505,146595],[417794,417874],[203192,203265],[363593,363676],[232720,232745],[185163,185192],[7142,7204],[469068,469099],[434521,434570],[496315,496362],[240177,240217],[22084,22119],[18965,19002],[113670,113693],[374910,374985],[386599,386617],[342801,342853],[80318,80362],[357336,357366],[243557,243653],[332079,332134],[22793,22838],[387693,387753],[523358,523401],[160305,160319],[388131,388189],[262156,262241],[9408,9423],[332248,332256],[283488,283551],[284760,284860],[111097,111137],[155667,155706],[501782,501859],[488570,488646],[301477,301536],[50460,50502],[382565,382614],[458963,458992],[160849,160850],[471217,471290],[286012,286056],[550407,550456],[240530,240624],[361151,361210],[429788,429789],[372032,372033],[191870,191951],[372960,373046],[238516,238526],[215768,215805],[310783,310881],[68990,69037],[179925,179981],[411414,411428],[335569,335599],[415893,415931],[486502,486528],[329287,329309],[253625,253642],[409797,409818],[475476,475494],[413692,413718],[264540,264542],[522022,522114],[356471,356496],[231764,231825],[359578,359661],[352298,352377],[367388,367470],[283458,283468],[367479,367504],[394706,394796],[536232,536297],[136120,136171],[249775,249861],[337567,337618],[235716,235785],[397205,397229],[145628,145647],[467731,467797],[67961,68015],[82515,82606],[347536,347602],[197255,197319],[361837,361854],[463704,463798],[168505,168585],[358440,358496],[375010,375066],[263757,263766],[395251,395258],[237745,237779],[39961,39972],[349701,349702],[520911,520919],[496995,497055],[552197,552234],[78458,78461],[439085,439181],[181801,181824],[22693,22786],[404337,404390],[41776,41833],[278686,278770],[287333,287349],[101217,101242],[419412,419415],[362843,362881],[524588,524681],[178770,178833],[311426,311438],[289463,289510],[295253,295349],[298638,298698],[473551,473560],[434007,434073],[408675,408714],[66033,66097],[259266,259282],[103716,103803],[317782,317868],[133220,133308],[237253,237300],[112172,112197],[302736,302737],[523840,523874],[350620,350680],[36097,36117],[462530,462601],[437449,437549],[449731,449741],[300239,300277],[510143,510241],[195884,195905],[153335,153422],[247014,247021],[10036,10070],[205713,205791],[526417,526475],[240005,240104],[302389,302416],[389246,389346],[403344,403361],[485848,485881],[169970,170019],[270040,270112],[234721,234806],[76908,76923],[359308,359365],[19371,19403],[310963,311050],[483175,483197],[192851,192883],[493247,493310],[177568,177650],[366195,366219],[295817,295863],[423178,423218],[209344,209398],[145749,145792],[239291,239304],[393496,393536],[391511,391541],[453313,453362],[162174,162236],[533765,533809],[97140,97208],[158877,158923],[171153,171180],[91660,91677],[208721,208756],[333033,333064],[487941,488029],[407144,407157],[266388,266438],[397237,397320],[403256,403268],[289338,289373],[273866,273899],[46722,46778],[141329,141336],[201101,201120],[96537,96558],[485775,485838],[156996,157033],[221346,221393],[217841,217853],[304559,304584],[216060,216097],[178031,178065],[147107,147172],[490016,490076],[38166,38198],[404873,404920],[344105,344126],[259009,259072],[1333,1358],[463885,463960],[53828,53922],[272642,272702],[109488,109583],[85111,85173],[319521,319556],[428902,428974],[236234,236274],[60648,60649],[102947,102987],[236825,236866],[165781,165833],[406222,406242],[436012,436095],[208348,208355],[463406,463481],[87168,87218],[302685,302730],[444188,444263],[73324,73412],[366551,366594],[524102,524172],[204148,204177],[336777,336865],[514822,514897],[69841,69888],[210592,210640],[490195,490285],[514082,514106],[431794,431833],[380478,380515],[330629,330669],[460086,460151],[161581,161647],[118664,118669],[140539,140552],[346385,346478],[326591,326601],[59959,60000],[101370,101404],[401416,401473],[115903,115966],[278600,278686],[500474,500546],[207309,207327],[266761,266774],[244760,244822],[121628,121718],[233249,233312],[205976,205983],[435860,435943],[292040,292095],[366430,366482],[403461,403554],[476897,476939],[59464,59506],[347794,347811],[123507,123558],[548702,548728],[62077,62169],[441955,441993],[510651,510742],[131671,131746],[307981,307986],[15372,15384],[381560,381573],[542482,542576],[272314,272364],[386266,386304],[436690,436714],[244905,244918],[21067,21164],[125152,125173],[230223,230277],[137467,137530],[256961,257058],[178360,178382],[332776,332848],[35010,35100],[265442,265521],[529944,529970],[177052,177106],[105220,105318],[148665,148734],[269712,269760],[32488,32539],[512000,512037],[133596,133603],[436792,436886],[199690,199716],[110379,110462],[148851,148913],[250133,250151],[484683,484713],[340146,340224],[69977,70024],[530212,530242],[44222,44292],[203268,203281],[519928,519961],[164975,164992],[261279,261370],[323657,323710],[50729,50798],[194732,194770],[230187,230215],[243720,243733],[87725,87732],[380698,380749],[483650,483697],[120276,120355],[467055,467097],[336460,336546],[153964,153996],[262468,262497],[457089,457122],[139161,139222],[273028,273072],[84901,84940],[338971,338989],[402212,402249],[55894,55903],[85004,85049],[489235,489251],[86135,86175],[404480,404562],[50806,50811],[51678,51706],[218530,218544],[26802,26843],[261638,261650],[26958,26996],[460426,460430],[212564,212649],[491398,491450],[315540,315621],[378289,378337],[151448,151465],[455442,455468],[481801,481895],[362306,362364],[261757,261813],[497649,497727],[108052,108148],[187442,187529],[241835,241858],[474059,474132],[266779,266844],[271621,271718],[76237,76290],[104797,104878],[401724,401744],[81404,81482],[99309,99381],[305616,305709],[342376,342416],[434135,434226],[364529,364608],[55755,55811],[430524,430619],[242190,242199],[153920,153964],[436577,436583],[182484,182536],[160663,160707],[482254,482295],[91813,91863],[450355,450423],[549226,549269],[296026,296077],[282977,283034],[33580,33623],[297331,297376],[461636,461686],[247030,247063],[368402,368448],[469239,469283],[403852,403949],[104192,104197],[291391,291393],[307598,307672],[403700,403753],[515733,515812],[531372,531439],[231566,231601],[511361,511443],[528716,528772],[159914,159987],[186156,186236],[306017,306072],[200374,200395],[316380,316476],[363115,363163],[166682,166684],[320405,320494],[151419,151434],[47494,47558],[241540,241558],[180052,180142],[527492,527539],[164689,164740],[412963,413051],[126260,126299],[358962,359024],[252147,252232],[362002,362007],[357695,357742],[274283,274308],[436361,436428],[20123,20171],[513629,513699],[292465,292466],[384903,384956],[196709,196751],[64092,64184],[251105,251150],[546355,546422],[140431,140476],[530349,530362],[382657,382677],[300832,300867],[404214,404261],[496524,496540],[371113,371158],[112710,112719],[323624,323656],[183257,183282],[84084,84141],[191116,191141],[321155,321245],[75478,75555],[550336,550401],[347062,347130],[527225,527228],[69481,69482],[154746,154781],[391898,391968],[552587,552655],[511472,511568],[291678,291712],[325644,325705],[107110,107133],[508976,509025],[387202,387263],[279994,280027],[79161,79218],[145394,145407],[294812,294902],[271758,271851],[367570,367670],[49326,49387],[88615,88662],[411520,411581],[212244,212294],[330154,330218],[397427,397525],[416678,416757],[41982,41987],[122928,123006],[146604,146610],[21464,21558],[359033,359039],[60169,60200],[247391,247456],[403827,403844],[190375,190447],[441583,441616],[156318,156360],[350854,350892],[33623,33707],[64417,64485],[246492,246574],[410485,410579],[248521,248536],[196124,196147],[12898,12928],[149557,149614],[500244,500322],[412938,412954],[166160,166210],[254121,254202],[511887,511922],[332324,332380],[6504,6584],[355666,355673],[217871,217926],[36806,36906],[218884,218924],[234977,234984],[276328,276332],[66965,66969],[183371,183452],[6758,6795],[317869,317910],[69379,69475],[363174,363254],[404922,404939],[75006,75104],[249382,249448],[63757,63809],[120707,120761],[259527,259539],[91567,91657],[384031,384096],[283722,283754],[356726,356727],[344970,345044],[546470,546569],[550064,550087],[235054,235111],[29877,29973],[532356,532411],[129972,130016],[46528,46559],[119782,119864],[1803,1841],[481903,481974],[188420,188513],[327369,327406],[125302,125326],[361003,361096],[97529,97599],[150446,150515],[519699,519781],[415935,415982],[422611,422659],[335228,335303],[192383,192455],[152686,152752],[131400,131457],[369626,369723],[47304,47352],[459220,459225],[308905,308932],[513753,513807],[212355,212454],[334547,334636],[214091,214187],[37136,37226],[425097,425112],[123226,123281],[394230,394268],[453816,453915],[316672,316763],[376218,376298],[124985,125040],[103180,103230],[182887,182930],[211921,211984],[390351,390370],[233661,233690],[79734,79774],[226027,226036],[41840,41918],[320294,320300],[181512,181532],[197649,197681],[540461,540552],[372322,372384],[506325,506354],[18486,18556],[447401,447476],[303715,303799],[475166,475250],[536186,536201],[250105,250129],[467991,468052],[336556,336599],[47594,47663],[125463,125513],[6925,6978],[275847,275916],[275753,275846],[312167,312247],[545912,545962],[55812,55881],[258836,258931],[57385,57445],[313230,313272],[67306,67364],[192708,192752],[395054,395121],[207330,207339],[87775,87859],[32273,32353],[254422,254513],[292930,293007],[521489,521568],[386802,386820],[508257,508297],[327690,327788],[6211,6289],[276220,276224],[200397,200487],[29421,29489],[210512,210587],[505354,505382],[156188,156235],[483975,483981],[312039,312052],[144726,144799],[490586,490590],[121962,122061],[475826,475845],[234508,234513],[140557,140628],[85290,85315],[387380,387451],[366596,366673],[390826,390843],[325494,325567],[153080,153111],[304455,304553],[549654,549722],[101696,101749],[356052,356151],[532344,532350],[271373,271424],[258136,258221],[224970,225002],[149211,149266],[261657,261684],[489532,489544],[101196,101197],[235346,235406],[192759,192776],[18058,18106],[467151,467244],[356595,356635],[153113,153145],[55891,55894],[276855,276859],[134309,134374],[443777,443853],[72402,72417],[116478,116555],[28499,28533],[131754,131817],[511451,511463],[404583,404623],[542871,542936],[278389,278454],[386226,386244],[519249,519311],[32854,32859],[155320,155385],[376489,376579],[172255,172309],[197873,197912],[406601,406691],[31772,31827],[224052,224105],[527573,527590],[72752,72835],[482509,482524],[115546,115572],[388566,388597],[213948,213973],[505417,505442],[376304,376308],[46971,46985],[239691,239703],[137611,137644],[84798,84804],[192505,192585],[514113,514182],[10911,10936],[92057,92149],[282168,282233],[446965,447029],[237304,237364],[468692,468777],[79305,79397],[533453,533509],[485464,485473],[199084,199154],[250769,250869],[311187,311232],[526565,526629],[282675,282697],[7103,7137],[507157,507251],[18744,18753],[351297,351325],[61696,61705],[493125,493212],[386391,386434],[271515,271612],[545749,545807],[325810,325905],[452446,452496],[234985,235054],[267967,268054],[307788,307872],[275395,275481],[30936,30989],[15054,15141],[172460,172541],[140860,140930],[338131,338214],[189344,189360],[157872,157955],[402255,402262],[94876,94893],[119662,119671],[194483,194534],[105426,105502],[128815,128855],[182458,182474],[366220,366316],[538237,538292],[1143,1215],[399088,399116],[442886,442969],[297544,297573],[189980,189987],[400204,400303],[281037,281137],[363858,363903],[123728,123755],[447739,447826],[363913,363977],[294908,294994],[540348,540358],[70552,70620],[198520,198561],[363538,363543],[205325,205376],[15392,15396],[486907,487000],[5710,5711],[304594,304675],[338851,338857],[490077,490123],[264700,264767],[47745,47751],[260584,260658],[284047,284101],[443491,443512],[125251,125300],[344283,344304],[10252,10304],[541868,541911],[205542,205628],[261451,261545],[313875,313956],[240483,240522],[406775,406868],[389994,390042],[122912,122924],[151849,151949],[67816,67892],[410589,410660],[452230,452305],[279063,279122],[91076,91166],[279567,279667],[349363,349426],[471652,471742],[361218,361297],[6979,7046],[84944,85000],[309523,309611],[181049,181081],[449611,449683],[20681,20776],[147955,147959],[382617,382657],[335311,335389],[184379,184394],[518022,518048],[273631,273639],[546921,546966],[482303,482312],[94611,94634],[305982,306010],[392849,392852],[169253,169306],[548558,548588],[455841,455875],[494930,495008],[520574,520653],[30273,30316],[116817,116825],[476175,476238],[177276,177278],[137348,137374],[542958,542999],[385784,385875],[141281,141323],[130450,130502],[290489,290582],[537555,537612],[532251,532335],[60654,60669],[219221,219287],[283195,283254],[293923,293957],[218934,218964],[27256,27322],[80370,80457],[3899,3930],[459464,459557],[92737,92810],[299938,299972],[322364,322395],[343696,343697],[236079,236145],[211687,211716],[379118,379144],[221562,221605],[540021,540116],[525133,525173],[43679,43735],[78959,79015],[166463,166541],[137885,137925],[128749,128810],[68373,68454],[507366,507455],[279140,279202],[452413,452441],[282702,282707],[455363,455433],[174098,174177],[155149,155171],[493029,493054],[85943,86004],[549273,549357],[147604,147686],[268282,268343],[290220,290247],[387306,387359],[328110,328161],[339135,339152],[257855,257942],[398222,398302],[478476,478574],[387458,387537],[541855,541868],[425258,425273],[462697,462707],[212298,212311],[205987,206035],[552161,552196],[101921,101956],[253080,253177],[496240,496311],[278507,278560],[130955,131000],[548406,548501],[160971,160986],[484174,484222],[424619,424707],[218373,218436],[115147,115166],[369223,369276],[490695,490728],[41472,41480],[514001,514036],[192621,192672],[541613,541676],[410311,410374],[474707,474712],[257546,257609],[42288,42350],[441471,441542],[387122,387194],[508750,508789],[153475,153485],[195909,195948],[241378,241476],[9152,9171],[217379,217460],[371696,371789],[64533,64624],[97009,97054],[92030,92048],[282134,282159],[542296,542328],[192057,192086],[130557,130620],[339807,339902],[326191,326232],[144487,144561],[383393,383412],[336874,336898],[294214,294246],[18035,18054],[215483,215508],[426250,426338],[380322,380334],[41995,42086],[581,636],[409824,409843],[96773,96804],[489114,489151],[239400,239441],[505999,506079],[290336,290421],[469232,469239],[512644,512726],[78897,78955],[394451,394544],[135590,135616],[429664,429705],[49244,49325],[489197,489224],[97751,97784],[82183,82229],[301409,301427],[6667,6704],[131562,131573],[482122,482163],[96131,96219],[314400,314444],[365244,365269],[83464,83474],[46180,46189],[510369,510372],[87615,87641],[22506,22604],[184396,184463],[19021,19083],[485198,485201],[172586,172602],[222827,222920],[542673,542763],[92527,92590],[144970,145011],[155867,155894],[425413,425470],[81826,81829],[413247,413338],[436205,436221],[520365,520459],[213603,213693],[483161,483165],[476692,476731],[490579,490583],[208437,208511],[416155,416166],[58687,58779],[193762,193787],[119570,119652],[231985,232004],[214295,214321],[142895,142962],[336173,336247],[382406,382487],[276340,276348],[234914,234920],[486704,486786],[54920,54926],[263443,263446],[316164,316175],[317917,317973],[21568,21633],[175683,175762],[63866,63955],[97054,97139],[538090,538101],[385083,385090],[340814,340890],[228588,228653],[46800,46863],[329193,329285],[132668,132766],[152762,152783],[161038,161051],[158077,158145],[17778,17808],[110466,110479],[3354,3396],[482808,482878],[269898,269901],[233109,233200],[60712,60809],[201346,201406],[365046,365081],[281721,281778],[348957,349004],[93925,93931],[274142,274145],[73771,73777],[309428,309457],[380233,380235],[28481,28489],[293667,293754],[100106,100149],[221459,221484],[131947,132034],[521141,521166],[529064,529073],[196252,196342],[549005,549057],[307098,307168],[259906,259996],[238049,238050],[191524,191590],[465082,465114],[451551,451589],[508615,508627],[365189,365221],[34857,34930],[216383,216401],[114321,114405],[481136,481213],[85059,85111],[404460,404473],[75557,75619],[308765,308808],[427123,427139],[190095,190107],[241535,241540],[329044,329085],[428098,428126],[163851,163925],[155441,155528],[355399,355477],[20565,20577],[103380,103407],[425280,425296],[518052,518125],[358249,358323],[198220,198236],[403274,403294],[527599,527694],[462165,462244],[462049,462056],[439647,439690],[7669,7678],[349435,349499],[217148,217243],[280528,280561],[226195,226216],[209631,209714],[375175,375204],[464161,464217],[494185,494197],[190496,190544],[409848,409854],[11920,11934],[420092,420134],[204712,204779],[325713,325804],[400427,400433],[388231,388301],[487106,487127],[206712,206784],[361104,361151],[516624,516668],[279391,279395],[226468,226517],[24263,24310],[46988,47067],[250267,250344],[341710,341785],[32260,32272],[476240,476304],[85596,85662],[311052,311078],[133991,134022],[235459,235526],[297573,297593],[495017,495036],[391260,391286],[88243,88276],[174674,174764],[225526,225542],[39715,39813],[528936,528959],[301429,301476],[89682,89690],[498964,499013],[16689,16769],[545616,545716],[101754,101847],[459811,459903],[334956,335025],[106762,106836],[62550,62623],[348535,348567],[317068,317105],[173421,173459],[110254,110272],[274895,274954],[482605,482611],[290587,290682],[24043,24079],[473065,473107],[26923,26929],[336611,336708],[38745,38767],[74684,74712],[429937,430011],[295631,295728],[456058,456126],[525115,525133],[501684,501723],[215190,215237],[243997,244022],[386441,386511],[476732,476824],[118841,118870],[399741,399772],[85814,85898],[433729,433771],[531973,532052],[140735,140779],[202867,202935],[453608,453658],[504414,504447],[17450,17508],[143153,143183],[199482,199510],[142585,142624],[247836,247839],[136081,136117],[248425,248518],[63334,63386],[338601,338686],[255534,255540],[13368,13462],[497735,497786],[28542,28562],[99218,99305],[185925,186020],[124353,124421],[339950,340008],[401376,401377],[498382,498432],[381204,381287],[252306,252406],[190049,190081],[405265,405317],[120454,120527],[226739,226748],[360988,361000],[53728,53755],[413994,414093],[236942,237019],[199281,199307],[314124,314145],[386314,386389],[316904,317000],[546579,546662],[285644,285736],[206039,206062],[40153,40172],[473409,473421],[489228,489234],[265098,265174],[6893,6917],[462819,462871],[184982,185067],[380123,380173],[343704,343775],[314584,314673],[345850,345898],[524996,525093],[338865,338964],[206571,206621],[167714,167715],[119372,119442],[365426,365492],[262277,262293],[532851,532921],[245405,245416],[211666,211677],[537851,537911],[77742,77826],[273998,274002],[444265,444353],[327037,327109],[274987,275032],[77303,77398],[205063,205153],[355154,355235],[542821,542851],[541983,542051],[352156,352210],[390138,390222],[411732,411823],[143800,143897],[80630,80669],[378360,378390],[36941,37009],[188135,188176],[404566,404568],[397069,397112],[421110,421152],[520776,520844],[234517,234606],[488367,488398],[207548,207625],[290708,290759],[420559,420567],[530366,530389],[504447,504470],[518973,519000],[388022,388035],[348138,348238],[122605,122653],[352610,352629],[490400,490469],[473421,473496],[244508,244586],[112847,112850],[267453,267466],[304054,304104],[542227,542287],[438488,438502],[540001,540018],[11635,11637],[35534,35563],[412491,412561],[141766,141802],[175762,175794],[337373,337376],[177651,177726],[239723,239759],[480409,480438],[158713,158780],[373808,373809],[274387,274479],[210800,210871],[492251,492278],[12402,12473],[19112,19207],[544984,545054],[318638,318677],[372663,372692]]\n",
    "minMeetingRooms(intervals)"
   ]
  },
  {
   "cell_type": "code",
   "execution_count": 317,
   "metadata": {},
   "outputs": [
    {
     "data": {
      "text/plain": [
       "87"
      ]
     },
     "execution_count": 317,
     "metadata": {},
     "output_type": "execute_result"
    }
   ],
   "source": [
    "# Given an array of meeting time intervals consisting of start and end times [[s1,e1],[s2,e2],...] (si < ei), \n",
    "# find the minimum number of conference rooms required.\n",
    "# https://leetcode.com/problems/meeting-rooms-ii/\n",
    "\n",
    "# Works but even slower.....\n",
    "\n",
    "def minMeetingRooms(intervals):\n",
    "    if intervals == []:\n",
    "        return 0\n",
    "    import numpy as np\n",
    "    ar = np.asarray(intervals).flatten()\n",
    "    d = {}\n",
    "    for i in range(min(ar), max(ar)):\n",
    "        d[i] = 0\n",
    "    for interval in intervals:\n",
    "        for i in range(interval[0], interval[1]):\n",
    "            d[i] = d[i]+1\n",
    "    #print(d)\n",
    "    return max(d.values())\n",
    "\n",
    "intervals = [[0, 30],[5, 10],[15, 20]]\n",
    "intervals = [[7,10],[2,4]]\n",
    "intervals = []\n",
    "intervals = [[5,8],[6,8]]\n",
    "intervals = [[6,15],[13,20],[6,17]]\n",
    "intervals = [[7,15],[5,15],[2,12],[11,15]]\n",
    "intervals = [[8,16],[4,9],[7,19],[16,20]]\n",
    "intervals = [[40863,132763],[196701,397009],[506853,857635],[718147,937968],[27971,637330],[201677,682567],[132382,929434],[168330,708958],[592822,879175],[134987,488822],[66721,698967],[21171,727126],[230439,710286],[344290,599168],[644837,810276],[290666,519191],[303545,588304],[368646,961382],[5840,358842],[156745,744688],[52617,891270],[784867,906714],[26471,87095],[582430,776956],[506648,863600],[138514,608095],[288406,557479],[184940,474286],[912662,965956],[72147,726947],[464200,748795],[92743,316502],[514927,593297],[209820,344198],[36996,742673],[270366,521703],[940174,964092],[469321,521367],[347728,581939],[56538,330826],[463845,508859],[286954,526949],[156989,749586],[610809,795747],[636853,990870],[116783,684978],[81472,446446],[951389,977628],[147920,453466],[799916,958093],[79907,265284],[504258,790136],[287078,964669],[261319,453661],[226033,940259],[552194,741803],[430479,743112],[667485,900832],[862710,868052],[13336,872977],[467193,570536],[50624,917157],[283583,378399],[271578,552425],[183521,296285],[45712,934224],[231871,692292],[620395,753252],[497758,563587],[111101,227474],[200336,530394],[10056,547623],[18615,567891],[78470,235869],[496646,825571],[417948,476899],[136459,454828],[137779,469107],[360125,542630],[692323,851691],[968288,985003],[430590,700469],[618144,682247],[163312,379528],[836235,928423],[282570,576599],[372586,690353],[123831,542288],[230855,517322],[367891,608684],[360230,857112],[131252,645713],[586360,967925],[466242,872780],[397165,579931],[86348,986642],[221660,901141],[617663,623287],[240342,674769],[306373,598897],[163495,172587],[406888,947607],[501580,792395],[79779,877338],[312655,914884],[561489,611557],[227089,269815],[39805,564423],[512463,540624],[560041,778182],[445136,770017],[255183,529516],[122702,526972],[410825,733874],[100333,737954],[13400,279273],[391578,459538],[48896,486293],[112816,760160],[147596,488016],[359888,951481],[398103,630484],[251055,263327],[211120,500457],[412290,755960],[248723,898324],[17002,180509],[292651,622900],[100760,486952],[660859,929315],[170149,982237],[399015,422862],[284509,438363],[14730,484142],[517179,943364],[872690,974680],[384986,630892],[135339,573316],[41672,594822],[96340,344381],[287611,298298],[201451,588069],[347069,891672],[489820,716558],[601111,916733],[270026,931453],[127240,934439],[80495,839742],[334197,720580],[467666,985462]]\n",
    "minMeetingRooms(intervals)"
   ]
  },
  {
   "cell_type": "code",
   "execution_count": 320,
   "metadata": {},
   "outputs": [
    {
     "data": {
      "text/plain": [
       "1"
      ]
     },
     "execution_count": 320,
     "metadata": {},
     "output_type": "execute_result"
    }
   ],
   "source": [
    "# Given an array of meeting time intervals consisting of start and end times [[s1,e1],[s2,e2],...] (si < ei), \n",
    "# find the minimum number of conference rooms required.\n",
    "# https://leetcode.com/problems/meeting-rooms-ii/\n",
    "\n",
    "# This time using a heap\n",
    "\n",
    "def minMeetingRooms(intervals):\n",
    "    import heapq\n",
    "    if intervals == []:\n",
    "        return 0\n",
    "    rooms_used = []\n",
    "    intervals.sort(key = lambda x: x[0])\n",
    "    heapq.heappush(rooms_used, intervals[0][1])\n",
    "    for interval in intervals[1:]:\n",
    "        if rooms_used[0] <= interval[0]:   # if meeting is done\n",
    "            heapq.heappop(rooms_used)\n",
    "        heapq.heappush(rooms_used, interval[1])\n",
    "    return len(rooms_used)\n",
    "\n",
    "intervals = [[0, 30],[5, 10],[15, 20]]\n",
    "intervals = [[7,10],[2,4]]\n",
    "intervals = []\n",
    "intervals = [[5,8],[6,8]]\n",
    "intervals = [[6,15],[13,20],[6,17]]\n",
    "intervals = [[7,15],[5,15],[2,12],[11,15]]\n",
    "intervals = [[8,16],[4,9],[7,19],[16,20]]\n",
    "intervals = [[40863,132763],[196701,397009],[506853,857635],[718147,937968],[27971,637330],[201677,682567],[132382,929434],[168330,708958],[592822,879175],[134987,488822],[66721,698967],[21171,727126],[230439,710286],[344290,599168],[644837,810276],[290666,519191],[303545,588304],[368646,961382],[5840,358842],[156745,744688],[52617,891270],[784867,906714],[26471,87095],[582430,776956],[506648,863600],[138514,608095],[288406,557479],[184940,474286],[912662,965956],[72147,726947],[464200,748795],[92743,316502],[514927,593297],[209820,344198],[36996,742673],[270366,521703],[940174,964092],[469321,521367],[347728,581939],[56538,330826],[463845,508859],[286954,526949],[156989,749586],[610809,795747],[636853,990870],[116783,684978],[81472,446446],[951389,977628],[147920,453466],[799916,958093],[79907,265284],[504258,790136],[287078,964669],[261319,453661],[226033,940259],[552194,741803],[430479,743112],[667485,900832],[862710,868052],[13336,872977],[467193,570536],[50624,917157],[283583,378399],[271578,552425],[183521,296285],[45712,934224],[231871,692292],[620395,753252],[497758,563587],[111101,227474],[200336,530394],[10056,547623],[18615,567891],[78470,235869],[496646,825571],[417948,476899],[136459,454828],[137779,469107],[360125,542630],[692323,851691],[968288,985003],[430590,700469],[618144,682247],[163312,379528],[836235,928423],[282570,576599],[372586,690353],[123831,542288],[230855,517322],[367891,608684],[360230,857112],[131252,645713],[586360,967925],[466242,872780],[397165,579931],[86348,986642],[221660,901141],[617663,623287],[240342,674769],[306373,598897],[163495,172587],[406888,947607],[501580,792395],[79779,877338],[312655,914884],[561489,611557],[227089,269815],[39805,564423],[512463,540624],[560041,778182],[445136,770017],[255183,529516],[122702,526972],[410825,733874],[100333,737954],[13400,279273],[391578,459538],[48896,486293],[112816,760160],[147596,488016],[359888,951481],[398103,630484],[251055,263327],[211120,500457],[412290,755960],[248723,898324],[17002,180509],[292651,622900],[100760,486952],[660859,929315],[170149,982237],[399015,422862],[284509,438363],[14730,484142],[517179,943364],[872690,974680],[384986,630892],[135339,573316],[41672,594822],[96340,344381],[287611,298298],[201451,588069],[347069,891672],[489820,716558],[601111,916733],[270026,931453],[127240,934439],[80495,839742],[334197,720580],[467666,985462]]\n",
    "intervals = [[13,15],[1,13]]\n",
    "minMeetingRooms(intervals)"
   ]
  },
  {
   "cell_type": "code",
   "execution_count": 359,
   "metadata": {},
   "outputs": [
    {
     "data": {
      "text/plain": [
       "3"
      ]
     },
     "execution_count": 359,
     "metadata": {},
     "output_type": "execute_result"
    }
   ],
   "source": [
    "# Given an array of integers nums and an integer k, return the total number of continuous subarrays whose \n",
    "# sum equals to k\n",
    "# https://leetcode.com/problems/subarray-sum-equals-k/\n",
    "\n",
    "# works but slow... O(n^2)\n",
    "# see below for a faster implementation\n",
    "\n",
    "def subarraySum(nums, k):\n",
    "    sum_partial = list()\n",
    "    sum_partial.append(nums[0])\n",
    "    for i in range(1, len(nums)):\n",
    "        sum_partial.append( sum_partial[i-1] + nums[i] )\n",
    "        \n",
    "    ans = 0\n",
    "    for i in range(len(nums)):\n",
    "        if sum_partial[i] == k:\n",
    "            ans = ans + 1\n",
    "        for j in range(i+1, len(nums)):\n",
    "            if sum_partial[j] - sum_partial[i] == k:\n",
    "                ans = ans + 1\n",
    "    return ans\n",
    "\n",
    "#nums = [1,-1,2,-1] \n",
    "#k = 0\n",
    "nums = [-916,-132,-202,-524,739,57,938,546,948,-181,-315,921,792,-992,-69,588,712,509,-406,302,-637,169,407,993,-263,54,-512,-950,-930,66,147,-9,-136,-205,274,992,-304,-835,659,-792,-288,146,182,-672,-374,-943,-85,958,-19,33,-676,232,92,-132,-121,-944,-526,-869,-423,-855,818,46,401,633,-457,63,824,-172,237,360,43,831,-432,213,-330,-788,-472,-70,-507,615,-953,457,-89,-756,477,445,153,-779,710,484,-20,802,-261,-481,-309,-992,-240,275,-302,-137,295,-232,529,691,873,787,229,677,-388,996,301,-641,-983,108,-247,431,-668,877,528,-69,-15,278,-334,775,770,-720,232,-607,896,496,485,350,772,-656,379,730,-445,-152,295,99,-945,-170,-594,271,894,-451,-455,636,-210,674,554,183,446,-709,-599,521,711,-739,-712,-947,-940,-577,71,672,-512,-216,669,137,-61,-901,-867,-168,-838,-653,-503,-535,-423,-922,281,544,-373,-935,-485,760,-203,-656,-241,493,-290,-298,756,-871,-525,614,230,-910,-395,-308,-237,289,975,-215,542,674,798,95,-989,912,-943,-262,-501,-670,-878,-40,983,963,-136,682,-383,-537,-724,382,-831,726,91,666,-795,308,-519,-891,-313,960,-785,-629,519,783,-2,705,-658,993,656,795,441,145,-298,411,-593,-738,-701,-453,857,769,-841,-609,248,-315,-465,-2,93,748,-75,-227,-426,-446,428,54,324,-72,-340,-361,-327,204,991,-720,-861,-33,-517,454,241,-34,-750,-31,-476,-428,909,-221,-981,168,352,-443,-733,821,-287,395,691,-230,45,-752,-524,-998,-245,-947,560,308,-144,223,-802,844,-321,194,-666,-960,-920,-668,989,-735,-566,-298,652,215,916,862,261,-894,-984,124,348,-858,-571,585,681,-197,387,-308,-349,-555,-530,993,464,-285,-195,-786,777,-819,-45,-792,200,994,82,832,-70,-578,-244,-546,-866,-746,563,-359,-857,-610,-518,-902,-746,540,-721,184,-523,-64,466,-166,719,-76,937,-150,-55,849,-42,-403,-492,-24,-850,-448,-460,167,596,-799,523,-699,975,104,658,-274,462,618,-320,-330,-639,-541,-218,-627,-303,-504,781,-564,967,-635,-523,-918,-529,705,624,-196,814,-165,142,-103,935,573,45,-377,661,-521,691,-81,-496,-883,995,227,592,606,-756,183,-486,-767,-68,648,666,-134,977,617,-545,735,-502,-730,779,-744,-123,-495,-848,937,-227,-470,401,-909,-135,884,484,326,-910,953,-321,352,134,-683,855,199,-966,-900,290,-575,-194,828,743,-762,-846,530,-603,679,132,380,-596,110,-678,842,505,-925,993,-765,374,-694,-346,656,-332,-131,-846,-196,34,408,-612,-701,316,-803,-123,-417,887,823,-696,850,762,-231,-863,-758,-782,-504,670,164,-878,-260,561,-448,37,660,-776,787,782,-712,31,-106,485,-345,-802,-512,-305,776,796,788,-575,-577,-268,38,356,-221,649,378,-128,-779,317,313,673,-494,-126,92,910,-343,675,857,-850,-322,-607,318,-694,523,-880,-800,936,204,-275,-822,-528,928,-242,-420,-769,39,982,-373,517,332,-459,-408,-125,-15,304,56,777,-52,496,-610,-877,-308,-876,-148,266,-441,-341,-489,-214,276,27,-413,-534,-805,-607,-808,-568,73,532,732,689,-653,-489,-198,383,851,452,-47,-987,-549,379,-693,-921,-428,-261,707,777,-969,728,-868,341,803,-593,241,122,551,-523,-189,461,-447,130,242,-71,582,-86,16,110,579,-519,-434,-904,27,-359,986,955,783,-195,-911,-29,744,-390,808,-666,-24,962,114,873,473,162,73,-366,975,-207,419,225,-809,656,-85,536,-417,345,-940,805,48,335,967,790,258,-546,-179,-34,651,257,-111,-456,912,251,-639,-24,-638,50,-536,90,112,812,-504,346,553,-571,830,-511,-340,-464,566,-594,-953,715,-697,538,-709,230,-949,-547,-982,-183,238,82,20,-600,-16,47,917,269,-895,768,714,391,104,577,951,510,-226,85,347,-263,-8,100,-670,295,788,-645,-191,534,856,248,568,961,820,-570,552,-772,-892,-109,-312,-979,631,-688,830,-164,-942,-431,898,-358,907,-186,-350,753,-199,-15,-657,-426,-382,53,688,-971,-245,748,703,-633,-232,178,-8,-923,225,-925,-715,-666,-264,-411,-966,-423,-330,633,642,718,690,-434,770,689,902,597,-877,543,-358,-510,93,191,588,-65,-822,-75,857,871,-266,-965,-577,-533,158,-971,-993,615,242,230,-580,-352,611,-684,-280,812,32,-57,651,-916,-733,-763,112,556,102,-283,855,-398,267,839,-527,-58,-64,-68,303,10,16,242,241,-305,-2,927,-41,-71,-362,118,61,-250,454,-801,-479,-518,-659,432,577,799,515,-127,237,597,-907,-597,912,955,-181,-595,455,-626,-383,712,-742,-774,-63,-351,-680,-577,706,868,-306,-778,92,718,-746,-512,310,-534,-868,-546,-32,499,-15,-358,-171,909,-151,357,471,-284,928,8,-186,743,-230,-632,-282,-211,274,68,-88,-979,-12,-673,580,-156,250,903,918,-589,492,446,-133,412,-445,-125,-164,-736,112,-240,-815,-832,991,-965,28,-956,-879,143,346,420,8,-672,-142,-942,347,-844,720,-622,-473,-46,-163,-735,734,-471,-269,-526,-911,-732,-913,966,64,-992,-407,-503,-648,763,850,-637,628,-376,-315,-134,476,-740,533,-481,504,476,-651,936,-750,16,-871,-225,-750,-1,639,114,-862,-390,776,-401,667,-519,-52,774,-143,491,-805,-316,469,-584,979,-143,535,438,935,-619,-191,-974,597,-349,-682,-922,-403,535,109,82,-544,960,397,-858,-489,57,-544,-285,806,300,-753,-86,-411,186,-652,178,909,-756,712,25,-677,86,-156,622,-503,862,-127,-281,700,158,474,-655,512,920,917,760,879,-538,384,-210,-501,-617,300,970,266,514,293,291,586,-308,-24,821,576,267,32,780,341,637,914,822,197,629,456,-774,864,84,-179,973,772,-963,-579,-961,294,-293,846,-97,-685,-462,-183,536,493,927,871,990,-154,-478,300,-486,-827,677,796,433,-184,77,745,-651,-938,-614,193,-21,-644,303,283,-831,631,607,66,168,447,830,28,886,-827,-108,-70,-230,-937,602,206,453,382,-105,-997,780,-292,857,794,-409,-24,-82,408,-606,617,-271,-7,832,385,73,-786,-868,-711,823,-10,549,-765,226,-792,914,179,-293,-122,-31,419,344,-401,359,-321,157,-865,628,995,-738,731,336,-335,658,-337,852,-665,977,-302,680,-161,-404,-146,703,-162,633,-234,-389,-931,955,807,-170,-83,-245,736,-314,-869,-736,970,-326,491,-783,-182,174,-985,-248,25,-657,802,-849,929,-618,-720,206,-316,839,-406,64,54,-819,195,93,985,513,230,-545,969,509,-844,323,667,376,885,-979,561,71,-880,35,657,926,-562,804,-940,479,485,-734,976,186,339,806,65,-163,-849,-76,968,569,44,255,868,382,911,73,16,-164,548,-919,-344,-533,-831,825,-856,159,129,-900,-116,-469,-807,-197,198,-775,144,696,842,62,-273,129,847,149,407,-681,-831,-656,-551,871,-329,-466,-379,-874,780,541,322,232,-332,-170,-829,-673,-833,-741,-308,709,701,-383,-810,-651,69,-917,420,613,494,783,23,-317,-143,-670,167,-486,459,-327,-545,-172,135,970,-352,-825,661,901,-184,-52,128,-426,407,-302,-612,-766,-999,900,645,-373,647,-828,704,-812,-847,794,-525,816,-450,-240,-400,-351,-78,479,771,-262,-311,108,197,-368,361,-226,-428,-220,966,783,-374,25,377,-978,-593,-807,-559,-950,876,-684,760,261,590,-929,-746,-382,834,404,-384,31,-168,-338,860,800,850,20,-267,-691,998,-765,-651,-205,-354,-166,-758,-85,543,-298,-831,364,4,-171,-555,-22,940,-124,-134,-432,-70,475,939,880,336,122,210,-444,968,819,-320,-248,-830,817,-798,584,389,291,203,804,838,-511,112,206,340,556,593,698,449,-874,693,187,-78,-840,100,705,569,432,-366,-834,-440,-90,975,991,809,-953,493,580,550,-764,-560,561,248,810,688,-738,946,-818,385,597,400,-973,-241,-35,63,-268,735,653,240,7,846,937,534,-724,913,747,-891,72,439,-818,519,-416,-527,803,-112,180,-878,192,225,944,-828,-410,966,-399,-839,-889,345,-815,-421,-425,958,-843,621,-800,-646,774,247,825,-624,392,285,-701,414,-298,341,-489,302,864,-267,-95,-170,-383,415,-964,718,950,-500,108,526,969,-830,-363,-739,-946,-500,-249,910,-465,133,346,-303,149,271,674,-474,473,-50,803,-179,358,10,984,-92,708,-2,-562,-596,607,-378,-995,829,-252,320,850,-574,165,-637,143,-240,108,-532,847,812,-540,-983,-804,903,-387,-707,-431,376,-131,325,-30,507,638,663,134,125,-614,-411,154,-564,426,-948,-990,-28,548,-265,-673,-212,857,-568,-921,422,-362,-359,-699,879,194,598,-857,225,-453,-137,-476,-712,-576,-347,363,835,-433,98,-306,94,585,486,-977,195,648,-257,637,143,-878,-395,990,-983,110,-550,660,776,824,-566,-844,531,525,632,-755,77,-846,-394,208,130,-162,-750,279,-490,25,762,84,-579,-14,-666,-27,540,-692,0,180,306,95,-214,826,333,-375,913,530,293,-12,664,-533,932,-566,207,-494,-667,200,195,-259,-966,564,-430,176,20,-909,462,656,-470,723,-530,-757,-331,67,516,407,-790,-989,-219,435,-473,818,-470,-590,-71,-324,-342,-843,743,-912,-105,-665,432,-316,-615,-295,87,726,74,516,145,-436,681,-434,-601,67,790,-727,-915,419,-747,252,-764,-583,-937,640,-373,157,-179,913,719,841,812,-548,-197,-301,420,662,357,-192,-656,-581,611,481,-185,-666,192,176,-874,-599,685,-993,-691,22,-815,293,698,-4,-7,-119,511,-415,700,-400,-21,808,687,913,-277,-566,-881,-367,626,429,-821,-728,565,-995,-446,146,-928,658,-807,415,265,-218,984,-121,258,872,851,-88,-432,-812,-267,-615,342,826,-4,-148,546,274,-415,-178,260,466,-960,729,-784,249,689,958,-700,-866,-970,-626,-936,-637,469,119,-342,984,242,923,754,-278,-583,924,-789,-283,-216,574,531,-572,-873,164,-29,-874,475,-528,-663,30,23,958,756,-79,-38,998,-698,504,948,-213,-122,497,-396,-839,-684,-700,-689,-181,106,-295,538,-936,-764,-298,-264,-986,-418,-639,-714,-834,293,771,-711,504,-581,123,805,-587,-524,-257,-197,-505,-649,-182,-344,978,59,319,508,-543,48,-269,-517,-604,292,201,973,-490,104,-549,-914,663,279,-977,842,-901,107,-858,-201,550,877,-257,-608,-109,401,-880,-339,-815,-41,711,733,-295,465,217,84,-890,-370,-590,350,-103,-750,-808,424,-846,248,520,-768,369,-953,652,-202,422,-831,-978,334,349,-352,-759,-615,872,-712,-887,-286,-384,540,-609,755,285,486,-888,241,380,777,641,897,434,-114,-726,-720,477,347,708,26,-797,-46,-75,608,545,-850,-386,-112,-243,95,-245,565,996,691,-697,28,799,358,474,-402,68,715,980,-168,487,-23,505,368,654,885,990,-526,-335,460,976,270,933,578,168,626,458,-974,598,991,-710,673,759,-838,-380,177,683,-831,582,724,472,454,367,-995,85,-110,321,-919,788,-625,-421,-195,-790,-790,370,-890,306,379,21,-418,69,-374,-110,-170,-993,849,-356,927,-281,-452,-137,-351,232,67,-326,-53,18,164,833,-42,-966,950,402,-819,739,551,-759,-27,432,-152,850,330,820,426,-840,693,-955,993,-469,-238,-997,-334,319,-318,-984,113,523,-591,436,-870,162,84,626,494,881,639,-651,-439,-190,515,279,-503,534,334,544,219,-931,590,719,-237,852,-982,-963,860,-242,-106,-795,897,-295,-334,-732,-289,9,-643,546,748,714,182,383,180,-146,954,820,564,839,-137,571,-169,-331,-140,-615,-93,-466,767,-479,-144,421,581,-844,134,193,38,889,-418,135,-742,452,-104,-717,-301,899,-465,-788,569,-570,676,-174,428,62,-342,-311,211,548,344,642,-50,-135,-976,207,-365,676,272,-56,125,655,746,808,131,-583,-55,-439,95,747,599,-306,719,-84,-525,147,539,-322,996,-6,348,551,486,685,838,119,545,959,-911,-849,124,237,333,912,-554,943,-221,-445,-912,149,-620,513,-336,-331,809,-185,-906,-365,543,-895,690,221,-48,374,898,-996,988,925,554,906,815,-493,-823,451,87,682,862,-334,378,656,-372,-648,337,-420,563,155,185,385,-269,-695,579,-244,390,-519,947,35,-366,-447,-639,401,515,-811,-940,191,-430,417,12,-114,316,-929,384,-619,-947,580,-276,-400,180,75,-969,-289,187,-547,667,-624,471,433,-433,426,-749,-298,939,-678,-730,129,679,-232,-219,360,-424,889,441,-55,380,-570,117,-471,928,87,231,476,-327,-883,-883,-848,701,-205,-405,-921,-154,542,-946,144,-551,-537,-328,974,-873,-599,-691,668,153,789,-813,612,65,535,935,488,-246,534,-519,-477,672,785,-89,507,-867,-447,350,-546,979,266,349,-32,966,669,750,586,-272,-407,604,722,-545,164,863,-245,-469,372,507,-492,-226,-909,-83,893,418,759,-697,-835,507,382,-779,729,601,471,-685,798,-1000,-237,567,913,956,-441,-123,682,-184,-55,847,-197,984,521,-931,268,-460,298,903,-571,-329,459,-448,-9,289,386,-993,-282,197,74,612,-377,-104,-307,97,303,-15,-932,-960,800,188,-537,-39,-739,349,972,-769,-164,672,-216,-803,181,754,923,433,-757,-576,-950,-57,783,637,-534,626,-220,524,169,-672,-743,-329,974,-221,-595,-531,-839,-360,249,411,-366,-674,-62,724,192,-222,-613,552,-380,61,427,-566,613,44,-91,-318,-278,-96,226,-954,225,307,-909,-864,-260,-594,209,153,212,-345,-597,-603,-834,-385,254,10,989,-431,434,-430,628,-954,-25,-314,709,-464,-19,-196,-730,-419,737,947,-150,-978,17,682,-30,-530,118,-82,87,357,52,18,-669,772,692,-532,-483,-308,-701,-868,-941,520,-160,866,-147,31,980,210,-870,824,31,719,-285,738,-267,-728,-370,-631,-633,-889,255,-993,169,-631,-215,-228,530,402,-980,-357,424,-125,-870,532,341,-699,242,986,-470,-906,675,-576,398,52,-958,0,-688,-380,-165,-548,-575,429,-105,-361,298,-471,-774,875,-749,166,867,-40,-605,146,210,-96,-791,607,-494,-459,-675,-96,798,-332,-207,606,73,415,-23,-571,-317,-655,-6,-293,505,674,526,-295,63,910,-304,621,247,-260,549,-731,527,940,141,-505,-157,131,-857,-571,-615,68,418,-870,-665,73,-615,-200,-102,-633,-24,-489,-753,-51,153,-442,-603,642,-357,-410,-965,-621,460,782,682,-355,104,-836,-212,46,200,839,410,-628,-87,344,714,-197,-378,963,-231,-600,299,-401,-21,118,-881,-843,29,-264,596,-356,-968,408,450,-254,-968,698,-631,992,-622,57,-927,301,729,-619,-794,-459,362,902,867,983,950,924,175,-729,-790,847,625,-183,-240,-365,-99,624,501,731,269,22,61,-187,422,141,289,-747,113,872,494,432,170,823,-665,-187,-825,-980,721,960,-23,-975,-796,-921,102,400,760,520,-585,-238,-125,-556,-397,-132,-380,877,-703,149,273,-866,470,83,-613,581,925,437,318,-740,-546,243,173,223,-983,838,309,-303,356,425,737,569,-489,-94,-277,-789,-923,-593,689,-743,-352,-608,542,559,339,662,296,643,-285,128,862,701,642,357,12,-55,-398,96,20,948,-205,109,-754,-855,-836,-541,392,-340,-817,23,-80,212,-532,-287,36,914,-594,-771,78,-221,703,-636,-714,757,-147,548,353,700,693,-587,685,176,790,-8,-316,-765,312,-628,-236,392,-181,417,-213,667,-578,-432,210,-57,545,-811,425,550,153,-952,-45,302,-761,-948,-312,-67,-121,-366,-641,-994,-680,-168,-164,-440,-930,811,69,-199,-363,-872,230,-858,533,-210,-901,700,-177,-238,380,-311,758,794,-845,983,-930,909,-947,99,182,-831,-375,-146,-336,-65,985,818,91,422,959,825,194,429,361,-684,-937,350,993,-825,817,-828,-398,233,-392,-37,644,727,615,440,-501,750,622,-136,-615,-173,861,-175,740,279,-812,-839,515,803,7,574,-25,-705,-147,-41,955,-699,-188,-749,257,774,-812,-427,145,43,-33,-871,934,230,-796,-652,-304,-895,-892,-667,419,-777,-201,132,-147,304,791,-792,-203,144,721,-949,-863,127,342,-374,-29,-468,977,-482,588,-767,403,610,646,-782,757,-185,-500,-723,382,-478,-181,716,670,95,546,-145,428,-521,-292,7,36,714,-376,391,560,-776,34,747,-135,295,447,6,-948,-336,607,-564,366,55,265,441,-930,669,-872,752,29,859,-297,-935,-279,-810,691,-783,-882,468,717,-396,885,374,10,640,63,-895,515,-387,897,-827,220,556,453,678,-750,754,-442,-80,-447,-425,52,-2,-484,171,551,-241,-576,473,35,-199,-58,522,654,133,-859,-983,-70,156,837,956,-852,667,-201,-383,857,-561,342,-377,-689,-705,-847,633,-698,-545,207,961,384,470,955,-955,201,819,-775,-732,-282,-860,751,-474,248,401,-515,-620,628,639,992,-639,908,-285,901,-899,-503,293,-167,-20,-20,856,-1,853,-401,-397,435,831,-984,357,921,-206,-4,398,-688,-597,767,549,720,896,-657,-604,-651,-81,580,762,-990,-479,838,-924,383,-894,-902,615,911,687,-504,-120,-251,-467,614,-676,377,-98,707,137,859,274,635,19,668,-548,-705,-371,388,648,-484,806,-430,947,405,-599,101,72,-452,-834,-413,-69,-516,841,330,661,-70,857,925,620,-776,168,-176,141,284,383,-75,283,-93,63,325,345,354,432,307,303,-271,668,-463,-318,-615,-798,-160,443,139,-161,656,-340,86,-129,16,-204,-272,-84,591,770,22,-641,-497,-521,-964,-625,-335,517,879,844,124,781,-635,-510,202,753,924,112,-416,-77,-244,-310,883,400,-533,749,419,589,995,683,613,-121,-614,652,-247,631,3,399,-974,552,581,-544,-120,-45,-720,105,293,370,678,387,825,122,-635,-153,460,-657,-452,904,-164,-663,-203,-121,888,198,-715,-717,-662,498,952,821,-797,-326,560,-70,-680,-7,-726,-436,-674,-143,268,411,-989,-831,-959,883,830,-693,-366,782,390,829,193,409,913,-34,-455,584,312,27,218,-203,677,847,172,-581,-394,-133,229,-984,-894,-54,148,553,812,-560,48,67,41,413,772,-305,-332,-227,-731,62,-739,-929,918,214,-963,224,-397,736,16,-202,335,145,-86,-312,-731,-984,215,-684,958,-534,-208,270,-988,405,344,670,-24,358,-916,-259,-570,514,212,466,-758,-556,149,462,-120,931,-953,-478,-557,-929,-474,560,297,223,522,-695,477,-986,-786,-453,-270,550,772,225,784,-704,-471,-9,323,-383,-402,-752,227,929,-950,497,744,-558,-75,943,32,604,-901,289,-486,-747,-520,-871,-533,-510,451,633,955,-276,358,-166,206,254,-438,-143,-512,390,120,958,-680,-407,-528,-792,902,219,124,600,627,-570,-354,597,307,-472,966,770,-651,580,528,-976,959,386,455,561,-211,-71,-39,535,-337,-592,-26,890,-680,-191,790,740,616,-515,-469,975,-942,299,93,-823,736,107,-525,-179,17,-138,546,-655,-937,667,616,-303,883,570,-354,503,-917,529,-133,-775,-455,641,258,-163,-621,-673,-886,135,11,667,-740,319,-447,-624,594,880,-175,-185,-236,-182,961,594,990,-396,-88,-952,-168,-810,83,841,-355,108,89,-947,-421,433,491,-576,26,950,875,830,-37,365,-374,-74,-24,938,326,-133,-915,520,-830,-569,441,-348,728,870,-491,172,-152,898,-51,53,843,341,-411,958,-417,23,508,100,-649,746,343,-903,-555,-96,-590,669,-577,859,297,265,-505,799,217,-261,560,178,-718,228,-778,472,457,946,-628,883,-934,144,-956,839,868,-352,924,97,416,-622,-810,-496,-957,-665,293,-48,887,-733,-206,993,-417,474,-797,574,653,898,-11,-937,994,122,59,687,-706,-325,130,485,-592,517,465,643,718,-200,-791,-905,-318,-321,-256,-918,-906,-218,423,914,-384,334,-482,813,-193,-751,733,109,33,73,701,-749,400,-405,-723,-152,118,-933,-990,-894,-314,-567,96,-539,-536,412,39,366,-643,366,-675,663,-197,-390,-35,-945,-738,565,-897,-230,230,-208,925,597,735,449,-764,-177,375,-649,-94,-95,-438,-375,579,-260,859,860,-265,-165,198,67,565,903,872,-364,232,361,940,504,101,678,820,-613,-387,296,-530,-709,948,-481,-285,-380,-944,893,758,-811,-14,453,864,-967,503,150,-658,-326,-873,907,-57,683,437,-896,988,680,-640,-251,42,972,927,-166,-491,-695,-708,-119,947,-769,524,-787,440,751,-506,511,486,45,-718,-869,-572,630,-180,910,336,782,-701,-818,-14,57,-449,-150,-499,-785,-581,-26,571,-803,131,-459,231,403,-423,-697,972,806,-536,-638,-402,-816,655,568,544,-885,-646,-336,-308,644,279,412,821,-38,-22,-545,420,917,981,952,-480,-519,-868,-989,-64,417,-184,-171,632,470,730,-624,867,-919,295,-166,987,747,-589,-867,-295,-627,618,231,-160,-507,-716,317,833,-728,450,717,-202,-963,-223,390,-458,-268,783,-960,490,-336,-775,-116,698,344,359,-102,-903,143,-698,604,-117,-87,320,-173,-135,977,408,-677,657,617,242,-456,532,915,-890,-513,-781,701,-472,-344,663,408,102,64,-688,339,-386,141,-283,278,337,-400,428,-934,-454,614,473,114,-536,182,98,98,-908,567,-973,-712,802,-732,355,968,256,-531,608,-512,238,-538,684,269,-821,-914,234,-682,-568,-366,-432,-501,-365,421,-72,537,694,-687,902,594,-500,-664,43,491,-701,-423,744,778,-695,-735,-273,-143,-757,296,-87,-886,-480,-970,748,-827,309,-686,-817,21,-480,623,-533,-744,128,566,-828,547,86,261,974,-852,678,-885,-430,921,-621,885,910,-999,-201,-953,852,321,114,-137,-950,43,-599,351,716,772,-990,434,-734,598,378,364,14,-132,-956,-269,237,479,-471,467,-945,-645,-689,84,-659,-119,736,202,835,576,-77,-127,899,892,77,427,120,-77,774,-954,862,376,388,-20,-957,367,892,934,-998,-814,-15,-520,-402,-656,-801,-794,283,589,-573,634,208,148,-119,-996,-821,-794,-344,616,-142,-353,799,-583,432,20,-242,657,-273,-602,-773,-439,-415,888,-696,-582,-812,-266,-83,-344,-968,948,136,758,-252,-230,593,889,-967,670,391,90,-242,-635,-119,847,512,499,-711,173,487,419,949,782,450,-972,-977,547,722,613,525,688,-33,204,80,598,924,434,-550,54,-449,-458,-356,258,-817,269,-945,-159,-316,930,-59,651,992,-621,-490,-963,-981,-192,358,-850,-919,118,-382,-335,479,951,-205,187,824,381,-898,-204,434,830,-25,-629,-582,905,249,593,-991,394,745,-55,0,771,-293,405,826,-941,-951,944,-313,946,-856,366,264,-875,191,526,265,756,394,419,186,175,933,-710,-813,888,-311,-957,-925,932,-246,934,-856,-469,435,-906,975,-727,104,-290,-129,888,-910,481,898,-338,822,449,863,-613,-922,976,345,-904,616,-965,454,805,-545,24,288,579,926,193,83,-511,-4,611,947,-212,909,-406,374,305,524,-407,-389,257,-91,-868,-497,887,-250,323,295,926,-57,-534,7,-425,573,-599,537,130,-807,-808,-233,656,-664,285,-99,9,648,-733,-925,35,-269,796,695,628,286,-184,526,-50,-800,-240,53,16,-870,934,-384,-452,866,-572,-410,-714,-737,-702,749,18,-768,-59,384,-940,304,-347,396,382,-99,46,418,305,-977,129,110,-304,447,230,955,936,-357,834,-59,-924,416,-520,455,359,-92,11,-983,903,334,-124,383,-915,964,-510,-721,179,233,-967,-171,-604,-210,-781,978,-287,-500,823,-617,951,883,-700,70,466,971,964,627,-252,-845,100,-320,-685,-968,-483,117,610,-457,-6,475,-818,-761,-556,-997,48,-331,-526,-466,-642,820,896,236,646,902,-62,399,83,-2,-98,573,-672,-809,114,972,-770,-415,-674,-960,-477,-769,-825,-686,-93,983,167,-358,-858,506,-504,-50,913,898,-781,-866,-666,263,608,901,-595,-422,-873,-316,466,600,-234,-863,-633,-401,-15,879,-596,200,184,186,-18,-464,-350,464,-450,969,96,-881,-109,-131,-8,218,937,607,724,-728,809,282,-608,-154,428,490,-393,667,-189,-675,-386,-950,-865,-542,474,-117,-328,856,198,-262,857,-600,-143,886,190,-336,130,-901,-192,-479,-564,420,791,-256,-433,308,-957,-721,-46,-136,431,-351,-834,-803,619,-613,281,113,-98,442,-161,348,229,79,-778,666,-431,35,527,866,-433,206,-121,-428,566,597,-887,850,-614,709,-972,-827,-505,897,672,167,-121,-268,-252,-649,463,-163,-452,152,-165,598,-881,826,-421,190,720,-173,625,-820,606,196,587,-5,-325,-520,123,-255,171,-738,-348,106,-474,-581,137,293,993,685,515,-558,222,-938,-556,554,643,-483,995,170,506,777,-345,757,-294,725,-919,-12,-801,-977,-771,-491,283,-95,20,397,-420,-539,-804,-204,616,-959,26,817,240,313,495,-97,243,79,-767,302,0,-244,789,-477,-152,995,149,-639,-444,99,-262,91,183,66,-830,837,39,-283,-486,577,753,145,-770,692,194,581,-542,332,-844,-417,-128,884,555,705,799,837,-394,316,-636,-482,-741,238,64,571,761,-388,-125,-423,141,-552,-504,425,521,530,-825,383,963,859,-610,-136,-709,-886,-945,711,349,-24,-213,374,95,919,-425,838,-342,580,831,-458,612,-996,-277,-765,-130,-923,-717,-886,409,400,-88,466,-968,-593,824,-752,954,620,-724,500,-427,623,843,-785,-74,462,736,-527,-751,110,-485,999,-274,-20,-720,-651,402,-574,-483,-707,296,-831,-59,-449,-638,-61,-995,715,-819,-110,-652,-532,-424,-599,-8,-848,678,-923,789,103,-799,-728,655,-623,-549,786,-264,940,-981,-930,-434,219,143,-810,-373,709,549,-617,-425,332,949,-504,123,-348,37,-382,971,572,427,207,-301,-524,36,2,-895,-396,-527,-73,822,278,326,-931,-400,11,664,-177,641,310,-792,-585,-30,974,-615,499,-297,421,663,840,283,845,293,-718,-694,386,-53,-131,-976,-974,-118,318,764,-999,644,961,-750,-222,812,-437,-572,-582,-891,713,42,219,-256,760,-257,-860,-972,-122,951,351,423,-819,-715,-288,610,-272,561,457,-388,924,-244,232,-378,175,78,-619,812,-85,748,204,-519,870,106,872,771,178,-406,602,971,845,257,188,381,-814,-219,389,381,324,-53,479,212,541,-820,-238,-279,-123,479,881,279,793,94,624,750,-508,620,-700,854,-185,217,835,-714,-670,860,932,456,-397,-771,204,-241,136,239,-638,739,-117,-194,898,-576,-859,-599,112,77,618,-430,799,-738,32,416,-993,-232,-647,830,792,-678,-928,-262,865,289,925,988,989,883,-116,-897,-202,465,-650,-784,-83,-843,-214,406,756,-934,328,-110,345,601,306,-93,90,-237,360,-241,-696,-47,-977,-546,-152,497,-573,449,-993,-527,234,-440,-291,143,-817,-114,399,-36,553,771,-411,-502,-704,-420,943,984,696,572,760,937,859,-349,-685,-867,937,976,-751,-402,-553,311,53,-398,-869,-348,-616,-232,111,681,375,-917,-49,433,453,809,28,856,748,69,759,572,770,248,-144,542,178,714,781,-900,-236,843,930,622,-248,-296,844,194,-215,-415,-246,-818,-802,857,-894,-323,-939,899,802,-114,82,-977,653,476,519,-335,845,-920,-733,505,-915,256,384,-956,-597,201,-473,-9,-92,-708,-147,874,815,726,-587,892,-625,-892,253,367,-726,-708,353,-843,-405,868,-183,-871,-386,-556,233,111,57,49,-309,404,-87,-804,790,-140,-873,981,467,65,324,39,623,-220,954,848,283,-100,-75,-888,-713,-231,-838,-285,590,121,62,460,571,-549,-133,-94,-883,642,-434,-316,-818,503,335,50,-303,-899,-659,-567,-129,270,-499,-164,190,779,532,-161,-490,-555,731,-314,-735,23,-943,835,303,963,-253,772,-282,-168,-789,-415,679,118,-961,-463,992,-560,235,-403,-997,-800,-713,-593,897,-367,377,-662,305,-37,782,893,670,-971,-16,303,144,101,-851,-968,592,-857,859,217,-62,-14,-115,-245,-554,-983,-56,810,367,-846,795,909,552,-156,465,476,776,195,-595,697,-877,-775,188,-653,737,-135,923,-454,-36,-664,984,745,-80,-334,-560,-557,-409,-844,976,-464,530,564,-204,51,-420,-69,-199,-485,500,202,-177,-276,-319,-761,-584,746,864,-248,497,732,-720,200,-637,-530,-806,779,-518,386,-665,-879,594,-303,-503,496,651,702,-121,-984,958,171,937,603,-919,-240,-724,2,-995,604,-586,-92,-235,-744,-848,456,-823,195,467,807,-404,533,990,896,365,327,-857,727,-86,-100,-304,892,160,509,-779,-117,-152,-654,749,-42,328,957,822,-633,48,-226,-184,234,-573,564,-82,21,475,267,169,-505,996,735,-806,-541,609,984,-580,-235,-21,970,-39,-152,545,830,842,-274,-366,-183,-628,-457,992,745,-797,-22,207,-627,320,-988,-783,692,736,723,412,-482,-909,-151,120,-414,-846,773,-446,-482,-116,-382,-869,-756,-746,368,-581,36,70,207,-229,-156,920,454,-112,-306,-184,-536,-176,-4,99,-118,-465,-736,178,644,879,847,-14,-452,302,226,-447,-838,-416,763,-900,24,-454,-270,684,591,821,-5,-584,-333,582,-117,-251,666,184,-489,425,-844,-392,661,-176,259,813,-479,717,851,-188,667,-826,-506,-338,658,-603,-326,710,-414,481,52,506,676,88,169,-383,215,65,-128,-190,531,-935,-127,208,288,648,13,-630,-27,-498,-322,804,97,-254,254,-897,884,568,685,162,-715,610,-437,559,-899,-288,-140,-186,-54,343,-831,687,953,28,427,-108,581,-328,-872,605,846,917,-343,923,954,-181,269,-979,-279,899,513,11,368,369,625,617,-475,-790,-659,996,975,776,787,434,-859,-746,68,761,-506,-250,-712,-411,954,555,-82,482,795,835,998,-598,36,834,236,-53,-286,-934,764,938,-197,680,-914,-197,251,753,124,261,86,887,-892,174,767,482,147,157,520,555,440,-385,-302,986,-499,658,329,-960,276,915,-950,-718,-126,991,-599,-116,629,-289,-850,-522,-63,-185,-137,610,-813,301,757,-297,-316,502,497,-693,154,-966,-672,243,-629,565,586,-309,785,873,-869,907,-395,544,60,834,584,104,589,501,-404,-553,-880,595,549,980,62,-321,-576,-625,889,51,-304,622,493,972,-581,207,120,-996,-851,-448,-913,-751,-115,-152,-831,-946,-950,685,428,-245,842,-672,-706,-266,-319,79,-27,-643,104,-143,-190,514,238,109,-508,81,-735,-38,-578,-555,-864,638,134,145,504,-833,154,399,732,-757,-978,716,217,47,383,-683,379,-132,-220,895,160,-829,-109,-582,348,366,396,443,-859,-372,-417,-602,-446,-889,913,-87,796,-115,-425,-171,484,971,749,348,430,-988,-653,32,809,322,428,-228,384,-841,-469,-992,346,-533,-526,308,608,-778,-408,201,132,743,875,-648,-885,945,-659,-624,-915,-228,669,-117,-671,-748,502,-293,-123,-560,-159,-103,741,410,-493,-883,-123,81,-565,-570,-788,-832,-508,-783,-765,692,253,491,555,689,505,-319,-294,62,-987,-744,-889,746,711,509,572,-977,209,924,-345,980,414,870,524,345,-527,-148,765,976,739,-211,-657,464,-215,-920,-365,408,-419,-6,361,140,93,932,-341,464,-203,-415,-357,199,192,-482,425,828,-159,583,615,267,-999,488,514,824,-776,135,695,397,883,-278,72,402,-296,-385,204,705,287,66,-67,664,914,680,847,465,457,-535,580,-577,-693,651,-595,-515,934,-429,900,-351,421,-121,-18,181,150,679,-616,-517,-151,331,-521,-588,-60,572,692,722,-274,652,-352,-129,-859,-420,-904,672,903,-885,-733,526,312,-850,-968,-438,-632,327,715,-489,446,756,136,228,-536,917,109,425,421,502,-377,255,-504,431,-982,-14,-310,-281,593,584,-338,-50,-812,333,-146,112,387,-895,-467,-542,160,581,-497,-291,-605,143,-115,845,473,134,873,345,-744,390,522,-486,553,-136,-384,-777,-710,-202,-361,-140,-432,487,-51,651,943,-172,131,-987,667,-438,-470,74,715,862,-881,46,341,833,-579,670,-490,39,685,425,-583,38,615,-655,-254,-668,25,-659,363,-32,555,-289,936,751,-751,-46,110,671,876,0,-941,494,581,-518,-700,186,-275,-799,-328,-34,-230,493,-980,-908,-721,-456,348,196,124,253,222,-372,-452,607,-659,273,876,-784,902,-804,838,-116,-250,129,912,733,-638,544,299,-584,-103,861,964,731,-757,-54,-119,-325,426,-617,-240,-314,-113,265,-432,412,745,-329,154,-599,-907,-475,213,-452,371,88,138,666,127,-588,184,259,723,-253,729,-548,-85,416,186,-752,269,-676,156,878,615,-989,527,-45,-995,-482,-240,469,-118,-40,948,-593,405,-515,-270,697,-428,-781,-620,182,194,-730,793,-543,736,339,-552,-343,-126,-167,-403,546,491,125,965,550,490,952,-529,-306,-925,-156,-453,162,-987,807,-257,-634,-915,-242,-47,-122,-431,-769,520,911,-349,207,223,646,-512,-994,182,-553,-343,617,922,-22,-455,-548,-674,-238,239,421,-269,-132,-135,-599,41,-640,-205,-273,826,887,893,-986,-188,639,-322,-488,-336,-989,209,-970,-798,-267,99,346,-226,-215,870,-698,238,-556,-270,-725,-531,67,-926,825,-349,623,-517,-821,735,553,-512,284,522,-658,-213,7,227,-79,8,-536,770,595,-892,331,712,746,233,0,24,461,-503,349,-199,845,702,-548,231,-126,-500,568,-197,-832,895,82,-27,-362,691,-184,310,-952,-661,-338,399,-780,411,22,369,991,-853,-351,-31,915,892,669,-354,-310,-604,-775,973,-144,-478,-629,-375,743,-563,-373,190,-576,-497,920,564,-371,291,-152,-734,-993,-182,841,646,605,771,-223,-706,-334,-313,-424,223,-171,-758,185,130,701,421,-787,-960,105,963,-741,939,-7,457,-48,950,-605,623,280,-12,632,573,812,184,-84,59,779,902,21,103,903,223,-467,601,333,865,348,746,-124,-857,-21,-574,936,897,-379,-845,-108,739,801,-349,-760,579,353,209,-680,109,-882,-322,649,-145,728,699,-238,144,76,851,-370,-892,38,-175,-139,911,-670,-926,539,-395,-85,665,72,-865,412,-138,849,-755,491,-873,166,-326,647,980,-37,-492,98,-842,83,-45,-720,-408,-531,-59,-419,-203,311,-527,-674,703,-546,-14,907,-352,-165,960,-362,963,99,-985,-393,479,171,537,-437,-67,-758,131,178,238,-955,152,-759,461,707,345,946,-973,529,-846,-539,782,-329,108,-480,369,889,763,-394,873,532,-441,-94,561,536,-336,-424,-43,-773,-650,831,-774,573,-394,-266,-615,706,-394,-901,723,-119,-120,-409,883,387,301,-46,636,-410,168,846,404,572,-965,707,532,-534,-759,331,776,-572,-799,336,434,-97,-314,-432,-201,-749,-577,155,-445,387,-575,151,-288,316,812,504,-86,976,659,-177,-366,-558,600,-934,118,871,-805,248,-978,592,-98,970,414,-336,336,579,483,736,119,-474,513,919,-569,424,943,-645,-217,-191,559,579,-690,95,-987,-595,872,-488,529,576,731,76,-584,56,-553,9,519,-885,77,708,-860,494,-147,-764,526,-3,-242,-790,307,896,968,154,-75,-392,211,-963,194,18,-515,-630,674,-778,-716,-989,170,-994,264,-792,162,639,-435,-488,-861,-621,-12,-600,647,-429,-671,152,-148,-263,-482,-823,-933,578,448,-490,409,-416,-262,-535,-856,-716,-444,-349,-908,350,-796,-70,-207,-329,451,-448,499,203,-930,-643,-98,-708,328,679,-679,402,639,188,-592,465,162,-75,-653,662,-770,-568,-161,941,895,-79,99,942,-155,425,-213,-638,-607,797,-325,-885,625,725,896,-367,309,-277,-962,870,-552,-973,-298,207,556,-588,432,-263,999,853,569,-522,626,-677,-180,-720,400,-842,-484,-402,720,-392,995,814,-457,-606,633,569,-16,887,-316,83,778,-722,732,872,464,34,-792,-668,-932,614,-974,-113,593,-53,578,725,269,-945,252,-64,-932,834,244,-74,218,348,-836,691,-63,-324,-888,-197,18,-890,402,-198,-793,-60,735,318,-407,-431,-884,117,-249,267,169,245,107,662,-565,-483,-794,795,-949,605,-277,39,819,-654,634,735,102,279,387,-219,-564,-313,-220,-519,556,-364,-425,968,282,385,-805,-907,328,146,183,-94,-115,-21,-314,413,-219,-506,-287,104,72,529,460,-343,498,-851,-236,-253,-794,-382,894,150,-224,463,-75,-716,690,-325,978,-725,-52,-277,835,-504,583,125,-739,-914,-505,-769,-176,362,446,981,-302,830,965,-183,-69,-278,514,-186,946,-224,244,498,7,73,-948,-978,393,-686,24,-215,-504,-625,-588,997,169,-892,877,-209,-884,496,477,-69,-768,-770,-491,-336,-607,-97,-988,745,-19,-869,998,468,-530,-900,-651,90,-149,86,114,-325,-600,686,-45,6,-951,814,128,994,91,569,524,459,-495,-530,-492,-945,891,684,-365,354,-647,321,692,-862,2,-545,778,143,829,-708,-245,-669,555,-304,-456,400,525,697,687,-787,-52,125,892,-436,-817,934,17,-799,-263,56,401,508,62,-272,640,371,178,591,-971,-650,442,-729,872,733,700,234,453,400,-634,832,-593,575,-230,-721,813,378,-279,849,-823,809,186,411,-469,75,-222,199,55,943,917,750,718,-541,382,-357,-671,52,255,591,405,394,498,389,-989,905,449,-830,609,401,574,694,298,687,-869,691,403,-578,214,-682,-934,-404,280,-865,-928,842,-341,-952,-269,34,-722,-762,-160,-447,-868,339,-133,-456,142,-853,-270,73,-885,931,372,-810,-447,268,211,831,759,237,-9,990,643,427,-957,881,292,-763,-196,711,-982,-847,-872,206,622,-808,-757,265,346,502,857,581,-856,261,293,-213,349,975,-818,-429,-905,834,596,155,-16,192,534,890,-442,655,676,-145,-582,-862,967,-564,-922,-801,199,-92,444,911,-523,180,782,539,-921,-856,110,-260,-275,702,890,452,-458,-154,-916,68,676,331,971,115,-605,-474,-645,-623,473,797,-872,708,987,-113,-397,-384,106,-827,-950,-257,-475,603,-774,659,-872,-45,-472,-33,-666,961,-534,700,157,21,572,558,475,783,947,-817,-727,-568,32,-374,294,-711,-266,-854,67,678,415,842,-251,461,-29,184,515,271,933,-935,-413,-938,422,25,-151,-656,149,803,-10,219,348,-707,545,130,949,-142,-140,777,-318,106,-172,-186,771,742,-298,698,653,-56,547,541,-678,-713,-58,-820,738,-144,-269,669,-856,-784,-999,-858,630,262,-899,46,-188,160,667,92,-135,-321,-15,166,-17,236,274,157,997,-580,236,887,218,-965,395,-902,-59,51,-391,-612,40,924,-537,228,696,781,813,-652,-793,418,107,302,810,870,389,-167,-635,401,762,803,549,-594,153,616,-505,375,216,-32,-45,476,223,-907,-596,-12,733,177,215,-75,554,-897,-944,-911,988,127,-803,-939,-811,-208,69,967,-434,569,809,768,328,-414,28,-262,-409,24,464,691,-26,-993,-880,155,-132,946,730,356,-847,-806,9,-5,349,252,-867,98,-78,-897,609,-304,81,-214,-882,-347,599,-479,821,-22,-4,-998,-415,-978,-707,-555,-91,31,611,-432,604,-702,408,321,-708,-366,-690,-404,-69,-207,-581,60,231,-567,-109,-786,709,-267,-252,190,89,441,-455,-340,58,-588,189,-601,522,374,630,768,-362,384,829,601,-69,-76,-622,527,-54,277,-543,526,-983,-334,-319,851,728,23,-135,-764,-28,-698,-610,960,250,177,430,221,-254,-376,-413,-277,375,611,70,-185,424,-981,258,-13,-123,-999,-713,500,832,-742,237,-387,-740,928,-909,-788,-595,-37,-566,7,138,956,-756,576,-241,755,298,710,801,-153,881,288,228,-86,-654,272,-904,-999,-172,-837,771,501,-23,208,-173,-565,-629,-265,-78,-963,119,-756,376,-661,-534,30,291,141,-137,-535,-875,-750,-298,624,870,-434,-213,-2,-14,-508,-579,872,833,89,394,-338,-513,908,240,-471,877,-315,-322,985,-926,358,-53,-722,-252,-841,138,449,182,7,395,-917,-602,-364,666,-149,-337,878,222,734,-600,-135,-705,-535,-367,900,-219,-993,222,40,-613,416,691,-439,-762,-907,588,502,528,-227,-242,-211,853,-190,-534,442,-479,-374,-374,327,316,836,-218,-568,-942,310,935,98,-452,843,-568,191,878,106,884,872,89,-217,178,-135,-352,461,645,-859,-109,-745,978,739,-411,232,-848,-930,595,-375,-52,642,-125,-584,-427,530,190,-519,-143,-131,720,-800,147,385,-917,860,-984,-326,716,-773,498,-696,-485,965,540,-116,-483,-709,427,257,426,964,567,-117,606,-774,-889,-405,-473,-500,-468,-588,-461,-957,658,304,600,721,-592,-109,-406,-544,-673,-213,-754,-596,-136,-176,-534,86,-133,690,860,580,696,-424,-327,216,473,147,380,-1,-813,942,759,-312,-750,51,96,770,-373,272,-291,468,-405,808,836,-442,691,847,-124,639,-403,-636,399,-208,-7,-281,-672,-610,-84,395,-919,-485,-113,-151,96,753,340,804,803,120,467,655,-424,-55,-642,-271,-910,-614,-435,-888,-443,155,-132,842,962,-844,-753,299,879,-974,128,-691,-935,-299,-502,-340,-49,275,-765,-282,808,860,2,389,207,759,970,-18,360,-930,-645,119,-146,595,16,2,732,703,921,602,-97,-158,268,-913,-759,594,262,-822,-721,-584,-409,322,112,-553,-72,253,-457,-542,872,424,385,182,-891,971,-525,-381,-312,-744,634,132,560,485,115,98,-407,752,114,-221,229,-374,-490,-180,654,496,206,-170,727,523,-596,306,-675,-59,934,275,-469,825,420,-9,124,-870,-814,-292,249,906,-668,-420,-57,-96,-253,-853,-932,988,270,653,-256,272,258,-744,-923,285,727,256,216,-687,715,482,-308,-284,623,-606,517,989,-451,676,-592,803,637,485,66,-862,214,575,-478,206,-679,18,198,-377,206,-67,946,-268,472,129,884,-696,-260,-895,300,-944,694,842,-166,-662,124,-511,749,-323,-960,539,201,313,10,953,152,810,305,-378,-142,-908,713,-144,-400,-270,-344,118,-541,-397,-344,-478,626,852,500,-552,-661,692,-36,818,352,-130,342,-471,-190,491,-228,813,-264,-670,-659,529,997,751,641,304,827,694,-368,-980,-252,-255,598,764,16,958,332,844,-786,809,-603,615,-908,103,559,-299,-1,-908,-405,-231,-44,545,-314,-414,-377,660,729,-468,-336,179,-538,271,636,178,223,-298,436,-1,686,176,-154,-175,380,-54,-257,-890,-254,397,36,-941,300,-872,789,449,-326,-526,735,-216,-804,-152,773,104,-552,-366,679,-985,-232,-442,487,820,-681,653,78,-290,278,-608,-859,-307,-933,797,654,-222,362,627,63,782,559,690,392,620,-16,-129,650,729,233,-152,-186,-990,664,-560,-932,-317,-5,-428,-875,-987,690,-816,335,438,273,269,-429,649,922,815,686,981,911,-607,-812,-589,693,499,45,10,974,325,-534,72,28,-896,-526,-901,-251,202,-231,956,-212,-4,-679,149,278,-206,197,-606,-566,-181,255,-587,166,-930,931,546,-302,443,717,-964,57,437,747,-914,456,-209,201,-210,928,88,166,-381,424,-588,666,665,242,788,-723,-630,958,-203,183,577,311,-769,269,-613,-222,264,-344,-26,539,56,-911,-486,955,173,204,-499,712,730,20,-751,-617,-722,-384,-122,504,241,-676,-279,-554,-114,530,-105,-261,-996,-245,9,379,109,-655,169,-641,-264,704,-703,-353,-546,-273,381,-914,616,619,766,893,896,-854,916,239,225,167,-738,832,-584,187,-121,-203,-200,-134,882,-568,-609,-2,23,-842,861,141,-459,532,-603,332,-931,-77,-515,-269,-856,304,-354,390,642,250,-689,-780,-474,-719,615,-376,-916,-122,-879,-698,-502,-763,615,-119,-905,-529,346,-459,980,110,-635,-684,-378,19,-410,962,-362,975,-238,399,102,-763,-689,-784,322,-353,330,-234,804,-71,415,-900,-324,118,-106,-436,-12,742,462,-156,-156,-421,-453,623,-660,909,-18,396,425,-317,952,-450,-567,-185,-318,520,843,963,366,177,117,-799,287,572,-231,-358,47,141,924,358,-382,-954,-472,867,-839,-233,801,490,-461,-741,-141,156,-567,-679,-32,448,-385,167,445,609,137,-112,-852,-193,-87,-356,-808,661,-12,905,-823,801,-544,-272,722,918,-540,-210,-195,-279,-679,-736,-237,-383,-3,-930,330,509,-384,-142,-234,-204,-491,-62,-482,-34,-274,829,-442,259,-925,-855,-872,109,-79,-107,265,-872,-742,-322,65,-521,918,-170,479,-120,896,26,781,-90,-908,751,-981,549,956,430,33,885,-355,839,418,-566,285,-922,-925,252,-478,763,-939,-483,187,687,-758,143,-527,-92,-619,-882,-948,-902,-545,-678,802,891,825,598,555,61,-269,622,554,231,-443,-944,-726,-909,174,-690,705,-767,-573,423,-185,478,820,924,779,134,-434,536,-806,-320,-945,-593,1,-366,65,-448,-435,130,175,90,-401,856,-510,894,-432,601,306,-249,373,373,951,82,-401,731,306,607,-254,523,36,12,252,-831,860,-19,670,-81,-809,969,144,357,-92,-169,524,-233,-729,33,-342,518,-520,-31,604,621,-606,-124,630,131,225,-537,91,291,441,310,-213,16,-54,-247,-430,577,-314,100,-944,810,118,617,-573,323,663,-150,571,-113,774,853,-314,-998,-615,-149,648,-95,-422,220,-513,-692,-930,438,-247,667,-417,925,-10,-616,548,335,672,420,-925,-939,459,-576,368,436,267,-53,-508,-122,144,93,173,973,-813,-19,-155,704,-614,980,-309,390,887,451,-245,845,679,158,-659,-776,19,-185,-546,425,-902,-291,656,-234,886,-852,-377,842,-268,502,-710,-327,279,-419,-996,486,-848,591,401,550,-14,906,-65,223,-771,-925,107,246,998,-743,38,-160,809,827,-481,59,329,-488,-553,152,724,-888,-594,-505,93,913,-744,795,581,452,-258,767,-382,54,397,-343,-572,-289,-965,474,575,998,238,515,997,278,-954,-282,-524,188,645,-824,-961,-249,-863,772,-977,-252,-845,-419,-437,-181,166,818,-201,93,649,409,-459,-264,-118,-627,180,609,440,-899,-734,-957,-827,572,-110,490,-371,-914,-845,-31,724,-619,6,-728,-574,354,-450,754,-216,-454,-523,-910,97,-284,-109,982,-584,-909,-318,179,-528,-270,76,-772,754,217,-133,725,500,-799,-398,116,836,-253,-587,333,-333,-287,-906,936,940,384,-109,-309,900,409,754,-107,-336,829,395,-796,-428,923,164,-112,-261,-518,-191,339,-777,770,-402,747,892,-340,-44,-769,910,715,-217,632,940,638,-676,-99,-658,587,-782,-903,-998,110,577,-424,82,-782,-135,609,408,185,855,884,204,333,699,-992,586,113,-65,-878,-715,227,818,-813,-154,-27,-770,-336,-907,980,580,-229,-493,458,835,794,-53,700,-630,833,398,618,-448,-672,254,450,-723,662,172,746,-864,-616,953,-724,-257,244,579,-863,-451,278,179,306,448,-77,143,314,573,-231,835,995,-274,741,-50,747,281,-997,-83,45,-842,722,-942,-240,-335,289,278,849,517,-900,563,434,-769,-829,372,629,573,670,-122,382,617,-88,34,592,416,394,939,-652,-503,-490,-615,-62,150,603,472,415,-202,615,-523,-708,732,-558,-856,930,-654,-465,-5,456,809,-512,119,-752,927,579,-106,-900,-540,875,682,-835,654,577,725,126,-700,-149,340,799,212,-870,736,-6,715,621,-424,128,-160,249,-518,848,-762,681,-230,-748,695,77,307,-501,273,432,588,232,191,781,-3,954,892,-963,-43,-63,619,864,-844,-318,-763,756,-51,138,-81,-936,-886,401,289,537,-539,7,-179,651,94,388,-314,863,-717,762,-423,-381,961,110,-519,866,-852,648,591,-316,283,-401,-293,-957,-929,523,-768,33,781,690,-667,835,-677,-490,438,803,-561,58,268,578,-125,414,-775,-667,-494,-466,272,116,835,319,942,28,43,907,936,-940,363,-58,607,948,-922,-486,117,735,-615,-480,-369,-425,-469,16,331,844,-733,-557,-513,-334,-661,879,496,-903,796,951,-328,-802,-33,741,794,144,-895,880,-378,-844,158,-523,-889,-102,-17,-393,-487,752,347,589,165,-844,-244,383,-179,-105,931,-92,144,285,-826,508,-242,323,870,-838,670,-426,141,17,360,-672,640,-513,-479,-960,795,-98,-831,-656,-375,596,906,677,-151,-569,274,-370,-205,-511,-379,519,-17,-368,900,191,-19,-743,893,-292,857,-380,-853,226,-223,-571,179,387,-73,-767,-255,341,250,361,194,758,214,531,-231,426,-977,-999,775,247,-341,-472,737,-384,387,328,76,-76,-966,-44,844,-68,814,233,-145,465,712,764,886,974,574,-615,-945,-955,-121,758,126,321,559,-1,-93,-156,-566,-557,514,430,-705,-39,339,-962,516,517,-176,843,-345,508,531,721,-82,-630,-123,80,-476,434,-863,497,-463,465,627,-897,-952,-922,134,-612,-216,860,782,675,-703,-392,836,264,886,478,506,-582,-712,769,57,-439,-211,-556,-627,-761,-642,744,686,29,-170,-604,-505,-420,-946,882,-903,62,-443,332,-597,-642,-326,233,-116,942,-602,-431,795,-567,450,-529,-901,-198,-841,-1000,214,-814,977,779,-331,8,72,-85,932,885,-348,766,-938,4,873,-540,689,-99,134,762,-589,-535,508,-845,-385,-20,-983,178,620,-589,-871,-722,269,376,-328,835,261,321,196,83,-320,-685,487,462,-418,873,-336,567,-672,824,-320,-955,403,779,203,82,-628,395,-585,600,-730,211,-918,546,-580,725,524,145,-488,-674,208,8,510,-782,-985,751,-530,737,127,-497,-587,533,-411,648,-168,-571,-638,321,-20,-71,-692,402,655,-301,-214,161,228,763,-118,-39,-734,-519,-516,801,-787,-240,259,725,611,914,291,825,771,-573,182,-340,-790,346,-974,-850,842,817,-427,-402,844,218,27,-988,749,-434,903,33,638,815,-532,220,-633,94,396,986,-4,752,613,640,719,214,-794,-359,-814,464,-551,816,36,-104,442,414,419,157,-14,681,-322,243,326,-259,416,-901,512,242,-660,-471,-228,-981,658,51,83,-867,166,-694,442,-63,745,-38,282,-745,-836,124,-890,562,320,897,291,990,495,886,-308,-11,-299,-24,821,407,-341,-150,229,199,209,-116,471,-47,-279,-64,-279,-314,610,910,-347,-669,10,292,379,177,817,-782,461,-231,-213,-653,-192,294,-611,-196,916,-282,-650,382,-824,8,852,-712,-451,-107,312,-60,-407,369,-457,201,297,-295,900,835,-293,-167,-387,-721,-217,167,-420,852,408,825,-320,885,-598,230,-372,92,-757,-230,815,-280,-422,-248,-137,767,-43,491,-3,121,499,789,595,981,-330,-72,-580,-292,657,-639,-382,647,-620,-189,-367,-208,223,151,-961,94,185,-534,79,-188,-508,501,200,409,607,-856,637,960,630,-563,263,-541,484,581,170,672,520,884,893,468,450,265,781,-473,874,-507,-662,352,213,947,929,149,169,952,-200,-492,677,-175,473,-655,-584,-544,527,550,467,588,270,56,-195,414,923,956,-696,-684,224,-593,409,-870,-79,353,-164,-114,-310,176,-639,-214,-586,467,427,509,-347,-985,-820,594,977,598,-874,920,11,222,737,112,-567,-817,-534,-944,905,-272,-832,-525,620,-468,816,-859,-901,30,-778,-94,-59,-602,-999,141,-560,-76,645,917,519,-923,716,-90,811,-750,-46,-316,-82,-352,-957,-489,654,-761,-417,118,2,-716,802,182,-351,-603,-753,15,114,-352,207,845,602,893,501,718,406,42,-504,770,847,-108,974,-672,867,94,695,277,767,-43,-747,409,393,-249,572,-856,236,-608,588,528,-89,781,-76,515,112,907,-150,-94,433,-314,863,-313,-296,-867,296,87,-195,-961,409,-43,-866,845,-797,-481,437,-898,-120,-913,739,-397,-984,-223,-870,-765,-430,339,-616,246,297,114,-650,-434,928,-724,998,-413,579,-916,-756,536,491,777,-481,-997,498,-854,304,-552,759,-253,-829,-342,-773,904,-370,-522,-845,-744,60,-512,-772,-190,227,-876,-226,379,-207,-31,764,649,-859,184,84,486,-448,593,-926,-596,-611,-349,169,526,627,-639,-882,290,326,-620,452,131,599,90,127,-27,-635,-149,-22,225,66,-303,-547,-313,-679,895,660,-808,-313,-850,-261,-322,620,-11,203,182,-199,-932,935,355,-254,-892,66,910,-848,333,495,480,80,88,-901,63,179,536,117,-625,-649,-367,878,104,-444,-281,384,-211,57,933,724,-189,130,306,868,-666,626,467,925,882,-71,-337,-571,627,-955,469,-865,85,-877,-355,107,37,-745,-269,360,-431,226,-788,-438,-676,52,-144,374,319,58,-112,-588,7,784,-510,662,-473,551,-197,-869,807,951,415,779,199,-590,-230,111,387,817,921,179,-192,109,-742,-35,615,-646,-825,-76,77,413,-229,-252,-749,884,909,-422,-584,477,-662,-370,763,68,391,271,288,613,404,-151,668,496,251,-441,-543,401,25,-639,490,-640,-641,-95,-917,-325,817,611,-166,-848,-933,155,231,763,-99,498,-392,-836,-654,983,675,-26,647,-994,175,-344,458,-586,-670,909,-205,268,-66,439,138,-888,284,-940,482,47,69,-702,-47,-116,688,-837,681,-906,-153,-474,15,-589,-20,415,975,94,758,982,-908,87,871,-767,-410,327,-51,963,-66,649,-770,29,241,-216,995,515,-830,-142,923,-512,240,991,-59,-214,-73,-247,446,2,178,251,903,-401,491,-33,-301,-734,-317,975,349,-127,70,-203,-122,42,-162,-727,-772,705,252,765,513,-838,-197,-208,-389,-149,636,482,-131,-723,-43,973,-918,-784,463,-987,-528,-871,684,577,351,434,-98,649,840,-459,811,310,100,204,605,-290,-545,586,-356,-420,-170,-816,-980,905,325,-570,210,-822,142,354,452,693,724,19,311,792,-612,882,363,-905,160,-918,-806,-999,-505,-573,-990,-635,-809,657,-162,-954,-179,310,723,44,-403,-885,631,415,81,-711,-286,826,601,-362,-413,-324,-977,79,600,-682,12,443,816,-91,-147,-21,630,-796,311,-808,-597,-283,957,773,302,236,-216,99,31,-318,352,-201,420,372,-515,28,-490,828,-678,883,-682,258,810,-59,119,226,27,-860,-855,-474,-239,774,821,-417,-26,379,98,838,-700,174,-73,-109,-109,966,748,421,-92,69,-152,-47,-356,-712,756,386,-263,-372,-222,-62,188,980,-298,734,-124,902,-136,741,-311,-606,348,-391,-461,-546,-2,-30,-412,739,640,75,718,-125,-884,820,-687,-549,942,937,-1000,518,-314,201,99,981,510,82,574,348,652,545,-692,-133,909,47,802,450,-205,-841,-342,821,192,769,59,-884,-881,-535,-863,-624,-693,876,-445,-896,76,856,31,-35,-904,-832,859,617,424,224,182,-776,805,54,257,466,759,-567,-263,-361,215,-580,372,7,622,238,917,-395,790,-295,-613,469,-444,698,-413,743,-738,655,-752,-673,44,4,-387,-231,-840,-371,476,-354,831,-89,-329,-757,-618,393,-552,-102,571,637,523,29,-320,472,-366,660,216,-56,327,307,452,872,524,-712,-880,355,-673,-274,790,741,-690,-731,653,-345,-559,-912,306,-373,-76,-666,979,-458,-778,170,-66,-110,874,-127,-843,-299,-131,-817,522,-422,785,-741,-234,-342,-505,-429,552,362,-793,413,20,354,484,837,-165,647,-367,552,923,-903,-799,143,-302,354,4,52,665,-176,875,632,-711,-982,257,-547,972,399,901,-511,-970,-319,-976,-428,-116,892,683,496,912,-319,-313,940,-207,-373,-421,899,136,584,-441,-986,239,-541,555,391,-105,-530,115,857,-278,-870,-785,151,-600,-960,-956,499,786,630,811,-119,-483,-618,-297,856,-720,-210,826,-63,-705,-876,-447,633,-794,-271,-268,538,-556,995,-167,328,248,51,912,939,-502,-458,-927,-762,-919,10,-963,424,950,462,393,695,241,-829,-209,-971,-867,-307,-957,107,-225,197,986,-11,204,-619,-310,-640,744,-559,-195,40,887,879,638,443,495,-610,-927,914,459,-879,-34,743,-105,-777,-611,820,537,588,-823,-901,469,436,-938,-700,-656,-378,-818,-721,-332,949,-997,-164,-347,-591,459,-178,-174,-419,591,622,-599,-478,896,409,-844,358,395,912,641,-181,824,-727,-936,161,-416,-516,-299,67,-395,-227,-518,-181,345,72,-699,-27,715,688,188,516,-234,-396,-754,717,824,-473,541,-790,-483,212,-281,8,315,226,-165,964,-3,166,198,-616,-342,960,219,739,971,-671,-958,825,-398,178,293,877,839,652,128,473,-873,-414,223,982,964,-585,201,418,-884,-130,184,-109,800,326,-792,-200,-873,-270,12,458,551,323,137,-41,-188,-954,-749,-125,-629,-862,-647,-433,374,-570,866,879,-438,-511,171,-4,-192,-125,282,-681,625,49,124,617,280,-633,170,-355,912,728,-337,153,115,-691,694,495,764,652,-936,-131,466,-678,-826,-122,521,-386,-839,982,-150,-187,-62,-912,522,-248,-254,694,-928,432,-584,844,897,-288,195,-849,524,-114,-614,-957,991,-469,618,9,-286,-214,-419,-576,865,-96,-567,617,-352,-319,227,954,109,-709,507,-821,366,-623,235,-485,-231,-690,-484,-750,137,-515,361,945,413,928,115,-490,796,-79,-432,364,-222,-682,185,-718,-296,-869,752,-433,511,-788,736,-647,-242,-57,127,-353,64,198,-108,-80,850,602,999,-829,-977,212,612,-159,564,608,-632,336,332,789,540,-125,-556,971,873,-705,601,326,-557,312,-988,-66,805,575,798,-464,264,298,-819,-785,-610,-908,570,294,-634,176,-734,-824,858,990,-688,-205,831,-728,-386,-910,111,553,375,-980,26,212,474,-86,755,585,371,619,892,-202,938,387,-171,-101,109,-90,-29,-984,-864,798,67,409,813,320,-587,-993,-46,325,-500,583,-395,366,819,-533,-433,-573,973,-589,957,873,-732,-50,775,-251,355,383,-531,-140,975,-698,495,650,238,-963,454,978,-613,-440,-790,688,339,740,196,-562,440,882,-462,-833,880,560,-528,468,291,-330,-654,198,988,171,854,175,-985,-629,-922,-906,394,421,905,242,-990,214,372,998,761,-740,220,960,388,350,-104,347,351,212,694,416,443,95,152,-927,-51,985,-826,-379,-261,409,250,-202,-452,251,-792,90,857,-732,110,-442,-520,231,-318,616,384,168,-282,-402,-975,-699,-695,80,513,13,-966,-517,137,-580,-41,-926,566,-158,-595,601,774,87,123,536,205,-401,104,174,625,390,789,-101,843,-271,-126,-556,361,952,346,-409,-39,-215,462,-293,255,16,679,-223,-912,211,419,-525,264,787,752,801,-789,-700,265,-143,805,-657,-26,-93,78,-487,-474,75,-228,422,192,140,-79,-866,-864,-370,-27,369,-60,-886,455,195,-185,-251,-154,471,856,695,935,-147,291,-637,204,941,538,382,885,109,194,-501,-97,941,880,456,-159,-543,-118,-745,899,267,-486,-964,722,-763,953,600,236,924,644,-855,-8,-376,987,-532,-457,-787,854,659,646,214,322,-263,245,-324,840,468,-752,803,-642,-493,710,-78,-414,-215,545,17,-942,796,-659,28,788,894,-625,-321,825,-229,-923,-586,-210,29,-71,-104,577,-144,549,-530,-495,672,197,-529,918,-246,-548,159,-148,-298,-82,-474,-134,306,622,927,109,-129,360,-160,688,587,-644,-677,219,750,994,-171,741,511,204,65,-46,-350,449,86,212,802,-204,931,-961,-151,-695,1,-101,-122,532,-300,-404,-610,851,-313,572,842,-742,-717,-297,-722,137,-285,883,377,-722,0,255,-403,511,-828,94,680,-729,100,-555,-229,176,-575,420,-1000,391,207,-334,157,648,-361,-809,91,911,-215,829,534,756,-899,763,-99,371,451,531,86,-451,204,75,-435,134,609,-322,-701,-696,694,-178,-516,-712,-696,787,988,844,-798,181,841,-930,-526,201,507,335,-819,-751,-170,563,123,114,-255,-277,595,718,-512,-386,-510,465,855,-146,-972,-919,669,238,293,-168,-151,939,252,885,473,-873,-578,-548,196,-16,-748,130,169,-174,463,755,907,-857,-983,-933,-438,-212,136,-695,-703,617,614,460,-513,-983,-685,-65,183,-680,358,977,-21,463,276,664,-238,998,914,-651,-591,-457,851,378,584,-276,-341,-428,-890,-835,855,-893,-582,-725,534,594,-403,263,124,-936,-237,-689,-968,388,843,415,316,-291,322,778,-325,821,-112,-968,264,-883,267,-350,941,715,-368,752,285,888,-545,946,608,-220,388,245,70,-575,-870,608,-872,881,860,80,823,-888,747,547,897,67,-172,97,-697,-228,-376,611,295,-755,-756,-374,67,153,-958,187,-419,979,413,385,240,340,-246,-128,-538,-670,-288,-987,-517,-800,-823,-863,257,642,-530,-549,353,-636,-533,-825,-919,-506,-592,842,528,989,958,613,-408,-380,-286,751,825,19,-726,807,-442,-238,-257,-367,-729,-91,-624,-233,-213,-741,267,-475,710,-453,65,-885,-570,-540,105,-205,-1000,100,727,-478,748,712,-465,524,708,-974,-105,-99,-990,-695,75,-208,-857,-337,375,345,889,361,546,-505,-740,-60,785,-140,-274,-767,-334,195,774,-881,659,-61,31,437,-752,317,-165,-774,383,584,-15,-793,969,-7,-631,-307,-543,-661,-216,93,-564,12,-287,333,122,267,-892,-272,-471,774,784,393,-84,849,909,-266,-777,-129,119,527,651,292,-236,334,-312,-70,283,-587,-998,496,-964,-349,-986,564,-303,-244,317,-200,-361,-759,182,679,-563,494,-786,786,362,639,468,-197,229,794,-471,-717,-549,359,881,-89,621,-874,301,994,231,-7,517,101,-750,-473,-379,-498,-916,586,102,-960,303,440,446,419,42,159,519,784,152,934,963,668,-732,-185,513,-423,209,175,180,-886,353,516,-99,791,176,145,993,-876,14,-141,-267,-488,-191,-835,205,606,-959,-166,288,-523,986,829,-615,95,-861,-67,109,-511,-837,922,44,133,-622,-760,791,958,-702,-779,554,105,30,775,-104,-722,212,-660,-345,456,321,-580,-469,881,-993,-161,-536,591,-844,-557,-138,332,-612,21,-950,36,-53,898,-702,689,-416,694,-534,370,898,449,-210,570,-121,-889,915,980,-607,-258,167,-57,956,232,539,12,861,774,323,917,27,729,282,-766,494,484,-783,169,-427,871,346,-87,-405,639,-482,488,884,-95,-774,-245,-154,-944,-846,-557,-663,-975,-580,581,865,780,825,-856,-783,-757,-439,919,-127,-971,343,803,706,-937,-173,-274,-448,-865,94,655,-274,-359,-853,-748,909,-888,82,-427,31,-722,28,880,941,273,-162,-487,-572,-320,-75,-551,-60,-755,507,224,-968,777,285,12,75,-524,778,989,-882,62,-193,768,-785,-870,335,211,-947,-519,544,-307,629,25,701,-918,768,-409,616,-716,536,-416,-332,-349,-302,-851,-60,797,-90,713,417,321,-750,-722,-551,190,-502,457,-501,-327,37,958,56,807,-503,588,-231,-52,824,166,-546,-143,133,-964,985,850,-225,-599,-686,935,-250,922,75,-863,-232,947,-53,397,795,357,864,-49,28,393,753,-702,-592,-427,-876,-531,-941,603,-552,72,463,486,329,-706,399,-921,710,-498,870,-311,90,12,-601,-405,-219,-485,-841,101,-649,-958,-879,-738,-799,-789,488,-196,406,190,-475,-178,34,508,-859,-68,370,514,399,657,920,-918,923,760,-820,-713,-879,-451,-25,729,-481,-506,-476,78,159,-800,-211,602,-212,245,-543,231,464,-84,-734,-566,425,-671,-33,-483,162,-160,978,-840,588,-746,926,409,-598,753,-740,-482,-54,-461,272,-916,805,-448,-868,-65,-878,343,909,723,-811,662,-15,-731,-690,199,-229,846,-781,-28,-67,-655,-9,784,-591,224,-315,865,-54,12,575,673,-298,-877,497,-288,-881,403,-878,-802,896,281,530,83,567,-910,-879,966,-831,914,60,-815,315,776,-812,58,-827,-290,-784,-689,440,990,-367,250,-979,-621,-599,-114,587,906,232,982,-467,-636,635,-241,-882,-941,712,919,-903,82,-573,-458,650,-620,-414,-355,666,-992,723,87,611,101,487,-682,-87,-618,743,83,856,185,968,147,634,-901,-171,536,-809,22,-361,718,485,-57,542,971,-984,-110,312,766,527,-220,929,637,825,-45,-838,-921,278,-458,-314,938,900,-731,-115,575,-156,-351,212,-287,810,-481,867,-914,-800,-693,-672,-785,637,181,37,-97,485,933,819,167,-126,-587,365,507,-191,-694,-182,521,518,-733,-650,700,145,-886,-733,-91,-915,-363,-513,-502,798,-193,220,753,-88,988,-936,-557,-36,113,-942,-405,-263,-100,-622,-924,638,-567,-150,-957,413,-569,-411,855,-863,-652,-65,-943,-822,300,508,886,202,-195,756,-272,-927,938,134,-966,-647,606,-89,747,-493,361,989,695,-57,-387,-775,-167,827,-759,-256,-688,-618,68,-919,-316,-374,701,-366,225,971,-652,395,452,-268,223,497,717,179,615,835,-353,-543,921,310,-607,-998,-577,-640,-4,-735,-95,819,-981,-221,496,427,-428,-720,-222,-57,-91,295,237,631,918,470,357,379,807,-250,757,850,-19,500,294,994,-621,-656,-686,424,-656,-476,543,550,205,493,388,471,-335,-80,577,49,-843,38,540,49,539,478,-662,18,-594,-79,769,-248,846,-377,-230,-78,895,855,-345,-675,-360,928,86,7,560,540,-363,785,-78,780,271,-665,-806,400,-762,-514,899,-142,-987,282,-679,445,657,563,688,-149,439,245,678,706,-644,-818,-800,-795,-173,420,-514,-316,569,825,-450,908,437,808,-876,-832,-51,522,-28,152,-655,-879,536,327,-323,-930,831,-123,-563,-423,483,-313,267,-963,-971,-97,310,778,818,-880,-587,583,-243,-856,-849,472,621,525,-664,-976,-688,42,12,414,-9,-634,-768,-940,-50,48,411,-576,91,533,94,-920,733,-966,-699,-573,-598,-971,-864,851,632,-49,-352,296,131,-407,-961,-236,-327,-429,193,-839,457,974,324,677,-671,-588,-154,-342,-543,293,194,903,384,-489,657,-163,713,-339,-361,555,849,-810,161,499,-239,-415,-23,222,890,-160,-727,-720,617,796,-911,981,-982,-163,-862,-989,547,-46,-424,-803,37,57,-835,270,-224,-778,900,-589,689,748,724,-278,639,-786,330,593,489,-605,-650,-733,-923,139,-750,668,219,-625,569,499,103,-513,-905,-580,-594,-940,-894,474,-110,-422,702,-363,-150,-634,-263,521,-75,147,794,684,-530,361,-904,-901,-484,719,-729,501,57,339,-447,43,126,332,851,355,-450,-369,-716,190,941,197,46,732,-448,917,890,-726,274,159,809,-901,995,-186,656,-195,180,-94,-132,434,333,-372,-539,918,149,-619,-603,80,-224,-311,853,864,593,-844,-660,736,-1000,-547,64,356,-678,672,273,-511,-348,134,715,-762,-454,-358,675,-493,-556,800,-621,-932,563,341,715,-993,-223,981,-677,-734,62,831,-192,726,-593,998,-645,-966,-772,-602,-843,-77,-313,256,337,650,-670,825,785,687,787,-50,-432,799,-681,-478,520,-280,654,-446,-926,286,-460,519,-408,-114,124,481,122,-495,83,984,779,396,-661,696,571,274,-197,848,-69,-405,746,-802,320,31,145,-224,-365,-948,651,-277,116,585,705,345,-173,883,-865,11,173,994,-631,449,-978,-139,944,485,-806,-361,-684,-858,679,-621,-435,-455,926,-695,-13,-984,175,-619,297,578,506,62,-79,749,517,347,504,33,-967,-168,-720,-326,-143,514,237,69,-470,702,-116,98,-116,-200,-745,-956,-517,-62,-573,-293,-101,939,645,-913,898,758,-488,938,419,208,452,-215,-282,672,481,-674,707,-526,-901,634,156,879,-113,-882,-606,381,-435,578,-234,222,-140,376,-328,306,-557,956,169,773,-855,612,905,-693,986,-23,-884,-188,898,-799,-249,496,262,-10,838,-27,814,726,260,574,793,145,869,283,-931,-918,812,712,753,-464,153,117,-145,-179,-722,260,661,235,-586,-468,-892,-822,-730,75,237,840,-921,318,-135,-259,-802,369,-18,387,-117,-106,-902,-18,981,491,-705,889,768,181,-427,688,-545,713,733,128,-978,-475,839,-33,826,-354,87,782,-110,-363,977,926,-848,968,-750,242,606,666,-881,340,-46,-99,-449,-753,-240,-598,89,674,-705,1,533,-766,-276,-501,390,-512,379,-170,-689,996,826,-755,892,-58,-555,-632,-369,987,438,911,566,383,124,-2,42,-608,-948,794,145,454,520,780,-249,843,-362,-695,146,-433,511,637,-49,-753,-912,902,357,392,550,-32,941,117,838,198,188,52,608,-39,-28,-574,-572,-75,-16,-583,569,-736,142,539,439,-893,-669,-406,352,333,254,-823,129,-999,346,-781,-128,150,50,231,-925,-822,471,-252,-860,606,-974,-954,436,740,827,-381,-565,-239,-841,-967,-99,-5,-617,-443,465,-851,-992,525,555,398,677,576,-978,-378,-710,-49,143,-11,136,-867,557,981,-36,24,-13,310,-759,-369,-500,88,-790,-153,-299,-360,716,180,609,-836,605,-984,-458,-555,-63,963,542,-454,901,945,-42,-502,343,579,82,399,513,-853,-371,204,783,446,-303,843,22,-787,-398,923,-134,38,-907,197,-166,-267,-133,-362,266,-743,888,434,558,-139,810,735,458,623,189,193,-97,-640,-924,-111,789,-9,-878,-94,228,827,44,-434,238,-886,982,883,-79,-448,466,724,538,-112,526,-1000,-916,401,841,-611,329,-826,-995,651,-406,-778,728,676,658,-956,68,740,377,-484,-958,-786,781,-299,-845,-560,-429,-461,124,375,12,307,-554,-89,952,861,772,22,762,429,-257,574,-729,-289,-168,298,426,-350,-172,452,-909,852,-229,-323,-143,229,-486,110,-446,-515,110,950,865,-971,282,-738,-10,-731,-137,337,-747,-825,-234,-615,566,-269,-631,-840,-960,850,567,-101,89,301,891,-148,87,-725,-795,-166,415,-9,-241,-828,-402,-571,338,507,-488,14,-354,0,523,-882,786,653,569,581,-224,-548,491,-340,-770,764,-23,676,956,-802,345,459,113,794,-688,-141,-241,456,796,-247,-959,-657,-228,44,681,-578,-411,356,-410,431,407,-679,681,-968,677,119,-218,-433,789,516,-231,995,-361,354,776,-769,-14,503,-39,711,607,784,-702,300,317,-842,-829,278,-939,312,-225,178,363,-884,320,-187,-776,-557,-563,911,-179,-6,899,-805,-510,9,392,-231,-881,712,709,-162,-836,-877,-552,649,-135,-431,-911,400,346,270,-585,762,-102,580,-537,-431,304,562,640,541,306,-248,32,776,-766,-396,935,419,-758,343,987,-546,-372,-236,-241,-752,-993,365,-689,726,166,595,-907,872,128,9,-353,372,-499,600,20,-545,-285,-163,-142,170,-56,-496,-810,696,-137,-142,722,151,-348,221,267,-499,-419,876,336,622,-850,-154,144,-240,949,942,288,984,384,-417,424,238,-686,-69,841,973,-83,-182,217,-193,583,-890,54,-868,612,974,107,841,-141,-34,844,-952,440,593,-154,985,838,-503,408,796,-248,162,208,486,234,398,279,889,-123,916,881,-627,638,914,-775,110,901,-977,67,702,269,-70,895,201,-563,357,901,838,-506,-343,820,237,847,-34,-644,310,-123,-572,-1,461,138,337,-380,235,-342,-15,836,598,-963,182,270,-595,-495,-333,211,547,-689,-450,-977,852,327,659,-412,277,856,321,634,-973,-768,-907,-526,-147,180,-304,589,973,-414,799,-26,639,14,764,-929,787,126,-494,173,194,239,-757,37,868,958,945,-83,-560,105,110,891,628,-639,-987,-403,83,-95,634,573,278,273,-191,-843,759,-648,158,934,669,-992,-322,124,-660,267,544,535,-344,607,-197,-655,845,-764,549,-284,502,-602,-924,-333,146,-389,977,-721,54,-606,-533,158,-98,261,-411,-354,98,-86,-892,-821,-878,499,482,-406,165,-756,-976,-584,-576,-605,-268,-783,-268,767,860,909,493,612,-793,-978,-64,878,619,119,939,-665,230,464,164,269,914,-957,314,332,113,174,618,-736,-361,-851,339,902,-634,-102,68,96,249,-189,-269,636,-641,204,409,231,862,258,668,-47,-1000,-660,153,-540,-457,700,162,377,16,-624,-761,-909,191,-929,-181,399,386,307,780,501,-540,-481,-524,-970,-340,-754,-895,-441,-388,692,923,506,-608,857,-900,191,263,773,580,-613,955,385,-351,351,787,-619,-553,387,-235,998,726,-349,809,145,-182,-726,598,136,738,788,-356,430,-797,89,430,-564,-861,780,-788,-615,-900,-581,-386,94,953,613,-468,264,-578,-146,-974,-104,69,677,-925,661,13,-678,4,-132,729,-953,-520,743,-159,270,-589,-290,-318,901,-762,677,85,-234,-687,299,508,202,828,-422,492,328,-538,988,512,845,-968,233,-480,704,-8,-146,36,599,-953,232,762,702,835,-494,813,288,-484,835,-302,-241,-379,767,740,620,21,943,-418,-666,566,-826,-332,-341,-34,815,303,-93,935,-434,-859,-932,358,-847,247,-882,403,161,427,271,-246,-673,-388,-189,667,-902,-430,526,813,457,867,-489,714,595,-651,368,-300,-684,367,-627,417,-151,-950,175,752,3,-463,-59,533,-329,331,189,867,146,-986,769,532,804,-618,692,759,-263,-739,408,-699,-856,645,-77,-119,-124,-418,-773,-998,-423,188,-390,-851,-830,-257,737,-80,-373,843,-953,-119,-217,128,542,-41,295,680,794,-78,303,-286,-515,-649,-193,-139,645,351,528,559,580,813,-275,186,-660,-771,-576,132,613,-208,-32,-64,-912,-670,-621,-344,827,-745,-127,-41,631,257,-657,-423,967,287,-603,-730,973,-319,-462,-807,360,-253,-14,-304,114,100,-579,-160,718,868,510,473,31,-646,-204,-444,185,-473,134,318,914,-291,-522,-551,163,-338,-498,554,749,934,179,-125,-99,917,-621,-156,-442,52,611,-411,-506,-201,17,685,-814,609,968,658,-418,-655,856,-456,850,-683,667,-814,43,547,-49,-778,-447,38,-43,-725,130,-815,-878,-103,-824,182,-735,-604,-743,371,123,804,810,-465,-10,371,92,-878,761,840,-388,279,-345,-232,-443,894,438,-930,-686,-754,-137,-142,-658,-336,932,83,80,200,859,-265,543,797,-649,207,603,671,-244,-319,632,721,600,411,-714,131,-823,-67,886,-294,-635,553,-586,-417,43,-240,372,314,-18,-758,897,92,187,-404,-890,307,769,-141,-205,545,-784,139,531,-323,303,799,-847,-419,-204,491,774,-230,-154,54,-522,908,-440,382,-882,613,-977,71,-383,-816,-486,602,-235,840,-507,82,-427,-196,670,-247,912,-962,-575,-440,349,-811,25,-128,-323,-946,-664,-521,913,252,-861,-733,369,-158,-14,-224,-587,416,339,-66,479,-104,171,795,-680,291,-938,-889,-885,354,-153,-685,-107,-242,256,227,-697,-993,-992,572,591,808,514,497,-79,-597,-414,763,-878,-619,890,256,607,-441,-83,-417,32,-269,868,-388,-471,-79,-906,-538,-503,653,652,-864,-795,-243,503,-301,525,639,-314,876,-699,-457,67,787,-136,802,-347,-511,-967,-12,-968,-94,-248,-714,-310,-531,-305,795,-510,-418,-108,826,711,551,-998,991,-81,-279,149,459,-910,-363,-1000,497,-881,-290,446,927,-991,-766,659,-90,883,-713,925,489,-232,-599,235,-825,-330,-592,-822,89,-990,640,621,632,-313,374,-95,-63,544,-196,812,104,-225,-13,-364,529,-762,124,-448,665,-454,-300,304,-516,-462,303,773,876,-338,145,329,880,-622,535,-365,743,163,-823,474,940,285,700,551,786,983,-774,353,216,158,495,470,-841,-100,-664,0,-485,887,385,-626,112,-430,-396,-838,300,307,-765,198,136,-619,784,-187,682,-577,-254,358,-604,-664,-773,-378,-172,215,251,997,481,-291,999,776,-685,453,599,-476,988,-16,-355,-704,406,-850,-376,-315,123,-840,-228,632,896,-966,531,766,713,725,838,-345,-994,-777,-732,983,536,620,757,-652,-19,-808,854,980,-66,492,-570,-913,237,-175,398,-266,-489,-117,911,-380,-940,417,184,464,-70,-653,246,54,776,552,-594,336,975,134,534,-610,-866,-353,-860,-568,597,499,85,-47,531,-732,152,324,-360,-767,487,-956,-743,526,-248,523,446,766,479,527,997,931,918,464,321,-539,157,550,469,-873,154,476,153,-855,950,-88,-781,547,357,192,-464,-198,-756,445,-488,748,-232,676,-608,-376,729,-456,-422,194,735,-881,-146,436,-942,-425,-879,-533,-656,-712,-154,449,-179,-748,204,188,-469,344,-530,704,-235,-893,596,404,602,302,619,-635,876,68,-938,611,-679,-931,147,572,745,-177,-486,911,-538,-614,-450,-581,-584,309,-880,758,-224,576,319,289,-938,-165,-54,882,226,940,-975,-398,801,-601,-537,223,655,-455,-824,609,275,-310,-29,730,-386,-555,-267,-328,105,598,841,434,-729,996,-995,-249,239,713,408,513,-579,-922,815,-214,308,651,-918,-608,337,-13,613,-579,117,374,339,-635,-221,-105,-341,-710,976,-918,-741,579,-383,-330,-977,-354,275,-452,-830,-584,-680,441,-52,792,-289,983,-25,145,950,612,-657,-682,869,114,-500,-838,1,-403,628,191,-604,-407,870,-116,-344,125,-97,783,76,-742,-256,-310,672,947,-420,114,862,495,840,-335,834,506,-452,534,-710,-974,702,-530,446,625,567,-646,-660,-528,-493,-644,-887,727,-278,316,938,-754,651,-710,-85,-36,-763,-872,-705,743,922,676,-857,531,-560,-770,-274,-946,595,-203,-317,634,747,-214,-964,12,-815,419,464,-918,-989,-233,-675,-661,-790,919,760,-729,-84,-103,436,-789,-462,-961,266,-553,910,-466,-819,-847,791,188,162,-181,292,-573,772,-393,-22,586,-14,709,-835,155,316,169,660,-230,827,-354,-77,-148,-847,695,841,-861,-53,-857,49,900,265,-446,924,883,-66,-770,464,-134,290,-743,-830,843,-12,87,256,764,-79,297,-536,-107,967,492,60,-329,77,708,-257,857,568,862,841,-585,381,-31,289,927,-121,-822,98,318,290,732,125,-554,159,602,792,622,300,-314,-739,394,-878,33,143,717,-456,664,-358,496,929,256,334,151,800,-503,-102,738,-389,0,467,-36,-196,603,121,715,300,-963,-777,-943,747,250,-559,824,863,-846,890,834,-245,-211,870,-483,901,493,567,803,217,540,891,-22,728,755,885,-380,217,740,-976,-994,-641,-225,-135,551,346,-780,40,920,-372,312,-293,-360,494,15,257,368,58,-716,-589,362,88,458,321,350,-568,-881,-36,553,37,304,330,-351,-181,432,-772,-4,266,-211,630,-123,336,-381,538,546,799,317,2,-810,598,-528,-218,585,-346,-252,-865,-320,786,-643,-874,-398,-388,726,-995,-913,810,-242,372,-565,-123,-809,399,397,-648,-932,511,666,561,628,721,981,954,-257,840,-158,804,95,992,643,963,-650,20,-607,619,956,920,-600,-148,974,-188,632,-102,284,928,229,260,-764,-548,865,-202,688,-338,242,771,159,712,-47,-405,144,-834,289,951,847,-120,-19,984,219,119,807,-471,-693,-271,731,-1000,740,-266,909,-314,234,-881,188,-408,429,760,751,989,-568,-87,577,596,655,-66,562,-280,837,-934,-733,-951,941,571,-138,-48,402,-66,-584,-964,-332,723,808,324,174,-233,-861,-439,-605,128,-217,988,294,-174,378,-850,-492,802,96,-394,491,513,-693,-65,337,873,-773,-119,-187,-428,-949,-884,-434,127,348,173,-289,307,254,-294,-718,-759,-627,-61,-825,265,992,15,221,-78,939,-376,-92,174,-117,22,287,237,209,-303,428,-593,575,525,-551,658,748,542,-185,558,664,284,463,-80,529,534,964,-282,-527,-387,743,-59,-676,593,244,-21,178,-246,16,-53,402,-592,327,-47,-866,-981,-69,-163,-780,262,-907,514,347,285,-995,425,-619,-226,-70,612,-986,-55,-492,-531,945,-123,-229,-24,979,759,-27,-940,-240,-797,-357,-935,435,-696,-255,397,996,-18,638,-92,942,-941,-423,27,471,-467,-440,-782,-329,-751,826,-571,358,-153,-341,818,-257,-228,-104,-829,-683,-278,-60,-427,-818,-874,277,-360,-882,-194,787,583,-810,-858,96,-7,546,73,673,760,-482,-766,-206,-144,436,-715,572,-213,-134,-572,-623,730,324,-65,-615,92,-229,-468,-438,618,922,994,23,821,386,-182,347,-935,619,311,-638,798,270,671,679,-114,-519,355,128,98,-167,-721,-523,92,-463,-885,-108,-881,-805,710,852,60,9,745,-940,822,-156,-148,-225,702,313,111,231,-154,-874,622,875,-260,301,473,-944,-460,857,-807,-232,-903,228,935,-456,-657,661,-811,306,415,413,-160,621,715,215,787,-203,949,197,712,-283,364,615,392,227,516,-978,-172,531,693,-266,-207,402,-563,293,583,470,-164,-532,517,688,969,650,513,-404,555,932,772,390,461,570,-573,-272,-800,-461,665,-660,270,-708,-177,528,-464,592,223,-587,-67,-49,499,-75,933,-664,517,-119,437,-766,-653,-908,877,520,714,295,37,620,238,845,-105,-159,36,-157,124,-437,756,528,-184,-246,746,267,890,59,-958,394,-78,838,-115,282,-393,64,659,265,998,377,315,70,65,175,327,504,-265,-651,205,803,-839,-762,-611,-315,-134,-154,199,337,626,52,-991,-331,-57,-689,686,-112,-433,-272,903,717,-491,531,84,-977,386,509,-457,-33,458,354,-74,-737,-321,-53,-531,-534,-213,-147,547,-989,784,-560,775,442,-754,-417,883,370,-112,673,406,-826,780,133,-394,917,-646,142,-477,-964,851,-16,-246,958,635,888,11,-739,729,623,596,803,-639,186,-308,119,606,-35,-428,-625,612,-938,74,433,925,-866,984,683,-657,370,578,135,-954,348,-792,687,452,356,124,696,574,267,-505,141,527,454,739,-37,715,576,765,533,-972,-822,809,-405,718,973,-133,-181,-875,-466,90,-801,577,-488,-149,-33,-919,662,-766,929,812,737,-591,-231,258,-990,-925,21,-763,-873,474,901,983,762,-259,586,-862,-680,-485,-191,-344,-841,713,141,-515,-547,-541,-517,-544,-314,269,580,15,797,-496,62,-357,-615,58,987,127,285,-112,-802,-23,111,-927,704,-64,-385,-614,-397,510,155,938,91,-535,-761,261,-18,87,-321,748,-114,-168,-391,3,1,38,-988,494,-968,516,498,207,361,691,972,-844,497,824,-741,207,-690,-175,-847,219,-385,-471,391,436,642,423,-5,-201,929,-855,571,413,-398,569,-32,378,460,-103,177,910,716,641,-242,-327,11,-2,-878,431,918,728,327,798,-91,971,356,476,701,-107,-670,447,984,-928,251,394,-709,-924,-274,976,855,-613,914,423,574,880,293,-589,-870,-876,636,-880,-321,-128,-303,394,24,-989,-285,-716,251,399,-294,-432,-966,-607,146,580,-439,57,62,-267,-38,-163,106,-216,455,857,-157,-682,464,257,502,-165,121,-218,-628,993,-642,-355,176,-191,2,683,726,23,871,-552,-158,-848,496,514,377,855,498,-142,462,218,789,411,-730,432,-126,-939,746,-789,318,746,-801,588,407,546,-817,-698,-529,491,960,-975,-261,-73,421,433,-462,364,-80,61,2,-667,-556,-971,-367,-238,-255,-992,433,968,-856,-849,502,-529,-599,851,462,-866,168,251,263,-449,373,182,-888,397,560,-531,180,-866,298,-246,-141,506,-363,-309,23,373,-818,440,-142,-106,316,818,-659,743,-185,741,35,-572,-678,148,-503,-876,44,-773,120,114,-584,29,-165,93,-473,736,814,280,-921,168,-167,-177,-617,-614,195,-72,-25,-579,649,-762,-894,909,-111,158,-149,-817,-257,373,-762,-52,122,-612,-677,843,109,16,789,-203,122,-729,-987,-388,595,-638,964,-936,-512,184,-505,447,-206,342,-394,-717,-887,-124,-38,914,438,418,168,-767,-412,850,256,963,716,57,370,509,-733,-496,-666,960,227,8,176,-648,933,-622,-966,-416,-411,463,595,745,99,33,-965,934,884,-253,321,-384,-154,299,-927,109,-232,356,27,-114,501,-649,504,-410,-187,-341,-34,-774,189,850,496,-632,-262,931,-557,758,-818,-966,506,262,-201,-616,395,231,524,259,740,690,352,-547,988,-959,-848,638,-96,690,-327,362,-195,642,822,413,-296,974,865,931,-584,746,-146,24,354,725,45,-694,603,2,-918,-218,432,-19,239,-476,908,507,-268,695,412,-812,127,-914,-992,822,-703,558,-75,773,-313,622,534,-938,516,172,-803,214,-88,300,-911,5,-60,-56,670,-667,-980,481,-613,-556,222,-530,-901,-16,969,658,-765,727,793,-508,-980,579,-107,-363,-315,107,522,322,-576,-554,131,-395,-243,671,59,645,924,949,-951,-932,-962,-890,354,773,-389,-297,315,615,-767,-378,572,-163,968,391,853,-580,543,375,-823,-563,-333,575,-63,-223,756,-177,-111,-892,-461,-199,-954,-47,650,-243,37,890,495,-556,-139,199,-260,-400,500,-399,296,-79,-255,168,-381,-789,-404,425,-396,802,-514,971,-912,-962,-375,-261,-542,323,810,-320,-579,690,-582,118,-52,-296,719,859,574,-839,925,616,863,695,-552,-996,485,-210,-61,-252,-506,-327,554,-674,-775,310,727,715,16,-510,460,-1,-234,-841,391,841,-549,876,40,501,0,-630,310,373,-834,-196,-5,-168,373,-662,-923,-249,-899,717,-909,199,113,37,-145,-404,847,534,-251,893,-144,180,182,918,883,419,390,167,-985,-900,13,908,722,-646,-766,761,-652,516,330,352,281,666,-358,-672,-915,-67,493,-292,-64,-454,-216,325,-480,655,956,-385,-609,-538,-842,-100,838,-489,-706,519,414,199,55,-109,5,-569,99,-461,-178,-170,-713,583,-817,-864,765,-34,703,17,-531,784,-324,-333,317,-906,-883,923,995,896,-382,-455,-888,-942,-793,-549,-495,-658,-18,347,-689,-817,590,-848,-112,-36,-213,-39,-670,-430,-380,-549,-339,667,-23,-627,-52,202,221,-97,-355,-470,343,-942,-120,956,-127,326,539,-15,-189,567,446,427,253,509,703,-344,-535,-37,646,289,-160,523,-308,247,520,-870,-81,79,303,-481,549,-209,-65,894,64,959,-883,-499,729,-652,644,-416,-612,-422,525,287,92,91,713,639,-138,-947,-771,135,-254,-979,-131,724,612,878,520,-907,732,-432,-576,-879,-543,-387,371,955,-988,-702,-832,506,755,977,529,-231,401,683,401,301,232,-1000,18,113,793,963,-778,532,27,914,-461,-565,-483,-540,279,-260,129,-735,388,128,103,-499,-58,619,944,-109,-618,-71,550,452,529,53,-756,986,-101,718,-401,454,-807,63,-415,180,-79,-942,75,-991,923,761,-325,-213,176,-198,295,794,-141,686,956,930,846,565,-713,165,-486,669,377,-611,669,319,615,415,-233,40,-690,834,-944,495,414,23,-678,765,164,-822,-365,-81,-859,-706,-926,492,668,-678,-387,-616,610,697,-181,-897,412,121,446,618,144,538,-402,-657,701,528,-393,647,-305,-987,991,771,-453,-459,912,-603,-113,906,295,861,294,481,-362,867,947,-8,-721,-211,16,63,834,722,708,309,876,495,372,961,-387,947,56,-764,460,732,11,-582,604,-488,-563,-907,161,-550,304,-600,-319,112,930,-833,267,540,958,453,-600,-257,-878,847,-350,-464,123,688,484,192,880,504,234,941,-871,-636,-956,316,91,-650,-336,-750,887,-157,233,960,-633,-979,887,479,-290,577,-546,-125,110,-534,-222,985,-279,522,729,-150,-345,-704,-61,-100,823,-702,449,-187,-64,-851,164,251,-685,-301,380,966,-498,-781,949,-57,344,23,57,51,769,-386,548,-909,-830,-863,950,43,684,188,-181,924,298,-623,-10,426,98,981,447,-263,32,-104,27,-206,74,34,682,-259,235,91,369,-232,-493,-355,-62,-460,12,110,-422,513,-558,669,710,-406,-964,790,923,-936,-565,-410,-991,-962,285,903,444,-13,648,998,920,-912,901,-661,-720,-979,-542,85,-804,523,595,-396,480,-997,-611,-121,39,-227,-372,477,-426,-204,636,872,303,45,352,-697,185,160,516,-89,57,631,-840,-511,-395,-866,383,-458,188,-569,-321,861,-937,716,192,57,-50,-414,564,522,-169,494,-307,-745,-728,-990,-711,853,-139,597,-247,68,-759,-833,-245,400,-327,-94,-708,-602,-884,-442,-441,-817,-724,-560,751,-321,-887,-669,663,710,359,-344,149,448,589,-894,934,115,25,-709,-145,40,49,383,-892,-87,-247,-536,67,914,-931,-869,-683,-301,-918,-82,-672,435,-798,-438,-847,248,185,26,977,-784,-655,-587,109,-152,-634,-733,-677,839,-766,190,589,-717,-526,567,-482,-190,-966,884,497,-119,-671,-923,-328,840,332,498,-653,-442,-412,-556,-767,115,887,377,-338,-579,397,-969,537,831,-847,-426,585,990,-421,463,-35,-800,605,585,-969,286,-913,-897,577,951,-310,-575,-588,273,486,-290,-384,-132,-760,371,-66,86,-448,-981,24,-492,325,424,479,306,-149,567,-269,310,226,325,287,-787,-447,691,-310,128,895,506,-608,741,-388,264,784,-800,687,383,-264,-563,-478,-808,-906,-522,379,603,981,-69,-458,-390,-363,-509,136,-511,652,-19,-329,265,973,-780,-364,360,-1,-981,869,571,644,939,717,-260,289,205,-432,-126,-937,4,-382,293,805,-753,-216,-152,191,805,-86,-866,-1000,266,332,541,493,-89,-70,-204,845,-289,857,-394,848,822,-165,-682,-460,162,-222,573,263,-610,825,106,-796,-536,-445,-807,638,514,398,599,59,-87,-424,5,316,949,10,-267,703,579,437,-814,-429,-283,499,771,-666,-876,-240,21,923,-229,-540,167,754,376,425,110,-849,574,-207,-589,-645,-747,-435,465,-583,-71,780,-269,-43,-398,598,-900,-24,-309,909,981,-282,21,645,581,750,609,572,-836,-322,-896,312,675,-115,-233,-909,-960,-178,986,-298,864,387,880,785,420,-900,887,313,-590,-22,132,-256,698,-798,-697,493,485,-282,153,875,631,-260,445,788,-86,151,713,841,-784,533,646,520,-35,-127,856,-512,-278,-148,510,918,-888,-492,-691,-96,675,28,-185,-489,924,664,697,-367,-699,379,-245,108,642,894,922,-585,984,-592,812,-828,118,278,582,-810,238,-622,-932,361,454,-752,4,91,-195,976,-157,-7,-372,-864,271,760,99,788,-954,500,-547,-925,890,306,-852,-831,-337,-891,-729,-526,-130,-803,-111,165,-122,-666,-864,-298,-463,-321,-592,-714,625,-422,-714,135,946,-955,-951,542,955,-639,689,92,-371,-934,89,-348,617,-691,-966,674,127,-1000,792,584,-123,211,37,-844,568,354,-862,314,183,999,-955,508,-317,880,-366,935,-925,259,-627,-195,-542,-143,-593,285,782,970,-791,878,544,-332,-328,285,328,298,765,-581,-920,74,570,-991,916,-211,712,-46,-630,-500,-29,706,890,-473,640,-275,19,897,-887,93,-181,-611,-313,92,727,-703,580,928,-267,128,-894,126,-281,34,965,-961,238,-894,-83,860,158,-434,808,87,498,-890,671,846,-873,-211,-628,-637,-813,-270,-573,99,211,-358,-23,-564,-181,314,716,678,530,-937,306,-18,-397,699,-253,-393,-831,647,-186,810,537,294,689,848,-532,-198,-753,-749,372,657,492,-802,-178,169,826,-379,85,60,456,-52,-340,-292,550,170,-391,947,513,233,-377,-667,-48,-735,495,145,-59,-701,801,620,-837,-676,334,379,-452,-45,200,-444,-893,217,118,-487,688,-427,364,-315,224,-591,-436,-784,818,-140,765,673,-947,469,-161,-186,-44,-139,40,-744,-679,-853,719,452,412,-280,-528,-146,-217,770,-167,-662,-436,306,-756,755,-800,-608,-66,-530,887,-618,611,-661,-19,-871,-793,403,-590,741,167,458,431,-239,486,944,978,511,-210,382,161,613,802,769,302,150,-506,-182,-174,586,131,833,296,413,75,465,730,-645,620,-732,891,-18,98,570,531,723,-14,-582,639,325,-784,82,40,-483,17,986,-815,162,-430,767,-488,161,427,465,801,-384,-872,-705,-448,420,754,785,-81,-840,-200,-3,-646,-756,793,-474,-787,549,-627,-228,-49,-7,-284,-336,-632,602,5,-339,111,665,244,792,873,-14,796,273,884,-71,-388,-692,-295,409,-587,-319,835,-209,-498,724,-505,851,505,-39,-210,539,-23,597,573,819,-780,613,860,-545,488,554,-784,-299,-50,-943,611,-848,884,785,511,-73,102,98,297,551,-41,-792,-997,392,-550,-492,821,-227,-967,-756,220,846,-503,-906,915,852,897,269,203,-764,943,210,-685,-916,725,422,976,-599,-690,-697,-988,-477,-510,-707,432,-999,-414,688,391,-722,-390,-304,-929,-730,740,-221,564,319,431,421,-114,416,823,-138,-733,-143,702,380,-860,-214,-161,-577,-930,922,-835,-831,-327,-924,-875,99,2,400,-546,-62,515,-691,324,211,912,-774,726,848,-926,-385,-392,-910,-684,-418,794,141,-892,525,483,-211,602,644,743,93,665,-219,-913,-478,575,831,-288,873,743,-372,-226,-194,23,-207,251,507,877,357,-244,988,380,135,-523,-99,688,-924,-940,-731,934,-732,-644,986,-379,907,-185,-160,909,-755,415,-201,-836,969,-54,-866,-842,953,-345,-82,98,998,185,-583,-837,224,-497,867,51,-849,-332,-778,833,979,779,-986,-657,-72,763,-45,-409,659,686,148,-593,-266,-806,50,719,-375,-633,760,577,572,-204,539,-573,-245,45,-181,-153,-721,478,-386,-951,660,-74,89,303,424,-350,584,534,-699,989,-922,-743,-452,827,739,-243,-811,927,713,-12,-404,-181,-901,-849,-123,-574,-704,-252,-208,190,844,-920,-139,-640,71,139,-302,-169,440,482,702,854,68,663,850,-469,271,860,-795,442,-18,435,-2,-417,968,898,-317,-885,156,-182,619,904,-418,-733,971,270,-243,-39,531,356,980,-587,-301,883,-572,988,122,-635,-622,655,-680,-500,926,71,340,-582,496,427,-614,655,640,-745,-725,-103,231,-472,-661,577,-398,-951,-410,770,-9,-893,751,206,-425,-19,715,-502,-609,-774,224,206,-304,51,-824,-759,-11,-362,-538,-452,-47,-494,178,573,763,604,755,819,549,161,-440,-936,-318,-324,742,-166,718,922,-882,816,-738,785,-606,-57,389,-210,892,-297,299,-318,187,-276,367,375,219,546,19,-501,-755,526,-246,-266,140,-791,-379,187,270,-316,724,19,500,-281,-390,202,268,75,-923,-380,909,48,-115,-42,389,845,808,578,-148,-108,-511,420,357,-44,-974,-313,-855,874,-834,725,475,-926,-985,725,-370,-332,529,515,-317,-277,-731,534,-83,-9,538,5,890,771,-78,-556,199,-582,583,-571,-465,-294,-650,434,-558,991,-669,714,-620,3,-605,-804,451,643,455,-982,148,-244,-981,973,-951,587,-849,447,-895,-495,354,318,-614,-149,893,-142,-649,468,-639,-772,-314,-76,317,-479,-785,-765,582,-1000,-920,460,26,811,625,185,-194,523,-817,-604,-805,-829,-657,920,480,-924,58,728,-824,-428,558,-752,277,369,-884,342,15,-37,374,-565,-602,-736,-850,78,-702,-328,-862,68,-893,199,607,269,-242,85,778,-615,-348,-979,53,453,339,-206,429,109,-432,544,948,558,-667,-92,469,462,-280,512,350,-928,-546,-646,237,403,326,-662,-163,212,771,-459,-660,-903,33,-596,-137,-63,538,-592,-765,436,660,153,-442,267,31,-334,-800,508,-653,-800,682,46,281,-382,-487,884,856,343,438,346,407,857,-582,-689,580,146,995,-271,-310,968,-274,-787,575,826,-818,10,765,339,541,-438,-401,-931,-770,-83,117,-979,402,190,882,-669,95,572,-845,38,846,-593,653,279,-339,633,382,-273,-80,104,-640,-303,-929,568,189,652,-953,391,878,-6,-792,552,-609,669,529,130,-911,966,989,-309,-102,-188,71,780,-85,-226,149,790,-773,38,-368,-870,159,566,629,-484,108,767,243,445,479,508,10,-377,792,132,917,-646,581,110,-925,-98,571,-910,316,176,944,548,-757,-762,801,-369,766,200,-693,966,754,-243,959,-372,231,417,840,-731,324,613,-673,-983,11,57,607,55,-68,668,-53,-120,957,976,267,-743,-286,-179,-12,-420,-656,889,625,371,-931,-103,990,360,706,-82,-902,-349,167,-20,-582,203,-853,-154,394,-931,-116,-602,357,533,-373,275,-389,929,-16,-834,-125,672,717,-650,681,166,83,-191,316,-450,-362,634,-255,166,-444,-746,-195,785,134,842,951,-88,-357,409,-520,-342,35,-555,-585,801,-263,-233,-398,-139,323,109,417,772,737,-105,-559,-82,-58,-608,-214,153,790,-992,-761,-822,90,378,-160,-5,-292,-22,211,702,336,-230,874,754,-941,-950,669,-471,-769,226,-162,383,775,-924,222,-760,34,-175,-79,-232,-310,-919,-857,-187,-669,-137,-203,-286,901,762,-133,-43,141,100,79,72,294,164,134,563,-277,-715,-11,-482,545,737,-247,470,120,-751,211,824,-346,-449,659,-902,650,-131,-54,-625,-176,544,-519,-55,-488,318,-225,-95,-23,429,582,659,453,417,-254,768,489,2,-94,-812,131,-994,-735,914,425,722,-330,-135,767,-858,-809,514,-591,45,-786,46,411,933,-666,569,-682,-351,423,-304,880,883,-271,913,-199,-458,-776,958,-253,-726,-968,-797,559,313,842,764,-465,-747,-60,-371,-202,-45,265,365,706,961,180,-808,300,475,-423,-352,903,-400,-872,21,-782,852,-640,-335,643,732,794,92,61,-719,576,-337,464,943,-328,506,681,620,973,-184,-905,923,282,111,321,356,665,-124,-190,-153,611,530,208,161,509,-983,264,438,176,180,233,540,-563,-352,-501,428,200,678,194,-414,-449,482,-701,235,-779,929,-174,462,-912,263,659,260,265,706,-335,-584,322,78,-576,-587,276,-648,-272,-165,-96,2,-388,-487,640,302,103,-117,958,-52,875,-480,266,-821,-226,-915,-164,-396,-122,458,-803,-640,296,523,-656,-594,-705,-692,91,-783,759,821,-150,-419,-400,523,-598,-924,380,655,786,-272,-125,-595,-166,-821,461,470,-750,506,-597,-705,-901,27,162,338,248,-753,-710,-678,47,-323,-447,983,368,378,-833,905,-539,-37,787,976,-836,214,-907,-149,-656,-853,849,299,-450,-140,-461,-134,-394,208,-657,-851,283,-59,-567,-670,780,54,947,-930,214,-744,-974,378,-962,981,-120,-326,-800,-910,-270,-458,-480,58,-720,326,45,614,891,742,402,-325,415,-844,993,465,-211,-678,644,-742,-341,-940,812,-356,-885,769,719,-64,-481,42,715,-653,-350,23,151,-463,762,-727,-773,264,767,928,189,-192,-873,102,433,86,-316,-722,319,555,-268,-912,674,347,2,-305,264,465,623,-374,-620,-331,698,604,707,682,876,-96,-709,-387,-614,73,-601,466,338,-510,-175,744,220,728,-867,-159,498,-493,-900,-682,621,471,223,-576,-935,-799,582,-483,688,-468,-704,569,663,-36,-419,-787,734,-317,798,-361,-21,510,-929,-166,277,-577,-173,524,-951,55,423,851,-459,825,78,-363,-882,-499,185,-316,750,441,117,-532,973,-169,255,527,712,-800,-111,203,841,420,-906,-741,685,-334,-766,-525,721,640,248,663,122,460,-332,971,119,312,-189,264,-225,-937,545,-809,397,-183,505,-832,959,-656,-789,33,-341,-93,829,801,-862,-547,22,451,-52,-185,-472,-134,-272,240,-448,701,-529,158,314,-171,333,489,641,-431,690,-580,-306,23,760,-866,-351,-252,355,864,-739,529,-651,-12,982,-865,-33,-597,337,-455,-418,847,-112,-732,-678,159,925,-211,843,376,426,806,613,78,225,995,897,-327,-30,-474,-171,184,-69,-682,-766,180,571,176,-315,164,-363,852,-874,-606,-404,-88,581,452,639,668,-551,517,-646,152,-403,648,254,428,-856,587,617,345,731,-84,-115,886,637,-527,281,-962,-332,-381,-483,728,59,-576,101,689,917,381,-734,936,541,-832,538,-693,-596,204,-506,516,-458,-741,-496,600,401,-716,910,329,129,128,772,971,620,384,-293,-105,-313,469,-726,-735,-37,-738,-161,298,946,366,-113,-706,-817,269,-975,-953,447,-293,305,-544,-770,929,427,521,-324,-579,-176,78,201,822,793,-11,-231,830,293,196,521,591,-63,153,726,-194,618,-613,-179,-617,-163,930,330,-47,438,370,314,-305,101,-842,-726,7,797,-824,653,954,-299,-421,-619,735,929,870,189,-230,480,324,971,-726,-377,-169,106,-939,-276,484,-854,696,653,-708,-928,-923,447,220,243,-642,853,-343,-491,-930,-718,-561,-208,405,179,471,672,690,-891,442,-419,60,-438,722,101,-346,-30,-550,-990,970,-279,-787,-904,-70,-61,244,-558,-417,-575,-147,-894,-850,37,781,24,-569,-49,977,355,324,-706,102,568,7,-758,-58,678,-219,331,-415,-564,-893,313,-697,118,-826,498,170,990,-86,-924,793,284,-952,254,-142,-79,166,-394,-527,962,-526,998,-374,593,414,-276,221,-363,890,148,52,-739,569,421,-844,-656,-223,-675,408,301,-598,747,-392,30,-158,13,-213,121,-34,478,-303,436,420,581,867,751,-378,487,-242,-350,720,240,-967,989,995,409,636,-238,8,918,-748,520,-616,-869,547,936,71,-43,297,499,-56,-288,-107,886,-482,-400,838,57,719,956,-222,-703,-206,738,-797,-506,-668,429,-844,-125,-353,964,-438,97,-655,756,927,873,615,434,-581,533,-961,753,718,425,-999,-662,208,219,818,-782,-182,8,-247,415,-684,10,-232,432,193,92,-505,402,312,630,-502,446,-483,-442,-860,-560,866,-495,529,383,-870,-681,677,12,-358,-37,-701,613,763,-913,391,707,63,-748,623,315,463,-710,-53,-732,-804,36,835,-583,-946,448,596,453,-186,107,993,-103,304,162,-748,693,-120,508,-233,104,-973,-281,-55,833,951,-333,820,7,-260,892,-407,112,-392,909,-394,-794,-624,79,879,-53,469,-1000,12,370,-687,579,509,-986,11,-504,605,953,-342,474,-373,-935,385,-973,-500,59,30,-716,-714,-478,77,767,133,-986,70,522,746,-992,-215,-442,-514,219,192,102,80,-207,744,316,-196,-832,-16,55,-641,-774,127,800,-860,518,-329,-192,227,894,374,-396,-21,-101,663,-361,74,-830,451,144,-231,-441,-306,-555,549,625,901,373,787,24,-745,419,-45,-378,-796,981,268,100,835,88,675,-988,213,-27,-361,-533,980,441,148,-857,999,-679,379,458,-494,559,-359,-957,-584,283,-270,-858,-935,872,776,338,-89,-408,850,-941,416,951,-353,156,599,754,569,296,678,124,-246,-102,604,143,559,-419,873,812,-724,-338,-785,308,791,47,238,172,526,-556,731,-749,542,-906,-795,-220,289,44,-266,-134,725,839,710,-240,715,-661,-304,-57,641,-523,53,-131,-613,709,-87,-442,465,187,-220,-32,570,995,-649,44,610,-23,823,691,-433,995,-562,-373,354,103,-192,799,761,-130,-867,561,616,-969,-846,447,-502,-340,258,-554,-724,773,-144,228,713,-859,242,-144,-235,73,926,-745,-438,392,69,520,-722,-412,-472,8,-29,-313,-545,847,-379,363,-215,-198,982,-134,360,-901,231,193,-790,-164,98,-695,-509,-124,751,884,995,990,775,-46,-87,-886,849,-93,-205,-242,439,-175,929,471,812,-990,-299,449,978,-781,-576,-977,75,427,500,702,160,-440,156,631,620,692,167,-890,50,927,-762,-466,-237,102,-506,-458,553,987,-845,-239,818,295,-706,-983,426,-427,416,-509,534,-262,-729,-627,-489,-214,638,817,-589,152,589,-457,342,-168,-567,-927,280,419,-502,30,495,-805,772,-824,293,-398,-745,29,-898,-987,502,524,927,544,268,-204,-396,-651,-181,-679,-38,458,-517,-753,652,536,-233,45,272,-298,509,396,-590,245,-152,-304,-747,-221,262,-346,-452,-185,-680,-108,-590,190,105,401,558,-668,-319,511,295,913,-637,-833,231,-965,978,-598,-542,-818,928,-904,-201,131,-575,-944,-852,-647,895,563,-261,-369,254,-182,112,-54,705,-323,562,-65,776,-707,414,827,-187,-280,623,488,-461,600,-265,756,-841,-545,904,787,-866,-154,-454,40,-28,933,-295,-254,520,65,699,-178,110,-740,-711,-897,663,-755,-422,-327,947,-500,460,555,755,425,296,-503,-635,493,589,-767,375,-345,-870,-405,497,309,777,-26,481,-44,857,239,-173,424,510,-579,-605,713,57,-342,984,864,-371,-151,-740,-485,820,973,356,-569,700,-937,-9,830,-203,501,443,761,331,-224,-254,132,74,972,-1,444,-71,-874,-417,968,-104,-814,-995,-769,711,590,-114,-812,285,316,402,496,500,789,658,-442,144,675,168,-152,-288,-353,216,-477,144,-44,818,663,-164,946,-854,-522,-495,970,-523,836,424,954,888,335,-472,-730,128,-266,-834,210,700,210,711,-558,-211,122,573,-830,-933,434,-126,-483,947,-242,-547,-431,-917,414,-336,168,-289,-951,-421,399,869,400,614,329,-369,-504,888,829,-815,-940,940,665,-998,-154,248,460,669,431,559,226,-492,-326,545,-955,61,848,-350,653,950,813,-213,-493,-973,-126,-471,-58,-713,-443,-905,-273,-956,-986,-550,609,649,824,-144,857,440,264,-306,-688,-679,848,-370,-229,967,-664,909,-32,71,-769,459,-168,859,-942,984,393,918,-651,740,-749,871,112,766,-829,670,-205,419,-612,449,264,-753,-83,-920,704,-924,633,-863,-425,-419,402,349,801,-370,573,-647,116,-700,92,-640,29,473,11,-6,-536,862,-102,195,76,533,587,-35,45,-772,422,-47,194,156,254,281,951,870,-733,-568,-749,-756,166,-443,737,-147,-14,-998,487,944,-15,-272,557,-69,722,74,-631,729,5,-712,-236,-42,96,-165,41,473,-860,-971,668,-929,739,102,506,134,802,772,697,-180,-552,732,669,687,240,575,-567,-910,-32,-926,-912,-179,727,-779,751,-277,622,-357,550,965,-599,916,194,418,-993,634,646,14,-260,-850,-732,646,716,-805,984,804,578,31,628,-865,897,-153,646,-807,731,-720,-594,-698,423,88,-490,825,-915,143,185,359,582,-761,-503,-366,-547,-994,-418,570,343,290,-776,-316,779,-425,-983,173,1,-65,-498,238,485,-338,-342,-113,-896,213,-141,237,424,59,-415,406,22,-629,787,-703,-127,219,705,657,-829,330,-523,458,27,-826,735,-999,-629,574,694,-159,-83,-289,965,774,-39,541,226,816,-112,-186,-758,405,-366,-807,701,924,-486,40,-119,341,-7]\n",
    "k = -682\n",
    "nums = [0,0]\n",
    "k = 0\n",
    "subarraySum(nums, k)"
   ]
  },
  {
   "cell_type": "code",
   "execution_count": 368,
   "metadata": {},
   "outputs": [
    {
     "name": "stdout",
     "output_type": "stream",
     "text": [
      "1 {0: 1, 1: 1} 0\n",
      "3 {0: 1, 1: 1, 3: 1} 1\n",
      "6 {0: 1, 1: 1, 3: 1, 6: 1} 2\n"
     ]
    },
    {
     "data": {
      "text/plain": [
       "2"
      ]
     },
     "execution_count": 368,
     "metadata": {},
     "output_type": "execute_result"
    }
   ],
   "source": [
    "# Given an array of integers nums and an integer k, return the total number of continuous subarrays whose \n",
    "# sum equals to k\n",
    "# https://leetcode.com/problems/subarray-sum-equals-k/\n",
    "\n",
    "def subarraySum(nums, k):\n",
    "    sum_partial = 0\n",
    "    d = {0:1}\n",
    "    ans = 0\n",
    "    for i in range(0, len(nums)):\n",
    "        sum_partial = sum_partial + nums[i]\n",
    "        if sum_partial - k in d.keys():\n",
    "            ans = ans + d[sum_partial-k]\n",
    "        if sum_partial in d.keys():\n",
    "            d[sum_partial] = d[sum_partial] + 1\n",
    "        else:\n",
    "            d[sum_partial] = 1\n",
    "        print(sum_partial, d, ans)\n",
    "    return ans\n",
    "\n",
    "nums = [1,2,3] \n",
    "k = 3\n",
    "#nums = [-916,-132,-202,-524,739,57,938,546,948,-181,-315,921,792,-992,-69,588,712,509,-406,302,-637,169,407,993,-263,54,-512,-950,-930,66,147,-9,-136,-205,274,992,-304,-835,659,-792,-288,146,182,-672,-374,-943,-85,958,-19,33,-676,232,92,-132,-121,-944,-526,-869,-423,-855,818,46,401,633,-457,63,824,-172,237,360,43,831,-432,213,-330,-788,-472,-70,-507,615,-953,457,-89,-756,477,445,153,-779,710,484,-20,802,-261,-481,-309,-992,-240,275,-302,-137,295,-232,529,691,873,787,229,677,-388,996,301,-641,-983,108,-247,431,-668,877,528,-69,-15,278,-334,775,770,-720,232,-607,896,496,485,350,772,-656,379,730,-445,-152,295,99,-945,-170,-594,271,894,-451,-455,636,-210,674,554,183,446,-709,-599,521,711,-739,-712,-947,-940,-577,71,672,-512,-216,669,137,-61,-901,-867,-168,-838,-653,-503,-535,-423,-922,281,544,-373,-935,-485,760,-203,-656,-241,493,-290,-298,756,-871,-525,614,230,-910,-395,-308,-237,289,975,-215,542,674,798,95,-989,912,-943,-262,-501,-670,-878,-40,983,963,-136,682,-383,-537,-724,382,-831,726,91,666,-795,308,-519,-891,-313,960,-785,-629,519,783,-2,705,-658,993,656,795,441,145,-298,411,-593,-738,-701,-453,857,769,-841,-609,248,-315,-465,-2,93,748,-75,-227,-426,-446,428,54,324,-72,-340,-361,-327,204,991,-720,-861,-33,-517,454,241,-34,-750,-31,-476,-428,909,-221,-981,168,352,-443,-733,821,-287,395,691,-230,45,-752,-524,-998,-245,-947,560,308,-144,223,-802,844,-321,194,-666,-960,-920,-668,989,-735,-566,-298,652,215,916,862,261,-894,-984,124,348,-858,-571,585,681,-197,387,-308,-349,-555,-530,993,464,-285,-195,-786,777,-819,-45,-792,200,994,82,832,-70,-578,-244,-546,-866,-746,563,-359,-857,-610,-518,-902,-746,540,-721,184,-523,-64,466,-166,719,-76,937,-150,-55,849,-42,-403,-492,-24,-850,-448,-460,167,596,-799,523,-699,975,104,658,-274,462,618,-320,-330,-639,-541,-218,-627,-303,-504,781,-564,967,-635,-523,-918,-529,705,624,-196,814,-165,142,-103,935,573,45,-377,661,-521,691,-81,-496,-883,995,227,592,606,-756,183,-486,-767,-68,648,666,-134,977,617,-545,735,-502,-730,779,-744,-123,-495,-848,937,-227,-470,401,-909,-135,884,484,326,-910,953,-321,352,134,-683,855,199,-966,-900,290,-575,-194,828,743,-762,-846,530,-603,679,132,380,-596,110,-678,842,505,-925,993,-765,374,-694,-346,656,-332,-131,-846,-196,34,408,-612,-701,316,-803,-123,-417,887,823,-696,850,762,-231,-863,-758,-782,-504,670,164,-878,-260,561,-448,37,660,-776,787,782,-712,31,-106,485,-345,-802,-512,-305,776,796,788,-575,-577,-268,38,356,-221,649,378,-128,-779,317,313,673,-494,-126,92,910,-343,675,857,-850,-322,-607,318,-694,523,-880,-800,936,204,-275,-822,-528,928,-242,-420,-769,39,982,-373,517,332,-459,-408,-125,-15,304,56,777,-52,496,-610,-877,-308,-876,-148,266,-441,-341,-489,-214,276,27,-413,-534,-805,-607,-808,-568,73,532,732,689,-653,-489,-198,383,851,452,-47,-987,-549,379,-693,-921,-428,-261,707,777,-969,728,-868,341,803,-593,241,122,551,-523,-189,461,-447,130,242,-71,582,-86,16,110,579,-519,-434,-904,27,-359,986,955,783,-195,-911,-29,744,-390,808,-666,-24,962,114,873,473,162,73,-366,975,-207,419,225,-809,656,-85,536,-417,345,-940,805,48,335,967,790,258,-546,-179,-34,651,257,-111,-456,912,251,-639,-24,-638,50,-536,90,112,812,-504,346,553,-571,830,-511,-340,-464,566,-594,-953,715,-697,538,-709,230,-949,-547,-982,-183,238,82,20,-600,-16,47,917,269,-895,768,714,391,104,577,951,510,-226,85,347,-263,-8,100,-670,295,788,-645,-191,534,856,248,568,961,820,-570,552,-772,-892,-109,-312,-979,631,-688,830,-164,-942,-431,898,-358,907,-186,-350,753,-199,-15,-657,-426,-382,53,688,-971,-245,748,703,-633,-232,178,-8,-923,225,-925,-715,-666,-264,-411,-966,-423,-330,633,642,718,690,-434,770,689,902,597,-877,543,-358,-510,93,191,588,-65,-822,-75,857,871,-266,-965,-577,-533,158,-971,-993,615,242,230,-580,-352,611,-684,-280,812,32,-57,651,-916,-733,-763,112,556,102,-283,855,-398,267,839,-527,-58,-64,-68,303,10,16,242,241,-305,-2,927,-41,-71,-362,118,61,-250,454,-801,-479,-518,-659,432,577,799,515,-127,237,597,-907,-597,912,955,-181,-595,455,-626,-383,712,-742,-774,-63,-351,-680,-577,706,868,-306,-778,92,718,-746,-512,310,-534,-868,-546,-32,499,-15,-358,-171,909,-151,357,471,-284,928,8,-186,743,-230,-632,-282,-211,274,68,-88,-979,-12,-673,580,-156,250,903,918,-589,492,446,-133,412,-445,-125,-164,-736,112,-240,-815,-832,991,-965,28,-956,-879,143,346,420,8,-672,-142,-942,347,-844,720,-622,-473,-46,-163,-735,734,-471,-269,-526,-911,-732,-913,966,64,-992,-407,-503,-648,763,850,-637,628,-376,-315,-134,476,-740,533,-481,504,476,-651,936,-750,16,-871,-225,-750,-1,639,114,-862,-390,776,-401,667,-519,-52,774,-143,491,-805,-316,469,-584,979,-143,535,438,935,-619,-191,-974,597,-349,-682,-922,-403,535,109,82,-544,960,397,-858,-489,57,-544,-285,806,300,-753,-86,-411,186,-652,178,909,-756,712,25,-677,86,-156,622,-503,862,-127,-281,700,158,474,-655,512,920,917,760,879,-538,384,-210,-501,-617,300,970,266,514,293,291,586,-308,-24,821,576,267,32,780,341,637,914,822,197,629,456,-774,864,84,-179,973,772,-963,-579,-961,294,-293,846,-97,-685,-462,-183,536,493,927,871,990,-154,-478,300,-486,-827,677,796,433,-184,77,745,-651,-938,-614,193,-21,-644,303,283,-831,631,607,66,168,447,830,28,886,-827,-108,-70,-230,-937,602,206,453,382,-105,-997,780,-292,857,794,-409,-24,-82,408,-606,617,-271,-7,832,385,73,-786,-868,-711,823,-10,549,-765,226,-792,914,179,-293,-122,-31,419,344,-401,359,-321,157,-865,628,995,-738,731,336,-335,658,-337,852,-665,977,-302,680,-161,-404,-146,703,-162,633,-234,-389,-931,955,807,-170,-83,-245,736,-314,-869,-736,970,-326,491,-783,-182,174,-985,-248,25,-657,802,-849,929,-618,-720,206,-316,839,-406,64,54,-819,195,93,985,513,230,-545,969,509,-844,323,667,376,885,-979,561,71,-880,35,657,926,-562,804,-940,479,485,-734,976,186,339,806,65,-163,-849,-76,968,569,44,255,868,382,911,73,16,-164,548,-919,-344,-533,-831,825,-856,159,129,-900,-116,-469,-807,-197,198,-775,144,696,842,62,-273,129,847,149,407,-681,-831,-656,-551,871,-329,-466,-379,-874,780,541,322,232,-332,-170,-829,-673,-833,-741,-308,709,701,-383,-810,-651,69,-917,420,613,494,783,23,-317,-143,-670,167,-486,459,-327,-545,-172,135,970,-352,-825,661,901,-184,-52,128,-426,407,-302,-612,-766,-999,900,645,-373,647,-828,704,-812,-847,794,-525,816,-450,-240,-400,-351,-78,479,771,-262,-311,108,197,-368,361,-226,-428,-220,966,783,-374,25,377,-978,-593,-807,-559,-950,876,-684,760,261,590,-929,-746,-382,834,404,-384,31,-168,-338,860,800,850,20,-267,-691,998,-765,-651,-205,-354,-166,-758,-85,543,-298,-831,364,4,-171,-555,-22,940,-124,-134,-432,-70,475,939,880,336,122,210,-444,968,819,-320,-248,-830,817,-798,584,389,291,203,804,838,-511,112,206,340,556,593,698,449,-874,693,187,-78,-840,100,705,569,432,-366,-834,-440,-90,975,991,809,-953,493,580,550,-764,-560,561,248,810,688,-738,946,-818,385,597,400,-973,-241,-35,63,-268,735,653,240,7,846,937,534,-724,913,747,-891,72,439,-818,519,-416,-527,803,-112,180,-878,192,225,944,-828,-410,966,-399,-839,-889,345,-815,-421,-425,958,-843,621,-800,-646,774,247,825,-624,392,285,-701,414,-298,341,-489,302,864,-267,-95,-170,-383,415,-964,718,950,-500,108,526,969,-830,-363,-739,-946,-500,-249,910,-465,133,346,-303,149,271,674,-474,473,-50,803,-179,358,10,984,-92,708,-2,-562,-596,607,-378,-995,829,-252,320,850,-574,165,-637,143,-240,108,-532,847,812,-540,-983,-804,903,-387,-707,-431,376,-131,325,-30,507,638,663,134,125,-614,-411,154,-564,426,-948,-990,-28,548,-265,-673,-212,857,-568,-921,422,-362,-359,-699,879,194,598,-857,225,-453,-137,-476,-712,-576,-347,363,835,-433,98,-306,94,585,486,-977,195,648,-257,637,143,-878,-395,990,-983,110,-550,660,776,824,-566,-844,531,525,632,-755,77,-846,-394,208,130,-162,-750,279,-490,25,762,84,-579,-14,-666,-27,540,-692,0,180,306,95,-214,826,333,-375,913,530,293,-12,664,-533,932,-566,207,-494,-667,200,195,-259,-966,564,-430,176,20,-909,462,656,-470,723,-530,-757,-331,67,516,407,-790,-989,-219,435,-473,818,-470,-590,-71,-324,-342,-843,743,-912,-105,-665,432,-316,-615,-295,87,726,74,516,145,-436,681,-434,-601,67,790,-727,-915,419,-747,252,-764,-583,-937,640,-373,157,-179,913,719,841,812,-548,-197,-301,420,662,357,-192,-656,-581,611,481,-185,-666,192,176,-874,-599,685,-993,-691,22,-815,293,698,-4,-7,-119,511,-415,700,-400,-21,808,687,913,-277,-566,-881,-367,626,429,-821,-728,565,-995,-446,146,-928,658,-807,415,265,-218,984,-121,258,872,851,-88,-432,-812,-267,-615,342,826,-4,-148,546,274,-415,-178,260,466,-960,729,-784,249,689,958,-700,-866,-970,-626,-936,-637,469,119,-342,984,242,923,754,-278,-583,924,-789,-283,-216,574,531,-572,-873,164,-29,-874,475,-528,-663,30,23,958,756,-79,-38,998,-698,504,948,-213,-122,497,-396,-839,-684,-700,-689,-181,106,-295,538,-936,-764,-298,-264,-986,-418,-639,-714,-834,293,771,-711,504,-581,123,805,-587,-524,-257,-197,-505,-649,-182,-344,978,59,319,508,-543,48,-269,-517,-604,292,201,973,-490,104,-549,-914,663,279,-977,842,-901,107,-858,-201,550,877,-257,-608,-109,401,-880,-339,-815,-41,711,733,-295,465,217,84,-890,-370,-590,350,-103,-750,-808,424,-846,248,520,-768,369,-953,652,-202,422,-831,-978,334,349,-352,-759,-615,872,-712,-887,-286,-384,540,-609,755,285,486,-888,241,380,777,641,897,434,-114,-726,-720,477,347,708,26,-797,-46,-75,608,545,-850,-386,-112,-243,95,-245,565,996,691,-697,28,799,358,474,-402,68,715,980,-168,487,-23,505,368,654,885,990,-526,-335,460,976,270,933,578,168,626,458,-974,598,991,-710,673,759,-838,-380,177,683,-831,582,724,472,454,367,-995,85,-110,321,-919,788,-625,-421,-195,-790,-790,370,-890,306,379,21,-418,69,-374,-110,-170,-993,849,-356,927,-281,-452,-137,-351,232,67,-326,-53,18,164,833,-42,-966,950,402,-819,739,551,-759,-27,432,-152,850,330,820,426,-840,693,-955,993,-469,-238,-997,-334,319,-318,-984,113,523,-591,436,-870,162,84,626,494,881,639,-651,-439,-190,515,279,-503,534,334,544,219,-931,590,719,-237,852,-982,-963,860,-242,-106,-795,897,-295,-334,-732,-289,9,-643,546,748,714,182,383,180,-146,954,820,564,839,-137,571,-169,-331,-140,-615,-93,-466,767,-479,-144,421,581,-844,134,193,38,889,-418,135,-742,452,-104,-717,-301,899,-465,-788,569,-570,676,-174,428,62,-342,-311,211,548,344,642,-50,-135,-976,207,-365,676,272,-56,125,655,746,808,131,-583,-55,-439,95,747,599,-306,719,-84,-525,147,539,-322,996,-6,348,551,486,685,838,119,545,959,-911,-849,124,237,333,912,-554,943,-221,-445,-912,149,-620,513,-336,-331,809,-185,-906,-365,543,-895,690,221,-48,374,898,-996,988,925,554,906,815,-493,-823,451,87,682,862,-334,378,656,-372,-648,337,-420,563,155,185,385,-269,-695,579,-244,390,-519,947,35,-366,-447,-639,401,515,-811,-940,191,-430,417,12,-114,316,-929,384,-619,-947,580,-276,-400,180,75,-969,-289,187,-547,667,-624,471,433,-433,426,-749,-298,939,-678,-730,129,679,-232,-219,360,-424,889,441,-55,380,-570,117,-471,928,87,231,476,-327,-883,-883,-848,701,-205,-405,-921,-154,542,-946,144,-551,-537,-328,974,-873,-599,-691,668,153,789,-813,612,65,535,935,488,-246,534,-519,-477,672,785,-89,507,-867,-447,350,-546,979,266,349,-32,966,669,750,586,-272,-407,604,722,-545,164,863,-245,-469,372,507,-492,-226,-909,-83,893,418,759,-697,-835,507,382,-779,729,601,471,-685,798,-1000,-237,567,913,956,-441,-123,682,-184,-55,847,-197,984,521,-931,268,-460,298,903,-571,-329,459,-448,-9,289,386,-993,-282,197,74,612,-377,-104,-307,97,303,-15,-932,-960,800,188,-537,-39,-739,349,972,-769,-164,672,-216,-803,181,754,923,433,-757,-576,-950,-57,783,637,-534,626,-220,524,169,-672,-743,-329,974,-221,-595,-531,-839,-360,249,411,-366,-674,-62,724,192,-222,-613,552,-380,61,427,-566,613,44,-91,-318,-278,-96,226,-954,225,307,-909,-864,-260,-594,209,153,212,-345,-597,-603,-834,-385,254,10,989,-431,434,-430,628,-954,-25,-314,709,-464,-19,-196,-730,-419,737,947,-150,-978,17,682,-30,-530,118,-82,87,357,52,18,-669,772,692,-532,-483,-308,-701,-868,-941,520,-160,866,-147,31,980,210,-870,824,31,719,-285,738,-267,-728,-370,-631,-633,-889,255,-993,169,-631,-215,-228,530,402,-980,-357,424,-125,-870,532,341,-699,242,986,-470,-906,675,-576,398,52,-958,0,-688,-380,-165,-548,-575,429,-105,-361,298,-471,-774,875,-749,166,867,-40,-605,146,210,-96,-791,607,-494,-459,-675,-96,798,-332,-207,606,73,415,-23,-571,-317,-655,-6,-293,505,674,526,-295,63,910,-304,621,247,-260,549,-731,527,940,141,-505,-157,131,-857,-571,-615,68,418,-870,-665,73,-615,-200,-102,-633,-24,-489,-753,-51,153,-442,-603,642,-357,-410,-965,-621,460,782,682,-355,104,-836,-212,46,200,839,410,-628,-87,344,714,-197,-378,963,-231,-600,299,-401,-21,118,-881,-843,29,-264,596,-356,-968,408,450,-254,-968,698,-631,992,-622,57,-927,301,729,-619,-794,-459,362,902,867,983,950,924,175,-729,-790,847,625,-183,-240,-365,-99,624,501,731,269,22,61,-187,422,141,289,-747,113,872,494,432,170,823,-665,-187,-825,-980,721,960,-23,-975,-796,-921,102,400,760,520,-585,-238,-125,-556,-397,-132,-380,877,-703,149,273,-866,470,83,-613,581,925,437,318,-740,-546,243,173,223,-983,838,309,-303,356,425,737,569,-489,-94,-277,-789,-923,-593,689,-743,-352,-608,542,559,339,662,296,643,-285,128,862,701,642,357,12,-55,-398,96,20,948,-205,109,-754,-855,-836,-541,392,-340,-817,23,-80,212,-532,-287,36,914,-594,-771,78,-221,703,-636,-714,757,-147,548,353,700,693,-587,685,176,790,-8,-316,-765,312,-628,-236,392,-181,417,-213,667,-578,-432,210,-57,545,-811,425,550,153,-952,-45,302,-761,-948,-312,-67,-121,-366,-641,-994,-680,-168,-164,-440,-930,811,69,-199,-363,-872,230,-858,533,-210,-901,700,-177,-238,380,-311,758,794,-845,983,-930,909,-947,99,182,-831,-375,-146,-336,-65,985,818,91,422,959,825,194,429,361,-684,-937,350,993,-825,817,-828,-398,233,-392,-37,644,727,615,440,-501,750,622,-136,-615,-173,861,-175,740,279,-812,-839,515,803,7,574,-25,-705,-147,-41,955,-699,-188,-749,257,774,-812,-427,145,43,-33,-871,934,230,-796,-652,-304,-895,-892,-667,419,-777,-201,132,-147,304,791,-792,-203,144,721,-949,-863,127,342,-374,-29,-468,977,-482,588,-767,403,610,646,-782,757,-185,-500,-723,382,-478,-181,716,670,95,546,-145,428,-521,-292,7,36,714,-376,391,560,-776,34,747,-135,295,447,6,-948,-336,607,-564,366,55,265,441,-930,669,-872,752,29,859,-297,-935,-279,-810,691,-783,-882,468,717,-396,885,374,10,640,63,-895,515,-387,897,-827,220,556,453,678,-750,754,-442,-80,-447,-425,52,-2,-484,171,551,-241,-576,473,35,-199,-58,522,654,133,-859,-983,-70,156,837,956,-852,667,-201,-383,857,-561,342,-377,-689,-705,-847,633,-698,-545,207,961,384,470,955,-955,201,819,-775,-732,-282,-860,751,-474,248,401,-515,-620,628,639,992,-639,908,-285,901,-899,-503,293,-167,-20,-20,856,-1,853,-401,-397,435,831,-984,357,921,-206,-4,398,-688,-597,767,549,720,896,-657,-604,-651,-81,580,762,-990,-479,838,-924,383,-894,-902,615,911,687,-504,-120,-251,-467,614,-676,377,-98,707,137,859,274,635,19,668,-548,-705,-371,388,648,-484,806,-430,947,405,-599,101,72,-452,-834,-413,-69,-516,841,330,661,-70,857,925,620,-776,168,-176,141,284,383,-75,283,-93,63,325,345,354,432,307,303,-271,668,-463,-318,-615,-798,-160,443,139,-161,656,-340,86,-129,16,-204,-272,-84,591,770,22,-641,-497,-521,-964,-625,-335,517,879,844,124,781,-635,-510,202,753,924,112,-416,-77,-244,-310,883,400,-533,749,419,589,995,683,613,-121,-614,652,-247,631,3,399,-974,552,581,-544,-120,-45,-720,105,293,370,678,387,825,122,-635,-153,460,-657,-452,904,-164,-663,-203,-121,888,198,-715,-717,-662,498,952,821,-797,-326,560,-70,-680,-7,-726,-436,-674,-143,268,411,-989,-831,-959,883,830,-693,-366,782,390,829,193,409,913,-34,-455,584,312,27,218,-203,677,847,172,-581,-394,-133,229,-984,-894,-54,148,553,812,-560,48,67,41,413,772,-305,-332,-227,-731,62,-739,-929,918,214,-963,224,-397,736,16,-202,335,145,-86,-312,-731,-984,215,-684,958,-534,-208,270,-988,405,344,670,-24,358,-916,-259,-570,514,212,466,-758,-556,149,462,-120,931,-953,-478,-557,-929,-474,560,297,223,522,-695,477,-986,-786,-453,-270,550,772,225,784,-704,-471,-9,323,-383,-402,-752,227,929,-950,497,744,-558,-75,943,32,604,-901,289,-486,-747,-520,-871,-533,-510,451,633,955,-276,358,-166,206,254,-438,-143,-512,390,120,958,-680,-407,-528,-792,902,219,124,600,627,-570,-354,597,307,-472,966,770,-651,580,528,-976,959,386,455,561,-211,-71,-39,535,-337,-592,-26,890,-680,-191,790,740,616,-515,-469,975,-942,299,93,-823,736,107,-525,-179,17,-138,546,-655,-937,667,616,-303,883,570,-354,503,-917,529,-133,-775,-455,641,258,-163,-621,-673,-886,135,11,667,-740,319,-447,-624,594,880,-175,-185,-236,-182,961,594,990,-396,-88,-952,-168,-810,83,841,-355,108,89,-947,-421,433,491,-576,26,950,875,830,-37,365,-374,-74,-24,938,326,-133,-915,520,-830,-569,441,-348,728,870,-491,172,-152,898,-51,53,843,341,-411,958,-417,23,508,100,-649,746,343,-903,-555,-96,-590,669,-577,859,297,265,-505,799,217,-261,560,178,-718,228,-778,472,457,946,-628,883,-934,144,-956,839,868,-352,924,97,416,-622,-810,-496,-957,-665,293,-48,887,-733,-206,993,-417,474,-797,574,653,898,-11,-937,994,122,59,687,-706,-325,130,485,-592,517,465,643,718,-200,-791,-905,-318,-321,-256,-918,-906,-218,423,914,-384,334,-482,813,-193,-751,733,109,33,73,701,-749,400,-405,-723,-152,118,-933,-990,-894,-314,-567,96,-539,-536,412,39,366,-643,366,-675,663,-197,-390,-35,-945,-738,565,-897,-230,230,-208,925,597,735,449,-764,-177,375,-649,-94,-95,-438,-375,579,-260,859,860,-265,-165,198,67,565,903,872,-364,232,361,940,504,101,678,820,-613,-387,296,-530,-709,948,-481,-285,-380,-944,893,758,-811,-14,453,864,-967,503,150,-658,-326,-873,907,-57,683,437,-896,988,680,-640,-251,42,972,927,-166,-491,-695,-708,-119,947,-769,524,-787,440,751,-506,511,486,45,-718,-869,-572,630,-180,910,336,782,-701,-818,-14,57,-449,-150,-499,-785,-581,-26,571,-803,131,-459,231,403,-423,-697,972,806,-536,-638,-402,-816,655,568,544,-885,-646,-336,-308,644,279,412,821,-38,-22,-545,420,917,981,952,-480,-519,-868,-989,-64,417,-184,-171,632,470,730,-624,867,-919,295,-166,987,747,-589,-867,-295,-627,618,231,-160,-507,-716,317,833,-728,450,717,-202,-963,-223,390,-458,-268,783,-960,490,-336,-775,-116,698,344,359,-102,-903,143,-698,604,-117,-87,320,-173,-135,977,408,-677,657,617,242,-456,532,915,-890,-513,-781,701,-472,-344,663,408,102,64,-688,339,-386,141,-283,278,337,-400,428,-934,-454,614,473,114,-536,182,98,98,-908,567,-973,-712,802,-732,355,968,256,-531,608,-512,238,-538,684,269,-821,-914,234,-682,-568,-366,-432,-501,-365,421,-72,537,694,-687,902,594,-500,-664,43,491,-701,-423,744,778,-695,-735,-273,-143,-757,296,-87,-886,-480,-970,748,-827,309,-686,-817,21,-480,623,-533,-744,128,566,-828,547,86,261,974,-852,678,-885,-430,921,-621,885,910,-999,-201,-953,852,321,114,-137,-950,43,-599,351,716,772,-990,434,-734,598,378,364,14,-132,-956,-269,237,479,-471,467,-945,-645,-689,84,-659,-119,736,202,835,576,-77,-127,899,892,77,427,120,-77,774,-954,862,376,388,-20,-957,367,892,934,-998,-814,-15,-520,-402,-656,-801,-794,283,589,-573,634,208,148,-119,-996,-821,-794,-344,616,-142,-353,799,-583,432,20,-242,657,-273,-602,-773,-439,-415,888,-696,-582,-812,-266,-83,-344,-968,948,136,758,-252,-230,593,889,-967,670,391,90,-242,-635,-119,847,512,499,-711,173,487,419,949,782,450,-972,-977,547,722,613,525,688,-33,204,80,598,924,434,-550,54,-449,-458,-356,258,-817,269,-945,-159,-316,930,-59,651,992,-621,-490,-963,-981,-192,358,-850,-919,118,-382,-335,479,951,-205,187,824,381,-898,-204,434,830,-25,-629,-582,905,249,593,-991,394,745,-55,0,771,-293,405,826,-941,-951,944,-313,946,-856,366,264,-875,191,526,265,756,394,419,186,175,933,-710,-813,888,-311,-957,-925,932,-246,934,-856,-469,435,-906,975,-727,104,-290,-129,888,-910,481,898,-338,822,449,863,-613,-922,976,345,-904,616,-965,454,805,-545,24,288,579,926,193,83,-511,-4,611,947,-212,909,-406,374,305,524,-407,-389,257,-91,-868,-497,887,-250,323,295,926,-57,-534,7,-425,573,-599,537,130,-807,-808,-233,656,-664,285,-99,9,648,-733,-925,35,-269,796,695,628,286,-184,526,-50,-800,-240,53,16,-870,934,-384,-452,866,-572,-410,-714,-737,-702,749,18,-768,-59,384,-940,304,-347,396,382,-99,46,418,305,-977,129,110,-304,447,230,955,936,-357,834,-59,-924,416,-520,455,359,-92,11,-983,903,334,-124,383,-915,964,-510,-721,179,233,-967,-171,-604,-210,-781,978,-287,-500,823,-617,951,883,-700,70,466,971,964,627,-252,-845,100,-320,-685,-968,-483,117,610,-457,-6,475,-818,-761,-556,-997,48,-331,-526,-466,-642,820,896,236,646,902,-62,399,83,-2,-98,573,-672,-809,114,972,-770,-415,-674,-960,-477,-769,-825,-686,-93,983,167,-358,-858,506,-504,-50,913,898,-781,-866,-666,263,608,901,-595,-422,-873,-316,466,600,-234,-863,-633,-401,-15,879,-596,200,184,186,-18,-464,-350,464,-450,969,96,-881,-109,-131,-8,218,937,607,724,-728,809,282,-608,-154,428,490,-393,667,-189,-675,-386,-950,-865,-542,474,-117,-328,856,198,-262,857,-600,-143,886,190,-336,130,-901,-192,-479,-564,420,791,-256,-433,308,-957,-721,-46,-136,431,-351,-834,-803,619,-613,281,113,-98,442,-161,348,229,79,-778,666,-431,35,527,866,-433,206,-121,-428,566,597,-887,850,-614,709,-972,-827,-505,897,672,167,-121,-268,-252,-649,463,-163,-452,152,-165,598,-881,826,-421,190,720,-173,625,-820,606,196,587,-5,-325,-520,123,-255,171,-738,-348,106,-474,-581,137,293,993,685,515,-558,222,-938,-556,554,643,-483,995,170,506,777,-345,757,-294,725,-919,-12,-801,-977,-771,-491,283,-95,20,397,-420,-539,-804,-204,616,-959,26,817,240,313,495,-97,243,79,-767,302,0,-244,789,-477,-152,995,149,-639,-444,99,-262,91,183,66,-830,837,39,-283,-486,577,753,145,-770,692,194,581,-542,332,-844,-417,-128,884,555,705,799,837,-394,316,-636,-482,-741,238,64,571,761,-388,-125,-423,141,-552,-504,425,521,530,-825,383,963,859,-610,-136,-709,-886,-945,711,349,-24,-213,374,95,919,-425,838,-342,580,831,-458,612,-996,-277,-765,-130,-923,-717,-886,409,400,-88,466,-968,-593,824,-752,954,620,-724,500,-427,623,843,-785,-74,462,736,-527,-751,110,-485,999,-274,-20,-720,-651,402,-574,-483,-707,296,-831,-59,-449,-638,-61,-995,715,-819,-110,-652,-532,-424,-599,-8,-848,678,-923,789,103,-799,-728,655,-623,-549,786,-264,940,-981,-930,-434,219,143,-810,-373,709,549,-617,-425,332,949,-504,123,-348,37,-382,971,572,427,207,-301,-524,36,2,-895,-396,-527,-73,822,278,326,-931,-400,11,664,-177,641,310,-792,-585,-30,974,-615,499,-297,421,663,840,283,845,293,-718,-694,386,-53,-131,-976,-974,-118,318,764,-999,644,961,-750,-222,812,-437,-572,-582,-891,713,42,219,-256,760,-257,-860,-972,-122,951,351,423,-819,-715,-288,610,-272,561,457,-388,924,-244,232,-378,175,78,-619,812,-85,748,204,-519,870,106,872,771,178,-406,602,971,845,257,188,381,-814,-219,389,381,324,-53,479,212,541,-820,-238,-279,-123,479,881,279,793,94,624,750,-508,620,-700,854,-185,217,835,-714,-670,860,932,456,-397,-771,204,-241,136,239,-638,739,-117,-194,898,-576,-859,-599,112,77,618,-430,799,-738,32,416,-993,-232,-647,830,792,-678,-928,-262,865,289,925,988,989,883,-116,-897,-202,465,-650,-784,-83,-843,-214,406,756,-934,328,-110,345,601,306,-93,90,-237,360,-241,-696,-47,-977,-546,-152,497,-573,449,-993,-527,234,-440,-291,143,-817,-114,399,-36,553,771,-411,-502,-704,-420,943,984,696,572,760,937,859,-349,-685,-867,937,976,-751,-402,-553,311,53,-398,-869,-348,-616,-232,111,681,375,-917,-49,433,453,809,28,856,748,69,759,572,770,248,-144,542,178,714,781,-900,-236,843,930,622,-248,-296,844,194,-215,-415,-246,-818,-802,857,-894,-323,-939,899,802,-114,82,-977,653,476,519,-335,845,-920,-733,505,-915,256,384,-956,-597,201,-473,-9,-92,-708,-147,874,815,726,-587,892,-625,-892,253,367,-726,-708,353,-843,-405,868,-183,-871,-386,-556,233,111,57,49,-309,404,-87,-804,790,-140,-873,981,467,65,324,39,623,-220,954,848,283,-100,-75,-888,-713,-231,-838,-285,590,121,62,460,571,-549,-133,-94,-883,642,-434,-316,-818,503,335,50,-303,-899,-659,-567,-129,270,-499,-164,190,779,532,-161,-490,-555,731,-314,-735,23,-943,835,303,963,-253,772,-282,-168,-789,-415,679,118,-961,-463,992,-560,235,-403,-997,-800,-713,-593,897,-367,377,-662,305,-37,782,893,670,-971,-16,303,144,101,-851,-968,592,-857,859,217,-62,-14,-115,-245,-554,-983,-56,810,367,-846,795,909,552,-156,465,476,776,195,-595,697,-877,-775,188,-653,737,-135,923,-454,-36,-664,984,745,-80,-334,-560,-557,-409,-844,976,-464,530,564,-204,51,-420,-69,-199,-485,500,202,-177,-276,-319,-761,-584,746,864,-248,497,732,-720,200,-637,-530,-806,779,-518,386,-665,-879,594,-303,-503,496,651,702,-121,-984,958,171,937,603,-919,-240,-724,2,-995,604,-586,-92,-235,-744,-848,456,-823,195,467,807,-404,533,990,896,365,327,-857,727,-86,-100,-304,892,160,509,-779,-117,-152,-654,749,-42,328,957,822,-633,48,-226,-184,234,-573,564,-82,21,475,267,169,-505,996,735,-806,-541,609,984,-580,-235,-21,970,-39,-152,545,830,842,-274,-366,-183,-628,-457,992,745,-797,-22,207,-627,320,-988,-783,692,736,723,412,-482,-909,-151,120,-414,-846,773,-446,-482,-116,-382,-869,-756,-746,368,-581,36,70,207,-229,-156,920,454,-112,-306,-184,-536,-176,-4,99,-118,-465,-736,178,644,879,847,-14,-452,302,226,-447,-838,-416,763,-900,24,-454,-270,684,591,821,-5,-584,-333,582,-117,-251,666,184,-489,425,-844,-392,661,-176,259,813,-479,717,851,-188,667,-826,-506,-338,658,-603,-326,710,-414,481,52,506,676,88,169,-383,215,65,-128,-190,531,-935,-127,208,288,648,13,-630,-27,-498,-322,804,97,-254,254,-897,884,568,685,162,-715,610,-437,559,-899,-288,-140,-186,-54,343,-831,687,953,28,427,-108,581,-328,-872,605,846,917,-343,923,954,-181,269,-979,-279,899,513,11,368,369,625,617,-475,-790,-659,996,975,776,787,434,-859,-746,68,761,-506,-250,-712,-411,954,555,-82,482,795,835,998,-598,36,834,236,-53,-286,-934,764,938,-197,680,-914,-197,251,753,124,261,86,887,-892,174,767,482,147,157,520,555,440,-385,-302,986,-499,658,329,-960,276,915,-950,-718,-126,991,-599,-116,629,-289,-850,-522,-63,-185,-137,610,-813,301,757,-297,-316,502,497,-693,154,-966,-672,243,-629,565,586,-309,785,873,-869,907,-395,544,60,834,584,104,589,501,-404,-553,-880,595,549,980,62,-321,-576,-625,889,51,-304,622,493,972,-581,207,120,-996,-851,-448,-913,-751,-115,-152,-831,-946,-950,685,428,-245,842,-672,-706,-266,-319,79,-27,-643,104,-143,-190,514,238,109,-508,81,-735,-38,-578,-555,-864,638,134,145,504,-833,154,399,732,-757,-978,716,217,47,383,-683,379,-132,-220,895,160,-829,-109,-582,348,366,396,443,-859,-372,-417,-602,-446,-889,913,-87,796,-115,-425,-171,484,971,749,348,430,-988,-653,32,809,322,428,-228,384,-841,-469,-992,346,-533,-526,308,608,-778,-408,201,132,743,875,-648,-885,945,-659,-624,-915,-228,669,-117,-671,-748,502,-293,-123,-560,-159,-103,741,410,-493,-883,-123,81,-565,-570,-788,-832,-508,-783,-765,692,253,491,555,689,505,-319,-294,62,-987,-744,-889,746,711,509,572,-977,209,924,-345,980,414,870,524,345,-527,-148,765,976,739,-211,-657,464,-215,-920,-365,408,-419,-6,361,140,93,932,-341,464,-203,-415,-357,199,192,-482,425,828,-159,583,615,267,-999,488,514,824,-776,135,695,397,883,-278,72,402,-296,-385,204,705,287,66,-67,664,914,680,847,465,457,-535,580,-577,-693,651,-595,-515,934,-429,900,-351,421,-121,-18,181,150,679,-616,-517,-151,331,-521,-588,-60,572,692,722,-274,652,-352,-129,-859,-420,-904,672,903,-885,-733,526,312,-850,-968,-438,-632,327,715,-489,446,756,136,228,-536,917,109,425,421,502,-377,255,-504,431,-982,-14,-310,-281,593,584,-338,-50,-812,333,-146,112,387,-895,-467,-542,160,581,-497,-291,-605,143,-115,845,473,134,873,345,-744,390,522,-486,553,-136,-384,-777,-710,-202,-361,-140,-432,487,-51,651,943,-172,131,-987,667,-438,-470,74,715,862,-881,46,341,833,-579,670,-490,39,685,425,-583,38,615,-655,-254,-668,25,-659,363,-32,555,-289,936,751,-751,-46,110,671,876,0,-941,494,581,-518,-700,186,-275,-799,-328,-34,-230,493,-980,-908,-721,-456,348,196,124,253,222,-372,-452,607,-659,273,876,-784,902,-804,838,-116,-250,129,912,733,-638,544,299,-584,-103,861,964,731,-757,-54,-119,-325,426,-617,-240,-314,-113,265,-432,412,745,-329,154,-599,-907,-475,213,-452,371,88,138,666,127,-588,184,259,723,-253,729,-548,-85,416,186,-752,269,-676,156,878,615,-989,527,-45,-995,-482,-240,469,-118,-40,948,-593,405,-515,-270,697,-428,-781,-620,182,194,-730,793,-543,736,339,-552,-343,-126,-167,-403,546,491,125,965,550,490,952,-529,-306,-925,-156,-453,162,-987,807,-257,-634,-915,-242,-47,-122,-431,-769,520,911,-349,207,223,646,-512,-994,182,-553,-343,617,922,-22,-455,-548,-674,-238,239,421,-269,-132,-135,-599,41,-640,-205,-273,826,887,893,-986,-188,639,-322,-488,-336,-989,209,-970,-798,-267,99,346,-226,-215,870,-698,238,-556,-270,-725,-531,67,-926,825,-349,623,-517,-821,735,553,-512,284,522,-658,-213,7,227,-79,8,-536,770,595,-892,331,712,746,233,0,24,461,-503,349,-199,845,702,-548,231,-126,-500,568,-197,-832,895,82,-27,-362,691,-184,310,-952,-661,-338,399,-780,411,22,369,991,-853,-351,-31,915,892,669,-354,-310,-604,-775,973,-144,-478,-629,-375,743,-563,-373,190,-576,-497,920,564,-371,291,-152,-734,-993,-182,841,646,605,771,-223,-706,-334,-313,-424,223,-171,-758,185,130,701,421,-787,-960,105,963,-741,939,-7,457,-48,950,-605,623,280,-12,632,573,812,184,-84,59,779,902,21,103,903,223,-467,601,333,865,348,746,-124,-857,-21,-574,936,897,-379,-845,-108,739,801,-349,-760,579,353,209,-680,109,-882,-322,649,-145,728,699,-238,144,76,851,-370,-892,38,-175,-139,911,-670,-926,539,-395,-85,665,72,-865,412,-138,849,-755,491,-873,166,-326,647,980,-37,-492,98,-842,83,-45,-720,-408,-531,-59,-419,-203,311,-527,-674,703,-546,-14,907,-352,-165,960,-362,963,99,-985,-393,479,171,537,-437,-67,-758,131,178,238,-955,152,-759,461,707,345,946,-973,529,-846,-539,782,-329,108,-480,369,889,763,-394,873,532,-441,-94,561,536,-336,-424,-43,-773,-650,831,-774,573,-394,-266,-615,706,-394,-901,723,-119,-120,-409,883,387,301,-46,636,-410,168,846,404,572,-965,707,532,-534,-759,331,776,-572,-799,336,434,-97,-314,-432,-201,-749,-577,155,-445,387,-575,151,-288,316,812,504,-86,976,659,-177,-366,-558,600,-934,118,871,-805,248,-978,592,-98,970,414,-336,336,579,483,736,119,-474,513,919,-569,424,943,-645,-217,-191,559,579,-690,95,-987,-595,872,-488,529,576,731,76,-584,56,-553,9,519,-885,77,708,-860,494,-147,-764,526,-3,-242,-790,307,896,968,154,-75,-392,211,-963,194,18,-515,-630,674,-778,-716,-989,170,-994,264,-792,162,639,-435,-488,-861,-621,-12,-600,647,-429,-671,152,-148,-263,-482,-823,-933,578,448,-490,409,-416,-262,-535,-856,-716,-444,-349,-908,350,-796,-70,-207,-329,451,-448,499,203,-930,-643,-98,-708,328,679,-679,402,639,188,-592,465,162,-75,-653,662,-770,-568,-161,941,895,-79,99,942,-155,425,-213,-638,-607,797,-325,-885,625,725,896,-367,309,-277,-962,870,-552,-973,-298,207,556,-588,432,-263,999,853,569,-522,626,-677,-180,-720,400,-842,-484,-402,720,-392,995,814,-457,-606,633,569,-16,887,-316,83,778,-722,732,872,464,34,-792,-668,-932,614,-974,-113,593,-53,578,725,269,-945,252,-64,-932,834,244,-74,218,348,-836,691,-63,-324,-888,-197,18,-890,402,-198,-793,-60,735,318,-407,-431,-884,117,-249,267,169,245,107,662,-565,-483,-794,795,-949,605,-277,39,819,-654,634,735,102,279,387,-219,-564,-313,-220,-519,556,-364,-425,968,282,385,-805,-907,328,146,183,-94,-115,-21,-314,413,-219,-506,-287,104,72,529,460,-343,498,-851,-236,-253,-794,-382,894,150,-224,463,-75,-716,690,-325,978,-725,-52,-277,835,-504,583,125,-739,-914,-505,-769,-176,362,446,981,-302,830,965,-183,-69,-278,514,-186,946,-224,244,498,7,73,-948,-978,393,-686,24,-215,-504,-625,-588,997,169,-892,877,-209,-884,496,477,-69,-768,-770,-491,-336,-607,-97,-988,745,-19,-869,998,468,-530,-900,-651,90,-149,86,114,-325,-600,686,-45,6,-951,814,128,994,91,569,524,459,-495,-530,-492,-945,891,684,-365,354,-647,321,692,-862,2,-545,778,143,829,-708,-245,-669,555,-304,-456,400,525,697,687,-787,-52,125,892,-436,-817,934,17,-799,-263,56,401,508,62,-272,640,371,178,591,-971,-650,442,-729,872,733,700,234,453,400,-634,832,-593,575,-230,-721,813,378,-279,849,-823,809,186,411,-469,75,-222,199,55,943,917,750,718,-541,382,-357,-671,52,255,591,405,394,498,389,-989,905,449,-830,609,401,574,694,298,687,-869,691,403,-578,214,-682,-934,-404,280,-865,-928,842,-341,-952,-269,34,-722,-762,-160,-447,-868,339,-133,-456,142,-853,-270,73,-885,931,372,-810,-447,268,211,831,759,237,-9,990,643,427,-957,881,292,-763,-196,711,-982,-847,-872,206,622,-808,-757,265,346,502,857,581,-856,261,293,-213,349,975,-818,-429,-905,834,596,155,-16,192,534,890,-442,655,676,-145,-582,-862,967,-564,-922,-801,199,-92,444,911,-523,180,782,539,-921,-856,110,-260,-275,702,890,452,-458,-154,-916,68,676,331,971,115,-605,-474,-645,-623,473,797,-872,708,987,-113,-397,-384,106,-827,-950,-257,-475,603,-774,659,-872,-45,-472,-33,-666,961,-534,700,157,21,572,558,475,783,947,-817,-727,-568,32,-374,294,-711,-266,-854,67,678,415,842,-251,461,-29,184,515,271,933,-935,-413,-938,422,25,-151,-656,149,803,-10,219,348,-707,545,130,949,-142,-140,777,-318,106,-172,-186,771,742,-298,698,653,-56,547,541,-678,-713,-58,-820,738,-144,-269,669,-856,-784,-999,-858,630,262,-899,46,-188,160,667,92,-135,-321,-15,166,-17,236,274,157,997,-580,236,887,218,-965,395,-902,-59,51,-391,-612,40,924,-537,228,696,781,813,-652,-793,418,107,302,810,870,389,-167,-635,401,762,803,549,-594,153,616,-505,375,216,-32,-45,476,223,-907,-596,-12,733,177,215,-75,554,-897,-944,-911,988,127,-803,-939,-811,-208,69,967,-434,569,809,768,328,-414,28,-262,-409,24,464,691,-26,-993,-880,155,-132,946,730,356,-847,-806,9,-5,349,252,-867,98,-78,-897,609,-304,81,-214,-882,-347,599,-479,821,-22,-4,-998,-415,-978,-707,-555,-91,31,611,-432,604,-702,408,321,-708,-366,-690,-404,-69,-207,-581,60,231,-567,-109,-786,709,-267,-252,190,89,441,-455,-340,58,-588,189,-601,522,374,630,768,-362,384,829,601,-69,-76,-622,527,-54,277,-543,526,-983,-334,-319,851,728,23,-135,-764,-28,-698,-610,960,250,177,430,221,-254,-376,-413,-277,375,611,70,-185,424,-981,258,-13,-123,-999,-713,500,832,-742,237,-387,-740,928,-909,-788,-595,-37,-566,7,138,956,-756,576,-241,755,298,710,801,-153,881,288,228,-86,-654,272,-904,-999,-172,-837,771,501,-23,208,-173,-565,-629,-265,-78,-963,119,-756,376,-661,-534,30,291,141,-137,-535,-875,-750,-298,624,870,-434,-213,-2,-14,-508,-579,872,833,89,394,-338,-513,908,240,-471,877,-315,-322,985,-926,358,-53,-722,-252,-841,138,449,182,7,395,-917,-602,-364,666,-149,-337,878,222,734,-600,-135,-705,-535,-367,900,-219,-993,222,40,-613,416,691,-439,-762,-907,588,502,528,-227,-242,-211,853,-190,-534,442,-479,-374,-374,327,316,836,-218,-568,-942,310,935,98,-452,843,-568,191,878,106,884,872,89,-217,178,-135,-352,461,645,-859,-109,-745,978,739,-411,232,-848,-930,595,-375,-52,642,-125,-584,-427,530,190,-519,-143,-131,720,-800,147,385,-917,860,-984,-326,716,-773,498,-696,-485,965,540,-116,-483,-709,427,257,426,964,567,-117,606,-774,-889,-405,-473,-500,-468,-588,-461,-957,658,304,600,721,-592,-109,-406,-544,-673,-213,-754,-596,-136,-176,-534,86,-133,690,860,580,696,-424,-327,216,473,147,380,-1,-813,942,759,-312,-750,51,96,770,-373,272,-291,468,-405,808,836,-442,691,847,-124,639,-403,-636,399,-208,-7,-281,-672,-610,-84,395,-919,-485,-113,-151,96,753,340,804,803,120,467,655,-424,-55,-642,-271,-910,-614,-435,-888,-443,155,-132,842,962,-844,-753,299,879,-974,128,-691,-935,-299,-502,-340,-49,275,-765,-282,808,860,2,389,207,759,970,-18,360,-930,-645,119,-146,595,16,2,732,703,921,602,-97,-158,268,-913,-759,594,262,-822,-721,-584,-409,322,112,-553,-72,253,-457,-542,872,424,385,182,-891,971,-525,-381,-312,-744,634,132,560,485,115,98,-407,752,114,-221,229,-374,-490,-180,654,496,206,-170,727,523,-596,306,-675,-59,934,275,-469,825,420,-9,124,-870,-814,-292,249,906,-668,-420,-57,-96,-253,-853,-932,988,270,653,-256,272,258,-744,-923,285,727,256,216,-687,715,482,-308,-284,623,-606,517,989,-451,676,-592,803,637,485,66,-862,214,575,-478,206,-679,18,198,-377,206,-67,946,-268,472,129,884,-696,-260,-895,300,-944,694,842,-166,-662,124,-511,749,-323,-960,539,201,313,10,953,152,810,305,-378,-142,-908,713,-144,-400,-270,-344,118,-541,-397,-344,-478,626,852,500,-552,-661,692,-36,818,352,-130,342,-471,-190,491,-228,813,-264,-670,-659,529,997,751,641,304,827,694,-368,-980,-252,-255,598,764,16,958,332,844,-786,809,-603,615,-908,103,559,-299,-1,-908,-405,-231,-44,545,-314,-414,-377,660,729,-468,-336,179,-538,271,636,178,223,-298,436,-1,686,176,-154,-175,380,-54,-257,-890,-254,397,36,-941,300,-872,789,449,-326,-526,735,-216,-804,-152,773,104,-552,-366,679,-985,-232,-442,487,820,-681,653,78,-290,278,-608,-859,-307,-933,797,654,-222,362,627,63,782,559,690,392,620,-16,-129,650,729,233,-152,-186,-990,664,-560,-932,-317,-5,-428,-875,-987,690,-816,335,438,273,269,-429,649,922,815,686,981,911,-607,-812,-589,693,499,45,10,974,325,-534,72,28,-896,-526,-901,-251,202,-231,956,-212,-4,-679,149,278,-206,197,-606,-566,-181,255,-587,166,-930,931,546,-302,443,717,-964,57,437,747,-914,456,-209,201,-210,928,88,166,-381,424,-588,666,665,242,788,-723,-630,958,-203,183,577,311,-769,269,-613,-222,264,-344,-26,539,56,-911,-486,955,173,204,-499,712,730,20,-751,-617,-722,-384,-122,504,241,-676,-279,-554,-114,530,-105,-261,-996,-245,9,379,109,-655,169,-641,-264,704,-703,-353,-546,-273,381,-914,616,619,766,893,896,-854,916,239,225,167,-738,832,-584,187,-121,-203,-200,-134,882,-568,-609,-2,23,-842,861,141,-459,532,-603,332,-931,-77,-515,-269,-856,304,-354,390,642,250,-689,-780,-474,-719,615,-376,-916,-122,-879,-698,-502,-763,615,-119,-905,-529,346,-459,980,110,-635,-684,-378,19,-410,962,-362,975,-238,399,102,-763,-689,-784,322,-353,330,-234,804,-71,415,-900,-324,118,-106,-436,-12,742,462,-156,-156,-421,-453,623,-660,909,-18,396,425,-317,952,-450,-567,-185,-318,520,843,963,366,177,117,-799,287,572,-231,-358,47,141,924,358,-382,-954,-472,867,-839,-233,801,490,-461,-741,-141,156,-567,-679,-32,448,-385,167,445,609,137,-112,-852,-193,-87,-356,-808,661,-12,905,-823,801,-544,-272,722,918,-540,-210,-195,-279,-679,-736,-237,-383,-3,-930,330,509,-384,-142,-234,-204,-491,-62,-482,-34,-274,829,-442,259,-925,-855,-872,109,-79,-107,265,-872,-742,-322,65,-521,918,-170,479,-120,896,26,781,-90,-908,751,-981,549,956,430,33,885,-355,839,418,-566,285,-922,-925,252,-478,763,-939,-483,187,687,-758,143,-527,-92,-619,-882,-948,-902,-545,-678,802,891,825,598,555,61,-269,622,554,231,-443,-944,-726,-909,174,-690,705,-767,-573,423,-185,478,820,924,779,134,-434,536,-806,-320,-945,-593,1,-366,65,-448,-435,130,175,90,-401,856,-510,894,-432,601,306,-249,373,373,951,82,-401,731,306,607,-254,523,36,12,252,-831,860,-19,670,-81,-809,969,144,357,-92,-169,524,-233,-729,33,-342,518,-520,-31,604,621,-606,-124,630,131,225,-537,91,291,441,310,-213,16,-54,-247,-430,577,-314,100,-944,810,118,617,-573,323,663,-150,571,-113,774,853,-314,-998,-615,-149,648,-95,-422,220,-513,-692,-930,438,-247,667,-417,925,-10,-616,548,335,672,420,-925,-939,459,-576,368,436,267,-53,-508,-122,144,93,173,973,-813,-19,-155,704,-614,980,-309,390,887,451,-245,845,679,158,-659,-776,19,-185,-546,425,-902,-291,656,-234,886,-852,-377,842,-268,502,-710,-327,279,-419,-996,486,-848,591,401,550,-14,906,-65,223,-771,-925,107,246,998,-743,38,-160,809,827,-481,59,329,-488,-553,152,724,-888,-594,-505,93,913,-744,795,581,452,-258,767,-382,54,397,-343,-572,-289,-965,474,575,998,238,515,997,278,-954,-282,-524,188,645,-824,-961,-249,-863,772,-977,-252,-845,-419,-437,-181,166,818,-201,93,649,409,-459,-264,-118,-627,180,609,440,-899,-734,-957,-827,572,-110,490,-371,-914,-845,-31,724,-619,6,-728,-574,354,-450,754,-216,-454,-523,-910,97,-284,-109,982,-584,-909,-318,179,-528,-270,76,-772,754,217,-133,725,500,-799,-398,116,836,-253,-587,333,-333,-287,-906,936,940,384,-109,-309,900,409,754,-107,-336,829,395,-796,-428,923,164,-112,-261,-518,-191,339,-777,770,-402,747,892,-340,-44,-769,910,715,-217,632,940,638,-676,-99,-658,587,-782,-903,-998,110,577,-424,82,-782,-135,609,408,185,855,884,204,333,699,-992,586,113,-65,-878,-715,227,818,-813,-154,-27,-770,-336,-907,980,580,-229,-493,458,835,794,-53,700,-630,833,398,618,-448,-672,254,450,-723,662,172,746,-864,-616,953,-724,-257,244,579,-863,-451,278,179,306,448,-77,143,314,573,-231,835,995,-274,741,-50,747,281,-997,-83,45,-842,722,-942,-240,-335,289,278,849,517,-900,563,434,-769,-829,372,629,573,670,-122,382,617,-88,34,592,416,394,939,-652,-503,-490,-615,-62,150,603,472,415,-202,615,-523,-708,732,-558,-856,930,-654,-465,-5,456,809,-512,119,-752,927,579,-106,-900,-540,875,682,-835,654,577,725,126,-700,-149,340,799,212,-870,736,-6,715,621,-424,128,-160,249,-518,848,-762,681,-230,-748,695,77,307,-501,273,432,588,232,191,781,-3,954,892,-963,-43,-63,619,864,-844,-318,-763,756,-51,138,-81,-936,-886,401,289,537,-539,7,-179,651,94,388,-314,863,-717,762,-423,-381,961,110,-519,866,-852,648,591,-316,283,-401,-293,-957,-929,523,-768,33,781,690,-667,835,-677,-490,438,803,-561,58,268,578,-125,414,-775,-667,-494,-466,272,116,835,319,942,28,43,907,936,-940,363,-58,607,948,-922,-486,117,735,-615,-480,-369,-425,-469,16,331,844,-733,-557,-513,-334,-661,879,496,-903,796,951,-328,-802,-33,741,794,144,-895,880,-378,-844,158,-523,-889,-102,-17,-393,-487,752,347,589,165,-844,-244,383,-179,-105,931,-92,144,285,-826,508,-242,323,870,-838,670,-426,141,17,360,-672,640,-513,-479,-960,795,-98,-831,-656,-375,596,906,677,-151,-569,274,-370,-205,-511,-379,519,-17,-368,900,191,-19,-743,893,-292,857,-380,-853,226,-223,-571,179,387,-73,-767,-255,341,250,361,194,758,214,531,-231,426,-977,-999,775,247,-341,-472,737,-384,387,328,76,-76,-966,-44,844,-68,814,233,-145,465,712,764,886,974,574,-615,-945,-955,-121,758,126,321,559,-1,-93,-156,-566,-557,514,430,-705,-39,339,-962,516,517,-176,843,-345,508,531,721,-82,-630,-123,80,-476,434,-863,497,-463,465,627,-897,-952,-922,134,-612,-216,860,782,675,-703,-392,836,264,886,478,506,-582,-712,769,57,-439,-211,-556,-627,-761,-642,744,686,29,-170,-604,-505,-420,-946,882,-903,62,-443,332,-597,-642,-326,233,-116,942,-602,-431,795,-567,450,-529,-901,-198,-841,-1000,214,-814,977,779,-331,8,72,-85,932,885,-348,766,-938,4,873,-540,689,-99,134,762,-589,-535,508,-845,-385,-20,-983,178,620,-589,-871,-722,269,376,-328,835,261,321,196,83,-320,-685,487,462,-418,873,-336,567,-672,824,-320,-955,403,779,203,82,-628,395,-585,600,-730,211,-918,546,-580,725,524,145,-488,-674,208,8,510,-782,-985,751,-530,737,127,-497,-587,533,-411,648,-168,-571,-638,321,-20,-71,-692,402,655,-301,-214,161,228,763,-118,-39,-734,-519,-516,801,-787,-240,259,725,611,914,291,825,771,-573,182,-340,-790,346,-974,-850,842,817,-427,-402,844,218,27,-988,749,-434,903,33,638,815,-532,220,-633,94,396,986,-4,752,613,640,719,214,-794,-359,-814,464,-551,816,36,-104,442,414,419,157,-14,681,-322,243,326,-259,416,-901,512,242,-660,-471,-228,-981,658,51,83,-867,166,-694,442,-63,745,-38,282,-745,-836,124,-890,562,320,897,291,990,495,886,-308,-11,-299,-24,821,407,-341,-150,229,199,209,-116,471,-47,-279,-64,-279,-314,610,910,-347,-669,10,292,379,177,817,-782,461,-231,-213,-653,-192,294,-611,-196,916,-282,-650,382,-824,8,852,-712,-451,-107,312,-60,-407,369,-457,201,297,-295,900,835,-293,-167,-387,-721,-217,167,-420,852,408,825,-320,885,-598,230,-372,92,-757,-230,815,-280,-422,-248,-137,767,-43,491,-3,121,499,789,595,981,-330,-72,-580,-292,657,-639,-382,647,-620,-189,-367,-208,223,151,-961,94,185,-534,79,-188,-508,501,200,409,607,-856,637,960,630,-563,263,-541,484,581,170,672,520,884,893,468,450,265,781,-473,874,-507,-662,352,213,947,929,149,169,952,-200,-492,677,-175,473,-655,-584,-544,527,550,467,588,270,56,-195,414,923,956,-696,-684,224,-593,409,-870,-79,353,-164,-114,-310,176,-639,-214,-586,467,427,509,-347,-985,-820,594,977,598,-874,920,11,222,737,112,-567,-817,-534,-944,905,-272,-832,-525,620,-468,816,-859,-901,30,-778,-94,-59,-602,-999,141,-560,-76,645,917,519,-923,716,-90,811,-750,-46,-316,-82,-352,-957,-489,654,-761,-417,118,2,-716,802,182,-351,-603,-753,15,114,-352,207,845,602,893,501,718,406,42,-504,770,847,-108,974,-672,867,94,695,277,767,-43,-747,409,393,-249,572,-856,236,-608,588,528,-89,781,-76,515,112,907,-150,-94,433,-314,863,-313,-296,-867,296,87,-195,-961,409,-43,-866,845,-797,-481,437,-898,-120,-913,739,-397,-984,-223,-870,-765,-430,339,-616,246,297,114,-650,-434,928,-724,998,-413,579,-916,-756,536,491,777,-481,-997,498,-854,304,-552,759,-253,-829,-342,-773,904,-370,-522,-845,-744,60,-512,-772,-190,227,-876,-226,379,-207,-31,764,649,-859,184,84,486,-448,593,-926,-596,-611,-349,169,526,627,-639,-882,290,326,-620,452,131,599,90,127,-27,-635,-149,-22,225,66,-303,-547,-313,-679,895,660,-808,-313,-850,-261,-322,620,-11,203,182,-199,-932,935,355,-254,-892,66,910,-848,333,495,480,80,88,-901,63,179,536,117,-625,-649,-367,878,104,-444,-281,384,-211,57,933,724,-189,130,306,868,-666,626,467,925,882,-71,-337,-571,627,-955,469,-865,85,-877,-355,107,37,-745,-269,360,-431,226,-788,-438,-676,52,-144,374,319,58,-112,-588,7,784,-510,662,-473,551,-197,-869,807,951,415,779,199,-590,-230,111,387,817,921,179,-192,109,-742,-35,615,-646,-825,-76,77,413,-229,-252,-749,884,909,-422,-584,477,-662,-370,763,68,391,271,288,613,404,-151,668,496,251,-441,-543,401,25,-639,490,-640,-641,-95,-917,-325,817,611,-166,-848,-933,155,231,763,-99,498,-392,-836,-654,983,675,-26,647,-994,175,-344,458,-586,-670,909,-205,268,-66,439,138,-888,284,-940,482,47,69,-702,-47,-116,688,-837,681,-906,-153,-474,15,-589,-20,415,975,94,758,982,-908,87,871,-767,-410,327,-51,963,-66,649,-770,29,241,-216,995,515,-830,-142,923,-512,240,991,-59,-214,-73,-247,446,2,178,251,903,-401,491,-33,-301,-734,-317,975,349,-127,70,-203,-122,42,-162,-727,-772,705,252,765,513,-838,-197,-208,-389,-149,636,482,-131,-723,-43,973,-918,-784,463,-987,-528,-871,684,577,351,434,-98,649,840,-459,811,310,100,204,605,-290,-545,586,-356,-420,-170,-816,-980,905,325,-570,210,-822,142,354,452,693,724,19,311,792,-612,882,363,-905,160,-918,-806,-999,-505,-573,-990,-635,-809,657,-162,-954,-179,310,723,44,-403,-885,631,415,81,-711,-286,826,601,-362,-413,-324,-977,79,600,-682,12,443,816,-91,-147,-21,630,-796,311,-808,-597,-283,957,773,302,236,-216,99,31,-318,352,-201,420,372,-515,28,-490,828,-678,883,-682,258,810,-59,119,226,27,-860,-855,-474,-239,774,821,-417,-26,379,98,838,-700,174,-73,-109,-109,966,748,421,-92,69,-152,-47,-356,-712,756,386,-263,-372,-222,-62,188,980,-298,734,-124,902,-136,741,-311,-606,348,-391,-461,-546,-2,-30,-412,739,640,75,718,-125,-884,820,-687,-549,942,937,-1000,518,-314,201,99,981,510,82,574,348,652,545,-692,-133,909,47,802,450,-205,-841,-342,821,192,769,59,-884,-881,-535,-863,-624,-693,876,-445,-896,76,856,31,-35,-904,-832,859,617,424,224,182,-776,805,54,257,466,759,-567,-263,-361,215,-580,372,7,622,238,917,-395,790,-295,-613,469,-444,698,-413,743,-738,655,-752,-673,44,4,-387,-231,-840,-371,476,-354,831,-89,-329,-757,-618,393,-552,-102,571,637,523,29,-320,472,-366,660,216,-56,327,307,452,872,524,-712,-880,355,-673,-274,790,741,-690,-731,653,-345,-559,-912,306,-373,-76,-666,979,-458,-778,170,-66,-110,874,-127,-843,-299,-131,-817,522,-422,785,-741,-234,-342,-505,-429,552,362,-793,413,20,354,484,837,-165,647,-367,552,923,-903,-799,143,-302,354,4,52,665,-176,875,632,-711,-982,257,-547,972,399,901,-511,-970,-319,-976,-428,-116,892,683,496,912,-319,-313,940,-207,-373,-421,899,136,584,-441,-986,239,-541,555,391,-105,-530,115,857,-278,-870,-785,151,-600,-960,-956,499,786,630,811,-119,-483,-618,-297,856,-720,-210,826,-63,-705,-876,-447,633,-794,-271,-268,538,-556,995,-167,328,248,51,912,939,-502,-458,-927,-762,-919,10,-963,424,950,462,393,695,241,-829,-209,-971,-867,-307,-957,107,-225,197,986,-11,204,-619,-310,-640,744,-559,-195,40,887,879,638,443,495,-610,-927,914,459,-879,-34,743,-105,-777,-611,820,537,588,-823,-901,469,436,-938,-700,-656,-378,-818,-721,-332,949,-997,-164,-347,-591,459,-178,-174,-419,591,622,-599,-478,896,409,-844,358,395,912,641,-181,824,-727,-936,161,-416,-516,-299,67,-395,-227,-518,-181,345,72,-699,-27,715,688,188,516,-234,-396,-754,717,824,-473,541,-790,-483,212,-281,8,315,226,-165,964,-3,166,198,-616,-342,960,219,739,971,-671,-958,825,-398,178,293,877,839,652,128,473,-873,-414,223,982,964,-585,201,418,-884,-130,184,-109,800,326,-792,-200,-873,-270,12,458,551,323,137,-41,-188,-954,-749,-125,-629,-862,-647,-433,374,-570,866,879,-438,-511,171,-4,-192,-125,282,-681,625,49,124,617,280,-633,170,-355,912,728,-337,153,115,-691,694,495,764,652,-936,-131,466,-678,-826,-122,521,-386,-839,982,-150,-187,-62,-912,522,-248,-254,694,-928,432,-584,844,897,-288,195,-849,524,-114,-614,-957,991,-469,618,9,-286,-214,-419,-576,865,-96,-567,617,-352,-319,227,954,109,-709,507,-821,366,-623,235,-485,-231,-690,-484,-750,137,-515,361,945,413,928,115,-490,796,-79,-432,364,-222,-682,185,-718,-296,-869,752,-433,511,-788,736,-647,-242,-57,127,-353,64,198,-108,-80,850,602,999,-829,-977,212,612,-159,564,608,-632,336,332,789,540,-125,-556,971,873,-705,601,326,-557,312,-988,-66,805,575,798,-464,264,298,-819,-785,-610,-908,570,294,-634,176,-734,-824,858,990,-688,-205,831,-728,-386,-910,111,553,375,-980,26,212,474,-86,755,585,371,619,892,-202,938,387,-171,-101,109,-90,-29,-984,-864,798,67,409,813,320,-587,-993,-46,325,-500,583,-395,366,819,-533,-433,-573,973,-589,957,873,-732,-50,775,-251,355,383,-531,-140,975,-698,495,650,238,-963,454,978,-613,-440,-790,688,339,740,196,-562,440,882,-462,-833,880,560,-528,468,291,-330,-654,198,988,171,854,175,-985,-629,-922,-906,394,421,905,242,-990,214,372,998,761,-740,220,960,388,350,-104,347,351,212,694,416,443,95,152,-927,-51,985,-826,-379,-261,409,250,-202,-452,251,-792,90,857,-732,110,-442,-520,231,-318,616,384,168,-282,-402,-975,-699,-695,80,513,13,-966,-517,137,-580,-41,-926,566,-158,-595,601,774,87,123,536,205,-401,104,174,625,390,789,-101,843,-271,-126,-556,361,952,346,-409,-39,-215,462,-293,255,16,679,-223,-912,211,419,-525,264,787,752,801,-789,-700,265,-143,805,-657,-26,-93,78,-487,-474,75,-228,422,192,140,-79,-866,-864,-370,-27,369,-60,-886,455,195,-185,-251,-154,471,856,695,935,-147,291,-637,204,941,538,382,885,109,194,-501,-97,941,880,456,-159,-543,-118,-745,899,267,-486,-964,722,-763,953,600,236,924,644,-855,-8,-376,987,-532,-457,-787,854,659,646,214,322,-263,245,-324,840,468,-752,803,-642,-493,710,-78,-414,-215,545,17,-942,796,-659,28,788,894,-625,-321,825,-229,-923,-586,-210,29,-71,-104,577,-144,549,-530,-495,672,197,-529,918,-246,-548,159,-148,-298,-82,-474,-134,306,622,927,109,-129,360,-160,688,587,-644,-677,219,750,994,-171,741,511,204,65,-46,-350,449,86,212,802,-204,931,-961,-151,-695,1,-101,-122,532,-300,-404,-610,851,-313,572,842,-742,-717,-297,-722,137,-285,883,377,-722,0,255,-403,511,-828,94,680,-729,100,-555,-229,176,-575,420,-1000,391,207,-334,157,648,-361,-809,91,911,-215,829,534,756,-899,763,-99,371,451,531,86,-451,204,75,-435,134,609,-322,-701,-696,694,-178,-516,-712,-696,787,988,844,-798,181,841,-930,-526,201,507,335,-819,-751,-170,563,123,114,-255,-277,595,718,-512,-386,-510,465,855,-146,-972,-919,669,238,293,-168,-151,939,252,885,473,-873,-578,-548,196,-16,-748,130,169,-174,463,755,907,-857,-983,-933,-438,-212,136,-695,-703,617,614,460,-513,-983,-685,-65,183,-680,358,977,-21,463,276,664,-238,998,914,-651,-591,-457,851,378,584,-276,-341,-428,-890,-835,855,-893,-582,-725,534,594,-403,263,124,-936,-237,-689,-968,388,843,415,316,-291,322,778,-325,821,-112,-968,264,-883,267,-350,941,715,-368,752,285,888,-545,946,608,-220,388,245,70,-575,-870,608,-872,881,860,80,823,-888,747,547,897,67,-172,97,-697,-228,-376,611,295,-755,-756,-374,67,153,-958,187,-419,979,413,385,240,340,-246,-128,-538,-670,-288,-987,-517,-800,-823,-863,257,642,-530,-549,353,-636,-533,-825,-919,-506,-592,842,528,989,958,613,-408,-380,-286,751,825,19,-726,807,-442,-238,-257,-367,-729,-91,-624,-233,-213,-741,267,-475,710,-453,65,-885,-570,-540,105,-205,-1000,100,727,-478,748,712,-465,524,708,-974,-105,-99,-990,-695,75,-208,-857,-337,375,345,889,361,546,-505,-740,-60,785,-140,-274,-767,-334,195,774,-881,659,-61,31,437,-752,317,-165,-774,383,584,-15,-793,969,-7,-631,-307,-543,-661,-216,93,-564,12,-287,333,122,267,-892,-272,-471,774,784,393,-84,849,909,-266,-777,-129,119,527,651,292,-236,334,-312,-70,283,-587,-998,496,-964,-349,-986,564,-303,-244,317,-200,-361,-759,182,679,-563,494,-786,786,362,639,468,-197,229,794,-471,-717,-549,359,881,-89,621,-874,301,994,231,-7,517,101,-750,-473,-379,-498,-916,586,102,-960,303,440,446,419,42,159,519,784,152,934,963,668,-732,-185,513,-423,209,175,180,-886,353,516,-99,791,176,145,993,-876,14,-141,-267,-488,-191,-835,205,606,-959,-166,288,-523,986,829,-615,95,-861,-67,109,-511,-837,922,44,133,-622,-760,791,958,-702,-779,554,105,30,775,-104,-722,212,-660,-345,456,321,-580,-469,881,-993,-161,-536,591,-844,-557,-138,332,-612,21,-950,36,-53,898,-702,689,-416,694,-534,370,898,449,-210,570,-121,-889,915,980,-607,-258,167,-57,956,232,539,12,861,774,323,917,27,729,282,-766,494,484,-783,169,-427,871,346,-87,-405,639,-482,488,884,-95,-774,-245,-154,-944,-846,-557,-663,-975,-580,581,865,780,825,-856,-783,-757,-439,919,-127,-971,343,803,706,-937,-173,-274,-448,-865,94,655,-274,-359,-853,-748,909,-888,82,-427,31,-722,28,880,941,273,-162,-487,-572,-320,-75,-551,-60,-755,507,224,-968,777,285,12,75,-524,778,989,-882,62,-193,768,-785,-870,335,211,-947,-519,544,-307,629,25,701,-918,768,-409,616,-716,536,-416,-332,-349,-302,-851,-60,797,-90,713,417,321,-750,-722,-551,190,-502,457,-501,-327,37,958,56,807,-503,588,-231,-52,824,166,-546,-143,133,-964,985,850,-225,-599,-686,935,-250,922,75,-863,-232,947,-53,397,795,357,864,-49,28,393,753,-702,-592,-427,-876,-531,-941,603,-552,72,463,486,329,-706,399,-921,710,-498,870,-311,90,12,-601,-405,-219,-485,-841,101,-649,-958,-879,-738,-799,-789,488,-196,406,190,-475,-178,34,508,-859,-68,370,514,399,657,920,-918,923,760,-820,-713,-879,-451,-25,729,-481,-506,-476,78,159,-800,-211,602,-212,245,-543,231,464,-84,-734,-566,425,-671,-33,-483,162,-160,978,-840,588,-746,926,409,-598,753,-740,-482,-54,-461,272,-916,805,-448,-868,-65,-878,343,909,723,-811,662,-15,-731,-690,199,-229,846,-781,-28,-67,-655,-9,784,-591,224,-315,865,-54,12,575,673,-298,-877,497,-288,-881,403,-878,-802,896,281,530,83,567,-910,-879,966,-831,914,60,-815,315,776,-812,58,-827,-290,-784,-689,440,990,-367,250,-979,-621,-599,-114,587,906,232,982,-467,-636,635,-241,-882,-941,712,919,-903,82,-573,-458,650,-620,-414,-355,666,-992,723,87,611,101,487,-682,-87,-618,743,83,856,185,968,147,634,-901,-171,536,-809,22,-361,718,485,-57,542,971,-984,-110,312,766,527,-220,929,637,825,-45,-838,-921,278,-458,-314,938,900,-731,-115,575,-156,-351,212,-287,810,-481,867,-914,-800,-693,-672,-785,637,181,37,-97,485,933,819,167,-126,-587,365,507,-191,-694,-182,521,518,-733,-650,700,145,-886,-733,-91,-915,-363,-513,-502,798,-193,220,753,-88,988,-936,-557,-36,113,-942,-405,-263,-100,-622,-924,638,-567,-150,-957,413,-569,-411,855,-863,-652,-65,-943,-822,300,508,886,202,-195,756,-272,-927,938,134,-966,-647,606,-89,747,-493,361,989,695,-57,-387,-775,-167,827,-759,-256,-688,-618,68,-919,-316,-374,701,-366,225,971,-652,395,452,-268,223,497,717,179,615,835,-353,-543,921,310,-607,-998,-577,-640,-4,-735,-95,819,-981,-221,496,427,-428,-720,-222,-57,-91,295,237,631,918,470,357,379,807,-250,757,850,-19,500,294,994,-621,-656,-686,424,-656,-476,543,550,205,493,388,471,-335,-80,577,49,-843,38,540,49,539,478,-662,18,-594,-79,769,-248,846,-377,-230,-78,895,855,-345,-675,-360,928,86,7,560,540,-363,785,-78,780,271,-665,-806,400,-762,-514,899,-142,-987,282,-679,445,657,563,688,-149,439,245,678,706,-644,-818,-800,-795,-173,420,-514,-316,569,825,-450,908,437,808,-876,-832,-51,522,-28,152,-655,-879,536,327,-323,-930,831,-123,-563,-423,483,-313,267,-963,-971,-97,310,778,818,-880,-587,583,-243,-856,-849,472,621,525,-664,-976,-688,42,12,414,-9,-634,-768,-940,-50,48,411,-576,91,533,94,-920,733,-966,-699,-573,-598,-971,-864,851,632,-49,-352,296,131,-407,-961,-236,-327,-429,193,-839,457,974,324,677,-671,-588,-154,-342,-543,293,194,903,384,-489,657,-163,713,-339,-361,555,849,-810,161,499,-239,-415,-23,222,890,-160,-727,-720,617,796,-911,981,-982,-163,-862,-989,547,-46,-424,-803,37,57,-835,270,-224,-778,900,-589,689,748,724,-278,639,-786,330,593,489,-605,-650,-733,-923,139,-750,668,219,-625,569,499,103,-513,-905,-580,-594,-940,-894,474,-110,-422,702,-363,-150,-634,-263,521,-75,147,794,684,-530,361,-904,-901,-484,719,-729,501,57,339,-447,43,126,332,851,355,-450,-369,-716,190,941,197,46,732,-448,917,890,-726,274,159,809,-901,995,-186,656,-195,180,-94,-132,434,333,-372,-539,918,149,-619,-603,80,-224,-311,853,864,593,-844,-660,736,-1000,-547,64,356,-678,672,273,-511,-348,134,715,-762,-454,-358,675,-493,-556,800,-621,-932,563,341,715,-993,-223,981,-677,-734,62,831,-192,726,-593,998,-645,-966,-772,-602,-843,-77,-313,256,337,650,-670,825,785,687,787,-50,-432,799,-681,-478,520,-280,654,-446,-926,286,-460,519,-408,-114,124,481,122,-495,83,984,779,396,-661,696,571,274,-197,848,-69,-405,746,-802,320,31,145,-224,-365,-948,651,-277,116,585,705,345,-173,883,-865,11,173,994,-631,449,-978,-139,944,485,-806,-361,-684,-858,679,-621,-435,-455,926,-695,-13,-984,175,-619,297,578,506,62,-79,749,517,347,504,33,-967,-168,-720,-326,-143,514,237,69,-470,702,-116,98,-116,-200,-745,-956,-517,-62,-573,-293,-101,939,645,-913,898,758,-488,938,419,208,452,-215,-282,672,481,-674,707,-526,-901,634,156,879,-113,-882,-606,381,-435,578,-234,222,-140,376,-328,306,-557,956,169,773,-855,612,905,-693,986,-23,-884,-188,898,-799,-249,496,262,-10,838,-27,814,726,260,574,793,145,869,283,-931,-918,812,712,753,-464,153,117,-145,-179,-722,260,661,235,-586,-468,-892,-822,-730,75,237,840,-921,318,-135,-259,-802,369,-18,387,-117,-106,-902,-18,981,491,-705,889,768,181,-427,688,-545,713,733,128,-978,-475,839,-33,826,-354,87,782,-110,-363,977,926,-848,968,-750,242,606,666,-881,340,-46,-99,-449,-753,-240,-598,89,674,-705,1,533,-766,-276,-501,390,-512,379,-170,-689,996,826,-755,892,-58,-555,-632,-369,987,438,911,566,383,124,-2,42,-608,-948,794,145,454,520,780,-249,843,-362,-695,146,-433,511,637,-49,-753,-912,902,357,392,550,-32,941,117,838,198,188,52,608,-39,-28,-574,-572,-75,-16,-583,569,-736,142,539,439,-893,-669,-406,352,333,254,-823,129,-999,346,-781,-128,150,50,231,-925,-822,471,-252,-860,606,-974,-954,436,740,827,-381,-565,-239,-841,-967,-99,-5,-617,-443,465,-851,-992,525,555,398,677,576,-978,-378,-710,-49,143,-11,136,-867,557,981,-36,24,-13,310,-759,-369,-500,88,-790,-153,-299,-360,716,180,609,-836,605,-984,-458,-555,-63,963,542,-454,901,945,-42,-502,343,579,82,399,513,-853,-371,204,783,446,-303,843,22,-787,-398,923,-134,38,-907,197,-166,-267,-133,-362,266,-743,888,434,558,-139,810,735,458,623,189,193,-97,-640,-924,-111,789,-9,-878,-94,228,827,44,-434,238,-886,982,883,-79,-448,466,724,538,-112,526,-1000,-916,401,841,-611,329,-826,-995,651,-406,-778,728,676,658,-956,68,740,377,-484,-958,-786,781,-299,-845,-560,-429,-461,124,375,12,307,-554,-89,952,861,772,22,762,429,-257,574,-729,-289,-168,298,426,-350,-172,452,-909,852,-229,-323,-143,229,-486,110,-446,-515,110,950,865,-971,282,-738,-10,-731,-137,337,-747,-825,-234,-615,566,-269,-631,-840,-960,850,567,-101,89,301,891,-148,87,-725,-795,-166,415,-9,-241,-828,-402,-571,338,507,-488,14,-354,0,523,-882,786,653,569,581,-224,-548,491,-340,-770,764,-23,676,956,-802,345,459,113,794,-688,-141,-241,456,796,-247,-959,-657,-228,44,681,-578,-411,356,-410,431,407,-679,681,-968,677,119,-218,-433,789,516,-231,995,-361,354,776,-769,-14,503,-39,711,607,784,-702,300,317,-842,-829,278,-939,312,-225,178,363,-884,320,-187,-776,-557,-563,911,-179,-6,899,-805,-510,9,392,-231,-881,712,709,-162,-836,-877,-552,649,-135,-431,-911,400,346,270,-585,762,-102,580,-537,-431,304,562,640,541,306,-248,32,776,-766,-396,935,419,-758,343,987,-546,-372,-236,-241,-752,-993,365,-689,726,166,595,-907,872,128,9,-353,372,-499,600,20,-545,-285,-163,-142,170,-56,-496,-810,696,-137,-142,722,151,-348,221,267,-499,-419,876,336,622,-850,-154,144,-240,949,942,288,984,384,-417,424,238,-686,-69,841,973,-83,-182,217,-193,583,-890,54,-868,612,974,107,841,-141,-34,844,-952,440,593,-154,985,838,-503,408,796,-248,162,208,486,234,398,279,889,-123,916,881,-627,638,914,-775,110,901,-977,67,702,269,-70,895,201,-563,357,901,838,-506,-343,820,237,847,-34,-644,310,-123,-572,-1,461,138,337,-380,235,-342,-15,836,598,-963,182,270,-595,-495,-333,211,547,-689,-450,-977,852,327,659,-412,277,856,321,634,-973,-768,-907,-526,-147,180,-304,589,973,-414,799,-26,639,14,764,-929,787,126,-494,173,194,239,-757,37,868,958,945,-83,-560,105,110,891,628,-639,-987,-403,83,-95,634,573,278,273,-191,-843,759,-648,158,934,669,-992,-322,124,-660,267,544,535,-344,607,-197,-655,845,-764,549,-284,502,-602,-924,-333,146,-389,977,-721,54,-606,-533,158,-98,261,-411,-354,98,-86,-892,-821,-878,499,482,-406,165,-756,-976,-584,-576,-605,-268,-783,-268,767,860,909,493,612,-793,-978,-64,878,619,119,939,-665,230,464,164,269,914,-957,314,332,113,174,618,-736,-361,-851,339,902,-634,-102,68,96,249,-189,-269,636,-641,204,409,231,862,258,668,-47,-1000,-660,153,-540,-457,700,162,377,16,-624,-761,-909,191,-929,-181,399,386,307,780,501,-540,-481,-524,-970,-340,-754,-895,-441,-388,692,923,506,-608,857,-900,191,263,773,580,-613,955,385,-351,351,787,-619,-553,387,-235,998,726,-349,809,145,-182,-726,598,136,738,788,-356,430,-797,89,430,-564,-861,780,-788,-615,-900,-581,-386,94,953,613,-468,264,-578,-146,-974,-104,69,677,-925,661,13,-678,4,-132,729,-953,-520,743,-159,270,-589,-290,-318,901,-762,677,85,-234,-687,299,508,202,828,-422,492,328,-538,988,512,845,-968,233,-480,704,-8,-146,36,599,-953,232,762,702,835,-494,813,288,-484,835,-302,-241,-379,767,740,620,21,943,-418,-666,566,-826,-332,-341,-34,815,303,-93,935,-434,-859,-932,358,-847,247,-882,403,161,427,271,-246,-673,-388,-189,667,-902,-430,526,813,457,867,-489,714,595,-651,368,-300,-684,367,-627,417,-151,-950,175,752,3,-463,-59,533,-329,331,189,867,146,-986,769,532,804,-618,692,759,-263,-739,408,-699,-856,645,-77,-119,-124,-418,-773,-998,-423,188,-390,-851,-830,-257,737,-80,-373,843,-953,-119,-217,128,542,-41,295,680,794,-78,303,-286,-515,-649,-193,-139,645,351,528,559,580,813,-275,186,-660,-771,-576,132,613,-208,-32,-64,-912,-670,-621,-344,827,-745,-127,-41,631,257,-657,-423,967,287,-603,-730,973,-319,-462,-807,360,-253,-14,-304,114,100,-579,-160,718,868,510,473,31,-646,-204,-444,185,-473,134,318,914,-291,-522,-551,163,-338,-498,554,749,934,179,-125,-99,917,-621,-156,-442,52,611,-411,-506,-201,17,685,-814,609,968,658,-418,-655,856,-456,850,-683,667,-814,43,547,-49,-778,-447,38,-43,-725,130,-815,-878,-103,-824,182,-735,-604,-743,371,123,804,810,-465,-10,371,92,-878,761,840,-388,279,-345,-232,-443,894,438,-930,-686,-754,-137,-142,-658,-336,932,83,80,200,859,-265,543,797,-649,207,603,671,-244,-319,632,721,600,411,-714,131,-823,-67,886,-294,-635,553,-586,-417,43,-240,372,314,-18,-758,897,92,187,-404,-890,307,769,-141,-205,545,-784,139,531,-323,303,799,-847,-419,-204,491,774,-230,-154,54,-522,908,-440,382,-882,613,-977,71,-383,-816,-486,602,-235,840,-507,82,-427,-196,670,-247,912,-962,-575,-440,349,-811,25,-128,-323,-946,-664,-521,913,252,-861,-733,369,-158,-14,-224,-587,416,339,-66,479,-104,171,795,-680,291,-938,-889,-885,354,-153,-685,-107,-242,256,227,-697,-993,-992,572,591,808,514,497,-79,-597,-414,763,-878,-619,890,256,607,-441,-83,-417,32,-269,868,-388,-471,-79,-906,-538,-503,653,652,-864,-795,-243,503,-301,525,639,-314,876,-699,-457,67,787,-136,802,-347,-511,-967,-12,-968,-94,-248,-714,-310,-531,-305,795,-510,-418,-108,826,711,551,-998,991,-81,-279,149,459,-910,-363,-1000,497,-881,-290,446,927,-991,-766,659,-90,883,-713,925,489,-232,-599,235,-825,-330,-592,-822,89,-990,640,621,632,-313,374,-95,-63,544,-196,812,104,-225,-13,-364,529,-762,124,-448,665,-454,-300,304,-516,-462,303,773,876,-338,145,329,880,-622,535,-365,743,163,-823,474,940,285,700,551,786,983,-774,353,216,158,495,470,-841,-100,-664,0,-485,887,385,-626,112,-430,-396,-838,300,307,-765,198,136,-619,784,-187,682,-577,-254,358,-604,-664,-773,-378,-172,215,251,997,481,-291,999,776,-685,453,599,-476,988,-16,-355,-704,406,-850,-376,-315,123,-840,-228,632,896,-966,531,766,713,725,838,-345,-994,-777,-732,983,536,620,757,-652,-19,-808,854,980,-66,492,-570,-913,237,-175,398,-266,-489,-117,911,-380,-940,417,184,464,-70,-653,246,54,776,552,-594,336,975,134,534,-610,-866,-353,-860,-568,597,499,85,-47,531,-732,152,324,-360,-767,487,-956,-743,526,-248,523,446,766,479,527,997,931,918,464,321,-539,157,550,469,-873,154,476,153,-855,950,-88,-781,547,357,192,-464,-198,-756,445,-488,748,-232,676,-608,-376,729,-456,-422,194,735,-881,-146,436,-942,-425,-879,-533,-656,-712,-154,449,-179,-748,204,188,-469,344,-530,704,-235,-893,596,404,602,302,619,-635,876,68,-938,611,-679,-931,147,572,745,-177,-486,911,-538,-614,-450,-581,-584,309,-880,758,-224,576,319,289,-938,-165,-54,882,226,940,-975,-398,801,-601,-537,223,655,-455,-824,609,275,-310,-29,730,-386,-555,-267,-328,105,598,841,434,-729,996,-995,-249,239,713,408,513,-579,-922,815,-214,308,651,-918,-608,337,-13,613,-579,117,374,339,-635,-221,-105,-341,-710,976,-918,-741,579,-383,-330,-977,-354,275,-452,-830,-584,-680,441,-52,792,-289,983,-25,145,950,612,-657,-682,869,114,-500,-838,1,-403,628,191,-604,-407,870,-116,-344,125,-97,783,76,-742,-256,-310,672,947,-420,114,862,495,840,-335,834,506,-452,534,-710,-974,702,-530,446,625,567,-646,-660,-528,-493,-644,-887,727,-278,316,938,-754,651,-710,-85,-36,-763,-872,-705,743,922,676,-857,531,-560,-770,-274,-946,595,-203,-317,634,747,-214,-964,12,-815,419,464,-918,-989,-233,-675,-661,-790,919,760,-729,-84,-103,436,-789,-462,-961,266,-553,910,-466,-819,-847,791,188,162,-181,292,-573,772,-393,-22,586,-14,709,-835,155,316,169,660,-230,827,-354,-77,-148,-847,695,841,-861,-53,-857,49,900,265,-446,924,883,-66,-770,464,-134,290,-743,-830,843,-12,87,256,764,-79,297,-536,-107,967,492,60,-329,77,708,-257,857,568,862,841,-585,381,-31,289,927,-121,-822,98,318,290,732,125,-554,159,602,792,622,300,-314,-739,394,-878,33,143,717,-456,664,-358,496,929,256,334,151,800,-503,-102,738,-389,0,467,-36,-196,603,121,715,300,-963,-777,-943,747,250,-559,824,863,-846,890,834,-245,-211,870,-483,901,493,567,803,217,540,891,-22,728,755,885,-380,217,740,-976,-994,-641,-225,-135,551,346,-780,40,920,-372,312,-293,-360,494,15,257,368,58,-716,-589,362,88,458,321,350,-568,-881,-36,553,37,304,330,-351,-181,432,-772,-4,266,-211,630,-123,336,-381,538,546,799,317,2,-810,598,-528,-218,585,-346,-252,-865,-320,786,-643,-874,-398,-388,726,-995,-913,810,-242,372,-565,-123,-809,399,397,-648,-932,511,666,561,628,721,981,954,-257,840,-158,804,95,992,643,963,-650,20,-607,619,956,920,-600,-148,974,-188,632,-102,284,928,229,260,-764,-548,865,-202,688,-338,242,771,159,712,-47,-405,144,-834,289,951,847,-120,-19,984,219,119,807,-471,-693,-271,731,-1000,740,-266,909,-314,234,-881,188,-408,429,760,751,989,-568,-87,577,596,655,-66,562,-280,837,-934,-733,-951,941,571,-138,-48,402,-66,-584,-964,-332,723,808,324,174,-233,-861,-439,-605,128,-217,988,294,-174,378,-850,-492,802,96,-394,491,513,-693,-65,337,873,-773,-119,-187,-428,-949,-884,-434,127,348,173,-289,307,254,-294,-718,-759,-627,-61,-825,265,992,15,221,-78,939,-376,-92,174,-117,22,287,237,209,-303,428,-593,575,525,-551,658,748,542,-185,558,664,284,463,-80,529,534,964,-282,-527,-387,743,-59,-676,593,244,-21,178,-246,16,-53,402,-592,327,-47,-866,-981,-69,-163,-780,262,-907,514,347,285,-995,425,-619,-226,-70,612,-986,-55,-492,-531,945,-123,-229,-24,979,759,-27,-940,-240,-797,-357,-935,435,-696,-255,397,996,-18,638,-92,942,-941,-423,27,471,-467,-440,-782,-329,-751,826,-571,358,-153,-341,818,-257,-228,-104,-829,-683,-278,-60,-427,-818,-874,277,-360,-882,-194,787,583,-810,-858,96,-7,546,73,673,760,-482,-766,-206,-144,436,-715,572,-213,-134,-572,-623,730,324,-65,-615,92,-229,-468,-438,618,922,994,23,821,386,-182,347,-935,619,311,-638,798,270,671,679,-114,-519,355,128,98,-167,-721,-523,92,-463,-885,-108,-881,-805,710,852,60,9,745,-940,822,-156,-148,-225,702,313,111,231,-154,-874,622,875,-260,301,473,-944,-460,857,-807,-232,-903,228,935,-456,-657,661,-811,306,415,413,-160,621,715,215,787,-203,949,197,712,-283,364,615,392,227,516,-978,-172,531,693,-266,-207,402,-563,293,583,470,-164,-532,517,688,969,650,513,-404,555,932,772,390,461,570,-573,-272,-800,-461,665,-660,270,-708,-177,528,-464,592,223,-587,-67,-49,499,-75,933,-664,517,-119,437,-766,-653,-908,877,520,714,295,37,620,238,845,-105,-159,36,-157,124,-437,756,528,-184,-246,746,267,890,59,-958,394,-78,838,-115,282,-393,64,659,265,998,377,315,70,65,175,327,504,-265,-651,205,803,-839,-762,-611,-315,-134,-154,199,337,626,52,-991,-331,-57,-689,686,-112,-433,-272,903,717,-491,531,84,-977,386,509,-457,-33,458,354,-74,-737,-321,-53,-531,-534,-213,-147,547,-989,784,-560,775,442,-754,-417,883,370,-112,673,406,-826,780,133,-394,917,-646,142,-477,-964,851,-16,-246,958,635,888,11,-739,729,623,596,803,-639,186,-308,119,606,-35,-428,-625,612,-938,74,433,925,-866,984,683,-657,370,578,135,-954,348,-792,687,452,356,124,696,574,267,-505,141,527,454,739,-37,715,576,765,533,-972,-822,809,-405,718,973,-133,-181,-875,-466,90,-801,577,-488,-149,-33,-919,662,-766,929,812,737,-591,-231,258,-990,-925,21,-763,-873,474,901,983,762,-259,586,-862,-680,-485,-191,-344,-841,713,141,-515,-547,-541,-517,-544,-314,269,580,15,797,-496,62,-357,-615,58,987,127,285,-112,-802,-23,111,-927,704,-64,-385,-614,-397,510,155,938,91,-535,-761,261,-18,87,-321,748,-114,-168,-391,3,1,38,-988,494,-968,516,498,207,361,691,972,-844,497,824,-741,207,-690,-175,-847,219,-385,-471,391,436,642,423,-5,-201,929,-855,571,413,-398,569,-32,378,460,-103,177,910,716,641,-242,-327,11,-2,-878,431,918,728,327,798,-91,971,356,476,701,-107,-670,447,984,-928,251,394,-709,-924,-274,976,855,-613,914,423,574,880,293,-589,-870,-876,636,-880,-321,-128,-303,394,24,-989,-285,-716,251,399,-294,-432,-966,-607,146,580,-439,57,62,-267,-38,-163,106,-216,455,857,-157,-682,464,257,502,-165,121,-218,-628,993,-642,-355,176,-191,2,683,726,23,871,-552,-158,-848,496,514,377,855,498,-142,462,218,789,411,-730,432,-126,-939,746,-789,318,746,-801,588,407,546,-817,-698,-529,491,960,-975,-261,-73,421,433,-462,364,-80,61,2,-667,-556,-971,-367,-238,-255,-992,433,968,-856,-849,502,-529,-599,851,462,-866,168,251,263,-449,373,182,-888,397,560,-531,180,-866,298,-246,-141,506,-363,-309,23,373,-818,440,-142,-106,316,818,-659,743,-185,741,35,-572,-678,148,-503,-876,44,-773,120,114,-584,29,-165,93,-473,736,814,280,-921,168,-167,-177,-617,-614,195,-72,-25,-579,649,-762,-894,909,-111,158,-149,-817,-257,373,-762,-52,122,-612,-677,843,109,16,789,-203,122,-729,-987,-388,595,-638,964,-936,-512,184,-505,447,-206,342,-394,-717,-887,-124,-38,914,438,418,168,-767,-412,850,256,963,716,57,370,509,-733,-496,-666,960,227,8,176,-648,933,-622,-966,-416,-411,463,595,745,99,33,-965,934,884,-253,321,-384,-154,299,-927,109,-232,356,27,-114,501,-649,504,-410,-187,-341,-34,-774,189,850,496,-632,-262,931,-557,758,-818,-966,506,262,-201,-616,395,231,524,259,740,690,352,-547,988,-959,-848,638,-96,690,-327,362,-195,642,822,413,-296,974,865,931,-584,746,-146,24,354,725,45,-694,603,2,-918,-218,432,-19,239,-476,908,507,-268,695,412,-812,127,-914,-992,822,-703,558,-75,773,-313,622,534,-938,516,172,-803,214,-88,300,-911,5,-60,-56,670,-667,-980,481,-613,-556,222,-530,-901,-16,969,658,-765,727,793,-508,-980,579,-107,-363,-315,107,522,322,-576,-554,131,-395,-243,671,59,645,924,949,-951,-932,-962,-890,354,773,-389,-297,315,615,-767,-378,572,-163,968,391,853,-580,543,375,-823,-563,-333,575,-63,-223,756,-177,-111,-892,-461,-199,-954,-47,650,-243,37,890,495,-556,-139,199,-260,-400,500,-399,296,-79,-255,168,-381,-789,-404,425,-396,802,-514,971,-912,-962,-375,-261,-542,323,810,-320,-579,690,-582,118,-52,-296,719,859,574,-839,925,616,863,695,-552,-996,485,-210,-61,-252,-506,-327,554,-674,-775,310,727,715,16,-510,460,-1,-234,-841,391,841,-549,876,40,501,0,-630,310,373,-834,-196,-5,-168,373,-662,-923,-249,-899,717,-909,199,113,37,-145,-404,847,534,-251,893,-144,180,182,918,883,419,390,167,-985,-900,13,908,722,-646,-766,761,-652,516,330,352,281,666,-358,-672,-915,-67,493,-292,-64,-454,-216,325,-480,655,956,-385,-609,-538,-842,-100,838,-489,-706,519,414,199,55,-109,5,-569,99,-461,-178,-170,-713,583,-817,-864,765,-34,703,17,-531,784,-324,-333,317,-906,-883,923,995,896,-382,-455,-888,-942,-793,-549,-495,-658,-18,347,-689,-817,590,-848,-112,-36,-213,-39,-670,-430,-380,-549,-339,667,-23,-627,-52,202,221,-97,-355,-470,343,-942,-120,956,-127,326,539,-15,-189,567,446,427,253,509,703,-344,-535,-37,646,289,-160,523,-308,247,520,-870,-81,79,303,-481,549,-209,-65,894,64,959,-883,-499,729,-652,644,-416,-612,-422,525,287,92,91,713,639,-138,-947,-771,135,-254,-979,-131,724,612,878,520,-907,732,-432,-576,-879,-543,-387,371,955,-988,-702,-832,506,755,977,529,-231,401,683,401,301,232,-1000,18,113,793,963,-778,532,27,914,-461,-565,-483,-540,279,-260,129,-735,388,128,103,-499,-58,619,944,-109,-618,-71,550,452,529,53,-756,986,-101,718,-401,454,-807,63,-415,180,-79,-942,75,-991,923,761,-325,-213,176,-198,295,794,-141,686,956,930,846,565,-713,165,-486,669,377,-611,669,319,615,415,-233,40,-690,834,-944,495,414,23,-678,765,164,-822,-365,-81,-859,-706,-926,492,668,-678,-387,-616,610,697,-181,-897,412,121,446,618,144,538,-402,-657,701,528,-393,647,-305,-987,991,771,-453,-459,912,-603,-113,906,295,861,294,481,-362,867,947,-8,-721,-211,16,63,834,722,708,309,876,495,372,961,-387,947,56,-764,460,732,11,-582,604,-488,-563,-907,161,-550,304,-600,-319,112,930,-833,267,540,958,453,-600,-257,-878,847,-350,-464,123,688,484,192,880,504,234,941,-871,-636,-956,316,91,-650,-336,-750,887,-157,233,960,-633,-979,887,479,-290,577,-546,-125,110,-534,-222,985,-279,522,729,-150,-345,-704,-61,-100,823,-702,449,-187,-64,-851,164,251,-685,-301,380,966,-498,-781,949,-57,344,23,57,51,769,-386,548,-909,-830,-863,950,43,684,188,-181,924,298,-623,-10,426,98,981,447,-263,32,-104,27,-206,74,34,682,-259,235,91,369,-232,-493,-355,-62,-460,12,110,-422,513,-558,669,710,-406,-964,790,923,-936,-565,-410,-991,-962,285,903,444,-13,648,998,920,-912,901,-661,-720,-979,-542,85,-804,523,595,-396,480,-997,-611,-121,39,-227,-372,477,-426,-204,636,872,303,45,352,-697,185,160,516,-89,57,631,-840,-511,-395,-866,383,-458,188,-569,-321,861,-937,716,192,57,-50,-414,564,522,-169,494,-307,-745,-728,-990,-711,853,-139,597,-247,68,-759,-833,-245,400,-327,-94,-708,-602,-884,-442,-441,-817,-724,-560,751,-321,-887,-669,663,710,359,-344,149,448,589,-894,934,115,25,-709,-145,40,49,383,-892,-87,-247,-536,67,914,-931,-869,-683,-301,-918,-82,-672,435,-798,-438,-847,248,185,26,977,-784,-655,-587,109,-152,-634,-733,-677,839,-766,190,589,-717,-526,567,-482,-190,-966,884,497,-119,-671,-923,-328,840,332,498,-653,-442,-412,-556,-767,115,887,377,-338,-579,397,-969,537,831,-847,-426,585,990,-421,463,-35,-800,605,585,-969,286,-913,-897,577,951,-310,-575,-588,273,486,-290,-384,-132,-760,371,-66,86,-448,-981,24,-492,325,424,479,306,-149,567,-269,310,226,325,287,-787,-447,691,-310,128,895,506,-608,741,-388,264,784,-800,687,383,-264,-563,-478,-808,-906,-522,379,603,981,-69,-458,-390,-363,-509,136,-511,652,-19,-329,265,973,-780,-364,360,-1,-981,869,571,644,939,717,-260,289,205,-432,-126,-937,4,-382,293,805,-753,-216,-152,191,805,-86,-866,-1000,266,332,541,493,-89,-70,-204,845,-289,857,-394,848,822,-165,-682,-460,162,-222,573,263,-610,825,106,-796,-536,-445,-807,638,514,398,599,59,-87,-424,5,316,949,10,-267,703,579,437,-814,-429,-283,499,771,-666,-876,-240,21,923,-229,-540,167,754,376,425,110,-849,574,-207,-589,-645,-747,-435,465,-583,-71,780,-269,-43,-398,598,-900,-24,-309,909,981,-282,21,645,581,750,609,572,-836,-322,-896,312,675,-115,-233,-909,-960,-178,986,-298,864,387,880,785,420,-900,887,313,-590,-22,132,-256,698,-798,-697,493,485,-282,153,875,631,-260,445,788,-86,151,713,841,-784,533,646,520,-35,-127,856,-512,-278,-148,510,918,-888,-492,-691,-96,675,28,-185,-489,924,664,697,-367,-699,379,-245,108,642,894,922,-585,984,-592,812,-828,118,278,582,-810,238,-622,-932,361,454,-752,4,91,-195,976,-157,-7,-372,-864,271,760,99,788,-954,500,-547,-925,890,306,-852,-831,-337,-891,-729,-526,-130,-803,-111,165,-122,-666,-864,-298,-463,-321,-592,-714,625,-422,-714,135,946,-955,-951,542,955,-639,689,92,-371,-934,89,-348,617,-691,-966,674,127,-1000,792,584,-123,211,37,-844,568,354,-862,314,183,999,-955,508,-317,880,-366,935,-925,259,-627,-195,-542,-143,-593,285,782,970,-791,878,544,-332,-328,285,328,298,765,-581,-920,74,570,-991,916,-211,712,-46,-630,-500,-29,706,890,-473,640,-275,19,897,-887,93,-181,-611,-313,92,727,-703,580,928,-267,128,-894,126,-281,34,965,-961,238,-894,-83,860,158,-434,808,87,498,-890,671,846,-873,-211,-628,-637,-813,-270,-573,99,211,-358,-23,-564,-181,314,716,678,530,-937,306,-18,-397,699,-253,-393,-831,647,-186,810,537,294,689,848,-532,-198,-753,-749,372,657,492,-802,-178,169,826,-379,85,60,456,-52,-340,-292,550,170,-391,947,513,233,-377,-667,-48,-735,495,145,-59,-701,801,620,-837,-676,334,379,-452,-45,200,-444,-893,217,118,-487,688,-427,364,-315,224,-591,-436,-784,818,-140,765,673,-947,469,-161,-186,-44,-139,40,-744,-679,-853,719,452,412,-280,-528,-146,-217,770,-167,-662,-436,306,-756,755,-800,-608,-66,-530,887,-618,611,-661,-19,-871,-793,403,-590,741,167,458,431,-239,486,944,978,511,-210,382,161,613,802,769,302,150,-506,-182,-174,586,131,833,296,413,75,465,730,-645,620,-732,891,-18,98,570,531,723,-14,-582,639,325,-784,82,40,-483,17,986,-815,162,-430,767,-488,161,427,465,801,-384,-872,-705,-448,420,754,785,-81,-840,-200,-3,-646,-756,793,-474,-787,549,-627,-228,-49,-7,-284,-336,-632,602,5,-339,111,665,244,792,873,-14,796,273,884,-71,-388,-692,-295,409,-587,-319,835,-209,-498,724,-505,851,505,-39,-210,539,-23,597,573,819,-780,613,860,-545,488,554,-784,-299,-50,-943,611,-848,884,785,511,-73,102,98,297,551,-41,-792,-997,392,-550,-492,821,-227,-967,-756,220,846,-503,-906,915,852,897,269,203,-764,943,210,-685,-916,725,422,976,-599,-690,-697,-988,-477,-510,-707,432,-999,-414,688,391,-722,-390,-304,-929,-730,740,-221,564,319,431,421,-114,416,823,-138,-733,-143,702,380,-860,-214,-161,-577,-930,922,-835,-831,-327,-924,-875,99,2,400,-546,-62,515,-691,324,211,912,-774,726,848,-926,-385,-392,-910,-684,-418,794,141,-892,525,483,-211,602,644,743,93,665,-219,-913,-478,575,831,-288,873,743,-372,-226,-194,23,-207,251,507,877,357,-244,988,380,135,-523,-99,688,-924,-940,-731,934,-732,-644,986,-379,907,-185,-160,909,-755,415,-201,-836,969,-54,-866,-842,953,-345,-82,98,998,185,-583,-837,224,-497,867,51,-849,-332,-778,833,979,779,-986,-657,-72,763,-45,-409,659,686,148,-593,-266,-806,50,719,-375,-633,760,577,572,-204,539,-573,-245,45,-181,-153,-721,478,-386,-951,660,-74,89,303,424,-350,584,534,-699,989,-922,-743,-452,827,739,-243,-811,927,713,-12,-404,-181,-901,-849,-123,-574,-704,-252,-208,190,844,-920,-139,-640,71,139,-302,-169,440,482,702,854,68,663,850,-469,271,860,-795,442,-18,435,-2,-417,968,898,-317,-885,156,-182,619,904,-418,-733,971,270,-243,-39,531,356,980,-587,-301,883,-572,988,122,-635,-622,655,-680,-500,926,71,340,-582,496,427,-614,655,640,-745,-725,-103,231,-472,-661,577,-398,-951,-410,770,-9,-893,751,206,-425,-19,715,-502,-609,-774,224,206,-304,51,-824,-759,-11,-362,-538,-452,-47,-494,178,573,763,604,755,819,549,161,-440,-936,-318,-324,742,-166,718,922,-882,816,-738,785,-606,-57,389,-210,892,-297,299,-318,187,-276,367,375,219,546,19,-501,-755,526,-246,-266,140,-791,-379,187,270,-316,724,19,500,-281,-390,202,268,75,-923,-380,909,48,-115,-42,389,845,808,578,-148,-108,-511,420,357,-44,-974,-313,-855,874,-834,725,475,-926,-985,725,-370,-332,529,515,-317,-277,-731,534,-83,-9,538,5,890,771,-78,-556,199,-582,583,-571,-465,-294,-650,434,-558,991,-669,714,-620,3,-605,-804,451,643,455,-982,148,-244,-981,973,-951,587,-849,447,-895,-495,354,318,-614,-149,893,-142,-649,468,-639,-772,-314,-76,317,-479,-785,-765,582,-1000,-920,460,26,811,625,185,-194,523,-817,-604,-805,-829,-657,920,480,-924,58,728,-824,-428,558,-752,277,369,-884,342,15,-37,374,-565,-602,-736,-850,78,-702,-328,-862,68,-893,199,607,269,-242,85,778,-615,-348,-979,53,453,339,-206,429,109,-432,544,948,558,-667,-92,469,462,-280,512,350,-928,-546,-646,237,403,326,-662,-163,212,771,-459,-660,-903,33,-596,-137,-63,538,-592,-765,436,660,153,-442,267,31,-334,-800,508,-653,-800,682,46,281,-382,-487,884,856,343,438,346,407,857,-582,-689,580,146,995,-271,-310,968,-274,-787,575,826,-818,10,765,339,541,-438,-401,-931,-770,-83,117,-979,402,190,882,-669,95,572,-845,38,846,-593,653,279,-339,633,382,-273,-80,104,-640,-303,-929,568,189,652,-953,391,878,-6,-792,552,-609,669,529,130,-911,966,989,-309,-102,-188,71,780,-85,-226,149,790,-773,38,-368,-870,159,566,629,-484,108,767,243,445,479,508,10,-377,792,132,917,-646,581,110,-925,-98,571,-910,316,176,944,548,-757,-762,801,-369,766,200,-693,966,754,-243,959,-372,231,417,840,-731,324,613,-673,-983,11,57,607,55,-68,668,-53,-120,957,976,267,-743,-286,-179,-12,-420,-656,889,625,371,-931,-103,990,360,706,-82,-902,-349,167,-20,-582,203,-853,-154,394,-931,-116,-602,357,533,-373,275,-389,929,-16,-834,-125,672,717,-650,681,166,83,-191,316,-450,-362,634,-255,166,-444,-746,-195,785,134,842,951,-88,-357,409,-520,-342,35,-555,-585,801,-263,-233,-398,-139,323,109,417,772,737,-105,-559,-82,-58,-608,-214,153,790,-992,-761,-822,90,378,-160,-5,-292,-22,211,702,336,-230,874,754,-941,-950,669,-471,-769,226,-162,383,775,-924,222,-760,34,-175,-79,-232,-310,-919,-857,-187,-669,-137,-203,-286,901,762,-133,-43,141,100,79,72,294,164,134,563,-277,-715,-11,-482,545,737,-247,470,120,-751,211,824,-346,-449,659,-902,650,-131,-54,-625,-176,544,-519,-55,-488,318,-225,-95,-23,429,582,659,453,417,-254,768,489,2,-94,-812,131,-994,-735,914,425,722,-330,-135,767,-858,-809,514,-591,45,-786,46,411,933,-666,569,-682,-351,423,-304,880,883,-271,913,-199,-458,-776,958,-253,-726,-968,-797,559,313,842,764,-465,-747,-60,-371,-202,-45,265,365,706,961,180,-808,300,475,-423,-352,903,-400,-872,21,-782,852,-640,-335,643,732,794,92,61,-719,576,-337,464,943,-328,506,681,620,973,-184,-905,923,282,111,321,356,665,-124,-190,-153,611,530,208,161,509,-983,264,438,176,180,233,540,-563,-352,-501,428,200,678,194,-414,-449,482,-701,235,-779,929,-174,462,-912,263,659,260,265,706,-335,-584,322,78,-576,-587,276,-648,-272,-165,-96,2,-388,-487,640,302,103,-117,958,-52,875,-480,266,-821,-226,-915,-164,-396,-122,458,-803,-640,296,523,-656,-594,-705,-692,91,-783,759,821,-150,-419,-400,523,-598,-924,380,655,786,-272,-125,-595,-166,-821,461,470,-750,506,-597,-705,-901,27,162,338,248,-753,-710,-678,47,-323,-447,983,368,378,-833,905,-539,-37,787,976,-836,214,-907,-149,-656,-853,849,299,-450,-140,-461,-134,-394,208,-657,-851,283,-59,-567,-670,780,54,947,-930,214,-744,-974,378,-962,981,-120,-326,-800,-910,-270,-458,-480,58,-720,326,45,614,891,742,402,-325,415,-844,993,465,-211,-678,644,-742,-341,-940,812,-356,-885,769,719,-64,-481,42,715,-653,-350,23,151,-463,762,-727,-773,264,767,928,189,-192,-873,102,433,86,-316,-722,319,555,-268,-912,674,347,2,-305,264,465,623,-374,-620,-331,698,604,707,682,876,-96,-709,-387,-614,73,-601,466,338,-510,-175,744,220,728,-867,-159,498,-493,-900,-682,621,471,223,-576,-935,-799,582,-483,688,-468,-704,569,663,-36,-419,-787,734,-317,798,-361,-21,510,-929,-166,277,-577,-173,524,-951,55,423,851,-459,825,78,-363,-882,-499,185,-316,750,441,117,-532,973,-169,255,527,712,-800,-111,203,841,420,-906,-741,685,-334,-766,-525,721,640,248,663,122,460,-332,971,119,312,-189,264,-225,-937,545,-809,397,-183,505,-832,959,-656,-789,33,-341,-93,829,801,-862,-547,22,451,-52,-185,-472,-134,-272,240,-448,701,-529,158,314,-171,333,489,641,-431,690,-580,-306,23,760,-866,-351,-252,355,864,-739,529,-651,-12,982,-865,-33,-597,337,-455,-418,847,-112,-732,-678,159,925,-211,843,376,426,806,613,78,225,995,897,-327,-30,-474,-171,184,-69,-682,-766,180,571,176,-315,164,-363,852,-874,-606,-404,-88,581,452,639,668,-551,517,-646,152,-403,648,254,428,-856,587,617,345,731,-84,-115,886,637,-527,281,-962,-332,-381,-483,728,59,-576,101,689,917,381,-734,936,541,-832,538,-693,-596,204,-506,516,-458,-741,-496,600,401,-716,910,329,129,128,772,971,620,384,-293,-105,-313,469,-726,-735,-37,-738,-161,298,946,366,-113,-706,-817,269,-975,-953,447,-293,305,-544,-770,929,427,521,-324,-579,-176,78,201,822,793,-11,-231,830,293,196,521,591,-63,153,726,-194,618,-613,-179,-617,-163,930,330,-47,438,370,314,-305,101,-842,-726,7,797,-824,653,954,-299,-421,-619,735,929,870,189,-230,480,324,971,-726,-377,-169,106,-939,-276,484,-854,696,653,-708,-928,-923,447,220,243,-642,853,-343,-491,-930,-718,-561,-208,405,179,471,672,690,-891,442,-419,60,-438,722,101,-346,-30,-550,-990,970,-279,-787,-904,-70,-61,244,-558,-417,-575,-147,-894,-850,37,781,24,-569,-49,977,355,324,-706,102,568,7,-758,-58,678,-219,331,-415,-564,-893,313,-697,118,-826,498,170,990,-86,-924,793,284,-952,254,-142,-79,166,-394,-527,962,-526,998,-374,593,414,-276,221,-363,890,148,52,-739,569,421,-844,-656,-223,-675,408,301,-598,747,-392,30,-158,13,-213,121,-34,478,-303,436,420,581,867,751,-378,487,-242,-350,720,240,-967,989,995,409,636,-238,8,918,-748,520,-616,-869,547,936,71,-43,297,499,-56,-288,-107,886,-482,-400,838,57,719,956,-222,-703,-206,738,-797,-506,-668,429,-844,-125,-353,964,-438,97,-655,756,927,873,615,434,-581,533,-961,753,718,425,-999,-662,208,219,818,-782,-182,8,-247,415,-684,10,-232,432,193,92,-505,402,312,630,-502,446,-483,-442,-860,-560,866,-495,529,383,-870,-681,677,12,-358,-37,-701,613,763,-913,391,707,63,-748,623,315,463,-710,-53,-732,-804,36,835,-583,-946,448,596,453,-186,107,993,-103,304,162,-748,693,-120,508,-233,104,-973,-281,-55,833,951,-333,820,7,-260,892,-407,112,-392,909,-394,-794,-624,79,879,-53,469,-1000,12,370,-687,579,509,-986,11,-504,605,953,-342,474,-373,-935,385,-973,-500,59,30,-716,-714,-478,77,767,133,-986,70,522,746,-992,-215,-442,-514,219,192,102,80,-207,744,316,-196,-832,-16,55,-641,-774,127,800,-860,518,-329,-192,227,894,374,-396,-21,-101,663,-361,74,-830,451,144,-231,-441,-306,-555,549,625,901,373,787,24,-745,419,-45,-378,-796,981,268,100,835,88,675,-988,213,-27,-361,-533,980,441,148,-857,999,-679,379,458,-494,559,-359,-957,-584,283,-270,-858,-935,872,776,338,-89,-408,850,-941,416,951,-353,156,599,754,569,296,678,124,-246,-102,604,143,559,-419,873,812,-724,-338,-785,308,791,47,238,172,526,-556,731,-749,542,-906,-795,-220,289,44,-266,-134,725,839,710,-240,715,-661,-304,-57,641,-523,53,-131,-613,709,-87,-442,465,187,-220,-32,570,995,-649,44,610,-23,823,691,-433,995,-562,-373,354,103,-192,799,761,-130,-867,561,616,-969,-846,447,-502,-340,258,-554,-724,773,-144,228,713,-859,242,-144,-235,73,926,-745,-438,392,69,520,-722,-412,-472,8,-29,-313,-545,847,-379,363,-215,-198,982,-134,360,-901,231,193,-790,-164,98,-695,-509,-124,751,884,995,990,775,-46,-87,-886,849,-93,-205,-242,439,-175,929,471,812,-990,-299,449,978,-781,-576,-977,75,427,500,702,160,-440,156,631,620,692,167,-890,50,927,-762,-466,-237,102,-506,-458,553,987,-845,-239,818,295,-706,-983,426,-427,416,-509,534,-262,-729,-627,-489,-214,638,817,-589,152,589,-457,342,-168,-567,-927,280,419,-502,30,495,-805,772,-824,293,-398,-745,29,-898,-987,502,524,927,544,268,-204,-396,-651,-181,-679,-38,458,-517,-753,652,536,-233,45,272,-298,509,396,-590,245,-152,-304,-747,-221,262,-346,-452,-185,-680,-108,-590,190,105,401,558,-668,-319,511,295,913,-637,-833,231,-965,978,-598,-542,-818,928,-904,-201,131,-575,-944,-852,-647,895,563,-261,-369,254,-182,112,-54,705,-323,562,-65,776,-707,414,827,-187,-280,623,488,-461,600,-265,756,-841,-545,904,787,-866,-154,-454,40,-28,933,-295,-254,520,65,699,-178,110,-740,-711,-897,663,-755,-422,-327,947,-500,460,555,755,425,296,-503,-635,493,589,-767,375,-345,-870,-405,497,309,777,-26,481,-44,857,239,-173,424,510,-579,-605,713,57,-342,984,864,-371,-151,-740,-485,820,973,356,-569,700,-937,-9,830,-203,501,443,761,331,-224,-254,132,74,972,-1,444,-71,-874,-417,968,-104,-814,-995,-769,711,590,-114,-812,285,316,402,496,500,789,658,-442,144,675,168,-152,-288,-353,216,-477,144,-44,818,663,-164,946,-854,-522,-495,970,-523,836,424,954,888,335,-472,-730,128,-266,-834,210,700,210,711,-558,-211,122,573,-830,-933,434,-126,-483,947,-242,-547,-431,-917,414,-336,168,-289,-951,-421,399,869,400,614,329,-369,-504,888,829,-815,-940,940,665,-998,-154,248,460,669,431,559,226,-492,-326,545,-955,61,848,-350,653,950,813,-213,-493,-973,-126,-471,-58,-713,-443,-905,-273,-956,-986,-550,609,649,824,-144,857,440,264,-306,-688,-679,848,-370,-229,967,-664,909,-32,71,-769,459,-168,859,-942,984,393,918,-651,740,-749,871,112,766,-829,670,-205,419,-612,449,264,-753,-83,-920,704,-924,633,-863,-425,-419,402,349,801,-370,573,-647,116,-700,92,-640,29,473,11,-6,-536,862,-102,195,76,533,587,-35,45,-772,422,-47,194,156,254,281,951,870,-733,-568,-749,-756,166,-443,737,-147,-14,-998,487,944,-15,-272,557,-69,722,74,-631,729,5,-712,-236,-42,96,-165,41,473,-860,-971,668,-929,739,102,506,134,802,772,697,-180,-552,732,669,687,240,575,-567,-910,-32,-926,-912,-179,727,-779,751,-277,622,-357,550,965,-599,916,194,418,-993,634,646,14,-260,-850,-732,646,716,-805,984,804,578,31,628,-865,897,-153,646,-807,731,-720,-594,-698,423,88,-490,825,-915,143,185,359,582,-761,-503,-366,-547,-994,-418,570,343,290,-776,-316,779,-425,-983,173,1,-65,-498,238,485,-338,-342,-113,-896,213,-141,237,424,59,-415,406,22,-629,787,-703,-127,219,705,657,-829,330,-523,458,27,-826,735,-999,-629,574,694,-159,-83,-289,965,774,-39,541,226,816,-112,-186,-758,405,-366,-807,701,924,-486,40,-119,341,-7]\n",
    "#k = -682\n",
    "#nums = [0,0]\n",
    "#k = 0\n",
    "subarraySum(nums, k)"
   ]
  },
  {
   "cell_type": "code",
   "execution_count": 401,
   "metadata": {},
   "outputs": [
    {
     "data": {
      "text/plain": [
       "False"
      ]
     },
     "execution_count": 401,
     "metadata": {},
     "output_type": "execute_result"
    }
   ],
   "source": [
    "# Given a non-empty string s and a dictionary wordDict containing a list of non-empty words, determine \n",
    "# if s can be segmented into a space-separated sequence of one or more dictionary words.\n",
    "# https://leetcode.com/problems/word-break/\n",
    "\n",
    "def wordBreak(s, wordDict):\n",
    "    done = [True for i in range(len(s)) ]   \n",
    "    fullLength = len(s)\n",
    "    return helper(s, wordDict, done, fullLength)\n",
    "    \n",
    "def helper(s, wordDict, done, fullLength):\n",
    "    #print(s, done)\n",
    "    if s in wordDict:\n",
    "        return True\n",
    "    else:\n",
    "        for i in range(len(s)):\n",
    "            if s[0:i] in wordDict:\n",
    "                if done[fullLength - len(s) + i] == True and helper(s[i:], wordDict, done, fullLength) == True:\n",
    "                    return True\n",
    "        done[fullLength - len(s)] = False\n",
    "        return False\n",
    "    \n",
    "    \n",
    "s = \"leetcode\"\n",
    "wordDict = [\"leet\", \"code\"]\n",
    "s = \"applepenapple\"\n",
    "wordDict = [\"apple\", \"pen\"]\n",
    "s = \"catsandog\"\n",
    "wordDict = [\"cats\", \"dog\", \"sand\", \"and\", \"cat\"]\n",
    "#s = \"aaaaaaaaaaaaaaaaaaaaaab\"\n",
    "#wordDict = [\"a\",\"aa\",\"aaa\",\"aaaa\",\"aaaaa\",\"aaaaaa\",\"aaaaaaa\",\"aaaaaaaa\",\"aaaaaaaaa\",\"aaaaaaaaaa\"]\n",
    "#s = \"catsandogcat\"\n",
    "#wordDict = [\"cats\",\"dog\",\"sand\",\"and\",\"cat\",\"an\"]\n",
    "\n",
    "wordBreak(s, wordDict)"
   ]
  },
  {
   "cell_type": "code",
   "execution_count": 417,
   "metadata": {},
   "outputs": [
    {
     "name": "stdout",
     "output_type": "stream",
     "text": [
      "[0]\n",
      "(a(b(c)d)\n"
     ]
    },
    {
     "data": {
      "text/plain": [
       "'a(b(c)d)'"
      ]
     },
     "execution_count": 417,
     "metadata": {},
     "output_type": "execute_result"
    }
   ],
   "source": [
    "# https://leetcode.com/problems/minimum-remove-to-make-valid-parentheses/\n",
    "\n",
    "def minRemoveToMakeValid(s):\n",
    "    tmp = list()\n",
    "    for i in range(len(s)):\n",
    "        if s[i] == '(':\n",
    "            tmp.append(i)\n",
    "        elif s[i] == ')':\n",
    "            if len(tmp) != 0:\n",
    "                if s[tmp[-1]] == '(':\n",
    "                    tmp.pop()\n",
    "                else:\n",
    "                    tmp.append(i)\n",
    "            else:\n",
    "                tmp.append(i)\n",
    "    ans = ''\n",
    "    for i in range(len(s)): \n",
    "        if i not in tmp:\n",
    "            ans = ans + s[i]\n",
    "    return ans\n",
    "    \n",
    "s = \"lee(t(c)o)de)\"\n",
    "s = \"a)b(c)d\"\n",
    "s = \"))((\"\n",
    "s = \"(a(b(c)d)\"\n",
    "minRemoveToMakeValid(s)   "
   ]
  },
  {
   "cell_type": "code",
   "execution_count": 491,
   "metadata": {},
   "outputs": [
    {
     "data": {
      "text/plain": [
       "['i', 'love']"
      ]
     },
     "execution_count": 491,
     "metadata": {},
     "output_type": "execute_result"
    }
   ],
   "source": [
    "# Given a non-empty list of words, return the k most frequent elements.\n",
    "# Your answer should be sorted by frequency from highest to lowest. If two words have the same frequency, \n",
    "# then the word with the lower alphabetical order comes first.\n",
    "# https://leetcode.com/problems/top-k-frequent-words/\n",
    "\n",
    "def topKFrequent(words, k):\n",
    "    d = {}\n",
    "    for word in words:\n",
    "        if word in d.keys():\n",
    "            d[word] = d[word] + 1\n",
    "        else:\n",
    "            d[word] = 1\n",
    "    #print(list(d.keys()))\n",
    "    #sorted_words = sorted(d, key = lambda x: (d[x],x), reverse = True)\n",
    "    sorted_words_s1 = sorted(d)\n",
    "    sorted_words_s2 = sorted(sorted_words_s1, key = d.get, reverse = True)\n",
    "    #print(d, sorted_words_s2)\n",
    "    return( sorted_words_s2[:k] )\n",
    "    \n",
    "words = [\"i\", \"love\", \"leetcode\", \"i\", \"love\", \"coding\"]\n",
    "k = 2\n",
    "#words = [\"the\", \"day\", \"is\", \"sunny\", \"the\", \"the\", \"the\", \"sunny\", \"is\", \"is\"]\n",
    "#k = 4\n",
    "topKFrequent(words, k)"
   ]
  },
  {
   "cell_type": "code",
   "execution_count": 6,
   "metadata": {},
   "outputs": [
    {
     "data": {
      "text/plain": [
       "True"
      ]
     },
     "execution_count": 6,
     "metadata": {},
     "output_type": "execute_result"
    }
   ],
   "source": [
    "# Given two integer arrays of equal length target and arr.\n",
    "# In one step, you can select any non-empty sub-array of arr and reverse it. You are allowed to make any \n",
    "# number of steps. Return True if you can make arr equal to target, or False otherwise.\n",
    "\n",
    "def canBeEqual(target, arr):\n",
    "    dt = {}\n",
    "    da = {}\n",
    "    for i in range(len(target)):\n",
    "        if target[i] in dt.keys():\n",
    "            dt[target[i]] = dt[target[i]] + 1\n",
    "        else:\n",
    "            dt[target[i]] = 1\n",
    "        if arr[i] in da.keys():\n",
    "            da[arr[i]] = da[arr[i]] + 1\n",
    "        else:\n",
    "            da[arr[i]] = 1\n",
    "    if dt == da:\n",
    "        return True\n",
    "    else:\n",
    "        return False\n",
    "    \n",
    "target = [1,2,3,4]\n",
    "arr = [2,4,1,3]\n",
    "target = [7]\n",
    "arr = [7]\n",
    "target = [1,12]\n",
    "arr = [12,1]\n",
    "target = [3,7,9]\n",
    "arr = [3,7,11]\n",
    "target = [1,1,1,1,1]\n",
    "arr = [1,1,1,1,1]\n",
    "canBeEqual(target, arr)"
   ]
  },
  {
   "cell_type": "code",
   "execution_count": 14,
   "metadata": {},
   "outputs": [
    {
     "data": {
      "text/plain": [
       "'a(b(c)d)'"
      ]
     },
     "execution_count": 14,
     "metadata": {},
     "output_type": "execute_result"
    }
   ],
   "source": [
    "# Given a string s of '(' , ')' and lowercase English characters. \n",
    "# Your task is to remove the minimum number of parentheses ( '(' or ')', in any positions ) so that the resulting \n",
    "# parentheses string is valid and return any valid string. Formally, a parentheses string is valid if and only if:\n",
    "# It is the empty string, contains only lowercase characters, or\n",
    "# It can be written as AB (A concatenated with B), where A and B are valid strings, or\n",
    "# It can be written as (A), where A is a valid string.\n",
    "\n",
    "def minRemoveToMakeValid(s):\n",
    "    tmp = list()\n",
    "    for i in range(len(s)):\n",
    "        if s[i] == '(':\n",
    "            tmp.append(i)\n",
    "        elif s[i] == ')':\n",
    "            if len(tmp)!=0 and s[tmp[-1]] == '(':\n",
    "                tmp.pop()\n",
    "            else:\n",
    "                tmp.append(i)\n",
    "    res = ''\n",
    "    for i in range(len(s)):\n",
    "        if i not in tmp:\n",
    "            res = res + s[i]\n",
    "    return res\n",
    "\n",
    "s = \"a)b(c)d\"\n",
    "s = \"lee(t(c)o)de)\"\n",
    "s = \"))((\"\n",
    "s = \"(a(b(c)d)\"\n",
    "minRemoveToMakeValid(s)           "
   ]
  },
  {
   "cell_type": "code",
   "execution_count": 7,
   "metadata": {},
   "outputs": [
    {
     "data": {
      "text/plain": [
       "1"
      ]
     },
     "execution_count": 7,
     "metadata": {},
     "output_type": "execute_result"
    }
   ],
   "source": [
    "# https://leetcode.com/problems/baseball-game/\n",
    "\n",
    "# You are keeping score for a baseball game with strange rules. The game consists of several rounds, where the \n",
    "# scores of past rounds may affect future rounds' scores.\n",
    "# At the beginning of the game, you start with an empty record. You are given a list of strings ops, where \n",
    "# ops[i] is the ith operation you must apply to the record and is one of the following:\n",
    "# An integer x - Record a new score of x.\n",
    "# \"+\" - Record a new score that is the sum of the previous two scores. It is guaranteed there will always be \n",
    "# two previous scores.\n",
    "# \"D\" - Record a new score that is double the previous score. It is guaranteed there will always be a previous score.\n",
    "# \"C\" - Invalidate the previous score, removing it from the record. It is guaranteed there will always be a \n",
    "# previous score.\n",
    "# Return the sum of all the scores on the record.\n",
    "\n",
    "def calPoints(ops):\n",
    "    scores = list()\n",
    "    for c in ops:\n",
    "        if c == 'C':\n",
    "            scores.pop()\n",
    "        elif c == 'D':\n",
    "            scores.append(2*scores[-1])\n",
    "        elif c == '+':\n",
    "            scores.append(scores[-1] + scores[-2])\n",
    "        else:\n",
    "            scores.append(int(c))\n",
    "    return sum(scores)\n",
    "            \n",
    "ops = [\"5\",\"-2\",\"4\",\"C\",\"D\",\"9\",\"+\",\"+\"]\n",
    "ops = [\"5\",\"2\",\"C\",\"D\",\"+\"]\n",
    "ops = ['1']\n",
    "calPoints(ops)"
   ]
  },
  {
   "cell_type": "code",
   "execution_count": 65,
   "metadata": {},
   "outputs": [
    {
     "data": {
      "text/plain": [
       "[[],\n",
       " [1],\n",
       " [4],\n",
       " [1, 4],\n",
       " [4, 4],\n",
       " [1, 4, 4],\n",
       " [4, 4, 4],\n",
       " [1, 4, 4, 4],\n",
       " [4, 4, 4, 4],\n",
       " [1, 4, 4, 4, 4]]"
      ]
     },
     "execution_count": 65,
     "metadata": {},
     "output_type": "execute_result"
    }
   ],
   "source": [
    "# https://leetcode.com/problems/subsets-ii/\n",
    "\n",
    "# Given a collection of integers that might contain duplicates, nums, return all possible subsets (the power set).\n",
    "# Note: The solution set must not contain duplicate subsets.\n",
    "\n",
    "def subsetsWithDup(nums):\n",
    "    nums.sort()\n",
    "    ans = list()\n",
    "    ans.append(list())\n",
    "    for n in nums:\n",
    "        tmp = ans.copy()\n",
    "        for l in tmp:\n",
    "            if l + [n] not in ans:\n",
    "                ans.append(l + [n])\n",
    "    return ans\n",
    "        \n",
    "nums = [1,2,2]\n",
    "nums = [1,2,3]\n",
    "nums = [4,4,4,1,4]\n",
    "subsetsWithDup(nums)"
   ]
  },
  {
   "cell_type": "code",
   "execution_count": 111,
   "metadata": {},
   "outputs": [
    {
     "data": {
      "text/plain": [
       "9"
      ]
     },
     "execution_count": 111,
     "metadata": {},
     "output_type": "execute_result"
    }
   ],
   "source": [
    "# https://leetcode.com/problems/factorial-trailing-zeroes/\n",
    "# Given an integer n, return the number of trailing zeroes in n!\n",
    "\n",
    "def trailingZeroes(n):\n",
    "    res = 0\n",
    "    for i in range(5, n+1, 5):\n",
    "        cont = True\n",
    "        while cont == True:\n",
    "            if i%5 == 0:\n",
    "                res = res + 1\n",
    "                i = i/5\n",
    "            else:\n",
    "                cont = False\n",
    "    return res\n",
    "\n",
    "trailingZeroes(40)"
   ]
  },
  {
   "cell_type": "code",
   "execution_count": 4,
   "metadata": {},
   "outputs": [
    {
     "data": {
      "text/plain": [
       "2"
      ]
     },
     "execution_count": 4,
     "metadata": {},
     "output_type": "execute_result"
    }
   ],
   "source": [
    "# There is a row of n houses, where each house can be painted one of three colors: red, blue, or green. \n",
    "# The cost of painting each house with a certain color is different. You have to paint all the houses \n",
    "# such that no two adjacent houses have the same color.\n",
    "# The cost of painting each house with a certain color is represented by an n x 3 cost matrix costs.\n",
    "# For example, costs[0][0] is the cost of painting house 0 with the color red; costs[1][2] is the cost of \n",
    "# painting house 1 with color green, and so on...\n",
    "# Return the minimum cost to paint all houses.\n",
    "# https://leetcode.com/explore/featured/card/june-leetcoding-challenge-2021/603/week-1-june-1st-june-7th/3763/\n",
    "\n",
    "def minCost(costs):\n",
    "    d = [0, 0, 0] # costs red, blue, green\n",
    "    for h in costs:\n",
    "        dr = h[0] + min(d[1], d[2])\n",
    "        db = h[1] + min(d[0], d[2])\n",
    "        dg = h[2] + min(d[0], d[1])\n",
    "        d = [dr, db, dg]\n",
    "    return min(d[0], d[1], d[2])\n",
    "    \n",
    "costs = [[17,2,17],[16,16,5],[14,3,19]]\n",
    "costs = [[7,6,2]]\n",
    "minCost(costs)"
   ]
  },
  {
   "cell_type": "code",
   "execution_count": 71,
   "metadata": {},
   "outputs": [
    {
     "data": {
      "text/plain": [
       "20"
      ]
     },
     "execution_count": 71,
     "metadata": {},
     "output_type": "execute_result"
    }
   ],
   "source": [
    "# COMPLEX\n",
    "# You are given two integers n and k and two integer arrays speed and efficiency both of length n. \n",
    "# There are n engineers numbered from 1 to n. speed[i] and efficiency[i] represent the speed and \n",
    "# efficiency of the ith engineer respectively.\n",
    "# Choose at most k different engineers out of the n engineers to form a team with the maximum performance.\n",
    "# The performance of a team is the sum of their engineers' speeds multiplied by the minimum efficiency \n",
    "# among their engineers.\n",
    "# Return the maximum performance of this team. Since the answer can be a huge number, return it modulo 10^9 + 7\n",
    "# https://leetcode.com/explore/challenge/card/june-leetcoding-challenge-2021/603/week-1-june-1st-june-7th/3768/\n",
    "\n",
    "def maxPerformance(n, speed, efficiency, k):\n",
    "    import bisect\n",
    "    \n",
    "    zipped_pairs = zip(efficiency, speed)                   # zip both lists\n",
    "    ordered_pairs = sorted(zipped_pairs, reverse=True)      # sort by efficiency in reverse order\n",
    "    speed = [s for e,s in ordered_pairs] \n",
    "\n",
    "    sorted_speed_red = sorted(speed[:k])\n",
    "    mx = sum(sorted_speed_red)*ordered_pairs[k-1][0]\n",
    "    for i in range(k, n):\n",
    "        tmp = ( sum(sorted_speed_red[1:])+ordered_pairs[i][1] )*ordered_pairs[i][0]\n",
    "        if tmp > mx:\n",
    "            mx = tmp\n",
    "        bisect.insort(sorted_speed_red, speed[i]) # insert new speed into array\n",
    "        sorted_speed_red.pop(0)  # delete lowest speed\n",
    "    return( mx )\n",
    "    \n",
    "n = 3\n",
    "speed = [2,8,2]\n",
    "efficiency = [2,7,1]\n",
    "k = 2\n",
    "maxPerformance(n, speed, efficiency, k)   "
   ]
  },
  {
   "cell_type": "code",
   "execution_count": 67,
   "metadata": {},
   "outputs": [
    {
     "name": "stdout",
     "output_type": "stream",
     "text": [
      "[[2, 2]]\n",
      "[[2, 2], [0, 0]]\n",
      "[[2, 2], [0, 0], [3, 0]]\n",
      "[[2, 2], [0, 0], [3, 0], [0, 0]]\n",
      "0\n",
      "0\n",
      "0\n",
      "2\n"
     ]
    }
   ],
   "source": [
    "# Design a stack that supports push, pop, top, and retrieving the minimum element in constant time.\n",
    "# Implement the MinStack class:\n",
    "#    MinStack() initializes the stack object.\n",
    "#    void push(val) pushes the element val onto the stack.\n",
    "#    void pop() removes the element on the top of the stack.\n",
    "#    int top() gets the top element of the stack.\n",
    "#    int getMin() retrieves the minimum element in the stack.\n",
    "# https://leetcode.com/problems/min-stack/\n",
    "\n",
    "class MinStack:\n",
    "    \n",
    "    def __init__(self):\n",
    "        \"\"\"\n",
    "        initialize your data structure here.\n",
    "        \"\"\"\n",
    "        self.stack = []\n",
    "        \n",
    "    def push(self, val):\n",
    "        if len(self.stack) == 0:\n",
    "            self.stack.append([val, val])\n",
    "        else:\n",
    "            if val < self.stack[-1][1]:\n",
    "                self.stack.append([val, val])\n",
    "            else:\n",
    "                mn = self.stack[1][1]\n",
    "                self.stack.append([val, mn])\n",
    "        print(self.stack)\n",
    "            \n",
    "    def pop(self):\n",
    "        self.stack.pop()\n",
    "        \n",
    "    def top(self):\n",
    "        print( self.stack[-1][0] )\n",
    "    \n",
    "    def getMin(self):\n",
    "        print( self.stack[-1][1] )\n",
    "    \n",
    "        \n",
    "minStack = MinStack();\n",
    "minStack.push(2);\n",
    "minStack.push(0);\n",
    "minStack.push(3);\n",
    "minStack.push(0);\n",
    "minStack.getMin(); \n",
    "minStack.pop();\n",
    "minStack.getMin(); \n",
    "minStack.pop();\n",
    "minStack.getMin(); \n",
    "minStack.pop();    # return 0\n",
    "minStack.getMin(); # return -2        "
   ]
  },
  {
   "cell_type": "code",
   "execution_count": 5,
   "metadata": {},
   "outputs": [
    {
     "data": {
      "text/plain": [
       "'1000'"
      ]
     },
     "execution_count": 5,
     "metadata": {},
     "output_type": "execute_result"
    }
   ],
   "source": [
    "# Given two binary strings a and b, return their sum as a binary string.\n",
    "# https://leetcode.com/problems/add-binary/\n",
    "\n",
    "def addBinary(a, b):\n",
    "    res = ''\n",
    "    prev = 0\n",
    "    for i in range(1, max(len(a), len(b))+1):\n",
    "        if i <= len(a) and i <= len(b):\n",
    "            tmp = int(a[-i]) + int(b[-i])\n",
    "        elif i <= len(a):\n",
    "            tmp = int(a[-i])\n",
    "        else:\n",
    "            tmp = int(b[-i])\n",
    "        tmp = tmp + prev\n",
    "        if tmp == 2:\n",
    "            res = '0' + res\n",
    "            prev = 1\n",
    "        elif tmp == 3:\n",
    "            res = '1' + res\n",
    "            prev = 1\n",
    "        else:\n",
    "            res = str(tmp) + res\n",
    "            prev = 0\n",
    "    if prev == 1:\n",
    "        res = '1' + res\n",
    "    return( res )\n",
    "        \n",
    "a = \"1\"\n",
    "b = \"111\"\n",
    "addBinary(a, b)"
   ]
  },
  {
   "cell_type": "code",
   "execution_count": 24,
   "metadata": {},
   "outputs": [
    {
     "data": {
      "text/plain": [
       "'X'"
      ]
     },
     "execution_count": 24,
     "metadata": {},
     "output_type": "execute_result"
    }
   ],
   "source": [
    "# Given an integer, convert it to a roman numeral.\n",
    "# https://leetcode.com/problems/integer-to-roman/\n",
    "\n",
    "def intToRoman(num):\n",
    "    d1 = {'1': 'I', '2': 'II', '3': 'III', '4': 'IV', '5': 'V', '6': 'VI', '7': 'VII', '8': 'VIII', '9': 'IX'}\n",
    "    d2 = {'1': 'X', '2': 'XX', '3': 'XXX', '4': 'XL', '5': 'L', '6': 'LX', '7': 'LXX', '8': 'LXXX', '9': 'XC'}\n",
    "    d3 = {'1': 'C', '2': 'CC', '3': 'CCC', '4': 'CD', '5': 'D', '6': 'DC', '7': 'DCC', '8': 'DCCC', '9': 'CM'}\n",
    "    d4 = {'1': 'M', '2': 'MM', '3': 'MMM'}\n",
    "    strNum = str(num)\n",
    "    roman = ''\n",
    "    for i in range(len(strNum)):\n",
    "        if i == 0:\n",
    "            if strNum[-1] != '0':\n",
    "                roman = d1[strNum[-1]]\n",
    "        elif i == 1:\n",
    "            if strNum[-2] != '0':\n",
    "                roman = d2[strNum[-2]] + roman\n",
    "        elif i == 2:\n",
    "            if strNum[-3] != '0':\n",
    "                roman = d3[strNum[-3]] + roman\n",
    "        else:\n",
    "            if strNum[-4] != '0':\n",
    "                roman = d4[strNum[-4]] + roman\n",
    "    return roman\n",
    "        \n",
    "num = 10\n",
    "intToRoman(num)"
   ]
  },
  {
   "cell_type": "code",
   "execution_count": 91,
   "metadata": {},
   "outputs": [
    {
     "name": "stdout",
     "output_type": "stream",
     "text": [
      "24\n",
      "24\n"
     ]
    },
    {
     "data": {
      "text/plain": [
       "14269"
      ]
     },
     "execution_count": 91,
     "metadata": {},
     "output_type": "execute_result"
    }
   ],
   "source": [
    "# Write a program to count the number of days between two dates.\n",
    "# The two dates are given as strings, their format is YYYY-MM-DD as shown in the examples.\n",
    "\n",
    "# Does not work.. lots of edge cases..\n",
    "\n",
    "def daysBetweenDates(date1, date2):\n",
    "    month = {1: 31, 2: 28, 3: 31, 4: 30, 5: 31, 6: 30, 7: 31, 8: 31, \\\n",
    "             9: 30, 10: 31, 11: 30, 12: 31} \n",
    "    \n",
    "    if date1 > date2:\n",
    "        tmp = date1\n",
    "        date1 = date2\n",
    "        date2 = tmp\n",
    "        \n",
    "    day2 = int(date2[8:10])\n",
    "    day1 = int(date1[8:10])\n",
    "    month2 = int(date2[5:7])\n",
    "    month1 = int(date1[5:7])\n",
    "    year2 = int(date2[0:4]) \n",
    "    year1 = int(date1[0:4])      \n",
    "    \n",
    "    totalDays = 0\n",
    "    if day2 != day1:   # add days\n",
    "        if day2 > day1:\n",
    "            totalDays = day2 - day1\n",
    "        else:\n",
    "            totalDays = day2 + (month[month1]-day1)\n",
    "            if month1 == 2 and (year1-1968)%4 == 0:  # leap year\n",
    "                totalDays = totalDays + 1\n",
    "            month2 = month2 - 1\n",
    "    print(totalDays)\n",
    "    if month2 != month1:  # add months       \n",
    "        if month2 > month1:\n",
    "            totalDays = totalDays + sum([month[i] for i in range(month1+1, month2-1)])\n",
    "            if month1<=2 and month2>=2 and (year2-1968)%4 == 0:  # leap year\n",
    "                totalDays = totalDays + 1\n",
    "        else:\n",
    "            totalDays = totalDays + sum([month[i] for i in range(1, month2+1)]) + \\\n",
    "                                    sum([month[i] for i in range(month1+1, 12+1)])\n",
    "            year2 = year2 - 1\n",
    "    print(totalDays)\n",
    "    while year2 != year1:\n",
    "        totalDays = totalDays + 365 \n",
    "        if (year2-1968)%4 == 0:\n",
    "            totalDays = totalDays + 1\n",
    "        year2 = year2 - 1\n",
    "        \n",
    "    \n",
    "    return totalDays\n",
    "    \n",
    "date2 = \"1971-06-29\"\n",
    "date1 = \"2010-09-23\"\n",
    "\n",
    "daysBetweenDates(date1, date2)"
   ]
  },
  {
   "cell_type": "code",
   "execution_count": 94,
   "metadata": {},
   "outputs": [
    {
     "data": {
      "text/plain": [
       "True"
      ]
     },
     "execution_count": 94,
     "metadata": {},
     "output_type": "execute_result"
    }
   ],
   "source": [
    "# Given two string arrays word1 and word2, return true if the two arrays represent the same string, \n",
    "# and false otherwise.\n",
    "# A string is represented by an array if the array elements concatenated in order forms the string.\n",
    "\n",
    "def arrayStringsAreEqual(word1, word2):\n",
    "    finalWord1 = ''\n",
    "    for w in word1:\n",
    "        finalWord1 = finalWord1 + w\n",
    "    finalWord2 = ''\n",
    "    for w in word2:\n",
    "        finalWord2 = finalWord2 + w\n",
    "    if finalWord1 == finalWord2:\n",
    "        return True\n",
    "    else:\n",
    "        return False\n",
    "    \n",
    "word1  = [\"abc\", \"d\", \"defg\"]\n",
    "word2 = [\"abcddefg\"]\n",
    "arrayStringsAreEqual(word1, word2)\n"
   ]
  },
  {
   "cell_type": "code",
   "execution_count": null,
   "metadata": {},
   "outputs": [],
   "source": [
    "# Given two nodes of a binary tree p and q, return their lowest common ancestor (LCA).\n",
    "# Each node will have a reference to its parent node. The definition for Node is below:\n",
    "#class Node {\n",
    "#    public int val;\n",
    "#    public Node left;\n",
    "#    public Node right;\n",
    "#    public Node parent;\n",
    "#}\n",
    "\n",
    "# According to the definition of LCA on Wikipedia: \"The lowest common ancestor of two nodes p and q \n",
    "# in a tree T is the lowest node that has both p and q as descendants (where we allow a node to be a \n",
    "# descendant of itself).\"\n",
    "\n",
    "# Definition for a Node.\n",
    "class Node:\n",
    "    def __init__(self, val):\n",
    "        self.val = val\n",
    "        self.left = None\n",
    "        self.right = None\n",
    "        self.parent = None\n",
    "\n",
    "class Solution:\n",
    "    def lowestCommonAncestor(self, p: 'Node', q: 'Node') -> 'Node':\n",
    "        bsf = list()\n",
    "        visited = list()\n",
    "        \n",
    "        if p.left != None:\n",
    "            bsf.append([p, p.left])                     \n",
    "        if p.right != None:\n",
    "            bsf.append([p, p.right])\n",
    "        visited.append(p)\n",
    "        \n",
    "        if len(bsf) == 0:\n",
    "            bsf.append([p.parent, p.parent])\n",
    "            visited.append(p.parent)\n",
    "        \n",
    "        while len(bsf) != 0:\n",
    "        \n",
    "            # First go down\n",
    "            while len(bsf) != 0:\n",
    "                current = bsf[0][1]\n",
    "                print(current.val)\n",
    "                if current == q or current.parent == None:\n",
    "                    return bsf[0][0]\n",
    "                else:\n",
    "                    if current.left != None and current.left not in visited:\n",
    "                        bsf.append([bsf[0][0], current.left])\n",
    "                        visited.append(current.left)          \n",
    "                    if current.right != None and current.right not in visited:\n",
    "                        bsf.append([bsf[0][0], current.right])\n",
    "                        visited.append(current.right)\n",
    "                bsf.pop(0)\n",
    "            \n",
    "            # go up\n",
    "            if p.parent not in visited:\n",
    "                bsf.append([p.parent, p.parent])\n",
    "                visited.append(p.parent)\n",
    "            \n",
    "        return(p.parent)"
   ]
  },
  {
   "cell_type": "code",
   "execution_count": 7,
   "metadata": {},
   "outputs": [
    {
     "data": {
      "text/plain": [
       "False"
      ]
     },
     "execution_count": 7,
     "metadata": {},
     "output_type": "execute_result"
    }
   ],
   "source": [
    "# https://leetcode.com/problems/happy-number/\n",
    "# Write an algorithm to determine if a number n is happy.\n",
    "# A happy number is a number defined by the following process:\n",
    "# - Starting with any positive integer, replace the number by the sum of the squares of its digits.\n",
    "# - Repeat the process until the number equals 1 (where it will stay), or it loops endlessly in a cycle \n",
    "# which does not include 1.\n",
    "# - Those numbers for which this process ends in 1 are happy.\n",
    "# Return true if n is a happy number, and false if not.\n",
    "\n",
    "def isHappy(n):\n",
    "    visited = []\n",
    "    while True:\n",
    "        new = 0\n",
    "        for i in [int(x) for x in str(n)]:\n",
    "            new = new + i**2\n",
    "        if new == 1:\n",
    "            return True\n",
    "        elif new in visited:\n",
    "            return False\n",
    "        visited.append(new)\n",
    "        n = new\n",
    " \n",
    "n = 2\n",
    "isHappy(n)"
   ]
  },
  {
   "cell_type": "code",
   "execution_count": null,
   "metadata": {},
   "outputs": [],
   "source": []
  }
 ],
 "metadata": {
  "kernelspec": {
   "display_name": "Python 3 (ipykernel)",
   "language": "python",
   "name": "python3"
  },
  "language_info": {
   "codemirror_mode": {
    "name": "ipython",
    "version": 3
   },
   "file_extension": ".py",
   "mimetype": "text/x-python",
   "name": "python",
   "nbconvert_exporter": "python",
   "pygments_lexer": "ipython3",
   "version": "3.7.7"
  }
 },
 "nbformat": 4,
 "nbformat_minor": 4
}
