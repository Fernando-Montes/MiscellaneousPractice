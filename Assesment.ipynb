{
 "cells": [
  {
   "cell_type": "code",
   "execution_count": null,
   "id": "f724c4bf",
   "metadata": {},
   "outputs": [],
   "source": [
    "# You are a product manager and currently leading a team to develop a new product. Unfortunately, the \n",
    "# latest version of your product fails the quality check. Since each version is developed based on the \n",
    "# previous version, all the versions after a bad version are also bad.\n",
    "# Suppose you have n versions [1, 2, ..., n] and you want to find out the first bad one, which causes \n",
    "# all the following ones to be bad. \n",
    "# You are given an API bool isBadVersion(version) which returns whether version is bad. Implement \n",
    "# a function to find the first bad version. You should minimize the number of calls to the API.\n",
    "\n",
    "def firstBadVersion(n):\n",
    "    if n == 1:\n",
    "        return 1\n",
    "    nLo = int(n/2)\n",
    "    nHi = n\n",
    "    cont = True\n",
    "    while cont:\n",
    "        if isBadVersion(nLo) == True:\n",
    "            if nLo == nHi - 1:\n",
    "                return nLo\n",
    "            nHi = nLo\n",
    "            nLo = int(nLo/2)\n",
    "        else:\n",
    "            if nLo == nHi - 1:\n",
    "                return nHi\n",
    "            nLo = int((nHi+nLo)/2)\n"
   ]
  },
  {
   "cell_type": "code",
   "execution_count": 44,
   "id": "46651e60",
   "metadata": {},
   "outputs": [
    {
     "name": "stdout",
     "output_type": "stream",
     "text": [
      "[[0, 0, 0]]\n",
      "[[5, 0, 0]]\n",
      "[[5, 0, 0], [5, 0, 0]]\n",
      "[[5, 0, 0], [6, 0, 0]]\n"
     ]
    },
    {
     "data": {
      "text/plain": [
       "5"
      ]
     },
     "execution_count": 44,
     "metadata": {},
     "output_type": "execute_result"
    }
   ],
   "source": [
    "# Implement a SnapshotArray that supports the following interface:\n",
    "# SnapshotArray(int length) initializes an array-like data structure with the given length.  \n",
    "# Initially, each element equals 0.\n",
    "# void set(index, val) sets the element at the given index to be equal to val.\n",
    "# int snap() takes a snapshot of the array and returns the snap_id: the total number of times \n",
    "# we called snap() minus 1.\n",
    "# int get(index, snap_id) returns the value at the given index, at the time we took the \n",
    "# snapshot with the given snap_id\n",
    "\n",
    "# Works but too much memory .....\n",
    "\n",
    "class SnapshotArray:\n",
    "\n",
    "    def __init__(self, length: int):\n",
    "        self.array = [[0]*length]\n",
    "\n",
    "    def set(self, index: int, val: int) -> None:\n",
    "        print(self.array)\n",
    "        self.array[-1][index] = val\n",
    "        print(self.array)\n",
    "\n",
    "    def snap(self) -> int:\n",
    "        self.array.append( self.array[-1].copy() )\n",
    "        return ( len(self.array)-2 )\n",
    "        \n",
    "    def get(self, index: int, snap_id: int) -> int:\n",
    "        return ( self.array[snap_id][index] )\n",
    "\n",
    "\n",
    "# Your SnapshotArray object will be instantiated and called as such:\n",
    "obj = SnapshotArray(3)\n",
    "obj.set(0,5)\n",
    "obj.snap()\n",
    "obj.set(0,6)\n",
    "obj.get(0,0)"
   ]
  },
  {
   "cell_type": "code",
   "execution_count": 125,
   "id": "dbc731a5",
   "metadata": {},
   "outputs": [
    {
     "data": {
      "text/plain": [
       "12"
      ]
     },
     "execution_count": 125,
     "metadata": {},
     "output_type": "execute_result"
    }
   ],
   "source": [
    "# Implement a SnapshotArray that supports the following interface:\n",
    "# SnapshotArray(int length) initializes an array-like data structure with the given length.  \n",
    "# Initially, each element equals 0.\n",
    "# void set(index, val) sets the element at the given index to be equal to val.\n",
    "# int snap() takes a snapshot of the array and returns the snap_id: the total number of times \n",
    "# we called snap() minus 1.\n",
    "# int get(index, snap_id) returns the value at the given index, at the time we took the \n",
    "# snapshot with the given snap_id\n",
    "\n",
    "import copy\n",
    "\n",
    "# Works but time limit exceeded\n",
    "\n",
    "class SnapshotArray:\n",
    "\n",
    "    def __init__(self, length: int):\n",
    "        self.array = [ [[0,0]] for i in range(length) ] #snap, val\n",
    "        self._length = length\n",
    "        self._numSnap = 0\n",
    "        \n",
    "    def set(self, index: int, val: int) -> None:\n",
    "        self.array[index][-1][1] = val\n",
    "\n",
    "    def snap(self):\n",
    "        if self._numSnap == 0:\n",
    "            self._snap = copy.deepcopy(self.array)\n",
    "        else:    \n",
    "            for i in range(self._length):\n",
    "                if self.array[i][-1][1] != self._snap[i][-1][1]:\n",
    "                    self._snap[i].append( [self._numSnap, self.array[i][-1][1]] )\n",
    "        self._numSnap = self._numSnap + 1\n",
    "        #print(self._snap)\n",
    "        return ( self._numSnap - 1 )\n",
    "        \n",
    "    def get(self, index: int, snap_id: int) -> int:\n",
    "        snap_num = self._snap[index][0][0]\n",
    "        val = self._snap[index][0][1]\n",
    "        i = 0\n",
    "        while i < len(self._snap[index]):\n",
    "            snap_num = self._snap[index][i][0]\n",
    "            if snap_id >= snap_num:  \n",
    "                val = self._snap[index][i][1]\n",
    "            else:\n",
    "                return val\n",
    "            i = i + 1\n",
    "        return ( val )\n",
    "\n",
    "\n",
    "# Your SnapshotArray object will be instantiated and called as such:\n",
    "obj = SnapshotArray(1)\n",
    "obj.snap()\n",
    "obj.snap()\n",
    "obj.set(0,4)\n",
    "obj.snap()\n",
    "obj.get(0,1)\n",
    "obj.set(0,12)\n",
    "obj.get(0,1)\n",
    "obj.snap()\n",
    "obj.get(0,3)"
   ]
  },
  {
   "cell_type": "code",
   "execution_count": 138,
   "id": "2a7d37da",
   "metadata": {},
   "outputs": [
    {
     "data": {
      "text/plain": [
       "True"
      ]
     },
     "execution_count": 138,
     "metadata": {},
     "output_type": "execute_result"
    }
   ],
   "source": [
    "# Given a string num which represents an integer, return true if num is a strobogrammatic number.\n",
    "# A strobogrammatic number is a number that looks the same when rotated 180 degrees (looked at upside down).\n",
    "\n",
    "def isStrobogrammatic(num):\n",
    "    bad = ['2','3','4','5','7']\n",
    "    d = {'0':'0', '1':'1', '6':'9', '8':'8', '9':'6'}\n",
    "    strobo = ''\n",
    "    for i in range(1,len(num)+1):\n",
    "        if num[-i] in bad:\n",
    "            return False\n",
    "        else:\n",
    "            strobo = strobo + d[num[-i]]\n",
    "    if strobo == num:\n",
    "        return True\n",
    "    else:\n",
    "        return False\n",
    "    \n",
    "num = '1'\n",
    "isStrobogrammatic(num)"
   ]
  },
  {
   "cell_type": "code",
   "execution_count": 149,
   "id": "8f811e2e",
   "metadata": {},
   "outputs": [
    {
     "name": "stdout",
     "output_type": "stream",
     "text": [
      "1 5 6\n",
      "3 6 6\n"
     ]
    },
    {
     "data": {
      "text/plain": [
       "[3, 6, 5, 6, 6, 8]"
      ]
     },
     "execution_count": 149,
     "metadata": {},
     "output_type": "execute_result"
    }
   ],
   "source": [
    "# Given an integer array nums, reorder it such that nums[0] <= nums[1] >= nums[2] <= nums[3]....\n",
    "# You may assume the input array always has a valid answer.\n",
    "def wiggleSort(nums):\n",
    "    nums.sort()\n",
    "    if len(nums) <= 1 :\n",
    "        return nums\n",
    "    else:\n",
    "        for i in range(1, len(nums)-1, 2):\n",
    "            print(i, nums[i], nums[i+1])\n",
    "            tmp = nums[i]\n",
    "            nums[i] = nums[i+1]\n",
    "            nums[i+1] = tmp\n",
    "    return nums\n",
    "\n",
    "#nums = [3,5,2,1,6,4]\n",
    "nums = [6,6,5,6,3,8]\n",
    "wiggleSort(nums)"
   ]
  },
  {
   "cell_type": "code",
   "execution_count": 170,
   "id": "66aff4ee",
   "metadata": {},
   "outputs": [
    {
     "data": {
      "text/plain": [
       "True"
      ]
     },
     "execution_count": 170,
     "metadata": {},
     "output_type": "execute_result"
    }
   ],
   "source": [
    "# Design a phone directory that initially has maxNumbers empty slots that can store numbers. The directory \n",
    "# should store numbers, check if a certain slot is empty or not, and empty a given slot.\n",
    "# Implement the PhoneDirectory class:\n",
    "# - PhoneDirectory(int maxNumbers) Initializes the phone directory with the number of available slots maxNumbers.\n",
    "# - int get() Provides a number that is not assigned to anyone. Returns -1 if no number is available.\n",
    "# - bool check(int number) Returns true if the slot number is available and false otherwise.\n",
    "# - void release(int number) Recycles or releases the slot number.\n",
    "\n",
    "class PhoneDirectory:\n",
    "\n",
    "    def __init__(self, maxNumbers: int):\n",
    "        self.avail = [i for i in range(maxNumbers)]\n",
    "        \n",
    "    def get(self) -> int:\n",
    "        if len(self.avail) != 0: \n",
    "            tmp = self.avail[0]\n",
    "            self.avail.pop(0)\n",
    "            return tmp\n",
    "        else:\n",
    "            return -1\n",
    "\n",
    "    def check(self, number: int) -> bool:\n",
    "        if number in self.avail:\n",
    "            return True\n",
    "        else:\n",
    "            return False\n",
    "\n",
    "    def release(self, number: int) -> None:\n",
    "        if number not in self.avail:\n",
    "            self.avail.append(number)\n",
    "\n",
    "\n",
    "# Your PhoneDirectory object will be instantiated and called as such:\n",
    "obj = PhoneDirectory(3)\n",
    "obj.get()\n",
    "obj.get()\n",
    "obj.check(2)\n",
    "obj.get()\n",
    "obj.check(2)\n",
    "obj.release(2)\n",
    "obj.check(2)"
   ]
  },
  {
   "cell_type": "code",
   "execution_count": 204,
   "id": "7702b8a6",
   "metadata": {},
   "outputs": [
    {
     "data": {
      "text/plain": [
       "6.0"
      ]
     },
     "execution_count": 204,
     "metadata": {},
     "output_type": "execute_result"
    }
   ],
   "source": [
    "# Given a stream of integers and a window size, calculate the moving average of all integers in the sliding window.\n",
    "# Implement the MovingAverage class:\n",
    "# MovingAverage(int size) Initializes the object with the size of the window size.\n",
    "# double next(int val) Returns the moving average of the last size values of the stream.\n",
    "\n",
    "class MovingAverage:\n",
    "\n",
    "    def __init__(self, size: int):\n",
    "        self.size = size\n",
    "        self.array = []\n",
    "\n",
    "    def next(self, val: int) -> float:\n",
    "        if len(self.array) >= self.size:\n",
    "            self.array.pop(0)\n",
    "        self.array.append(val)\n",
    "        return sum(self.array)/len(self.array)\n",
    "\n",
    "# Your MovingAverage object will be instantiated and called as such:\n",
    "obj = MovingAverage(3)\n",
    "obj.next(1)\n",
    "obj.next(10)\n",
    "obj.next(3)\n",
    "obj.next(5)"
   ]
  },
  {
   "cell_type": "code",
   "execution_count": 211,
   "id": "0a4b2160",
   "metadata": {},
   "outputs": [
    {
     "data": {
      "text/plain": [
       "['2', '4->49', '51->74', '76->99']"
      ]
     },
     "execution_count": 211,
     "metadata": {},
     "output_type": "execute_result"
    }
   ],
   "source": [
    "# You are given an inclusive range [lower, upper] and a sorted unique integer array nums, \n",
    "# where all elements are in the inclusive range.\n",
    "# A number x is considered missing if x is in the range [lower, upper] and x is not in nums.\n",
    "# Return the smallest sorted list of ranges that cover every missing number exactly. That is, \n",
    "# no element of nums is in any of the ranges, and each missing number is in one of the ranges.\n",
    "\n",
    "# Works but slow. See below\n",
    "\n",
    "def findMissingRanges(nums, lower, upper):\n",
    "    res = []\n",
    "    tmpL = ''\n",
    "    tmpR = ''\n",
    "    for i in range(lower, upper + 1):\n",
    "        if i in nums:\n",
    "            if tmpL != '':\n",
    "                if tmpR != '':\n",
    "                    res.append(str(tmpL)+'->'+str(tmpR))\n",
    "                else:\n",
    "                    res.append(str(tmpL))\n",
    "                tmpL = ''\n",
    "                tmpR = ''\n",
    "        else:\n",
    "            if tmpL == '':\n",
    "                tmpL = i\n",
    "            else:\n",
    "                tmpR = i\n",
    "    if tmpL != '':\n",
    "        if tmpR != '':\n",
    "            res.append(str(tmpL)+'->'+str(tmpR))\n",
    "        else:\n",
    "            res.append(str(tmpL))\n",
    "    return res\n",
    "\n",
    "nums = [0,1,3,50,75]\n",
    "lower = 0\n",
    "upper = 99\n",
    "findMissingRanges(nums, lower, upper)"
   ]
  },
  {
   "cell_type": "code",
   "execution_count": 218,
   "id": "bf8d982f",
   "metadata": {},
   "outputs": [
    {
     "data": {
      "text/plain": [
       "['2', '4->49', '51->74', '76->99']"
      ]
     },
     "execution_count": 218,
     "metadata": {},
     "output_type": "execute_result"
    }
   ],
   "source": [
    "def findMissingRanges(nums, lower, upper):\n",
    "    res = []\n",
    "    if nums == []:\n",
    "        if lower != upper:\n",
    "            return [str(lower)+'->'+str(upper)]\n",
    "        else:\n",
    "            return [str(lower)]\n",
    "    if nums[0]-1 > lower:\n",
    "        res.append(str(lower)+'->'+str(nums[0]-1))\n",
    "    elif nums[0] == lower + 1:\n",
    "        res.append(str(lower))\n",
    "    for i in range(0, len(nums)-1):\n",
    "        if nums[i+1]-1 > nums[i]+1:\n",
    "            res.append(str(nums[i]+1)+'->'+str(nums[i+1]-1))\n",
    "        elif nums[i+1]-1 == nums[i] + 1:\n",
    "            res.append(str(nums[i] + 1))\n",
    "    if upper - 1 > nums[-1]:\n",
    "        res.append(str(nums[-1]+1)+'->'+str(upper))\n",
    "    elif upper - 1 == nums[-1]:\n",
    "        res.append(str(upper))\n",
    "    \n",
    "    return res\n",
    "\n",
    "nums = [0,1,3,50,75]\n",
    "lower = 0\n",
    "upper = 99\n",
    "#nums = [5,8]\n",
    "#lower = 0\n",
    "#upper = 9\n",
    "findMissingRanges(nums, lower, upper)"
   ]
  },
  {
   "cell_type": "code",
   "execution_count": 260,
   "id": "b7f101e1",
   "metadata": {},
   "outputs": [
    {
     "data": {
      "text/plain": [
       "([0, 9, 6], [3, 12, 9])"
      ]
     },
     "execution_count": 260,
     "metadata": {},
     "output_type": "execute_result"
    }
   ],
   "source": [
    "# You are given a string s and an array of strings words. You should add a closed pair of \n",
    "# bold tag <b> and </b> to wrap the substrings in s that exist in words. If two such substrings \n",
    "# overlap, you should wrap them together with only one pair of closed bold-tag. If two substrings \n",
    "# wrapped by bold tags are consecutive, you should combine them.\n",
    "# Return s after adding the bold tags.\n",
    "# https://leetcode.com/problems/bold-words-in-string/\n",
    "\n",
    "# Incomplete ....\n",
    "\n",
    "def addBoldTag(s, words):\n",
    "    idx0 = []\n",
    "    idx1 = []\n",
    "    for i in range(len(words)):\n",
    "        tmp = [j for j in range(len(s)-len(words[i])+1) if s[j:(j+len(words[i]))] == words[i]]\n",
    "        if tmp != []:\n",
    "            idx0.append( tmp )\n",
    "            idx1.append( [j + len(words[i]) for j in tmp ] )\n",
    "    idx0 = [item for sub_list in idx0 for item in sub_list]\n",
    "    idx1 = [item for sub_list in idx1 for item in sub_list]\n",
    "    #for i in range(len(idx0)):\n",
    "        \n",
    "    return idx0, idx1\n",
    "  \n",
    "s = \"abcxyz123abc\"\n",
    "words = [\"abc\",\"123\", 'g']\n",
    "addBoldTag(s, words)"
   ]
  },
  {
   "cell_type": "code",
   "execution_count": 258,
   "id": "7f7a4945",
   "metadata": {},
   "outputs": [
    {
     "data": {
      "text/plain": [
       "[0, 9, 6]"
      ]
     },
     "execution_count": 258,
     "metadata": {},
     "output_type": "execute_result"
    }
   ],
   "source": [
    "tmp = [[0, 9], [6]]\n",
    "[item for sub_list in tmp for item in sub_list]"
   ]
  },
  {
   "cell_type": "code",
   "execution_count": null,
   "id": "220c3140",
   "metadata": {},
   "outputs": [],
   "source": []
  }
 ],
 "metadata": {
  "kernelspec": {
   "display_name": "Python 3",
   "language": "python",
   "name": "python3"
  },
  "language_info": {
   "codemirror_mode": {
    "name": "ipython",
    "version": 3
   },
   "file_extension": ".py",
   "mimetype": "text/x-python",
   "name": "python",
   "nbconvert_exporter": "python",
   "pygments_lexer": "ipython3",
   "version": "3.7.1"
  }
 },
 "nbformat": 4,
 "nbformat_minor": 5
}
