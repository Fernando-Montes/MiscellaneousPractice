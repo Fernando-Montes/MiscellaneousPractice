{
 "cells": [
  {
   "cell_type": "code",
   "execution_count": null,
   "id": "115a8936",
   "metadata": {},
   "outputs": [],
   "source": [
    "# You are a product manager and currently leading a team to develop a new product. Unfortunately, the \n",
    "# latest version of your product fails the quality check. Since each version is developed based on the \n",
    "# previous version, all the versions after a bad version are also bad.\n",
    "# Suppose you have n versions [1, 2, ..., n] and you want to find out the first bad one, which causes \n",
    "# all the following ones to be bad. \n",
    "# You are given an API bool isBadVersion(version) which returns whether version is bad. Implement \n",
    "# a function to find the first bad version. You should minimize the number of calls to the API.\n",
    "\n",
    "def firstBadVersion(n):\n",
    "    if n == 1:\n",
    "        return 1\n",
    "    nLo = int(n/2)\n",
    "    nHi = n\n",
    "    cont = True\n",
    "    while cont:\n",
    "        if isBadVersion(nLo) == True:\n",
    "            if nLo == nHi - 1:\n",
    "                return nLo\n",
    "            nHi = nLo\n",
    "            nLo = int(nLo/2)\n",
    "        else:\n",
    "            if nLo == nHi - 1:\n",
    "                return nHi\n",
    "            nLo = int((nHi+nLo)/2)\n"
   ]
  },
  {
   "cell_type": "code",
   "execution_count": 44,
   "id": "d6d841bd",
   "metadata": {},
   "outputs": [
    {
     "name": "stdout",
     "output_type": "stream",
     "text": [
      "[[0, 0, 0]]\n",
      "[[5, 0, 0]]\n",
      "[[5, 0, 0], [5, 0, 0]]\n",
      "[[5, 0, 0], [6, 0, 0]]\n"
     ]
    },
    {
     "data": {
      "text/plain": [
       "5"
      ]
     },
     "execution_count": 44,
     "metadata": {},
     "output_type": "execute_result"
    }
   ],
   "source": [
    "# Implement a SnapshotArray that supports the following interface:\n",
    "# SnapshotArray(int length) initializes an array-like data structure with the given length.  \n",
    "# Initially, each element equals 0.\n",
    "# void set(index, val) sets the element at the given index to be equal to val.\n",
    "# int snap() takes a snapshot of the array and returns the snap_id: the total number of times \n",
    "# we called snap() minus 1.\n",
    "# int get(index, snap_id) returns the value at the given index, at the time we took the \n",
    "# snapshot with the given snap_id\n",
    "\n",
    "# Works but too much memory .....\n",
    "\n",
    "class SnapshotArray:\n",
    "\n",
    "    def __init__(self, length: int):\n",
    "        self.array = [[0]*length]\n",
    "\n",
    "    def set(self, index: int, val: int) -> None:\n",
    "        print(self.array)\n",
    "        self.array[-1][index] = val\n",
    "        print(self.array)\n",
    "\n",
    "    def snap(self) -> int:\n",
    "        self.array.append( self.array[-1].copy() )\n",
    "        return ( len(self.array)-2 )\n",
    "        \n",
    "    def get(self, index: int, snap_id: int) -> int:\n",
    "        return ( self.array[snap_id][index] )\n",
    "\n",
    "\n",
    "# Your SnapshotArray object will be instantiated and called as such:\n",
    "obj = SnapshotArray(3)\n",
    "obj.set(0,5)\n",
    "obj.snap()\n",
    "obj.set(0,6)\n",
    "obj.get(0,0)"
   ]
  },
  {
   "cell_type": "code",
   "execution_count": 125,
   "id": "034c74cc",
   "metadata": {},
   "outputs": [
    {
     "data": {
      "text/plain": [
       "12"
      ]
     },
     "execution_count": 125,
     "metadata": {},
     "output_type": "execute_result"
    }
   ],
   "source": [
    "# Implement a SnapshotArray that supports the following interface:\n",
    "# SnapshotArray(int length) initializes an array-like data structure with the given length.  \n",
    "# Initially, each element equals 0.\n",
    "# void set(index, val) sets the element at the given index to be equal to val.\n",
    "# int snap() takes a snapshot of the array and returns the snap_id: the total number of times \n",
    "# we called snap() minus 1.\n",
    "# int get(index, snap_id) returns the value at the given index, at the time we took the \n",
    "# snapshot with the given snap_id\n",
    "\n",
    "import copy\n",
    "\n",
    "# Works but time limit exceeded\n",
    "\n",
    "class SnapshotArray:\n",
    "\n",
    "    def __init__(self, length: int):\n",
    "        self.array = [ [[0,0]] for i in range(length) ] #snap, val\n",
    "        self._length = length\n",
    "        self._numSnap = 0\n",
    "        \n",
    "    def set(self, index: int, val: int) -> None:\n",
    "        self.array[index][-1][1] = val\n",
    "\n",
    "    def snap(self):\n",
    "        if self._numSnap == 0:\n",
    "            self._snap = copy.deepcopy(self.array)\n",
    "        else:    \n",
    "            for i in range(self._length):\n",
    "                if self.array[i][-1][1] != self._snap[i][-1][1]:\n",
    "                    self._snap[i].append( [self._numSnap, self.array[i][-1][1]] )\n",
    "        self._numSnap = self._numSnap + 1\n",
    "        #print(self._snap)\n",
    "        return ( self._numSnap - 1 )\n",
    "        \n",
    "    def get(self, index: int, snap_id: int) -> int:\n",
    "        snap_num = self._snap[index][0][0]\n",
    "        val = self._snap[index][0][1]\n",
    "        i = 0\n",
    "        while i < len(self._snap[index]):\n",
    "            snap_num = self._snap[index][i][0]\n",
    "            if snap_id >= snap_num:  \n",
    "                val = self._snap[index][i][1]\n",
    "            else:\n",
    "                return val\n",
    "            i = i + 1\n",
    "        return ( val )\n",
    "\n",
    "\n",
    "# Your SnapshotArray object will be instantiated and called as such:\n",
    "obj = SnapshotArray(1)\n",
    "obj.snap()\n",
    "obj.snap()\n",
    "obj.set(0,4)\n",
    "obj.snap()\n",
    "obj.get(0,1)\n",
    "obj.set(0,12)\n",
    "obj.get(0,1)\n",
    "obj.snap()\n",
    "obj.get(0,3)"
   ]
  },
  {
   "cell_type": "code",
   "execution_count": 138,
   "id": "cd0134f5",
   "metadata": {},
   "outputs": [
    {
     "data": {
      "text/plain": [
       "True"
      ]
     },
     "execution_count": 138,
     "metadata": {},
     "output_type": "execute_result"
    }
   ],
   "source": [
    "# Given a string num which represents an integer, return true if num is a strobogrammatic number.\n",
    "# A strobogrammatic number is a number that looks the same when rotated 180 degrees (looked at upside down).\n",
    "\n",
    "def isStrobogrammatic(num):\n",
    "    bad = ['2','3','4','5','7']\n",
    "    d = {'0':'0', '1':'1', '6':'9', '8':'8', '9':'6'}\n",
    "    strobo = ''\n",
    "    for i in range(1,len(num)+1):\n",
    "        if num[-i] in bad:\n",
    "            return False\n",
    "        else:\n",
    "            strobo = strobo + d[num[-i]]\n",
    "    if strobo == num:\n",
    "        return True\n",
    "    else:\n",
    "        return False\n",
    "    \n",
    "num = '1'\n",
    "isStrobogrammatic(num)"
   ]
  },
  {
   "cell_type": "code",
   "execution_count": 149,
   "id": "0e9e842f",
   "metadata": {},
   "outputs": [
    {
     "name": "stdout",
     "output_type": "stream",
     "text": [
      "1 5 6\n",
      "3 6 6\n"
     ]
    },
    {
     "data": {
      "text/plain": [
       "[3, 6, 5, 6, 6, 8]"
      ]
     },
     "execution_count": 149,
     "metadata": {},
     "output_type": "execute_result"
    }
   ],
   "source": [
    "# Given an integer array nums, reorder it such that nums[0] <= nums[1] >= nums[2] <= nums[3]....\n",
    "# You may assume the input array always has a valid answer.\n",
    "def wiggleSort(nums):\n",
    "    nums.sort()\n",
    "    if len(nums) <= 1 :\n",
    "        return nums\n",
    "    else:\n",
    "        for i in range(1, len(nums)-1, 2):\n",
    "            print(i, nums[i], nums[i+1])\n",
    "            tmp = nums[i]\n",
    "            nums[i] = nums[i+1]\n",
    "            nums[i+1] = tmp\n",
    "    return nums\n",
    "\n",
    "#nums = [3,5,2,1,6,4]\n",
    "nums = [6,6,5,6,3,8]\n",
    "wiggleSort(nums)"
   ]
  },
  {
   "cell_type": "code",
   "execution_count": 170,
   "id": "8b6e72f2",
   "metadata": {},
   "outputs": [
    {
     "data": {
      "text/plain": [
       "True"
      ]
     },
     "execution_count": 170,
     "metadata": {},
     "output_type": "execute_result"
    }
   ],
   "source": [
    "# Design a phone directory that initially has maxNumbers empty slots that can store numbers. The directory \n",
    "# should store numbers, check if a certain slot is empty or not, and empty a given slot.\n",
    "# Implement the PhoneDirectory class:\n",
    "# - PhoneDirectory(int maxNumbers) Initializes the phone directory with the number of available slots maxNumbers.\n",
    "# - int get() Provides a number that is not assigned to anyone. Returns -1 if no number is available.\n",
    "# - bool check(int number) Returns true if the slot number is available and false otherwise.\n",
    "# - void release(int number) Recycles or releases the slot number.\n",
    "\n",
    "class PhoneDirectory:\n",
    "\n",
    "    def __init__(self, maxNumbers: int):\n",
    "        self.avail = [i for i in range(maxNumbers)]\n",
    "        \n",
    "    def get(self) -> int:\n",
    "        if len(self.avail) != 0: \n",
    "            tmp = self.avail[0]\n",
    "            self.avail.pop(0)\n",
    "            return tmp\n",
    "        else:\n",
    "            return -1\n",
    "\n",
    "    def check(self, number: int) -> bool:\n",
    "        if number in self.avail:\n",
    "            return True\n",
    "        else:\n",
    "            return False\n",
    "\n",
    "    def release(self, number: int) -> None:\n",
    "        if number not in self.avail:\n",
    "            self.avail.append(number)\n",
    "\n",
    "\n",
    "# Your PhoneDirectory object will be instantiated and called as such:\n",
    "obj = PhoneDirectory(3)\n",
    "obj.get()\n",
    "obj.get()\n",
    "obj.check(2)\n",
    "obj.get()\n",
    "obj.check(2)\n",
    "obj.release(2)\n",
    "obj.check(2)"
   ]
  },
  {
   "cell_type": "code",
   "execution_count": 204,
   "id": "320cd6ce",
   "metadata": {},
   "outputs": [
    {
     "data": {
      "text/plain": [
       "6.0"
      ]
     },
     "execution_count": 204,
     "metadata": {},
     "output_type": "execute_result"
    }
   ],
   "source": [
    "# Given a stream of integers and a window size, calculate the moving average of all integers in the sliding window.\n",
    "# Implement the MovingAverage class:\n",
    "# MovingAverage(int size) Initializes the object with the size of the window size.\n",
    "# double next(int val) Returns the moving average of the last size values of the stream.\n",
    "\n",
    "class MovingAverage:\n",
    "\n",
    "    def __init__(self, size: int):\n",
    "        self.size = size\n",
    "        self.array = []\n",
    "\n",
    "    def next(self, val: int) -> float:\n",
    "        if len(self.array) >= self.size:\n",
    "            self.array.pop(0)\n",
    "        self.array.append(val)\n",
    "        return sum(self.array)/len(self.array)\n",
    "\n",
    "# Your MovingAverage object will be instantiated and called as such:\n",
    "obj = MovingAverage(3)\n",
    "obj.next(1)\n",
    "obj.next(10)\n",
    "obj.next(3)\n",
    "obj.next(5)"
   ]
  },
  {
   "cell_type": "code",
   "execution_count": 211,
   "id": "81dbe7ac",
   "metadata": {},
   "outputs": [
    {
     "data": {
      "text/plain": [
       "['2', '4->49', '51->74', '76->99']"
      ]
     },
     "execution_count": 211,
     "metadata": {},
     "output_type": "execute_result"
    }
   ],
   "source": [
    "# You are given an inclusive range [lower, upper] and a sorted unique integer array nums, \n",
    "# where all elements are in the inclusive range.\n",
    "# A number x is considered missing if x is in the range [lower, upper] and x is not in nums.\n",
    "# Return the smallest sorted list of ranges that cover every missing number exactly. That is, \n",
    "# no element of nums is in any of the ranges, and each missing number is in one of the ranges.\n",
    "\n",
    "# Works but slow. See below\n",
    "\n",
    "def findMissingRanges(nums, lower, upper):\n",
    "    res = []\n",
    "    tmpL = ''\n",
    "    tmpR = ''\n",
    "    for i in range(lower, upper + 1):\n",
    "        if i in nums:\n",
    "            if tmpL != '':\n",
    "                if tmpR != '':\n",
    "                    res.append(str(tmpL)+'->'+str(tmpR))\n",
    "                else:\n",
    "                    res.append(str(tmpL))\n",
    "                tmpL = ''\n",
    "                tmpR = ''\n",
    "        else:\n",
    "            if tmpL == '':\n",
    "                tmpL = i\n",
    "            else:\n",
    "                tmpR = i\n",
    "    if tmpL != '':\n",
    "        if tmpR != '':\n",
    "            res.append(str(tmpL)+'->'+str(tmpR))\n",
    "        else:\n",
    "            res.append(str(tmpL))\n",
    "    return res\n",
    "\n",
    "nums = [0,1,3,50,75]\n",
    "lower = 0\n",
    "upper = 99\n",
    "findMissingRanges(nums, lower, upper)"
   ]
  },
  {
   "cell_type": "code",
   "execution_count": 218,
   "id": "2d047dda",
   "metadata": {},
   "outputs": [
    {
     "data": {
      "text/plain": [
       "['2', '4->49', '51->74', '76->99']"
      ]
     },
     "execution_count": 218,
     "metadata": {},
     "output_type": "execute_result"
    }
   ],
   "source": [
    "def findMissingRanges(nums, lower, upper):\n",
    "    res = []\n",
    "    if nums == []:\n",
    "        if lower != upper:\n",
    "            return [str(lower)+'->'+str(upper)]\n",
    "        else:\n",
    "            return [str(lower)]\n",
    "    if nums[0]-1 > lower:\n",
    "        res.append(str(lower)+'->'+str(nums[0]-1))\n",
    "    elif nums[0] == lower + 1:\n",
    "        res.append(str(lower))\n",
    "    for i in range(0, len(nums)-1):\n",
    "        if nums[i+1]-1 > nums[i]+1:\n",
    "            res.append(str(nums[i]+1)+'->'+str(nums[i+1]-1))\n",
    "        elif nums[i+1]-1 == nums[i] + 1:\n",
    "            res.append(str(nums[i] + 1))\n",
    "    if upper - 1 > nums[-1]:\n",
    "        res.append(str(nums[-1]+1)+'->'+str(upper))\n",
    "    elif upper - 1 == nums[-1]:\n",
    "        res.append(str(upper))\n",
    "    \n",
    "    return res\n",
    "\n",
    "nums = [0,1,3,50,75]\n",
    "lower = 0\n",
    "upper = 99\n",
    "#nums = [5,8]\n",
    "#lower = 0\n",
    "#upper = 9\n",
    "findMissingRanges(nums, lower, upper)"
   ]
  },
  {
   "cell_type": "code",
   "execution_count": 294,
   "id": "5c718989",
   "metadata": {},
   "outputs": [
    {
     "data": {
      "text/plain": [
       "'aaaadedcea'"
      ]
     },
     "execution_count": 294,
     "metadata": {},
     "output_type": "execute_result"
    }
   ],
   "source": [
    "# You are given a string s and an array of strings words. You should add a closed pair of \n",
    "# bold tag <b> and </b> to wrap the substrings in s that exist in words. If two such substrings \n",
    "# overlap, you should wrap them together with only one pair of closed bold-tag. If two substrings \n",
    "# wrapped by bold tags are consecutive, you should combine them.\n",
    "# Return s after adding the bold tags.\n",
    "# https://leetcode.com/problems/bold-words-in-string/\n",
    "\n",
    "# Incomplete ....\n",
    "\n",
    "def addBoldTag(s, words):\n",
    "    idx = []\n",
    "    for i in range(len(words)):\n",
    "        idx.append( [ [j,j + len(words[i])] for j in range(len(s)-len(words[i])+1) if s[j:(j+len(words[i]))] == words[i]] )\n",
    "            \n",
    "    idx = [item for sub_list in idx for item in sub_list]\n",
    "    idx.sort(key = lambda x: x[0])\n",
    "    \n",
    "    iL = -1\n",
    "    iR = -1\n",
    "    finalIdx = []\n",
    "    for i in range(len(idx)):\n",
    "        if iL == -1:\n",
    "            iL = idx[i][0]\n",
    "            iR = idx[i][1]\n",
    "        elif idx[i][0] > iR:\n",
    "            finalIdx.append([iL, iR])\n",
    "            iL = idx[i][0]\n",
    "            iR = idx[i][1]\n",
    "        else:\n",
    "            iR = max(iR, idx[i][1])\n",
    "    if iL != -1:\n",
    "        finalIdx.append([iL, iR])\n",
    "        \n",
    "    finalS = ''\n",
    "    for i in range(len(finalIdx)):\n",
    "        if i == 0:\n",
    "            finalS = finalS + s[0:finalIdx[i][0]] + '<b>' + s[finalIdx[i][0]:finalIdx[i][1]] + '</b>'\n",
    "        else:\n",
    "            finalS = finalS + s[finalIdx[i-1][1]:finalIdx[i][0]] + '<b>' + s[finalIdx[i][0]:finalIdx[i][1]] + '</b>'\n",
    "    \n",
    "    if finalS != '':\n",
    "        finalS = finalS + s[finalIdx[-1][1]:]\n",
    "    else:\n",
    "        finalS = s\n",
    "    return finalS\n",
    "  \n",
    "words = [\"be\",\"ba\",\"ab\",\"ba\",\"adb\"]\n",
    "s = \"aaaadedcea\"\n",
    "addBoldTag(s, words)"
   ]
  },
  {
   "cell_type": "code",
   "execution_count": null,
   "id": "10eb97d7",
   "metadata": {},
   "outputs": [],
   "source": [
    "# We are playing the Guess Game. The game is as follows:\n",
    "# I pick a number from 1 to n. You have to guess which number I picked.\n",
    "# Every time you guess wrong, I will tell you whether the number I picked is higher or lower than your guess.\n",
    "# You call a pre-defined API int guess(int num), which returns 3 possible results:\n",
    "#    -1: The number I picked is lower than your guess (i.e. pick < num).\n",
    "#    1: The number I picked is higher than your guess (i.e. pick > num).\n",
    "#    0: The number I picked is equal to your guess (i.e. pick == num).\n",
    "# Return the number that I picked.\n",
    "\n",
    "\n",
    "def guessNumber(n):\n",
    "    u = n\n",
    "    l = 1        \n",
    "    i = int((u+l)/2)\n",
    "    res = guess(i)\n",
    "    while ( res != 0):\n",
    "        if res == -1:\n",
    "            if u == l + 1:\n",
    "                i = l\n",
    "            else:\n",
    "                u = i\n",
    "                i = int((u+l)/2)\n",
    "        else:\n",
    "            if u == l + 1:\n",
    "                i = u\n",
    "            else:\n",
    "                l = i\n",
    "                i = int((u+l)/2)\n",
    "        res = guess(i)\n",
    "    return i"
   ]
  },
  {
   "cell_type": "code",
   "execution_count": 349,
   "id": "735767cf",
   "metadata": {},
   "outputs": [
    {
     "name": "stdout",
     "output_type": "stream",
     "text": [
      "1 6 6 5\n"
     ]
    },
    {
     "data": {
      "text/plain": [
       "5"
      ]
     },
     "execution_count": 349,
     "metadata": {},
     "output_type": "execute_result"
    }
   ],
   "source": [
    "# We are playing the Guessing Game. The game will work as follows:\n",
    "\n",
    "   # I pick a number between 1 and n.\n",
    "   # You guess a number.\n",
    "   # If you guess the right number, you win the game.\n",
    "   # If you guess the wrong number, then I will tell you whether the number I picked is higher or lower, and you will continue guessing.\n",
    "   # Every time you guess a wrong number x, you will pay x dollars. If you run out of money, you lose the game.\n",
    "\n",
    "# Given a particular n, return the minimum amount of money you need to guarantee \n",
    "# a win regardless of what number I pick.\n",
    "\n",
    "# Not complete....\n",
    "\n",
    "def getMoneyAmount(n):\n",
    "    if n==1:\n",
    "        return 0\n",
    "    u = n\n",
    "    l = 1\n",
    "    i = int(2*u/3)+1\n",
    "    res = 0\n",
    "    while i!=n:\n",
    "        res = res + i\n",
    "        if n == i + 1:\n",
    "            i = n\n",
    "        else:\n",
    "            l = i+1\n",
    "            i = int((u+l)/2)\n",
    "        print(l,u,i, res)\n",
    "    return max(res, int(2*u/3))\n",
    "\n",
    "getMoneyAmount(6)\n",
    "            "
   ]
  },
  {
   "cell_type": "code",
   "execution_count": 338,
   "id": "b2409a77",
   "metadata": {},
   "outputs": [
    {
     "data": {
      "text/plain": [
       "2"
      ]
     },
     "execution_count": 338,
     "metadata": {},
     "output_type": "execute_result"
    }
   ],
   "source": [
    "int(2*2/3)+1"
   ]
  },
  {
   "cell_type": "code",
   "execution_count": 366,
   "id": "162612f8",
   "metadata": {},
   "outputs": [
    {
     "data": {
      "text/plain": [
       "['1', '2', '3', '4']"
      ]
     },
     "execution_count": 366,
     "metadata": {},
     "output_type": "execute_result"
    }
   ],
   "source": [
    "# The array-form of an integer num is an array representing its digits in left to right order.\n",
    "# For example, for num = 1321, the array form is [1,3,2,1].\n",
    "# Given num, the array-form of an integer, and an integer k, return the array-form of the integer num + k.\n",
    "\n",
    "def addToArrayForm(num, k):\n",
    "    numInt = ''\n",
    "    for i in range(len(num)):\n",
    "        numInt = numInt + str(num[i])\n",
    "    return [n for n in str(int(numInt) + k)]\n",
    "        \n",
    "num = [1,2,0,0]\n",
    "k = 34\n",
    "addToArrayForm(num, k)"
   ]
  },
  {
   "cell_type": "code",
   "execution_count": 408,
   "id": "d98ff48a",
   "metadata": {},
   "outputs": [
    {
     "data": {
      "text/plain": [
       "[[731, 731, 731],\n",
       " [930, 930, 930],\n",
       " [930, 930, 930],\n",
       " [930, 930, 930],\n",
       " [721, 721, 721]]"
      ]
     },
     "execution_count": 408,
     "metadata": {},
     "output_type": "execute_result"
    }
   ],
   "source": [
    "# Given a m x n matrix mat and an integer k, return a matrix answer where each answer[i][j] \n",
    "# is the sum of all elements mat[r][c] for:\n",
    "#    i - k <= r <= i + k,\n",
    "#    j - k <= c <= j + k, and\n",
    "#    (r, c) is a valid position in the matrix.\n",
    "\n",
    "# Works but slow ....\n",
    "\n",
    "def matrixBlockSum(mat, k):\n",
    "    m = len(mat)\n",
    "    n = len(mat[0])\n",
    "    answer = [[0]*n for i in range(m)]\n",
    "    for i in range(m):\n",
    "        for j in range(n):\n",
    "            loR = max(0, i-k)\n",
    "            hiR = min(m-1, i+k)\n",
    "            loC = max(0, j-k)\n",
    "            hiC = min(n-1, j+k)\n",
    "            #print(loR, hiR, loC, hiC)\n",
    "            tmp = 0\n",
    "            for r in range(loR, hiR+1):\n",
    "                for c in range(loC, hiC+1):\n",
    "                    #print(r,c)\n",
    "                    tmp = tmp + mat[r][c]\n",
    "            #print(i,j)\n",
    "            answer[i][j] = tmp\n",
    "            #print(tmp)\n",
    "    return(answer)\n",
    "        \n",
    "mat = [[67,64,78],[99,98,38],[82,46,46],[6,52,55],[55,99,45]]\n",
    "k = 3\n",
    "matrixBlockSum(mat, k)"
   ]
  },
  {
   "cell_type": "code",
   "execution_count": 416,
   "id": "2fc7afc1",
   "metadata": {},
   "outputs": [
    {
     "data": {
      "text/plain": [
       "[[731, 731, 731],\n",
       " [930, 930, 930],\n",
       " [930, 930, 930],\n",
       " [930, 930, 930],\n",
       " [721, 721, 721]]"
      ]
     },
     "execution_count": 416,
     "metadata": {},
     "output_type": "execute_result"
    }
   ],
   "source": [
    "# Given a m x n matrix mat and an integer k, return a matrix answer where each answer[i][j] \n",
    "# is the sum of all elements mat[r][c] for:\n",
    "#    i - k <= r <= i + k,\n",
    "#    j - k <= c <= j + k, and\n",
    "#    (r, c) is a valid position in the matrix.\n",
    "\n",
    "def matrixBlockSum(mat, k):\n",
    "    m = len(mat)\n",
    "    n = len(mat[0])\n",
    "    answer = [[0]*n for i in range(m)]\n",
    "    d = {}\n",
    "    for i in range(m):\n",
    "        for j in range(n):\n",
    "            loR = max(0, i-k)\n",
    "            hiR = min(m-1, i+k)\n",
    "            loC = max(0, j-k)\n",
    "            hiC = min(n-1, j+k)\n",
    "            #print(loR, hiR, loC, hiC)\n",
    "            tmp = 0\n",
    "            if tuple([loR, hiR, loC, hiC]) not in d.keys():\n",
    "                for r in range(loR, hiR+1):\n",
    "                    for c in range(loC, hiC+1):\n",
    "                        #print(r,c)\n",
    "                        tmp = tmp + mat[r][c]\n",
    "                d[tuple([loR, hiR, loC, hiC])] = tmp\n",
    "            else:\n",
    "                tmp = d[loR, hiR, loC, hiC]\n",
    "            answer[i][j] = tmp\n",
    "            #print(tmp)\n",
    "    return(answer)\n",
    "        \n",
    "mat = [[67,64,78],[99,98,38],[82,46,46],[6,52,55],[55,99,45]]\n",
    "k = 3\n",
    "matrixBlockSum(mat, k)"
   ]
  },
  {
   "cell_type": "code",
   "execution_count": 413,
   "id": "6a8e5352",
   "metadata": {},
   "outputs": [
    {
     "data": {
      "text/plain": [
       "4"
      ]
     },
     "execution_count": 413,
     "metadata": {},
     "output_type": "execute_result"
    }
   ],
   "source": [
    "d = {tuple([5,6]):4}\n",
    "d[5,6]"
   ]
  },
  {
   "cell_type": "code",
   "execution_count": null,
   "id": "0937c712",
   "metadata": {},
   "outputs": [],
   "source": [
    "# "
   ]
  }
 ],
 "metadata": {
  "kernelspec": {
   "display_name": "Python 3",
   "language": "python",
   "name": "python3"
  },
  "language_info": {
   "codemirror_mode": {
    "name": "ipython",
    "version": 3
   },
   "file_extension": ".py",
   "mimetype": "text/x-python",
   "name": "python",
   "nbconvert_exporter": "python",
   "pygments_lexer": "ipython3",
   "version": "3.7.1"
  }
 },
 "nbformat": 4,
 "nbformat_minor": 5
}
