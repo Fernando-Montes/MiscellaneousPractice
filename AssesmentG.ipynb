{
 "cells": [
  {
   "cell_type": "code",
   "execution_count": null,
   "id": "5f418bf6",
   "metadata": {},
   "outputs": [],
   "source": [
    "# You are a product manager and currently leading a team to develop a new product. Unfortunately, the \n",
    "# latest version of your product fails the quality check. Since each version is developed based on the \n",
    "# previous version, all the versions after a bad version are also bad.\n",
    "# Suppose you have n versions [1, 2, ..., n] and you want to find out the first bad one, which causes \n",
    "# all the following ones to be bad. \n",
    "# You are given an API bool isBadVersion(version) which returns whether version is bad. Implement \n",
    "# a function to find the first bad version. You should minimize the number of calls to the API.\n",
    "\n",
    "def firstBadVersion(n):\n",
    "    if n == 1:\n",
    "        return 1\n",
    "    nLo = int(n/2)\n",
    "    nHi = n\n",
    "    cont = True\n",
    "    while cont:\n",
    "        if isBadVersion(nLo) == True:\n",
    "            if nLo == nHi - 1:\n",
    "                return nLo\n",
    "            nHi = nLo\n",
    "            nLo = int(nLo/2)\n",
    "        else:\n",
    "            if nLo == nHi - 1:\n",
    "                return nHi\n",
    "            nLo = int((nHi+nLo)/2)\n"
   ]
  },
  {
   "cell_type": "code",
   "execution_count": 44,
   "id": "2b1088d2",
   "metadata": {},
   "outputs": [
    {
     "name": "stdout",
     "output_type": "stream",
     "text": [
      "[[0, 0, 0]]\n",
      "[[5, 0, 0]]\n",
      "[[5, 0, 0], [5, 0, 0]]\n",
      "[[5, 0, 0], [6, 0, 0]]\n"
     ]
    },
    {
     "data": {
      "text/plain": [
       "5"
      ]
     },
     "execution_count": 44,
     "metadata": {},
     "output_type": "execute_result"
    }
   ],
   "source": [
    "# Implement a SnapshotArray that supports the following interface:\n",
    "# SnapshotArray(int length) initializes an array-like data structure with the given length.  \n",
    "# Initially, each element equals 0.\n",
    "# void set(index, val) sets the element at the given index to be equal to val.\n",
    "# int snap() takes a snapshot of the array and returns the snap_id: the total number of times \n",
    "# we called snap() minus 1.\n",
    "# int get(index, snap_id) returns the value at the given index, at the time we took the \n",
    "# snapshot with the given snap_id\n",
    "\n",
    "# Works but too much memory .....\n",
    "\n",
    "class SnapshotArray:\n",
    "\n",
    "    def __init__(self, length: int):\n",
    "        self.array = [[0]*length]\n",
    "\n",
    "    def set(self, index: int, val: int) -> None:\n",
    "        print(self.array)\n",
    "        self.array[-1][index] = val\n",
    "        print(self.array)\n",
    "\n",
    "    def snap(self) -> int:\n",
    "        self.array.append( self.array[-1].copy() )\n",
    "        return ( len(self.array)-2 )\n",
    "        \n",
    "    def get(self, index: int, snap_id: int) -> int:\n",
    "        return ( self.array[snap_id][index] )\n",
    "\n",
    "\n",
    "# Your SnapshotArray object will be instantiated and called as such:\n",
    "obj = SnapshotArray(3)\n",
    "obj.set(0,5)\n",
    "obj.snap()\n",
    "obj.set(0,6)\n",
    "obj.get(0,0)"
   ]
  },
  {
   "cell_type": "code",
   "execution_count": 125,
   "id": "909cea0d",
   "metadata": {},
   "outputs": [
    {
     "data": {
      "text/plain": [
       "12"
      ]
     },
     "execution_count": 125,
     "metadata": {},
     "output_type": "execute_result"
    }
   ],
   "source": [
    "# Implement a SnapshotArray that supports the following interface:\n",
    "# SnapshotArray(int length) initializes an array-like data structure with the given length.  \n",
    "# Initially, each element equals 0.\n",
    "# void set(index, val) sets the element at the given index to be equal to val.\n",
    "# int snap() takes a snapshot of the array and returns the snap_id: the total number of times \n",
    "# we called snap() minus 1.\n",
    "# int get(index, snap_id) returns the value at the given index, at the time we took the \n",
    "# snapshot with the given snap_id\n",
    "\n",
    "import copy\n",
    "\n",
    "# Works but time limit exceeded\n",
    "\n",
    "class SnapshotArray:\n",
    "\n",
    "    def __init__(self, length: int):\n",
    "        self.array = [ [[0,0]] for i in range(length) ] #snap, val\n",
    "        self._length = length\n",
    "        self._numSnap = 0\n",
    "        \n",
    "    def set(self, index: int, val: int) -> None:\n",
    "        self.array[index][-1][1] = val\n",
    "\n",
    "    def snap(self):\n",
    "        if self._numSnap == 0:\n",
    "            self._snap = copy.deepcopy(self.array)\n",
    "        else:    \n",
    "            for i in range(self._length):\n",
    "                if self.array[i][-1][1] != self._snap[i][-1][1]:\n",
    "                    self._snap[i].append( [self._numSnap, self.array[i][-1][1]] )\n",
    "        self._numSnap = self._numSnap + 1\n",
    "        #print(self._snap)\n",
    "        return ( self._numSnap - 1 )\n",
    "        \n",
    "    def get(self, index: int, snap_id: int) -> int:\n",
    "        snap_num = self._snap[index][0][0]\n",
    "        val = self._snap[index][0][1]\n",
    "        i = 0\n",
    "        while i < len(self._snap[index]):\n",
    "            snap_num = self._snap[index][i][0]\n",
    "            if snap_id >= snap_num:  \n",
    "                val = self._snap[index][i][1]\n",
    "            else:\n",
    "                return val\n",
    "            i = i + 1\n",
    "        return ( val )\n",
    "\n",
    "\n",
    "# Your SnapshotArray object will be instantiated and called as such:\n",
    "obj = SnapshotArray(1)\n",
    "obj.snap()\n",
    "obj.snap()\n",
    "obj.set(0,4)\n",
    "obj.snap()\n",
    "obj.get(0,1)\n",
    "obj.set(0,12)\n",
    "obj.get(0,1)\n",
    "obj.snap()\n",
    "obj.get(0,3)"
   ]
  },
  {
   "cell_type": "code",
   "execution_count": null,
   "id": "3bcbf42a",
   "metadata": {},
   "outputs": [],
   "source": []
  }
 ],
 "metadata": {
  "kernelspec": {
   "display_name": "Python 3",
   "language": "python",
   "name": "python3"
  },
  "language_info": {
   "codemirror_mode": {
    "name": "ipython",
    "version": 3
   },
   "file_extension": ".py",
   "mimetype": "text/x-python",
   "name": "python",
   "nbconvert_exporter": "python",
   "pygments_lexer": "ipython3",
   "version": "3.7.1"
  }
 },
 "nbformat": 4,
 "nbformat_minor": 5
}
