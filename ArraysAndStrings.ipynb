{
 "cells": [
  {
   "cell_type": "code",
   "execution_count": 17,
   "metadata": {},
   "outputs": [
    {
     "name": "stdout",
     "output_type": "stream",
     "text": [
      "[0, 1, 0, 3, 12]\n",
      "0\n",
      "1\n",
      "0\n",
      "3\n",
      "12\n",
      "[1, 3, 12, 0, 0]\n"
     ]
    }
   ],
   "source": [
    "# Given an array nums, write a function to move all 0's to the end of \n",
    "# it while maintaining the relative order of the non-zero elements.\n",
    "\n",
    "def moveZeroes(nums):\n",
    "    \"\"\"\n",
    "    Do not return anything, modify nums in-place instead.\n",
    "    \"\"\"\n",
    "    print(nums)\n",
    "    \n",
    "    lastZero = -1\n",
    "    for i in range(len(nums)):\n",
    "        print(nums[i])\n",
    "        if nums[i] == 0 and lastZero == -1:\n",
    "            lastZero = i\n",
    "        if nums[i] != 0 and lastZero >= 0:\n",
    "            tmp = nums[i]\n",
    "            nums[i] = 0\n",
    "            nums[lastZero] = tmp\n",
    "            lastZero = lastZero + 1\n",
    "            \n",
    "    print(nums)\n",
    "                \n",
    "moveZeroes([0,1,0,3,12])"
   ]
  },
  {
   "cell_type": "code",
   "execution_count": 21,
   "metadata": {},
   "outputs": [
    {
     "name": "stdout",
     "output_type": "stream",
     "text": [
      "[1, 2, 2]\n"
     ]
    },
    {
     "data": {
      "text/plain": [
       "2"
      ]
     },
     "execution_count": 21,
     "metadata": {},
     "output_type": "execute_result"
    }
   ],
   "source": [
    "# Given a sorted array nums, remove the duplicates in-place such that each element appears \n",
    "# only once and returns the new length. Do not allocate extra space for another array, \n",
    "# you must do this by modifying the input array in-place with O(1) extra memory.\n",
    "# https://leetcode.com/explore/interview/card/facebook/5/array-and-strings/3011/\n",
    "\n",
    "def removeDuplicates(nums):\n",
    "        i1 = 0\n",
    "        i2 = 1\n",
    "        if len(nums)>1:\n",
    "            while i2<len(nums) and nums[i1]<=nums[i2]:\n",
    "                if nums[i1]!=nums[i2]:\n",
    "                    i1 = i1 + 1\n",
    "                    nums[i1] = nums[i2]\n",
    "                i2 = i2 + 1\n",
    "            print(nums)\n",
    "            return i1+1\n",
    "        else:\n",
    "            return len(nums)\n",
    "        \n",
    "removeDuplicates( [1,1,2] )\n",
    "    "
   ]
  },
  {
   "cell_type": "code",
   "execution_count": 13,
   "metadata": {},
   "outputs": [
    {
     "name": "stdout",
     "output_type": "stream",
     "text": [
      "[0, 1, 2, 2, 3, 0, 4, 2] 1 1\n",
      "[0, 1, 2, 2, 3, 0, 4, 2] 2 2\n",
      "[0, 1, 2, 2, 3, 0, 4, 2] 2 3\n",
      "[0, 1, 2, 2, 3, 0, 4, 2] 2 4\n",
      "[0, 1, 3, 2, 2, 0, 4, 2] 3 5\n",
      "[0, 1, 3, 0, 2, 2, 4, 2] 4 6\n",
      "[0, 1, 3, 0, 4, 2, 2, 2] 5 7\n",
      "[0, 1, 3, 0, 4, 2, 2, 2] 5 8\n"
     ]
    },
    {
     "data": {
      "text/plain": [
       "5"
      ]
     },
     "execution_count": 13,
     "metadata": {},
     "output_type": "execute_result"
    }
   ],
   "source": [
    "# Given an array nums and a value val, remove all instances of that value in-place and return the new length.\n",
    "# Do not allocate extra space for another array, you must do this by modifying the input array in-place \n",
    "# with O(1) extra memory. The order of elements can be changed. It doesn't matter what you leave beyond \n",
    "# the new length.\n",
    "# https://leetcode.com/problems/remove-element/\n",
    "\n",
    "def removeElement(nums, val):\n",
    "    if len(nums) > 1:\n",
    "        i1 = 0\n",
    "        i2 = 0\n",
    "        for i in range(0, len(nums)):\n",
    "            if nums[i1] == val and nums[i2] != val:   # swap\n",
    "                tmp = nums[i2]\n",
    "                nums[i2] = nums[i1]\n",
    "                nums[i1] = tmp\n",
    "                i1 = i1+1\n",
    "            elif nums[i1] != val and nums[i2] != val:\n",
    "                i1 = i1 + 1\n",
    "            i2 = i2 + 1\n",
    "            print(nums, i1, i2)\n",
    "    elif len(nums) == 1:\n",
    "        if nums[0] == val:\n",
    "            i1 = 0\n",
    "        else:\n",
    "            i1 = 1\n",
    "    else:\n",
    "        i1 = 0\n",
    "    return i1\n",
    "\n",
    "removeElement([0,1,2,2,3,0,4,2], 2)\n",
    "#removeElement([], 2)"
   ]
  },
  {
   "cell_type": "code",
   "execution_count": 10,
   "metadata": {},
   "outputs": [
    {
     "data": {
      "text/plain": [
       "[8, 9, 9, 9, 0, 0, 0, 1]"
      ]
     },
     "execution_count": 10,
     "metadata": {},
     "output_type": "execute_result"
    }
   ],
   "source": [
    "# You are given two non-empty linked lists representing two non-negative integers. \n",
    "# The digits are stored in reverse order, and each of their nodes contains a single digit. \n",
    "# Add the two numbers and return the sum as a linked list.\n",
    "# https://leetcode.com/explore/interview/card/facebook/6/linked-list/319/\n",
    "\n",
    "def addTwoNumbers(l1, l2):\n",
    "    lenArray = max(len(l1), len(l2))\n",
    "    residual = 0\n",
    "    res = list()\n",
    "    for i in range(lenArray):\n",
    "        if i<len(l1) and i<len(l2):\n",
    "            tmp = l1[i] + l2[i]\n",
    "        elif i<len(l1):\n",
    "            tmp = l1[i]\n",
    "        else:\n",
    "            tmp = l2[i]\n",
    "        res.append((tmp + residual)%10)\n",
    "        residual = int((tmp + residual)/10)\n",
    "    if residual !=0:\n",
    "        res.append(residual)\n",
    "    return(res)\n",
    "    \n",
    "addTwoNumbers([2,4,3], [5,6,4])\n",
    "addTwoNumbers([0], [0])\n",
    "addTwoNumbers([9,9,9,9,9,9,9], [9,9,9,9])"
   ]
  },
  {
   "cell_type": "code",
   "execution_count": 19,
   "metadata": {},
   "outputs": [],
   "source": [
    "# Same as before but using the class ListNode (exercise requires it)\n",
    "\n",
    "class ListNode:\n",
    "    def __init__(self, val=0, next=None):\n",
    "        self.val = val\n",
    "        self.next = next\n",
    "        \n",
    "def addTwoNumbers(l1, l2):\n",
    "    residual = 0\n",
    "    new = True\n",
    "    l1_continue = True\n",
    "    l2_continue = True\n",
    "    while l1_continue == True or l2_continue == True:\n",
    "\n",
    "        if l1_continue == True and l2_continue == True:\n",
    "            tmp = l1.val + l2.val\n",
    "        elif l1_continue == True:\n",
    "            tmp = l1.val\n",
    "        else:\n",
    "            tmp = l2.val\n",
    "            \n",
    "        if new:\n",
    "            res = ListNode ( (tmp + residual)%10 )\n",
    "            head = res\n",
    "            new = False\n",
    "        else:\n",
    "            res.next =  ListNode( (tmp + residual)%10 ) \n",
    "            res = res.next\n",
    "        \n",
    "        residual = int((tmp + residual)/10)\n",
    "        \n",
    "        if l1.next == None:\n",
    "            l1_continue = False\n",
    "        else:\n",
    "            l1 = l1.next\n",
    "        if l2.next == None:\n",
    "            l2_continue = False\n",
    "        else:\n",
    "            l2 = l2.next\n",
    "    if residual !=0:\n",
    "        res.next =  ListNode( residual ) \n",
    "    return(head)"
   ]
  },
  {
   "cell_type": "code",
   "execution_count": 21,
   "metadata": {},
   "outputs": [
    {
     "data": {
      "text/plain": [
       "True"
      ]
     },
     "execution_count": 21,
     "metadata": {},
     "output_type": "execute_result"
    }
   ],
   "source": [
    "#Given an integer x, return true if x is palindrome integer.\n",
    "# An integer is a palindrome when it reads the same backward as forward. \n",
    "# For example, 121 is palindrome while 123 is not.\n",
    "# https://leetcode.com/problems/palindrome-number/\n",
    "\n",
    "def isPalindrome(x):\n",
    "    sx = str(x)\n",
    "    pal = ''\n",
    "    for i in range(len(sx)):\n",
    "        pal = pal + sx[len(sx)-i-1] \n",
    "    return( pal == sx )\n",
    "\n",
    "isPalindrome(121)"
   ]
  },
  {
   "cell_type": "code",
   "execution_count": 41,
   "metadata": {},
   "outputs": [
    {
     "name": "stdout",
     "output_type": "stream",
     "text": [
      "{7: 7} {7: 7}\n",
      "{7: 7, -9: -9} {7: 7, -9: -9}\n",
      "{7: 7, -9: -9, 3: 3} {7: 7, -9: -9, 3: 3}\n",
      "{7: 7, -9: -9, 3: 3, -6: -6} {7: 7, -9: -9, 3: 3, -6: -6}\n",
      "{7: 7, -9: -9, 3: 3, -6: -6} {7: 7, -9: -9, 3: 3, -6: -6}\n",
      "{7: 7, -9: -9, 3: 3, -6: -6, 5: 5} {7: 7, -9: -9, 3: 3, -6: -6, 5: 5}\n",
      "{7: 7, -9: -9, 3: 3, -6: -6, 5: 5} {7: 7, -9: -9, 3: 3, -6: -6, 5: 5}\n",
      "{-9: -9, 3: 3, -6: -6, 5: 7} {7: 5, -9: -9, 3: 3, -6: -6}\n",
      "{-9: -9, 3: 3, -6: -6, 5: 7, -2: -2} {7: 5, -9: -9, 3: 3, -6: -6, -2: -2}\n",
      "{-9: -9, 3: 3, -6: -5, 5: 7, -2: -2} {7: 5, -9: -9, 3: 3, -2: -2, -5: -6}\n",
      "{-9: -9, 3: 3, -6: -5, 5: 8, -2: -2} {-9: -9, 3: 3, -2: -2, -5: -6, 8: 5}\n",
      "{-9: -9, 3: 3, -6: -5, 5: 8, -2: -2} {-9: -9, 3: 3, -2: -2, -5: -6, 8: 5}\n",
      "{-9: -9, 3: 3, -6: -4, 5: 8, -2: -2} {-9: -9, 3: 3, -2: -2, 8: 5, -4: -6}\n",
      "{-9: -9, 3: 3, -6: -4, 5: 8, -2: -2} {-9: -9, 3: 3, -2: -2, 8: 5, -4: -6}\n",
      "{-9: -9, 3: 3, -6: -4, 5: 8, -2: -2} {-9: -9, 3: 3, -2: -2, 8: 5, -4: -6}\n",
      "{-9: -9, 3: 3, -6: -4, 5: 8, -2: -2} {-9: -9, 3: 3, -2: -2, 8: 5, -4: -6}\n",
      "{-9: -9, 3: 3, -6: -4, 5: 8, -2: -2} {-9: -9, 3: 3, -2: -2, 8: 5, -4: -6}\n",
      "{-9: -9, 3: 3, -6: -4, 5: 8, -2: -2} {-9: -9, 3: 3, -2: -2, 8: 5, -4: -6}\n",
      "{-9: -9, -6: -4, 5: 8, -2: -2, 2: 3} {-9: -9, 3: 2, -2: -2, 8: 5, -4: -6}\n",
      "{-9: -9, -6: -4, 5: 8, -2: -2, 2: 3} {-9: -9, 3: 2, -2: -2, 8: 5, -4: -6}\n",
      "{-9: -9, -6: -4, 5: 8, -2: -2, 2: 3, 0: 0} {-9: -9, 3: 2, -2: -2, 8: 5, -4: -6, 0: 0}\n",
      "{-9: -9, -6: -4, 5: 8, -2: -2, 2: 3, 0: 0} {-9: -9, 3: 2, -2: -2, 8: 5, -4: -6, 0: 0}\n"
     ]
    },
    {
     "data": {
      "text/plain": [
       "4"
      ]
     },
     "execution_count": 41,
     "metadata": {},
     "output_type": "execute_result"
    }
   ],
   "source": [
    "# Given an unsorted array of integers nums, return the length of the longest consecutive elements sequence.\n",
    "# You must write an algorithm that runs in O(n) time.\n",
    "# https://leetcode.com/explore/challenge/card/june-leetcoding-challenge-2021/603/week-1-june-1st-june-7th/3769/\n",
    "\n",
    "def longestConsecutive(nums):\n",
    "    dl = {}  # lo range dictionary\n",
    "    dr = {}  # hi range dictionary\n",
    "    used = []\n",
    "    for num in nums:\n",
    "        if num + 1 in dl.keys():  # range can be extended to the left\n",
    "            if num - 1 in dr.keys(): # range can be extended to the right\n",
    "                dl[ dr[num - 1] ] = dl[num + 1]  # extend left range\n",
    "                dr[ dl[num + 1] ] = dr[num - 1]  # extend right range\n",
    "                dl.pop(num+1)  # delete obsolete left range\n",
    "                dr.pop(num-1)  # delete obsolete right range\n",
    "            else:\n",
    "                dl[ num ] = dl[num + 1] # extend left range\n",
    "                dr[ dl[ num ] ] = num   # updating right range\n",
    "                dl.pop(num+1)  # delete obsolete left range\n",
    "        elif num - 1 in dr.keys(): # range can be extended to the right\n",
    "            dr[ num ] = dr[num - 1]  # extend right range\n",
    "            dl[ dr[ num ] ] = num   # updating left range\n",
    "            dr.pop(num-1)  # delete obsolete right range\n",
    "        elif num not in dl.keys() and num not in dr.keys() and num not in used:\n",
    "            dl[num] = num\n",
    "            dr[num] = num\n",
    "        used.append(num)\n",
    "        print(dl, dr)\n",
    "    mx = 0\n",
    "    for e in dl:\n",
    "        mx = max(mx, dl[e]-e+1)\n",
    "    return mx\n",
    "\n",
    "nums = [7,-9,3,-6,3,5,3,6,-2,-5,8,6,-4,-6,-4,-4,5,-9,2,7,0,0]\n",
    "longestConsecutive(nums)\n",
    "                "
   ]
  },
  {
   "cell_type": "code",
   "execution_count": 12,
   "metadata": {},
   "outputs": [
    {
     "data": {
      "text/plain": [
       "0"
      ]
     },
     "execution_count": 12,
     "metadata": {},
     "output_type": "execute_result"
    }
   ],
   "source": [
    "# Given a signed 32-bit integer x, return x with its digits reversed. If reversing x \n",
    "# causes the value to go outside the signed 32-bit integer range, then return 0.\n",
    "# https://leetcode.com/problems/reverse-integer/\n",
    "\n",
    "def reverse(x):\n",
    "    xx = str(abs(x))\n",
    "    rev = ''\n",
    "    for i in range(1, len(xx)+1):\n",
    "        rev = rev + xx[-i]\n",
    "    rev = int(rev)\n",
    "    if rev > 2**31 - 1:\n",
    "        rev = 0\n",
    "    elif x < 0:\n",
    "        rev = -rev\n",
    "    return rev\n",
    "    \n",
    "x = 0\n",
    "reverse(x)"
   ]
  },
  {
   "cell_type": "code",
   "execution_count": null,
   "metadata": {},
   "outputs": [],
   "source": []
  }
 ],
 "metadata": {
  "kernelspec": {
   "display_name": "Python 3",
   "language": "python",
   "name": "python3"
  },
  "language_info": {
   "codemirror_mode": {
    "name": "ipython",
    "version": 3
   },
   "file_extension": ".py",
   "mimetype": "text/x-python",
   "name": "python",
   "nbconvert_exporter": "python",
   "pygments_lexer": "ipython3",
   "version": "3.7.1"
  }
 },
 "nbformat": 4,
 "nbformat_minor": 4
}
