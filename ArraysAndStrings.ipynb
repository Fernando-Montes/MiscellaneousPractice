{
 "cells": [
  {
   "cell_type": "code",
   "execution_count": 17,
   "metadata": {},
   "outputs": [
    {
     "name": "stdout",
     "output_type": "stream",
     "text": [
      "[0, 1, 0, 3, 12]\n",
      "0\n",
      "1\n",
      "0\n",
      "3\n",
      "12\n",
      "[1, 3, 12, 0, 0]\n"
     ]
    }
   ],
   "source": [
    "# Given an array nums, write a function to move all 0's to the end of \n",
    "# it while maintaining the relative order of the non-zero elements.\n",
    "\n",
    "def moveZeroes(nums):\n",
    "    \"\"\"\n",
    "    Do not return anything, modify nums in-place instead.\n",
    "    \"\"\"\n",
    "    print(nums)\n",
    "    \n",
    "    lastZero = -1\n",
    "    for i in range(len(nums)):\n",
    "        print(nums[i])\n",
    "        if nums[i] == 0 and lastZero == -1:\n",
    "            lastZero = i\n",
    "        if nums[i] != 0 and lastZero >= 0:\n",
    "            tmp = nums[i]\n",
    "            nums[i] = 0\n",
    "            nums[lastZero] = tmp\n",
    "            lastZero = lastZero + 1\n",
    "            \n",
    "    print(nums)\n",
    "                \n",
    "moveZeroes([0,1,0,3,12])"
   ]
  },
  {
   "cell_type": "code",
   "execution_count": 21,
   "metadata": {},
   "outputs": [
    {
     "name": "stdout",
     "output_type": "stream",
     "text": [
      "[1, 2, 2]\n"
     ]
    },
    {
     "data": {
      "text/plain": [
       "2"
      ]
     },
     "execution_count": 21,
     "metadata": {},
     "output_type": "execute_result"
    }
   ],
   "source": [
    "# Given a sorted array nums, remove the duplicates in-place such that each element appears \n",
    "# only once and returns the new length. Do not allocate extra space for another array, \n",
    "# you must do this by modifying the input array in-place with O(1) extra memory.\n",
    "# https://leetcode.com/explore/interview/card/facebook/5/array-and-strings/3011/\n",
    "\n",
    "def removeDuplicates(nums):\n",
    "        i1 = 0\n",
    "        i2 = 1\n",
    "        if len(nums)>1:\n",
    "            while i2<len(nums) and nums[i1]<=nums[i2]:\n",
    "                if nums[i1]!=nums[i2]:\n",
    "                    i1 = i1 + 1\n",
    "                    nums[i1] = nums[i2]\n",
    "                i2 = i2 + 1\n",
    "            print(nums)\n",
    "            return i1+1\n",
    "        else:\n",
    "            return len(nums)\n",
    "        \n",
    "removeDuplicates( [1,1,2] )\n",
    "    "
   ]
  },
  {
   "cell_type": "code",
   "execution_count": 13,
   "metadata": {},
   "outputs": [
    {
     "name": "stdout",
     "output_type": "stream",
     "text": [
      "[0, 1, 2, 2, 3, 0, 4, 2] 1 1\n",
      "[0, 1, 2, 2, 3, 0, 4, 2] 2 2\n",
      "[0, 1, 2, 2, 3, 0, 4, 2] 2 3\n",
      "[0, 1, 2, 2, 3, 0, 4, 2] 2 4\n",
      "[0, 1, 3, 2, 2, 0, 4, 2] 3 5\n",
      "[0, 1, 3, 0, 2, 2, 4, 2] 4 6\n",
      "[0, 1, 3, 0, 4, 2, 2, 2] 5 7\n",
      "[0, 1, 3, 0, 4, 2, 2, 2] 5 8\n"
     ]
    },
    {
     "data": {
      "text/plain": [
       "5"
      ]
     },
     "execution_count": 13,
     "metadata": {},
     "output_type": "execute_result"
    }
   ],
   "source": [
    "# Given an array nums and a value val, remove all instances of that value in-place and return the new length.\n",
    "# Do not allocate extra space for another array, you must do this by modifying the input array in-place \n",
    "# with O(1) extra memory. The order of elements can be changed. It doesn't matter what you leave beyond \n",
    "# the new length.\n",
    "# https://leetcode.com/problems/remove-element/\n",
    "\n",
    "def removeElement(nums, val):\n",
    "    if len(nums) > 1:\n",
    "        i1 = 0\n",
    "        i2 = 0\n",
    "        for i in range(0, len(nums)):\n",
    "            if nums[i1] == val and nums[i2] != val:   # swap\n",
    "                tmp = nums[i2]\n",
    "                nums[i2] = nums[i1]\n",
    "                nums[i1] = tmp\n",
    "                i1 = i1+1\n",
    "            elif nums[i1] != val and nums[i2] != val:\n",
    "                i1 = i1 + 1\n",
    "            i2 = i2 + 1\n",
    "            print(nums, i1, i2)\n",
    "    elif len(nums) == 1:\n",
    "        if nums[0] == val:\n",
    "            i1 = 0\n",
    "        else:\n",
    "            i1 = 1\n",
    "    else:\n",
    "        i1 = 0\n",
    "    return i1\n",
    "\n",
    "removeElement([0,1,2,2,3,0,4,2], 2)\n",
    "#removeElement([], 2)"
   ]
  },
  {
   "cell_type": "code",
   "execution_count": 10,
   "metadata": {},
   "outputs": [
    {
     "data": {
      "text/plain": [
       "[8, 9, 9, 9, 0, 0, 0, 1]"
      ]
     },
     "execution_count": 10,
     "metadata": {},
     "output_type": "execute_result"
    }
   ],
   "source": [
    "# You are given two non-empty linked lists representing two non-negative integers. \n",
    "# The digits are stored in reverse order, and each of their nodes contains a single digit. \n",
    "# Add the two numbers and return the sum as a linked list.\n",
    "# https://leetcode.com/explore/interview/card/facebook/6/linked-list/319/\n",
    "\n",
    "def addTwoNumbers(l1, l2):\n",
    "    lenArray = max(len(l1), len(l2))\n",
    "    residual = 0\n",
    "    res = list()\n",
    "    for i in range(lenArray):\n",
    "        if i<len(l1) and i<len(l2):\n",
    "            tmp = l1[i] + l2[i]\n",
    "        elif i<len(l1):\n",
    "            tmp = l1[i]\n",
    "        else:\n",
    "            tmp = l2[i]\n",
    "        res.append((tmp + residual)%10)\n",
    "        residual = int((tmp + residual)/10)\n",
    "    if residual !=0:\n",
    "        res.append(residual)\n",
    "    return(res)\n",
    "    \n",
    "addTwoNumbers([2,4,3], [5,6,4])\n",
    "addTwoNumbers([0], [0])\n",
    "addTwoNumbers([9,9,9,9,9,9,9], [9,9,9,9])"
   ]
  },
  {
   "cell_type": "code",
   "execution_count": 19,
   "metadata": {},
   "outputs": [],
   "source": [
    "# Same as before but using the class ListNode (exercise requires it)\n",
    "\n",
    "class ListNode:\n",
    "    def __init__(self, val=0, next=None):\n",
    "        self.val = val\n",
    "        self.next = next\n",
    "        \n",
    "def addTwoNumbers(l1, l2):\n",
    "    residual = 0\n",
    "    new = True\n",
    "    l1_continue = True\n",
    "    l2_continue = True\n",
    "    while l1_continue == True or l2_continue == True:\n",
    "\n",
    "        if l1_continue == True and l2_continue == True:\n",
    "            tmp = l1.val + l2.val\n",
    "        elif l1_continue == True:\n",
    "            tmp = l1.val\n",
    "        else:\n",
    "            tmp = l2.val\n",
    "            \n",
    "        if new:\n",
    "            res = ListNode ( (tmp + residual)%10 )\n",
    "            head = res\n",
    "            new = False\n",
    "        else:\n",
    "            res.next =  ListNode( (tmp + residual)%10 ) \n",
    "            res = res.next\n",
    "        \n",
    "        residual = int((tmp + residual)/10)\n",
    "        \n",
    "        if l1.next == None:\n",
    "            l1_continue = False\n",
    "        else:\n",
    "            l1 = l1.next\n",
    "        if l2.next == None:\n",
    "            l2_continue = False\n",
    "        else:\n",
    "            l2 = l2.next\n",
    "    if residual !=0:\n",
    "        res.next =  ListNode( residual ) \n",
    "    return(head)"
   ]
  },
  {
   "cell_type": "code",
   "execution_count": 21,
   "metadata": {},
   "outputs": [
    {
     "data": {
      "text/plain": [
       "True"
      ]
     },
     "execution_count": 21,
     "metadata": {},
     "output_type": "execute_result"
    }
   ],
   "source": [
    "#Given an integer x, return true if x is palindrome integer.\n",
    "# An integer is a palindrome when it reads the same backward as forward. \n",
    "# For example, 121 is palindrome while 123 is not.\n",
    "# https://leetcode.com/problems/palindrome-number/\n",
    "\n",
    "def isPalindrome(x):\n",
    "    sx = str(x)\n",
    "    pal = ''\n",
    "    for i in range(len(sx)):\n",
    "        pal = pal + sx[len(sx)-i-1] \n",
    "    return( pal == sx )\n",
    "\n",
    "isPalindrome(121)"
   ]
  },
  {
   "cell_type": "code",
   "execution_count": 41,
   "metadata": {},
   "outputs": [
    {
     "name": "stdout",
     "output_type": "stream",
     "text": [
      "{7: 7} {7: 7}\n",
      "{7: 7, -9: -9} {7: 7, -9: -9}\n",
      "{7: 7, -9: -9, 3: 3} {7: 7, -9: -9, 3: 3}\n",
      "{7: 7, -9: -9, 3: 3, -6: -6} {7: 7, -9: -9, 3: 3, -6: -6}\n",
      "{7: 7, -9: -9, 3: 3, -6: -6} {7: 7, -9: -9, 3: 3, -6: -6}\n",
      "{7: 7, -9: -9, 3: 3, -6: -6, 5: 5} {7: 7, -9: -9, 3: 3, -6: -6, 5: 5}\n",
      "{7: 7, -9: -9, 3: 3, -6: -6, 5: 5} {7: 7, -9: -9, 3: 3, -6: -6, 5: 5}\n",
      "{-9: -9, 3: 3, -6: -6, 5: 7} {7: 5, -9: -9, 3: 3, -6: -6}\n",
      "{-9: -9, 3: 3, -6: -6, 5: 7, -2: -2} {7: 5, -9: -9, 3: 3, -6: -6, -2: -2}\n",
      "{-9: -9, 3: 3, -6: -5, 5: 7, -2: -2} {7: 5, -9: -9, 3: 3, -2: -2, -5: -6}\n",
      "{-9: -9, 3: 3, -6: -5, 5: 8, -2: -2} {-9: -9, 3: 3, -2: -2, -5: -6, 8: 5}\n",
      "{-9: -9, 3: 3, -6: -5, 5: 8, -2: -2} {-9: -9, 3: 3, -2: -2, -5: -6, 8: 5}\n",
      "{-9: -9, 3: 3, -6: -4, 5: 8, -2: -2} {-9: -9, 3: 3, -2: -2, 8: 5, -4: -6}\n",
      "{-9: -9, 3: 3, -6: -4, 5: 8, -2: -2} {-9: -9, 3: 3, -2: -2, 8: 5, -4: -6}\n",
      "{-9: -9, 3: 3, -6: -4, 5: 8, -2: -2} {-9: -9, 3: 3, -2: -2, 8: 5, -4: -6}\n",
      "{-9: -9, 3: 3, -6: -4, 5: 8, -2: -2} {-9: -9, 3: 3, -2: -2, 8: 5, -4: -6}\n",
      "{-9: -9, 3: 3, -6: -4, 5: 8, -2: -2} {-9: -9, 3: 3, -2: -2, 8: 5, -4: -6}\n",
      "{-9: -9, 3: 3, -6: -4, 5: 8, -2: -2} {-9: -9, 3: 3, -2: -2, 8: 5, -4: -6}\n",
      "{-9: -9, -6: -4, 5: 8, -2: -2, 2: 3} {-9: -9, 3: 2, -2: -2, 8: 5, -4: -6}\n",
      "{-9: -9, -6: -4, 5: 8, -2: -2, 2: 3} {-9: -9, 3: 2, -2: -2, 8: 5, -4: -6}\n",
      "{-9: -9, -6: -4, 5: 8, -2: -2, 2: 3, 0: 0} {-9: -9, 3: 2, -2: -2, 8: 5, -4: -6, 0: 0}\n",
      "{-9: -9, -6: -4, 5: 8, -2: -2, 2: 3, 0: 0} {-9: -9, 3: 2, -2: -2, 8: 5, -4: -6, 0: 0}\n"
     ]
    },
    {
     "data": {
      "text/plain": [
       "4"
      ]
     },
     "execution_count": 41,
     "metadata": {},
     "output_type": "execute_result"
    }
   ],
   "source": [
    "# Given an unsorted array of integers nums, return the length of the longest consecutive elements sequence.\n",
    "# You must write an algorithm that runs in O(n) time.\n",
    "# https://leetcode.com/explore/challenge/card/june-leetcoding-challenge-2021/603/week-1-june-1st-june-7th/3769/\n",
    "\n",
    "def longestConsecutive(nums):\n",
    "    dl = {}  # lo range dictionary\n",
    "    dr = {}  # hi range dictionary\n",
    "    used = []\n",
    "    for num in nums:\n",
    "        if num + 1 in dl.keys():  # range can be extended to the left\n",
    "            if num - 1 in dr.keys(): # range can be extended to the right\n",
    "                dl[ dr[num - 1] ] = dl[num + 1]  # extend left range\n",
    "                dr[ dl[num + 1] ] = dr[num - 1]  # extend right range\n",
    "                dl.pop(num+1)  # delete obsolete left range\n",
    "                dr.pop(num-1)  # delete obsolete right range\n",
    "            else:\n",
    "                dl[ num ] = dl[num + 1] # extend left range\n",
    "                dr[ dl[ num ] ] = num   # updating right range\n",
    "                dl.pop(num+1)  # delete obsolete left range\n",
    "        elif num - 1 in dr.keys(): # range can be extended to the right\n",
    "            dr[ num ] = dr[num - 1]  # extend right range\n",
    "            dl[ dr[ num ] ] = num   # updating left range\n",
    "            dr.pop(num-1)  # delete obsolete right range\n",
    "        elif num not in dl.keys() and num not in dr.keys() and num not in used:\n",
    "            dl[num] = num\n",
    "            dr[num] = num\n",
    "        used.append(num)\n",
    "        print(dl, dr)\n",
    "    mx = 0\n",
    "    for e in dl:\n",
    "        mx = max(mx, dl[e]-e+1)\n",
    "    return mx\n",
    "\n",
    "nums = [7,-9,3,-6,3,5,3,6,-2,-5,8,6,-4,-6,-4,-4,5,-9,2,7,0,0]\n",
    "longestConsecutive(nums)\n",
    "                "
   ]
  },
  {
   "cell_type": "code",
   "execution_count": 12,
   "metadata": {},
   "outputs": [
    {
     "data": {
      "text/plain": [
       "0"
      ]
     },
     "execution_count": 12,
     "metadata": {},
     "output_type": "execute_result"
    }
   ],
   "source": [
    "# Given a signed 32-bit integer x, return x with its digits reversed. If reversing x \n",
    "# causes the value to go outside the signed 32-bit integer range, then return 0.\n",
    "# https://leetcode.com/problems/reverse-integer/\n",
    "\n",
    "def reverse(x):\n",
    "    xx = str(abs(x))\n",
    "    rev = ''\n",
    "    for i in range(1, len(xx)+1):\n",
    "        rev = rev + xx[-i]\n",
    "    rev = int(rev)\n",
    "    if rev > 2**31 - 1:\n",
    "        rev = 0\n",
    "    elif x < 0:\n",
    "        rev = -rev\n",
    "    return rev\n",
    "    \n",
    "x = 0\n",
    "reverse(x)"
   ]
  },
  {
   "cell_type": "code",
   "execution_count": 25,
   "metadata": {},
   "outputs": [
    {
     "data": {
      "text/plain": [
       "[[3, 1], [4, 2]]"
      ]
     },
     "execution_count": 25,
     "metadata": {},
     "output_type": "execute_result"
    }
   ],
   "source": [
    "# You are given an n x n 2D matrix representing an image, rotate the image by 90 degrees (clockwise).\n",
    "# You have to rotate the image in-place, which means you have to modify the input 2D matrix directly. \n",
    "# DO NOT allocate another 2D matrix and do the rotation.\n",
    "# https://leetcode.com/problems/rotate-image/\n",
    "\n",
    "def rotate(matrix):\n",
    "    n = len(matrix)\n",
    "    for r in range(int(n/2)):\n",
    "        for c in range(r, n-r-1):\n",
    "            \n",
    "            tmp1 = matrix[c][n-1-r] \n",
    "            matrix[c][n-1-r] = matrix[r][c] \n",
    "            \n",
    "            tmp2 = matrix[n-1-r][n-1-c]   \n",
    "            matrix[n-1-r][n-1-c] = tmp1\n",
    "            \n",
    "            tmp3 = matrix[n-1-c][r]\n",
    "            matrix[n-1-c][r] = tmp2\n",
    "            \n",
    "            matrix[r][c] = tmp3\n",
    "            \n",
    "    return matrix\n",
    "    \n",
    "matrix = [[5,1,9,11],[2,4,8,10],[13,3,6,7],[15,14,12,16]]\n",
    "matrix = [[1,2],[3,4]]\n",
    "rotate(matrix)"
   ]
  },
  {
   "cell_type": "code",
   "execution_count": 4,
   "metadata": {},
   "outputs": [
    {
     "data": {
      "text/plain": [
       "['leetcode', 'od', 'am']"
      ]
     },
     "execution_count": 4,
     "metadata": {},
     "output_type": "execute_result"
    }
   ],
   "source": [
    "# Given an array of string words. Return all strings in words which is substring of another word in any order. \n",
    "# String words[i] is substring of words[j], if can be obtained removing some characters to left and/or right \n",
    "# side of words[j].\n",
    "# https://leetcode.com/problems/string-matching-in-an-array/\n",
    "\n",
    "def stringMatching(words):\n",
    "    out = list()\n",
    "    for i in range(len(words)):\n",
    "        for j in range(len(words)):\n",
    "            if words[i] in words[j] and i!=j and words[i] not in out:\n",
    "                out.append(words[i])\n",
    "    \n",
    "    return out\n",
    "\n",
    "words = [\"leetcoder\",\"leetcode\",\"od\",\"hamlet\",\"am\"]\n",
    "stringMatching(words)"
   ]
  },
  {
   "cell_type": "code",
   "execution_count": 49,
   "metadata": {},
   "outputs": [
    {
     "data": {
      "text/plain": [
       "'aabbc'"
      ]
     },
     "execution_count": 49,
     "metadata": {},
     "output_type": "execute_result"
    }
   ],
   "source": [
    "# A string is called happy if it does not have any of the strings 'aaa', 'bbb' or 'ccc' as a substring.\n",
    "# Given three integers a, b and c, return any string s, which satisfies following conditions:\n",
    "#    s is happy and longest possible.\n",
    "#    s contains at most a occurrences of the letter 'a', at most b occurrences of the letter 'b' and at most c occurrences of the letter 'c'.\n",
    "#    s will only contain 'a', 'b' and 'c' letters.\n",
    "# If there is no such string s return the empty string \"\".\n",
    "# https://leetcode.com/problems/longest-happy-string/\n",
    "\n",
    "# Works but slow..... see below for working solution\n",
    "\n",
    "def longestDiverseString(a, b, c):\n",
    "    ans = ''\n",
    "    tmp = list()\n",
    "    if a>0 : \n",
    "        tmp.append('a')\n",
    "    if b>0:\n",
    "        tmp.append('b')\n",
    "    if c>0:\n",
    "        tmp.append('c')\n",
    "    while len(tmp)!=0 :\n",
    "        #print(tmp)\n",
    "        word = tmp[0]\n",
    "        if word.count('a') < a and (len(word)==1 or (len(word) > 1 and (word[-1]!= 'a' or word[-2]!= 'a'))):\n",
    "            tmp.append(word + 'a')\n",
    "        if word.count('b') < b and (len(word)==1 or (len(word) > 1 and (word[-1]!= 'b' or word[-2]!= 'b'))):\n",
    "            tmp.append(word + 'b')\n",
    "        if word.count('c') < c and (len(word)==1 or (len(word) > 1 and (word[-1]!= 'c' or word[-2]!= 'c'))):\n",
    "            tmp.append(word + 'c')\n",
    "        if len(word) > len(ans):\n",
    "            ans = word\n",
    "        tmp.remove(word)\n",
    "    return ans\n",
    "                \n",
    "a = 2\n",
    "b = 2\n",
    "c = 1\n",
    "longestDiverseString(a, b, c)\n"
   ]
  },
  {
   "cell_type": "code",
   "execution_count": 61,
   "metadata": {},
   "outputs": [
    {
     "name": "stdout",
     "output_type": "stream",
     "text": [
      "a 6 1 0\n",
      "aa 5 1 0\n",
      "aab 5 0 0\n",
      "aaba 4 0 0\n",
      "aabaa 3 0 0\n"
     ]
    },
    {
     "data": {
      "text/plain": [
       "'aabaa'"
      ]
     },
     "execution_count": 61,
     "metadata": {},
     "output_type": "execute_result"
    }
   ],
   "source": [
    "def longestDiverseString(a, b, c):\n",
    "    if a>=b and a>=c and a!=0: \n",
    "        word = 'a'\n",
    "        a = a - 1\n",
    "    elif b>=a and b>=c and b!=0:\n",
    "        word = 'b'\n",
    "        b = b - 1\n",
    "    elif c>=a and c>=b and c!=0:\n",
    "        word = 'c'\n",
    "        c = c - 1\n",
    "    if len(word)!= 0:\n",
    "        cont = True\n",
    "        lenW = len(word)\n",
    "    while (a>0 or b>0 or c>0) and cont:\n",
    "        print(word, a, b, c)\n",
    "        if a>=b and a>=c:\n",
    "            if (len(word)==1 or (len(word) > 1 and (word[-1]!= 'a' or word[-2]!= 'a'))):\n",
    "                word = word + 'a'\n",
    "                a = a - 1\n",
    "            elif b>c and b>0 and (len(word)==1 or (len(word) > 1 and (word[-1]!= 'b' or word[-2]!= 'b'))):\n",
    "                word = word + 'b'\n",
    "                b = b - 1 \n",
    "            elif c>0 and (len(word)==1 or (len(word) > 1 and (word[-1]!= 'c' or word[-2]!= 'c'))):\n",
    "                word = word + 'c'\n",
    "                c = c - 1 \n",
    "        elif b>=a and b>=c:\n",
    "            if (len(word)==1 or (len(word) > 1 and (word[-1]!= 'b' or word[-2]!= 'b'))):\n",
    "                word = word + 'b'\n",
    "                b = b - 1\n",
    "            elif a>c and a>0 and (len(word)==1 or (len(word) > 1 and (word[-1]!= 'a' or word[-2]!= 'a'))):\n",
    "                word = word + 'a'\n",
    "                a = a - 1 \n",
    "            elif c>0 and (len(word)==1 or (len(word) > 1 and (word[-1]!= 'c' or word[-2]!= 'c'))):\n",
    "                word = word + 'c'\n",
    "                c = c - 1 \n",
    "        elif c>=a and c>=b:\n",
    "            if (len(word)==1 or (len(word) > 1 and (word[-1]!= 'c' or word[-2]!= 'c'))):\n",
    "                word = word + 'c'\n",
    "                c = c - 1\n",
    "            elif a>b and a>0 and (len(word)==1 or (len(word) > 1 and (word[-1]!= 'a' or word[-2]!= 'a'))):\n",
    "                word = word + 'a'\n",
    "                a = a - 1 \n",
    "            elif b>0 and (len(word)==1 or (len(word) > 1 and (word[-1]!= 'b' or word[-2]!= 'b'))):\n",
    "                word = word + 'b'\n",
    "                b = b - 1 \n",
    "        if len(word)>lenW:\n",
    "            lenW = len(word)\n",
    "        else:\n",
    "            cont = False\n",
    "    return word\n",
    "                \n",
    "a = 7\n",
    "b = 1\n",
    "c = 0\n",
    "longestDiverseString(a, b, c)"
   ]
  },
  {
   "cell_type": "code",
   "execution_count": 92,
   "metadata": {},
   "outputs": [
    {
     "data": {
      "text/plain": [
       "[False, True, False, False, True, True]"
      ]
     },
     "execution_count": 92,
     "metadata": {},
     "output_type": "execute_result"
    }
   ],
   "source": [
    "# A sequence of numbers is called arithmetic if it consists of at least two elements, and the difference \n",
    "# between every two consecutive elements is the same. More formally, a sequence s is arithmetic if and only \n",
    "# if s[i+1] - s[i] == s[1] - s[0] for all valid i.\n",
    "# You are given an array of n integers, nums, and two arrays of m integers each, l and r, representing the m \n",
    "# range queries, where the ith query is the range [l[i], r[i]]. All the arrays are 0-indexed.\n",
    "# Return a list of boolean elements answer, where answer[i] is true if the subarray nums[l[i]], \n",
    "# nums[l[i]+1], ... , nums[r[i]] can be rearranged to form an arithmetic sequence, and false otherwise.\n",
    "# https://leetcode.com/problems/arithmetic-subarrays/\n",
    "\n",
    "def checkArithmeticSubarrays(nums, l, r):\n",
    "    ans = list()\n",
    "    for i in range(len(l)):\n",
    "        sub = sorted(nums[l[i]:(r[i]+1)])\n",
    "        tmp = [sub[i]-sub[i-1] for i in range(1, len(sub))]\n",
    "        #print(sub, tmp)\n",
    "        ans.append(True)\n",
    "        for j in range(len(tmp)):\n",
    "            if tmp[0] != tmp[j]:\n",
    "                ans[i] = False\n",
    "                break\n",
    "    return ans\n",
    "    \n",
    "nums = [-12,-9,-3,-12,-6,15,20,-25,-20,-15,-10]\n",
    "l = [0,1,6,4,8,7]\n",
    "r = [4,4,9,7,9,10]\n",
    "checkArithmeticSubarrays(nums, l, r)"
   ]
  },
  {
   "cell_type": "code",
   "execution_count": 117,
   "metadata": {},
   "outputs": [
    {
     "name": "stdout",
     "output_type": "stream",
     "text": [
      "[6]\n"
     ]
    },
    {
     "data": {
      "text/plain": [
       "10"
      ]
     },
     "execution_count": 117,
     "metadata": {},
     "output_type": "execute_result"
    }
   ],
   "source": [
    "# An integer array is called arithmetic if it consists of at least three elements and if the difference \n",
    "# between any two consecutive elements is the same.\n",
    "# Given an integer array nums, return the number of arithmetic subarrays of nums.\n",
    "# A subarray is a contiguous subsequence of the array.\n",
    "# https://leetcode.com/problems/arithmetic-slices/\n",
    "\n",
    "def numberOfArithmeticSlices(nums):\n",
    "    ans = list()\n",
    "    currentDiff = False\n",
    "    currentLength = False\n",
    "\n",
    "    for i in range(2, len(nums)):\n",
    "        if currentLength != False:\n",
    "            if nums[i]-nums[i-1] == currentDiff:\n",
    "                currentLength = currentLength + 1\n",
    "            else: \n",
    "                ans.append(currentLength)\n",
    "                currentLength = False\n",
    "        elif nums[i] - nums[i-1] == nums[i-1] - nums[i-2]:\n",
    "            currentDiff = nums[i] - nums[i-1]\n",
    "            currentLength = 3\n",
    "            \n",
    "    if currentLength != False:        \n",
    "        ans.append(currentLength)\n",
    "        \n",
    "    print(ans)\n",
    "    for i in range(len(ans)):\n",
    "        ans[i] = int((ans[i]-1)*(ans[i]-2)/2)\n",
    "    return sum(ans)\n",
    "        \n",
    "nums = [1,2,3,4,5,6]\n",
    "numberOfArithmeticSlices(nums)"
   ]
  },
  {
   "cell_type": "code",
   "execution_count": 3,
   "metadata": {},
   "outputs": [
    {
     "data": {
      "text/plain": [
       "5"
      ]
     },
     "execution_count": 3,
     "metadata": {},
     "output_type": "execute_result"
    }
   ],
   "source": [
    "# Number of Students Doing Homework at a Given Time\n",
    "# Given two integer arrays startTime and endTime and given an integer queryTime.\n",
    "# The ith student started doing their homework at the time startTime[i] and finished it \n",
    "# at time endTime[i].\n",
    "# Return the number of students doing their homework at time queryTime. More formally, \n",
    "# return the number of students where queryTime lays in the interval [startTime[i], endTime[i]] \n",
    "# inclusive.\n",
    "\n",
    "def busyStudent(startTime, endTime, queryTime):\n",
    "    numStudents = 0\n",
    "    for i in range(len(startTime)):\n",
    "        if queryTime <= endTime[i] and queryTime >= startTime[i]:\n",
    "            numStudents = numStudents + 1\n",
    "    return numStudents\n",
    "\n",
    "startTime = [9,8,7,6,5,4,3,2,1]\n",
    "endTime = [10,10,10,10,10,10,10,10,10]\n",
    "queryTime = 5\n",
    "busyStudent(startTime, endTime, queryTime)"
   ]
  },
  {
   "cell_type": "code",
   "execution_count": 18,
   "metadata": {},
   "outputs": [
    {
     "data": {
      "text/plain": [
       "False"
      ]
     },
     "execution_count": 18,
     "metadata": {},
     "output_type": "execute_result"
    }
   ],
   "source": [
    "# Given an array nums, return true if the array was originally sorted in non-decreasing order, \n",
    "# then rotated some number of positions (including zero). Otherwise, return false.\n",
    "# There may be duplicates in the original array.\n",
    "# Note: An array A rotated by x positions results in an array B of the same length such \n",
    "# that A[i] == B[(i+x) % A.length], where % is the modulo operation.\n",
    "\n",
    "def check(nums):\n",
    "    displacedYet = False\n",
    "    for i in range(1,len(nums)):\n",
    "        if nums[i]<nums[i-1] and displacedYet == True:\n",
    "            return False\n",
    "        elif nums[i]<nums[i-1] and displacedYet == False:\n",
    "            displacedYet = True\n",
    "            if nums[-1] > nums[0]:\n",
    "                return False\n",
    "    return True\n",
    "\n",
    "nums = [2, 4, 1, 3]\n",
    "check(nums)"
   ]
  },
  {
   "cell_type": "code",
   "execution_count": 17,
   "metadata": {},
   "outputs": [
    {
     "name": "stdout",
     "output_type": "stream",
     "text": [
      "a ccac\n",
      "a ccc\n"
     ]
    },
    {
     "data": {
      "text/plain": [
       "False"
      ]
     },
     "execution_count": 17,
     "metadata": {},
     "output_type": "execute_result"
    }
   ],
   "source": [
    "# Given two strings s and t, return true if t is an anagram of s, and false otherwise.\n",
    "# https://leetcode.com/explore/interview/card/top-interview-questions-easy/127/strings/882/\n",
    "\n",
    "def isAnagram(s, t):\n",
    "    if len(s) != len(t):\n",
    "        return False\n",
    "    for l in s:\n",
    "        print(l,t)\n",
    "        if l not in t:\n",
    "            return False\n",
    "        else:\n",
    "            t = t.replace(l, '', 1)\n",
    "    return True\n",
    "    \n",
    "s = \"aacc\"\n",
    "t = \"ccac\"\n",
    "isAnagram(s, t)"
   ]
  },
  {
   "cell_type": "code",
   "execution_count": null,
   "metadata": {},
   "outputs": [],
   "source": []
  }
 ],
 "metadata": {
  "kernelspec": {
   "display_name": "Python 3 (ipykernel)",
   "language": "python",
   "name": "python3"
  },
  "language_info": {
   "codemirror_mode": {
    "name": "ipython",
    "version": 3
   },
   "file_extension": ".py",
   "mimetype": "text/x-python",
   "name": "python",
   "nbconvert_exporter": "python",
   "pygments_lexer": "ipython3",
   "version": "3.7.7"
  }
 },
 "nbformat": 4,
 "nbformat_minor": 4
}
